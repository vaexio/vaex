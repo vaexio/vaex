{
 "cells": [
  {
   "cell_type": "markdown",
   "metadata": {},
   "source": [
    "### Example of how to use `vaex-plotly`"
   ]
  },
  {
   "cell_type": "code",
   "execution_count": 1,
   "metadata": {
    "ExecuteTime": {
     "end_time": "2019-09-18T22:33:53.033458Z",
     "start_time": "2019-09-18T22:33:51.196777Z"
    }
   },
   "outputs": [],
   "source": [
    "import vaex\n",
    "import vaex.ml\n",
    "import numpy as np"
   ]
  },
  {
   "cell_type": "markdown",
   "metadata": {},
   "source": [
    "`vaex-plotly` is an extension package for `vaex` which uses `plotly` to create nice interactive plots which are also widgets."
   ]
  },
  {
   "cell_type": "markdown",
   "metadata": {},
   "source": [
    "1) Histogram"
   ]
  },
  {
   "cell_type": "code",
   "execution_count": 2,
   "metadata": {
    "ExecuteTime": {
     "end_time": "2019-09-18T22:33:54.581956Z",
     "start_time": "2019-09-18T22:33:53.038038Z"
    }
   },
   "outputs": [
    {
     "data": {
      "application/vnd.jupyter.widget-view+json": {
       "model_id": "1b75902ab2224adc9807cc98382b1dd1",
       "version_major": 2,
       "version_minor": 0
      },
      "text/plain": [
       "FigureWidget({\n",
       "    'data': [{'line': {'color': 'green', 'dash': 'dot', 'shape': 'hv', 'width': 3},\n",
       "           …"
      ]
     },
     "metadata": {},
     "output_type": "display_data"
    }
   ],
   "source": [
    "# Example dataset\n",
    "df = vaex.example()\n",
    "\n",
    "# Single trace\n",
    "df.plotly.histogram(df.x, shape=64, color='green', lw=3, ls='dot', title='A nice histogram')"
   ]
  },
  {
   "cell_type": "code",
   "execution_count": 3,
   "metadata": {
    "ExecuteTime": {
     "end_time": "2019-09-18T22:33:55.027330Z",
     "start_time": "2019-09-18T22:33:54.588174Z"
    }
   },
   "outputs": [
    {
     "data": {
      "application/vnd.jupyter.widget-view+json": {
       "model_id": "580b013391a04fb2ac0629f4b97aa135",
       "version_major": 2,
       "version_minor": 0
      },
      "text/plain": [
       "FigureWidget({\n",
       "    'data': [{'line': {'color': 'green', 'dash': 'dot', 'shape': 'hv', 'width': 3},\n",
       "           …"
      ]
     },
     "metadata": {},
     "output_type": "display_data"
    }
   ],
   "source": [
    "# multiple traces\n",
    "df.plotly.histogram([df.x, df.y, df.z], shape=64, color=['green', 'blue', 'red'], lw=3, \n",
    "                    ls=['dot', 'dash', 'longdash'], label=['x-coord', 'y-coord', 'z-coord'], \n",
    "                    xlabel='coord [kpc]', title='Few even nicer histograms')"
   ]
  },
  {
   "cell_type": "markdown",
   "metadata": {},
   "source": [
    "2) Heatmap"
   ]
  },
  {
   "cell_type": "code",
   "execution_count": 4,
   "metadata": {
    "ExecuteTime": {
     "end_time": "2019-09-18T22:33:55.930683Z",
     "start_time": "2019-09-18T22:33:55.032759Z"
    }
   },
   "outputs": [
    {
     "data": {
      "application/vnd.jupyter.widget-view+json": {
       "model_id": "831ca88fbf744743a73437cf15cf213a",
       "version_major": 2,
       "version_minor": 0
      },
      "text/plain": [
       "FigureWidget({\n",
       "    'data': [{'colorbar': {'title': {'text': 'Colorbar Label'}},\n",
       "              'dx': 0.22574196…"
      ]
     },
     "metadata": {},
     "output_type": "display_data"
    }
   ],
   "source": [
    "df.plotly.heatmap('x', 'y', shape=256, title='heatmap with Plotly', selection='vx > 0',\n",
    "                  colorbar_label='Colorbar Label', f='log1p', figure_width=600, \n",
    "                  equal_aspect=True)"
   ]
  },
  {
   "cell_type": "markdown",
   "metadata": {},
   "source": [
    "3) Scatter"
   ]
  },
  {
   "cell_type": "code",
   "execution_count": 5,
   "metadata": {
    "ExecuteTime": {
     "end_time": "2019-09-18T22:33:55.965958Z",
     "start_time": "2019-09-18T22:33:55.934190Z"
    }
   },
   "outputs": [],
   "source": [
    "df = vaex.ml.datasets.load_iris()\n",
    "df['class_name'] = df.class_.map(mapper={0: 'setosa', 1: 'versicolor', 2: 'virginica'})\n",
    "df['random_numbers'] = np.random.randint(low=10, high=100000, size=150)\n",
    "df['random_words'] = np.random.choice(a=['flower', 'plant', 'bloom', 'blossom', 'floral'], size=150)\n",
    "df['xerr'] = np.array(['0.2'] * 150)\n",
    "df['yerr'] = np.array(['0.3'] * 150)"
   ]
  },
  {
   "cell_type": "code",
   "execution_count": 6,
   "metadata": {
    "ExecuteTime": {
     "end_time": "2019-09-18T22:33:56.404682Z",
     "start_time": "2019-09-18T22:33:55.967750Z"
    }
   },
   "outputs": [
    {
     "data": {
      "application/vnd.jupyter.widget-view+json": {
       "model_id": "8ce843fdf03049789c8502a7e20c25b3",
       "version_major": 2,
       "version_minor": 0
      },
      "text/plain": [
       "FigureWidget({\n",
       "    'data': [{'customdata': array([['bloom', '67381'],\n",
       "                                   ['pla…"
      ]
     },
     "metadata": {},
     "output_type": "display_data"
    }
   ],
   "source": [
    "df.plotly.scatter(x=[df.petal_length, df.petal_width], \n",
    "                  y=[df.petal_width, df.petal_length], \n",
    "                  xerr=df.xerr, \n",
    "                  yerr=df.yerr,\n",
    "                  tooltip_title=df.class_name, \n",
    "                  tooltip_data=[df.random_words, df.random_numbers], \n",
    "                  colorbar=True, \n",
    "                  colorbar_label='cbar title',\n",
    "                  colormap='viridis',\n",
    "                  color=df.class_,\n",
    "                  label=['normal', 'backward'],\n",
    "                  figure_width = 700, \n",
    "                  figure_height=700, \n",
    "                  size=10, \n",
    "                  symbol=['square', 'diamond'], \n",
    "                  xlabel='x-dimension',\n",
    "                  ylabel='y-dimension',\n",
    "                  title='One can plot multiple sets of scatter points')"
   ]
  }
 ],
 "metadata": {
  "kernelspec": {
   "display_name": "Python 3",
   "language": "python",
   "name": "python3"
  },
  "language_info": {
   "codemirror_mode": {
    "name": "ipython",
    "version": 3
   },
   "file_extension": ".py",
   "mimetype": "text/x-python",
   "name": "python",
   "nbconvert_exporter": "python",
   "pygments_lexer": "ipython3",
   "version": "3.7.3"
  }
 },
 "nbformat": 4,
 "nbformat_minor": 2
}
