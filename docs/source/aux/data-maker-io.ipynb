{
 "cells": [
  {
   "cell_type": "markdown",
   "metadata": {},
   "source": [
    "### Notebook which creates the docs data for I/O"
   ]
  },
  {
   "cell_type": "code",
   "execution_count": 1,
   "metadata": {
    "ExecuteTime": {
     "end_time": "2020-04-30T07:59:53.122251Z",
     "start_time": "2020-04-30T07:59:51.500300Z"
    }
   },
   "outputs": [],
   "source": [
    "import vaex\n",
    "import numpy as np"
   ]
  },
  {
   "cell_type": "code",
   "execution_count": 3,
   "metadata": {
    "ExecuteTime": {
     "end_time": "2020-04-30T08:00:09.892434Z",
     "start_time": "2020-04-30T08:00:09.783092Z"
    }
   },
   "outputs": [],
   "source": [
    "# Create data - hdf5\n",
    "name = ['John', 'Sally']\n",
    "age = ['17', '33']\n",
    "city = ['Edinburgh', 'Groningen']\n",
    "df_1 = vaex.from_arrays(name=name, age=age, city=city)\n",
    "\n",
    "name = ['Maria', 'Monica']\n",
    "age = ['23', '55']\n",
    "city = ['Caracas', 'New York']\n",
    "df_2 = vaex.from_arrays(name=name, age=age, city=city)\n",
    "\n",
    "# Export data \n",
    "df_1.export_hdf5('../data/io/sample_names_1.hdf5')\n",
    "df_2.export_hdf5('../data/io/sample_names_2.hdf5')\n"
   ]
  },
  {
   "cell_type": "code",
   "execution_count": 4,
   "metadata": {
    "ExecuteTime": {
     "end_time": "2020-04-30T08:00:14.830784Z",
     "start_time": "2020-04-30T08:00:14.435579Z"
    }
   },
   "outputs": [],
   "source": [
    "# Create data - arrow\n",
    "fruit = ['mango', 'banana', 'orange']\n",
    "amount = [5, 10, 7]\n",
    "origin = ['Malaya', 'Ecuador', 'Spain']\n",
    "df = vaex.from_arrays(fruit=fruit, amount=amount, origin=origin)\n",
    "df.export_arrow('../data/io/sample_fruits.arrow')\n"
   ]
  },
  {
   "cell_type": "code",
   "execution_count": 5,
   "metadata": {
    "ExecuteTime": {
     "end_time": "2020-04-30T08:00:16.732688Z",
     "start_time": "2020-04-30T08:00:16.723517Z"
    }
   },
   "outputs": [],
   "source": [
    "# Create data - parquet\n",
    "car = ['renault', 'audi', 'toyota']\n",
    "color = ['red', 'black', 'blue']\n",
    "year = [1996, 2005, 2000]\n",
    "\n",
    "df = vaex.from_arrays(car=car, color=color, year=year)\n",
    "df.export_parquet('../data/io/sample_cars.parquet')"
   ]
  },
  {
   "cell_type": "code",
   "execution_count": 6,
   "metadata": {
    "ExecuteTime": {
     "end_time": "2020-04-30T08:00:19.501877Z",
     "start_time": "2020-04-30T08:00:19.490418Z"
    }
   },
   "outputs": [],
   "source": [
    "# Create data - CSV\n",
    "city = ['Indianopolis', 'Chicago', 'Boston']\n",
    "team = ['Pacers', 'Bulls', 'Celtics']\n",
    "player = ['Reggie Miller', 'Michael Jordan', 'Larry Bird']\n",
    "df = vaex.from_arrays(city=city, team=team, player=player)\n",
    "df.export_csv('../data/io/sample_nba_1.csv')"
   ]
  },
  {
   "cell_type": "code",
   "execution_count": 8,
   "metadata": {
    "ExecuteTime": {
     "end_time": "2020-04-30T08:01:25.021279Z",
     "start_time": "2020-04-30T08:01:25.012238Z"
    }
   },
   "outputs": [],
   "source": [
    "city = ['Los Angeles', 'Toronto']\n",
    "team = ['Lakers', 'Raptors']\n",
    "player = ['Kobe Bryant', 'Vince Carter']\n",
    "df = vaex.from_arrays(city=city, team=team, player=player)\n",
    "df.export_csv('../data/io/sample_nba_2.csv')"
   ]
  },
  {
   "cell_type": "code",
   "execution_count": 9,
   "metadata": {
    "ExecuteTime": {
     "end_time": "2020-04-30T08:02:17.923267Z",
     "start_time": "2020-04-30T08:02:17.914403Z"
    }
   },
   "outputs": [],
   "source": [
    "city = ['Philadelphia', 'San Antonio']\n",
    "team = ['76ers', 'Spurs']\n",
    "player = ['Allen Iverson', 'Tim Duncan']\n",
    "df = vaex.from_arrays(city=city, team=team, player=player)\n",
    "df.export_csv('../data/io/sample_nba_3.csv')"
   ]
  },
  {
   "cell_type": "code",
   "execution_count": 7,
   "metadata": {
    "ExecuteTime": {
     "end_time": "2020-04-30T08:00:22.705119Z",
     "start_time": "2020-04-30T08:00:22.692633Z"
    }
   },
   "outputs": [],
   "source": [
    "# Create a json file\n",
    "island = ['Easter Island', 'Fiji', 'Tortuga']\n",
    "size_sqkm = [163.6, 18.333, 178.7]\n",
    "df = vaex.from_arrays(isle=island, size_sqkm=size_sqkm)\n",
    "df = df.to_pandas_df()\n",
    "df.to_json('../data/io/isles.json', index=False, orient='table')"
   ]
  }
 ],
 "metadata": {
  "kernelspec": {
   "display_name": "Python 3",
   "language": "python",
   "name": "python3"
  },
  "language_info": {
   "codemirror_mode": {
    "name": "ipython",
    "version": 3
   },
   "file_extension": ".py",
   "mimetype": "text/x-python",
   "name": "python",
   "nbconvert_exporter": "python",
   "pygments_lexer": "ipython3",
   "version": "3.7.6"
  }
 },
 "nbformat": 4,
 "nbformat_minor": 4
}
