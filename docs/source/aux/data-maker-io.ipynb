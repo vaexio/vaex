{
 "cells": [
  {
   "cell_type": "markdown",
   "metadata": {},
   "source": [
    "### Notebook which creates the docs data for I/O"
   ]
  },
  {
   "cell_type": "code",
   "execution_count": 1,
   "metadata": {
    "ExecuteTime": {
     "end_time": "2020-04-29T09:11:27.080804Z",
     "start_time": "2020-04-29T09:11:25.754073Z"
    }
   },
   "outputs": [],
   "source": [
    "import vaex\n",
    "import numpy as np"
   ]
  },
  {
   "cell_type": "code",
   "execution_count": 2,
   "metadata": {
    "ExecuteTime": {
     "end_time": "2020-04-29T09:11:27.185835Z",
     "start_time": "2020-04-29T09:11:27.083848Z"
    }
   },
   "outputs": [],
   "source": [
    "# Create data - hdf5\n",
    "name = ['John', 'Sally']\n",
    "age = ['17', '33']\n",
    "city = ['Edinburgh', 'Groningen']\n",
    "df_1 = vaex.from_arrays(name=name, age=age, city=city)\n",
    "\n",
    "name = ['Maria', 'Monica']\n",
    "age = ['23', '55']\n",
    "city = ['Caracas', 'New York']\n",
    "df_2 = vaex.from_arrays(name=name, age=age, city=city)\n",
    "\n",
    "# Export data \n",
    "df_1.export_hdf5('./data/sample_names_1.hdf5')\n",
    "df_2.export_hdf5('./data/sample_names_2.hdf5')\n"
   ]
  },
  {
   "cell_type": "code",
   "execution_count": 3,
   "metadata": {
    "ExecuteTime": {
     "end_time": "2020-04-29T09:11:28.020829Z",
     "start_time": "2020-04-29T09:11:27.745602Z"
    }
   },
   "outputs": [],
   "source": [
    "# Create data - arrow\n",
    "fruit = ['mango', 'banana', 'orange']\n",
    "amount = [5, 10, 7]\n",
    "origin = ['Malaya', 'Ecuador', 'Spain']\n",
    "df = vaex.from_arrays(fruit=fruit, amount=amount, origin=origin)\n",
    "df.export_arrow('./data/sample_fruits.arrow')\n"
   ]
  },
  {
   "cell_type": "code",
   "execution_count": 4,
   "metadata": {
    "ExecuteTime": {
     "end_time": "2020-04-29T09:11:28.354748Z",
     "start_time": "2020-04-29T09:11:28.345983Z"
    }
   },
   "outputs": [],
   "source": [
    "# Create data - parquet\n",
    "car = ['renault', 'audi', 'toyota']\n",
    "color = ['red', 'black', 'blue']\n",
    "year = [1996, 2005, 2000]\n",
    "\n",
    "df = vaex.from_arrays(car=car, color=color, year=year)\n",
    "df.export_parquet('./data/sample_cars.parquet')"
   ]
  },
  {
   "cell_type": "code",
   "execution_count": 7,
   "metadata": {
    "ExecuteTime": {
     "end_time": "2020-04-29T09:15:30.097695Z",
     "start_time": "2020-04-29T09:15:30.086100Z"
    }
   },
   "outputs": [],
   "source": [
    "# Create data - CSV\n",
    "city = ['Indianopolis', 'Chicago', 'Boston']\n",
    "team = ['Pacers', 'Bulls', 'Celtics']\n",
    "player = ['Reggie Miller', 'Michael Jordan', 'Larry Bird']\n",
    "df = vaex.from_arrays(city=city, team=team, player=player)\n",
    "df.export_csv('./data/sample_nba.csv')"
   ]
  },
  {
   "cell_type": "code",
   "execution_count": 10,
   "metadata": {
    "ExecuteTime": {
     "end_time": "2020-04-29T09:44:12.997241Z",
     "start_time": "2020-04-29T09:44:12.991611Z"
    }
   },
   "outputs": [],
   "source": [
    "# Create a json file\n",
    "island = ['Easter Island', 'Fiji', 'Tortuga']\n",
    "size_sqkm = [163.6, 18.333, 178.7]\n",
    "df = vaex.from_arrays(isle=island, size_sqkm=size_sqkm)\n",
    "df = df.to_pandas_df()\n",
    "df.to_json('./data/isles.json', index=False, orient='table')"
   ]
  }
 ],
 "metadata": {
  "kernelspec": {
   "display_name": "Python 3",
   "language": "python",
   "name": "python3"
  },
  "language_info": {
   "codemirror_mode": {
    "name": "ipython",
    "version": 3
   },
   "file_extension": ".py",
   "mimetype": "text/x-python",
   "name": "python",
   "nbconvert_exporter": "python",
   "pygments_lexer": "ipython3",
   "version": "3.7.6"
  }
 },
 "nbformat": 4,
 "nbformat_minor": 4
}
