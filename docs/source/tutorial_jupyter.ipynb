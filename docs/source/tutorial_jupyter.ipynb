{
 "cells": [
  {
   "cell_type": "markdown",
   "metadata": {},
   "source": [
    "\n",
    "<div class=\"alert alert-info\">\n",
    "\n",
    "**Warning:** This notebook needs a running kernel to be fully interactive, please run it locally or on  [mybinder](https://mybinder.org/v2/gh/vaexio/vaex/master?filepath=docs%2Fsource%2Ftutorial_jupyter.ipynb).\n",
    "\n",
    "</div>\n",
    "\n",
    "[![Binder](https://mybinder.org/badge_logo.svg)](https://mybinder.org/v2/gh/vaexio/vaex/latest?filepath=docs%2Fsource%2Ftutorial_jupyter.ipynb)\n"
   ]
  },
  {
   "cell_type": "markdown",
   "metadata": {},
   "source": [
    "# Jupyter integration: interactivity\n",
    "\n",
    "Vaex can process about 1 billion rows per second, and in combination with the Jupyter notebook, this allows for interactive exporation of large datasets.\n",
    "\n",
    "## Introduction\n",
    "The `vaex-jupyter` package contains the building blocks to interactively define an N-dimensional grid, which is then used for visualizations.\n",
    "\n",
    "We start by defining the building blocks (`vaex.jupyter.model.Axis`, `vaex.jupyter.model.DataArray` and `vaex.jupyter.view.DataArray`) used to define and visualize our N-dimensional grid.\n",
    "\n",
    "Let us first import the relevant packages, and open the example DataFrame:"
   ]
  },
  {
   "cell_type": "code",
   "execution_count": 1,
   "metadata": {
    "ExecuteTime": {
     "end_time": "2020-05-17T14:54:43.143048Z",
     "start_time": "2020-05-17T14:54:40.868508Z"
    }
   },
   "outputs": [
    {
     "data": {
      "text/html": [
       "<table>\n",
       "<thead>\n",
       "<tr><th>#                                  </th><th>id  </th><th>x                   </th><th>y                   </th><th>z                   </th><th>vx                 </th><th>vy                 </th><th>vz                 </th><th>E             </th><th>L                 </th><th>Lz                 </th><th>FeH                </th></tr>\n",
       "</thead>\n",
       "<tbody>\n",
       "<tr><td><i style='opacity: 0.6'>0</i>      </td><td>0   </td><td>1.2318683862686157  </td><td>-0.39692866802215576</td><td>-0.598057746887207  </td><td>301.1552734375     </td><td>174.05947875976562 </td><td>27.42754554748535  </td><td>-149431.40625 </td><td>407.38897705078125</td><td>333.9555358886719  </td><td>-1.0053852796554565</td></tr>\n",
       "<tr><td><i style='opacity: 0.6'>1</i>      </td><td>23  </td><td>-0.16370061039924622</td><td>3.654221296310425   </td><td>-0.25490644574165344</td><td>-195.00022888183594</td><td>170.47216796875    </td><td>142.5302276611328  </td><td>-124247.953125</td><td>890.2411499023438 </td><td>684.6676025390625  </td><td>-1.7086670398712158</td></tr>\n",
       "<tr><td><i style='opacity: 0.6'>2</i>      </td><td>32  </td><td>-2.120255947113037  </td><td>3.326052665710449   </td><td>1.7078403234481812  </td><td>-48.63423156738281 </td><td>171.6472930908203  </td><td>-2.079437255859375 </td><td>-138500.546875</td><td>372.2410888671875 </td><td>-202.17617797851562</td><td>-1.8336141109466553</td></tr>\n",
       "<tr><td><i style='opacity: 0.6'>3</i>      </td><td>8   </td><td>4.7155890464782715  </td><td>4.5852508544921875  </td><td>2.2515437602996826  </td><td>-232.42083740234375</td><td>-294.850830078125  </td><td>62.85865020751953  </td><td>-60037.0390625</td><td>1297.63037109375  </td><td>-324.6875          </td><td>-1.4786882400512695</td></tr>\n",
       "<tr><td><i style='opacity: 0.6'>4</i>      </td><td>16  </td><td>7.21718692779541    </td><td>11.99471664428711   </td><td>-1.064562201499939  </td><td>-1.6891745328903198</td><td>181.329345703125   </td><td>-11.333610534667969</td><td>-83206.84375  </td><td>1332.7989501953125</td><td>1328.948974609375  </td><td>-1.8570483922958374</td></tr>\n",
       "<tr><td>...                                </td><td>... </td><td>...                 </td><td>...                 </td><td>...                 </td><td>...                </td><td>...                </td><td>...                </td><td>...           </td><td>...               </td><td>...                </td><td>...                </td></tr>\n",
       "<tr><td><i style='opacity: 0.6'>329,995</i></td><td>21  </td><td>1.9938701391220093  </td><td>0.789276123046875   </td><td>0.22205990552902222 </td><td>-216.92990112304688</td><td>16.124420166015625 </td><td>-211.244384765625  </td><td>-146457.4375  </td><td>457.72247314453125</td><td>203.36758422851562 </td><td>-1.7451677322387695</td></tr>\n",
       "<tr><td><i style='opacity: 0.6'>329,996</i></td><td>25  </td><td>3.7180912494659424  </td><td>0.721337616443634   </td><td>1.6415337324142456  </td><td>-185.92160034179688</td><td>-117.25082397460938</td><td>-105.4986572265625 </td><td>-126627.109375</td><td>335.0025634765625 </td><td>-301.8370056152344 </td><td>-0.9822322130203247</td></tr>\n",
       "<tr><td><i style='opacity: 0.6'>329,997</i></td><td>14  </td><td>0.3688507676124573  </td><td>13.029608726501465  </td><td>-3.633934736251831  </td><td>-53.677146911621094</td><td>-145.15771484375   </td><td>76.70909881591797  </td><td>-84912.2578125</td><td>817.1375732421875 </td><td>645.8507080078125  </td><td>-1.7645612955093384</td></tr>\n",
       "<tr><td><i style='opacity: 0.6'>329,998</i></td><td>18  </td><td>-0.11259264498949051</td><td>1.4529125690460205  </td><td>2.168952703475952   </td><td>179.30865478515625 </td><td>205.79710388183594 </td><td>-68.75872802734375 </td><td>-133498.46875 </td><td>724.000244140625  </td><td>-283.6910400390625 </td><td>-1.8808952569961548</td></tr>\n",
       "<tr><td><i style='opacity: 0.6'>329,999</i></td><td>4   </td><td>20.796220779418945  </td><td>-3.331387758255005  </td><td>12.18841552734375   </td><td>42.69000244140625  </td><td>69.20479583740234  </td><td>29.54275131225586  </td><td>-65519.328125 </td><td>1843.07470703125  </td><td>1581.4151611328125 </td><td>-1.1231083869934082</td></tr>\n",
       "</tbody>\n",
       "</table>"
      ],
      "text/plain": [
       "#        id    x                     y                     z                     vx                   vy                   vz                   E               L                   Lz                   FeH\n",
       "0        0     1.2318683862686157    -0.39692866802215576  -0.598057746887207    301.1552734375       174.05947875976562   27.42754554748535    -149431.40625   407.38897705078125  333.9555358886719    -1.0053852796554565\n",
       "1        23    -0.16370061039924622  3.654221296310425     -0.25490644574165344  -195.00022888183594  170.47216796875      142.5302276611328    -124247.953125  890.2411499023438   684.6676025390625    -1.7086670398712158\n",
       "2        32    -2.120255947113037    3.326052665710449     1.7078403234481812    -48.63423156738281   171.6472930908203    -2.079437255859375   -138500.546875  372.2410888671875   -202.17617797851562  -1.8336141109466553\n",
       "3        8     4.7155890464782715    4.5852508544921875    2.2515437602996826    -232.42083740234375  -294.850830078125    62.85865020751953    -60037.0390625  1297.63037109375    -324.6875            -1.4786882400512695\n",
       "4        16    7.21718692779541      11.99471664428711     -1.064562201499939    -1.6891745328903198  181.329345703125     -11.333610534667969  -83206.84375    1332.7989501953125  1328.948974609375    -1.8570483922958374\n",
       "...      ...   ...                   ...                   ...                   ...                  ...                  ...                  ...             ...                 ...                  ...\n",
       "329,995  21    1.9938701391220093    0.789276123046875     0.22205990552902222   -216.92990112304688  16.124420166015625   -211.244384765625    -146457.4375    457.72247314453125  203.36758422851562   -1.7451677322387695\n",
       "329,996  25    3.7180912494659424    0.721337616443634     1.6415337324142456    -185.92160034179688  -117.25082397460938  -105.4986572265625   -126627.109375  335.0025634765625   -301.8370056152344   -0.9822322130203247\n",
       "329,997  14    0.3688507676124573    13.029608726501465    -3.633934736251831    -53.677146911621094  -145.15771484375     76.70909881591797    -84912.2578125  817.1375732421875   645.8507080078125    -1.7645612955093384\n",
       "329,998  18    -0.11259264498949051  1.4529125690460205    2.168952703475952     179.30865478515625   205.79710388183594   -68.75872802734375   -133498.46875   724.000244140625    -283.6910400390625   -1.8808952569961548\n",
       "329,999  4     20.796220779418945    -3.331387758255005    12.18841552734375     42.69000244140625    69.20479583740234    29.54275131225586    -65519.328125   1843.07470703125    1581.4151611328125   -1.1231083869934082"
      ]
     },
     "execution_count": 1,
     "metadata": {},
     "output_type": "execute_result"
    }
   ],
   "source": [
    "import vaex\n",
    "import vaex.jupyter.model as vjm\n",
    "\n",
    "import numpy as np\n",
    "import matplotlib.pyplot as plt\n",
    "\n",
    "df = vaex.example()\n",
    "df"
   ]
  },
  {
   "cell_type": "markdown",
   "metadata": {},
   "source": [
    "We want to build a 2 dimensinoal grid with the number counts in each bin. To do this, we first define two axis objects:"
   ]
  },
  {
   "cell_type": "code",
   "execution_count": 2,
   "metadata": {
    "ExecuteTime": {
     "end_time": "2020-05-17T14:54:43.154668Z",
     "start_time": "2020-05-17T14:54:43.145831Z"
    }
   },
   "outputs": [
    {
     "data": {
      "text/plain": [
       "Axis(bin_centers=None, exception=None, expression=Lz, max=None, min=None, shape=100, shape_default=64, slice=None, status=Status.NO_LIMITS)"
      ]
     },
     "execution_count": 2,
     "metadata": {},
     "output_type": "execute_result"
    }
   ],
   "source": [
    "E_axis = vjm.Axis(df=df, expression=df.E, shape=140)\n",
    "Lz_axis = vjm.Axis(df=df, expression=df.Lz, shape=100)\n",
    "Lz_axis"
   ]
  },
  {
   "cell_type": "markdown",
   "metadata": {},
   "source": [
    "When we inspect the `Lz_axis` object we see that the `min`, `max`, and `bin centers` are all `None`. This is because Vaex calculates them in the background, so the kernel stays interactive, meaning you can continue working in the notebook. We can ask Vaex to wait until all background calculations are done. Note that for billions of rows, this can take over a second. "
   ]
  },
  {
   "cell_type": "code",
   "execution_count": 3,
   "metadata": {
    "ExecuteTime": {
     "end_time": "2020-05-17T14:54:43.822027Z",
     "start_time": "2020-05-17T14:54:43.156785Z"
    }
   },
   "outputs": [
    {
     "data": {
      "text/plain": [
       "Axis(bin_centers=[-2877.11808899 -2830.27174744 -2783.42540588 -2736.57906433\n",
       " -2689.73272278 -2642.88638123 -2596.04003967 -2549.19369812\n",
       " -2502.34735657 -2455.50101501 -2408.65467346 -2361.80833191\n",
       " -2314.96199036 -2268.1156488  -2221.26930725 -2174.4229657\n",
       " -2127.57662415 -2080.73028259 -2033.88394104 -1987.03759949\n",
       " -1940.19125793 -1893.34491638 -1846.49857483 -1799.65223328\n",
       " -1752.80589172 -1705.95955017 -1659.11320862 -1612.26686707\n",
       " -1565.42052551 -1518.57418396 -1471.72784241 -1424.88150085\n",
       " -1378.0351593  -1331.18881775 -1284.3424762  -1237.49613464\n",
       " -1190.64979309 -1143.80345154 -1096.95710999 -1050.11076843\n",
       " -1003.26442688  -956.41808533  -909.57174377  -862.72540222\n",
       "  -815.87906067  -769.03271912  -722.18637756  -675.34003601\n",
       "  -628.49369446  -581.64735291  -534.80101135  -487.9546698\n",
       "  -441.10832825  -394.26198669  -347.41564514  -300.56930359\n",
       "  -253.72296204  -206.87662048  -160.03027893  -113.18393738\n",
       "   -66.33759583   -19.49125427    27.35508728    74.20142883\n",
       "   121.04777039   167.89411194   214.74045349   261.58679504\n",
       "   308.4331366    355.27947815   402.1258197    448.97216125\n",
       "   495.81850281   542.66484436   589.51118591   636.35752747\n",
       "   683.20386902   730.05021057   776.89655212   823.74289368\n",
       "   870.58923523   917.43557678   964.28191833  1011.12825989\n",
       "  1057.97460144  1104.82094299  1151.66728455  1198.5136261\n",
       "  1245.35996765  1292.2063092   1339.05265076  1385.89899231\n",
       "  1432.74533386  1479.59167542  1526.43801697  1573.28435852\n",
       "  1620.13070007  1666.97704163  1713.82338318  1760.66972473], exception=None, expression=Lz, max=1784.0928955078125, min=-2900.541259765625, shape=100, shape_default=64, slice=None, status=Status.READY)"
      ]
     },
     "execution_count": 3,
     "metadata": {},
     "output_type": "execute_result"
    }
   ],
   "source": [
    "await vaex.jupyter.gather()  # wait until Vaex is done with all background computation\n",
    "Lz_axis  # now min and max are computed, and bin_centers is set"
   ]
  },
  {
   "cell_type": "markdown",
   "metadata": {},
   "source": [
    "Note that the Axis is a [traitlets HasTrait object](https://traitlets.readthedocs.io), similar to all ipywidget objects. This means that we can link all of its properties to an ipywidget and thus creating interactivity. We can also use [observe](https://traitlets.readthedocs.io/en/stable/using_traitlets.html#observe) to listen to any changes to our model."
   ]
  },
  {
   "cell_type": "markdown",
   "metadata": {},
   "source": [
    "## An interactive xarray DataArray display\n",
    "\n",
    "Now that we have defined our two axes, we can create a [vaex.jupyter.model.DataArray](api.html#vaex.jupyter.model.DataArray) (model) together with a  [vaex.jupyter.view.DataArray](api.html#vaex.jupyter.view.DataArray) (view).\n",
    "\n",
    "A convenient way to do this, is to use the [widget accessor](api.html#vaex.jupyter.DataFrameAccessorWidget) `data_array` method, which creates both, links them together and will return a view for us.\n",
    "\n",
    "The returned view is an ipywidget object, which becomes a visual element in the Jupyter notebook when displayed."
   ]
  },
  {
   "cell_type": "code",
   "execution_count": 4,
   "metadata": {
    "ExecuteTime": {
     "end_time": "2020-05-17T14:54:44.027604Z",
     "start_time": "2020-05-17T14:54:43.824470Z"
    }
   },
   "outputs": [
    {
     "data": {
      "application/vnd.jupyter.widget-view+json": {
       "model_id": "1e2a3fe8d49746e980e022f9a835177c",
       "version_major": 2,
       "version_minor": 0
      },
      "text/plain": [
       "DataArray(children=[Container(children=[ProgressCircularNoAnimation(color='#9ECBF5', size=30, text='', value=1…"
      ]
     },
     "metadata": {},
     "output_type": "display_data"
    }
   ],
   "source": [
    "data_array_widget = df.widget.data_array(axes=[Lz_axis, E_axis], selection=[None, 'default'])\n",
    "data_array_widget  # being the last expression in the cell, Jupyter  will 'display' the widget"
   ]
  },
  {
   "cell_type": "markdown",
   "metadata": {},
   "source": [
    "*Note: If you see this notebook on readthedocs, you will see the selection coordinate already has `[None, 'default']`, because cells below have already been executed and have updated this widget. If you run this notebook yourself (say on mybinder), you will see after executing the above cell, the selection will have `[None]` as its only value.*\n",
    "\n",
    "From the specification of the axes and the selections, Vaex computes a 3d histogram, the first dimension being the selections. Interally this is simply a numpy array, but we wrap it in an [xarray](http://xarray.pydata.org/)  [DataArray](http://xarray.pydata.org/en/stable/data-structures.html#dataarray) object. An xarray DataArray object can be seen as a labeled Nd array, i.e. a numpy array with extra metadata to make it fully self-describing.\n",
    "\n",
    "Notice that in the above code cell, we specified the `selection` argument with a list containing two elements in this case, `None` and `'default'`. The `None` selection simply shows all the data, while the `default` refers to any selection made without explicitly naming it. Even though the later has not been defined at this point, we can still pre-emptively include it, in case we want to modify it later.\n",
    "\n",
    "The most important properties of the `data_array` are printed out below:"
   ]
  },
  {
   "cell_type": "code",
   "execution_count": 5,
   "metadata": {
    "ExecuteTime": {
     "end_time": "2020-05-17T14:54:44.663121Z",
     "start_time": "2020-05-17T14:54:44.029548Z"
    }
   },
   "outputs": [
    {
     "name": "stdout",
     "output_type": "stream",
     "text": [
      "type: <class 'xarray.core.dataarray.DataArray'>\n",
      "dims: ('selection', 'Lz', 'E')\n",
      "data: [[[0 0 0 ... 0 0 0]\n",
      "  [0 0 0 ... 0 0 0]\n",
      "  [0 0 0 ... 0 0 0]\n",
      "  ...\n",
      "  [0 0 0 ... 0 0 0]\n",
      "  [0 0 0 ... 0 0 0]\n",
      "  [0 0 0 ... 0 0 0]]]\n",
      "coords: Coordinates:\n",
      "  * selection  (selection) object None\n",
      "  * Lz         (Lz) float64 -2.877e+03 -2.83e+03 ... 1.714e+03 1.761e+03\n",
      "  * E          (E) float64 -2.414e+05 -2.394e+05 ... 3.296e+04 3.495e+04\n",
      "Lz's data: [-2877.11808899 -2830.27174744 -2783.42540588 -2736.57906433\n",
      " -2689.73272278 -2642.88638123 -2596.04003967 -2549.19369812\n",
      " -2502.34735657 -2455.50101501 -2408.65467346 -2361.80833191\n",
      " -2314.96199036 -2268.1156488  -2221.26930725 -2174.4229657\n",
      " -2127.57662415 -2080.73028259 -2033.88394104 -1987.03759949\n",
      " -1940.19125793 -1893.34491638 -1846.49857483 -1799.65223328\n",
      " -1752.80589172 -1705.95955017 -1659.11320862 -1612.26686707\n",
      " -1565.42052551 -1518.57418396 -1471.72784241 -1424.88150085\n",
      " -1378.0351593  -1331.18881775 -1284.3424762  -1237.49613464\n",
      " -1190.64979309 -1143.80345154 -1096.95710999 -1050.11076843\n",
      " -1003.26442688  -956.41808533  -909.57174377  -862.72540222\n",
      "  -815.87906067  -769.03271912  -722.18637756  -675.34003601\n",
      "  -628.49369446  -581.64735291  -534.80101135  -487.9546698\n",
      "  -441.10832825  -394.26198669  -347.41564514  -300.56930359\n",
      "  -253.72296204  -206.87662048  -160.03027893  -113.18393738\n",
      "   -66.33759583   -19.49125427    27.35508728    74.20142883\n",
      "   121.04777039   167.89411194   214.74045349   261.58679504\n",
      "   308.4331366    355.27947815   402.1258197    448.97216125\n",
      "   495.81850281   542.66484436   589.51118591   636.35752747\n",
      "   683.20386902   730.05021057   776.89655212   823.74289368\n",
      "   870.58923523   917.43557678   964.28191833  1011.12825989\n",
      "  1057.97460144  1104.82094299  1151.66728455  1198.5136261\n",
      "  1245.35996765  1292.2063092   1339.05265076  1385.89899231\n",
      "  1432.74533386  1479.59167542  1526.43801697  1573.28435852\n",
      "  1620.13070007  1666.97704163  1713.82338318  1760.66972473]\n",
      "Lz's attrs: {'min': -2900.541259765625, 'max': 1784.0928955078125}\n",
      "And displaying the xarray DataArray:\n"
     ]
    },
    {
     "data": {
      "text/html": [
       "<div><svg style=\"position: absolute; width: 0; height: 0; overflow: hidden\">\n",
       "<defs>\n",
       "<symbol id=\"icon-database\" viewBox=\"0 0 32 32\">\n",
       "<title>Show/Hide data repr</title>\n",
       "<path d=\"M16 0c-8.837 0-16 2.239-16 5v4c0 2.761 7.163 5 16 5s16-2.239 16-5v-4c0-2.761-7.163-5-16-5z\"></path>\n",
       "<path d=\"M16 17c-8.837 0-16-2.239-16-5v6c0 2.761 7.163 5 16 5s16-2.239 16-5v-6c0 2.761-7.163 5-16 5z\"></path>\n",
       "<path d=\"M16 26c-8.837 0-16-2.239-16-5v6c0 2.761 7.163 5 16 5s16-2.239 16-5v-6c0 2.761-7.163 5-16 5z\"></path>\n",
       "</symbol>\n",
       "<symbol id=\"icon-file-text2\" viewBox=\"0 0 32 32\">\n",
       "<title>Show/Hide attributes</title>\n",
       "<path d=\"M28.681 7.159c-0.694-0.947-1.662-2.053-2.724-3.116s-2.169-2.030-3.116-2.724c-1.612-1.182-2.393-1.319-2.841-1.319h-15.5c-1.378 0-2.5 1.121-2.5 2.5v27c0 1.378 1.122 2.5 2.5 2.5h23c1.378 0 2.5-1.122 2.5-2.5v-19.5c0-0.448-0.137-1.23-1.319-2.841zM24.543 5.457c0.959 0.959 1.712 1.825 2.268 2.543h-4.811v-4.811c0.718 0.556 1.584 1.309 2.543 2.268zM28 29.5c0 0.271-0.229 0.5-0.5 0.5h-23c-0.271 0-0.5-0.229-0.5-0.5v-27c0-0.271 0.229-0.5 0.5-0.5 0 0 15.499-0 15.5 0v7c0 0.552 0.448 1 1 1h7v19.5z\"></path>\n",
       "<path d=\"M23 26h-14c-0.552 0-1-0.448-1-1s0.448-1 1-1h14c0.552 0 1 0.448 1 1s-0.448 1-1 1z\"></path>\n",
       "<path d=\"M23 22h-14c-0.552 0-1-0.448-1-1s0.448-1 1-1h14c0.552 0 1 0.448 1 1s-0.448 1-1 1z\"></path>\n",
       "<path d=\"M23 18h-14c-0.552 0-1-0.448-1-1s0.448-1 1-1h14c0.552 0 1 0.448 1 1s-0.448 1-1 1z\"></path>\n",
       "</symbol>\n",
       "</defs>\n",
       "</svg>\n",
       "<style>/* CSS stylesheet for displaying xarray objects in jupyterlab.\n",
       " *\n",
       " */\n",
       "\n",
       ":root {\n",
       "  --xr-font-color0: var(--jp-content-font-color0, rgba(0, 0, 0, 1));\n",
       "  --xr-font-color2: var(--jp-content-font-color2, rgba(0, 0, 0, 0.54));\n",
       "  --xr-font-color3: var(--jp-content-font-color3, rgba(0, 0, 0, 0.38));\n",
       "  --xr-border-color: var(--jp-border-color2, #e0e0e0);\n",
       "  --xr-disabled-color: var(--jp-layout-color3, #bdbdbd);\n",
       "  --xr-background-color: var(--jp-layout-color0, white);\n",
       "  --xr-background-color-row-even: var(--jp-layout-color1, white);\n",
       "  --xr-background-color-row-odd: var(--jp-layout-color2, #eeeeee);\n",
       "}\n",
       "\n",
       ".xr-wrap {\n",
       "  min-width: 300px;\n",
       "  max-width: 700px;\n",
       "}\n",
       "\n",
       ".xr-header {\n",
       "  padding-top: 6px;\n",
       "  padding-bottom: 6px;\n",
       "  margin-bottom: 4px;\n",
       "  border-bottom: solid 1px var(--xr-border-color);\n",
       "}\n",
       "\n",
       ".xr-header > div,\n",
       ".xr-header > ul {\n",
       "  display: inline;\n",
       "  margin-top: 0;\n",
       "  margin-bottom: 0;\n",
       "}\n",
       "\n",
       ".xr-obj-type,\n",
       ".xr-array-name {\n",
       "  margin-left: 2px;\n",
       "  margin-right: 10px;\n",
       "}\n",
       "\n",
       ".xr-obj-type {\n",
       "  color: var(--xr-font-color2);\n",
       "}\n",
       "\n",
       ".xr-sections {\n",
       "  padding-left: 0 !important;\n",
       "  display: grid;\n",
       "  grid-template-columns: 150px auto auto 1fr 20px 20px;\n",
       "}\n",
       "\n",
       ".xr-section-item {\n",
       "  display: contents;\n",
       "}\n",
       "\n",
       ".xr-section-item input {\n",
       "  display: none;\n",
       "}\n",
       "\n",
       ".xr-section-item input + label {\n",
       "  color: var(--xr-disabled-color);\n",
       "}\n",
       "\n",
       ".xr-section-item input:enabled + label {\n",
       "  cursor: pointer;\n",
       "  color: var(--xr-font-color2);\n",
       "}\n",
       "\n",
       ".xr-section-item input:enabled + label:hover {\n",
       "  color: var(--xr-font-color0);\n",
       "}\n",
       "\n",
       ".xr-section-summary {\n",
       "  grid-column: 1;\n",
       "  color: var(--xr-font-color2);\n",
       "  font-weight: 500;\n",
       "}\n",
       "\n",
       ".xr-section-summary > span {\n",
       "  display: inline-block;\n",
       "  padding-left: 0.5em;\n",
       "}\n",
       "\n",
       ".xr-section-summary-in:disabled + label {\n",
       "  color: var(--xr-font-color2);\n",
       "}\n",
       "\n",
       ".xr-section-summary-in + label:before {\n",
       "  display: inline-block;\n",
       "  content: '►';\n",
       "  font-size: 11px;\n",
       "  width: 15px;\n",
       "  text-align: center;\n",
       "}\n",
       "\n",
       ".xr-section-summary-in:disabled + label:before {\n",
       "  color: var(--xr-disabled-color);\n",
       "}\n",
       "\n",
       ".xr-section-summary-in:checked + label:before {\n",
       "  content: '▼';\n",
       "}\n",
       "\n",
       ".xr-section-summary-in:checked + label > span {\n",
       "  display: none;\n",
       "}\n",
       "\n",
       ".xr-section-summary,\n",
       ".xr-section-inline-details {\n",
       "  padding-top: 4px;\n",
       "  padding-bottom: 4px;\n",
       "}\n",
       "\n",
       ".xr-section-inline-details {\n",
       "  grid-column: 2 / -1;\n",
       "}\n",
       "\n",
       ".xr-section-details {\n",
       "  display: none;\n",
       "  grid-column: 1 / -1;\n",
       "  margin-bottom: 5px;\n",
       "}\n",
       "\n",
       ".xr-section-summary-in:checked ~ .xr-section-details {\n",
       "  display: contents;\n",
       "}\n",
       "\n",
       ".xr-array-wrap {\n",
       "  grid-column: 1 / -1;\n",
       "  display: grid;\n",
       "  grid-template-columns: 20px auto;\n",
       "}\n",
       "\n",
       ".xr-array-wrap > label {\n",
       "  grid-column: 1;\n",
       "  vertical-align: top;\n",
       "}\n",
       "\n",
       ".xr-preview {\n",
       "  color: var(--xr-font-color3);\n",
       "}\n",
       "\n",
       ".xr-array-preview,\n",
       ".xr-array-data {\n",
       "  padding: 0 5px !important;\n",
       "  grid-column: 2;\n",
       "}\n",
       "\n",
       ".xr-array-data,\n",
       ".xr-array-in:checked ~ .xr-array-preview {\n",
       "  display: none;\n",
       "}\n",
       "\n",
       ".xr-array-in:checked ~ .xr-array-data,\n",
       ".xr-array-preview {\n",
       "  display: inline-block;\n",
       "}\n",
       "\n",
       ".xr-dim-list {\n",
       "  display: inline-block !important;\n",
       "  list-style: none;\n",
       "  padding: 0 !important;\n",
       "  margin: 0;\n",
       "}\n",
       "\n",
       ".xr-dim-list li {\n",
       "  display: inline-block;\n",
       "  padding: 0;\n",
       "  margin: 0;\n",
       "}\n",
       "\n",
       ".xr-dim-list:before {\n",
       "  content: '(';\n",
       "}\n",
       "\n",
       ".xr-dim-list:after {\n",
       "  content: ')';\n",
       "}\n",
       "\n",
       ".xr-dim-list li:not(:last-child):after {\n",
       "  content: ',';\n",
       "  padding-right: 5px;\n",
       "}\n",
       "\n",
       ".xr-has-index {\n",
       "  font-weight: bold;\n",
       "}\n",
       "\n",
       ".xr-var-list,\n",
       ".xr-var-item {\n",
       "  display: contents;\n",
       "}\n",
       "\n",
       ".xr-var-item > div,\n",
       ".xr-var-item label,\n",
       ".xr-var-item > .xr-var-name span {\n",
       "  background-color: var(--xr-background-color-row-even);\n",
       "  margin-bottom: 0;\n",
       "}\n",
       "\n",
       ".xr-var-item > .xr-var-name:hover span {\n",
       "  padding-right: 5px;\n",
       "}\n",
       "\n",
       ".xr-var-list > li:nth-child(odd) > div,\n",
       ".xr-var-list > li:nth-child(odd) > label,\n",
       ".xr-var-list > li:nth-child(odd) > .xr-var-name span {\n",
       "  background-color: var(--xr-background-color-row-odd);\n",
       "}\n",
       "\n",
       ".xr-var-name {\n",
       "  grid-column: 1;\n",
       "}\n",
       "\n",
       ".xr-var-dims {\n",
       "  grid-column: 2;\n",
       "}\n",
       "\n",
       ".xr-var-dtype {\n",
       "  grid-column: 3;\n",
       "  text-align: right;\n",
       "  color: var(--xr-font-color2);\n",
       "}\n",
       "\n",
       ".xr-var-preview {\n",
       "  grid-column: 4;\n",
       "}\n",
       "\n",
       ".xr-var-name,\n",
       ".xr-var-dims,\n",
       ".xr-var-dtype,\n",
       ".xr-preview,\n",
       ".xr-attrs dt {\n",
       "  white-space: nowrap;\n",
       "  overflow: hidden;\n",
       "  text-overflow: ellipsis;\n",
       "  padding-right: 10px;\n",
       "}\n",
       "\n",
       ".xr-var-name:hover,\n",
       ".xr-var-dims:hover,\n",
       ".xr-var-dtype:hover,\n",
       ".xr-attrs dt:hover {\n",
       "  overflow: visible;\n",
       "  width: auto;\n",
       "  z-index: 1;\n",
       "}\n",
       "\n",
       ".xr-var-attrs,\n",
       ".xr-var-data {\n",
       "  display: none;\n",
       "  background-color: var(--xr-background-color) !important;\n",
       "  padding-bottom: 5px !important;\n",
       "}\n",
       "\n",
       ".xr-var-attrs-in:checked ~ .xr-var-attrs,\n",
       ".xr-var-data-in:checked ~ .xr-var-data {\n",
       "  display: block;\n",
       "}\n",
       "\n",
       ".xr-var-data > table {\n",
       "  float: right;\n",
       "}\n",
       "\n",
       ".xr-var-name span,\n",
       ".xr-var-data,\n",
       ".xr-attrs {\n",
       "  padding-left: 25px !important;\n",
       "}\n",
       "\n",
       ".xr-attrs,\n",
       ".xr-var-attrs,\n",
       ".xr-var-data {\n",
       "  grid-column: 1 / -1;\n",
       "}\n",
       "\n",
       "dl.xr-attrs {\n",
       "  padding: 0;\n",
       "  margin: 0;\n",
       "  display: grid;\n",
       "  grid-template-columns: 125px auto;\n",
       "}\n",
       "\n",
       ".xr-attrs dt, dd {\n",
       "  padding: 0;\n",
       "  margin: 0;\n",
       "  float: left;\n",
       "  padding-right: 10px;\n",
       "  width: auto;\n",
       "}\n",
       "\n",
       ".xr-attrs dt {\n",
       "  font-weight: normal;\n",
       "  grid-column: 1;\n",
       "}\n",
       "\n",
       ".xr-attrs dt:hover span {\n",
       "  display: inline-block;\n",
       "  background: var(--xr-background-color);\n",
       "  padding-right: 10px;\n",
       "}\n",
       "\n",
       ".xr-attrs dd {\n",
       "  grid-column: 2;\n",
       "  white-space: pre-wrap;\n",
       "  word-break: break-all;\n",
       "}\n",
       "\n",
       ".xr-icon-database,\n",
       ".xr-icon-file-text2 {\n",
       "  display: inline-block;\n",
       "  vertical-align: middle;\n",
       "  width: 1em;\n",
       "  height: 1.5em !important;\n",
       "  stroke-width: 0;\n",
       "  stroke: currentColor;\n",
       "  fill: currentColor;\n",
       "}\n",
       "</style><div class='xr-wrap'><div class='xr-header'><div class='xr-obj-type'>xarray.DataArray</div><div class='xr-array-name'></div><ul class='xr-dim-list'><li><span class='xr-has-index'>selection</span>: 1</li><li><span class='xr-has-index'>Lz</span>: 100</li><li><span class='xr-has-index'>E</span>: 140</li></ul></div><ul class='xr-sections'><li class='xr-section-item'><div class='xr-array-wrap'><input id='section-8a2fb93d-1833-484b-91b3-5a733a7c8c12' class='xr-array-in' type='checkbox' ><label for='section-8a2fb93d-1833-484b-91b3-5a733a7c8c12' title='Show/hide data repr'><svg class='icon xr-icon-database'><use xlink:href='#icon-database'></use></svg></label><div class='xr-array-preview xr-preview'><span>0 0 0 0 0 0 0 0 0 0 0 0 0 0 0 0 0 ... 0 0 0 0 0 0 0 0 0 0 0 0 0 0 0 0</span></div><pre class='xr-array-data'>array([[[0, 0, 0, ..., 0, 0, 0],\n",
       "        [0, 0, 0, ..., 0, 0, 0],\n",
       "        [0, 0, 0, ..., 0, 0, 0],\n",
       "        ...,\n",
       "        [0, 0, 0, ..., 0, 0, 0],\n",
       "        [0, 0, 0, ..., 0, 0, 0],\n",
       "        [0, 0, 0, ..., 0, 0, 0]]])</pre></div></li><li class='xr-section-item'><input id='section-f1f4a713-525d-4bd9-be4c-3f9c22240163' class='xr-section-summary-in' type='checkbox'  checked><label for='section-f1f4a713-525d-4bd9-be4c-3f9c22240163' class='xr-section-summary' >Coordinates: <span>(3)</span></label><div class='xr-section-inline-details'></div><div class='xr-section-details'><ul class='xr-var-list'><li class='xr-var-item'><div class='xr-var-name'><span class='xr-has-index'>selection</span></div><div class='xr-var-dims'>(selection)</div><div class='xr-var-dtype'>object</div><div class='xr-var-preview xr-preview'>None</div><input id='attrs-d896e7d0-fa3d-4e9f-a0e3-6e0236c51dff' class='xr-var-attrs-in' type='checkbox' disabled><label for='attrs-d896e7d0-fa3d-4e9f-a0e3-6e0236c51dff' title='Show/Hide attributes'><svg class='icon xr-icon-file-text2'><use xlink:href='#icon-file-text2'></use></svg></label><input id='data-04b573ff-0d46-443e-89e2-c68010dce32a' class='xr-var-data-in' type='checkbox'><label for='data-04b573ff-0d46-443e-89e2-c68010dce32a' title='Show/Hide data repr'><svg class='icon xr-icon-database'><use xlink:href='#icon-database'></use></svg></label><div class='xr-var-attrs'><dl class='xr-attrs'></dl></div><pre class='xr-var-data'>array([None], dtype=object)</pre></li><li class='xr-var-item'><div class='xr-var-name'><span class='xr-has-index'>Lz</span></div><div class='xr-var-dims'>(Lz)</div><div class='xr-var-dtype'>float64</div><div class='xr-var-preview xr-preview'>-2.877e+03 -2.83e+03 ... 1.761e+03</div><input id='attrs-525b8f8f-da3f-47ea-91c2-1fc364020d1f' class='xr-var-attrs-in' type='checkbox' ><label for='attrs-525b8f8f-da3f-47ea-91c2-1fc364020d1f' title='Show/Hide attributes'><svg class='icon xr-icon-file-text2'><use xlink:href='#icon-file-text2'></use></svg></label><input id='data-1ed0bf89-f98a-4ef3-bc6a-728904be51eb' class='xr-var-data-in' type='checkbox'><label for='data-1ed0bf89-f98a-4ef3-bc6a-728904be51eb' title='Show/Hide data repr'><svg class='icon xr-icon-database'><use xlink:href='#icon-database'></use></svg></label><div class='xr-var-attrs'><dl class='xr-attrs'><dt><span>min :</span></dt><dd>-2900.541259765625</dd><dt><span>max :</span></dt><dd>1784.0928955078125</dd></dl></div><pre class='xr-var-data'>array([-2877.118089, -2830.271747, -2783.425406, -2736.579064, -2689.732723,\n",
       "       -2642.886381, -2596.04004 , -2549.193698, -2502.347357, -2455.501015,\n",
       "       -2408.654673, -2361.808332, -2314.96199 , -2268.115649, -2221.269307,\n",
       "       -2174.422966, -2127.576624, -2080.730283, -2033.883941, -1987.037599,\n",
       "       -1940.191258, -1893.344916, -1846.498575, -1799.652233, -1752.805892,\n",
       "       -1705.95955 , -1659.113209, -1612.266867, -1565.420526, -1518.574184,\n",
       "       -1471.727842, -1424.881501, -1378.035159, -1331.188818, -1284.342476,\n",
       "       -1237.496135, -1190.649793, -1143.803452, -1096.95711 , -1050.110768,\n",
       "       -1003.264427,  -956.418085,  -909.571744,  -862.725402,  -815.879061,\n",
       "        -769.032719,  -722.186378,  -675.340036,  -628.493694,  -581.647353,\n",
       "        -534.801011,  -487.95467 ,  -441.108328,  -394.261987,  -347.415645,\n",
       "        -300.569304,  -253.722962,  -206.87662 ,  -160.030279,  -113.183937,\n",
       "         -66.337596,   -19.491254,    27.355087,    74.201429,   121.04777 ,\n",
       "         167.894112,   214.740453,   261.586795,   308.433137,   355.279478,\n",
       "         402.12582 ,   448.972161,   495.818503,   542.664844,   589.511186,\n",
       "         636.357527,   683.203869,   730.050211,   776.896552,   823.742894,\n",
       "         870.589235,   917.435577,   964.281918,  1011.12826 ,  1057.974601,\n",
       "        1104.820943,  1151.667285,  1198.513626,  1245.359968,  1292.206309,\n",
       "        1339.052651,  1385.898992,  1432.745334,  1479.591675,  1526.438017,\n",
       "        1573.284359,  1620.1307  ,  1666.977042,  1713.823383,  1760.669725])</pre></li><li class='xr-var-item'><div class='xr-var-name'><span class='xr-has-index'>E</span></div><div class='xr-var-dims'>(E)</div><div class='xr-var-dtype'>float64</div><div class='xr-var-preview xr-preview'>-2.414e+05 -2.394e+05 ... 3.495e+04</div><input id='attrs-3ccd19cd-e268-4ed2-b666-e57d68b39ec6' class='xr-var-attrs-in' type='checkbox' ><label for='attrs-3ccd19cd-e268-4ed2-b666-e57d68b39ec6' title='Show/Hide attributes'><svg class='icon xr-icon-file-text2'><use xlink:href='#icon-file-text2'></use></svg></label><input id='data-719279cf-7e62-4a88-8dbc-7e0ca9214cb9' class='xr-var-data-in' type='checkbox'><label for='data-719279cf-7e62-4a88-8dbc-7e0ca9214cb9' title='Show/Hide data repr'><svg class='icon xr-icon-database'><use xlink:href='#icon-database'></use></svg></label><div class='xr-var-attrs'><dl class='xr-attrs'><dt><span>min :</span></dt><dd>-242407.5</dd><dt><span>max :</span></dt><dd>35941.86328125</dd></dl></div><pre class='xr-var-data'>array([-241413.395131, -239425.185393, -237436.975656, -235448.765918,\n",
       "       -233460.55618 , -231472.346443, -229484.136705, -227495.926967,\n",
       "       -225507.717229, -223519.507492, -221531.297754, -219543.088016,\n",
       "       -217554.878278, -215566.668541, -213578.458803, -211590.249065,\n",
       "       -209602.039328, -207613.82959 , -205625.619852, -203637.410114,\n",
       "       -201649.200377, -199660.990639, -197672.780901, -195684.571164,\n",
       "       -193696.361426, -191708.151688, -189719.94195 , -187731.732213,\n",
       "       -185743.522475, -183755.312737, -181767.102999, -179778.893262,\n",
       "       -177790.683524, -175802.473786, -173814.264049, -171826.054311,\n",
       "       -169837.844573, -167849.634835, -165861.425098, -163873.21536 ,\n",
       "       -161885.005622, -159896.795884, -157908.586147, -155920.376409,\n",
       "       -153932.166671, -151943.956934, -149955.747196, -147967.537458,\n",
       "       -145979.32772 , -143991.117983, -142002.908245, -140014.698507,\n",
       "       -138026.48877 , -136038.279032, -134050.069294, -132061.859556,\n",
       "       -130073.649819, -128085.440081, -126097.230343, -124109.020605,\n",
       "       -122120.810868, -120132.60113 , -118144.391392, -116156.181655,\n",
       "       -114167.971917, -112179.762179, -110191.552441, -108203.342704,\n",
       "       -106215.132966, -104226.923228, -102238.713491, -100250.503753,\n",
       "        -98262.294015,  -96274.084277,  -94285.87454 ,  -92297.664802,\n",
       "        -90309.455064,  -88321.245326,  -86333.035589,  -84344.825851,\n",
       "        -82356.616113,  -80368.406376,  -78380.196638,  -76391.9869  ,\n",
       "        -74403.777162,  -72415.567425,  -70427.357687,  -68439.147949,\n",
       "        -66450.938211,  -64462.728474,  -62474.518736,  -60486.308998,\n",
       "        -58498.099261,  -56509.889523,  -54521.679785,  -52533.470047,\n",
       "        -50545.26031 ,  -48557.050572,  -46568.840834,  -44580.631097,\n",
       "        -42592.421359,  -40604.211621,  -38616.001883,  -36627.792146,\n",
       "        -34639.582408,  -32651.37267 ,  -30663.162932,  -28674.953195,\n",
       "        -26686.743457,  -24698.533719,  -22710.323982,  -20722.114244,\n",
       "        -18733.904506,  -16745.694768,  -14757.485031,  -12769.275293,\n",
       "        -10781.065555,   -8792.855818,   -6804.64608 ,   -4816.436342,\n",
       "         -2828.226604,    -840.016867,    1148.192871,    3136.402609,\n",
       "          5124.612347,    7112.822084,    9101.031822,   11089.24156 ,\n",
       "         13077.451297,   15065.661035,   17053.870773,   19042.080511,\n",
       "         21030.290248,   23018.499986,   25006.709724,   26994.919461,\n",
       "         28983.129199,   30971.338937,   32959.548675,   34947.758412])</pre></li></ul></div></li><li class='xr-section-item'><input id='section-59c8fec9-31b6-4daf-a85e-a44a6e7e9f9e' class='xr-section-summary-in' type='checkbox' disabled ><label for='section-59c8fec9-31b6-4daf-a85e-a44a6e7e9f9e' class='xr-section-summary'  title='Expand/collapse section'>Attributes: <span>(0)</span></label><div class='xr-section-inline-details'></div><div class='xr-section-details'><dl class='xr-attrs'></dl></div></li></ul></div></div>"
      ],
      "text/plain": [
       "<xarray.DataArray (selection: 1, Lz: 100, E: 140)>\n",
       "array([[[0, 0, 0, ..., 0, 0, 0],\n",
       "        [0, 0, 0, ..., 0, 0, 0],\n",
       "        [0, 0, 0, ..., 0, 0, 0],\n",
       "        ...,\n",
       "        [0, 0, 0, ..., 0, 0, 0],\n",
       "        [0, 0, 0, ..., 0, 0, 0],\n",
       "        [0, 0, 0, ..., 0, 0, 0]]])\n",
       "Coordinates:\n",
       "  * selection  (selection) object None\n",
       "  * Lz         (Lz) float64 -2.877e+03 -2.83e+03 ... 1.714e+03 1.761e+03\n",
       "  * E          (E) float64 -2.414e+05 -2.394e+05 ... 3.296e+04 3.495e+04"
      ]
     },
     "metadata": {},
     "output_type": "display_data"
    }
   ],
   "source": [
    "# NOTE: since the computations are done in the background, data_array_widget.model.grid is initially None.\n",
    "# We can ask vaex-jupyter to wait till all executions are done using:\n",
    "await vaex.jupyter.gather()\n",
    "# get a reference to the xarray DataArray object\n",
    "data_array = data_array_widget.model.grid\n",
    "print(f\"type:\", type(data_array))\n",
    "print(\"dims:\", data_array.dims)\n",
    "print(\"data:\", data_array.data)\n",
    "print(\"coords:\", data_array.coords)\n",
    "print(\"Lz's data:\", data_array.coords['Lz'].data)\n",
    "print(\"Lz's attrs:\", data_array.coords['Lz'].attrs)\n",
    "print(\"And displaying the xarray DataArray:\")\n",
    "display(data_array)  # this is what the vaex.jupyter.view.DataArray uses"
   ]
  },
  {
   "cell_type": "markdown",
   "metadata": {},
   "source": [
    "Note that `data_array.coords['Lz'].data` is the same as `Lz_axis.bin_centers` and `data_array.coords['Lz'].attrs` contains the same `min/max` as the `Lz_axis`.\n",
    "\n",
    "Also, we see that displaying the xarray.DataArray object (`data_array_view.model.grid`) gives us the same output as the `data_array_view` above. There is a big difference however. If we change a selection:"
   ]
  },
  {
   "cell_type": "code",
   "execution_count": 6,
   "metadata": {
    "ExecuteTime": {
     "end_time": "2020-05-17T14:54:44.671194Z",
     "start_time": "2020-05-17T14:54:44.665221Z"
    }
   },
   "outputs": [],
   "source": [
    "df.select(df.x > 0)"
   ]
  },
  {
   "cell_type": "markdown",
   "metadata": {},
   "source": [
    "and scroll back we see that the `data_array_view` widget has updated itself, and now contains two selections! This is a very powerful feature, that allows us to make interactive visualizations.\n",
    "\n",
    "\n",
    "## Interactive plots\n",
    "\n",
    "To make interactive plots we can pass a custom `display_function` to the `data_array_widget`. This will override the default notebook behaviour which is a call to `display(data_array_widget)`. In the following example we create a function that displays a matplotlib figure:"
   ]
  },
  {
   "cell_type": "code",
   "execution_count": 7,
   "metadata": {
    "ExecuteTime": {
     "end_time": "2020-05-17T14:54:44.736577Z",
     "start_time": "2020-05-17T14:54:44.673205Z"
    }
   },
   "outputs": [
    {
     "data": {
      "application/vnd.jupyter.widget-view+json": {
       "model_id": "2a9e4e3e794b4688b3f21674eb6f0471",
       "version_major": 2,
       "version_minor": 0
      },
      "text/plain": [
       "DataArray(children=[Container(children=[ProgressCircularNoAnimation(color='#9ECBF5', size=30, text='', value=1…"
      ]
     },
     "metadata": {},
     "output_type": "display_data"
    }
   ],
   "source": [
    "# NOTE: da is short for 'data array'\n",
    "def plot2d(da):\n",
    "    plt.figure(figsize=(8, 8))\n",
    "    ar = da.data[1]  # take the numpy data, and select take the selection\n",
    "    print(f'imshow of a numpy array of shape: {ar.shape}')\n",
    "    plt.imshow(np.log1p(ar.T), origin='lower')\n",
    "\n",
    "df.widget.data_array(axes=[Lz_axis, E_axis], display_function=plot2d, selection=[None, True])"
   ]
  },
  {
   "cell_type": "markdown",
   "metadata": {},
   "source": [
    "In the above figure, we choose index 1 along the selection axis, which referes to the `'default'` selection. Choosing an index of 0 would correspond to the `None` selection, and all the data would be displayed. If we now change the selection, the figure will update itself:"
   ]
  },
  {
   "cell_type": "code",
   "execution_count": 8,
   "metadata": {
    "ExecuteTime": {
     "end_time": "2020-05-17T14:54:44.744045Z",
     "start_time": "2020-05-17T14:54:44.739054Z"
    }
   },
   "outputs": [],
   "source": [
    "df.select(df.id < 10)"
   ]
  },
  {
   "cell_type": "markdown",
   "metadata": {},
   "source": [
    "As xarray's DataArray is fully self describing, we can improve the plot by using the dimension names for labeling, and setting the extent of the figure's axes.\n",
    "\n",
    "Note that we don't need any information from the Axis objects created above, and in fact, we should not use them, since they may not be in sync with the xarray DataArray object. Later on, we will create a widget that will edit the Axis' expression. \n",
    "\n",
    "Our improved visualization with proper axes and labeling:"
   ]
  },
  {
   "cell_type": "code",
   "execution_count": 9,
   "metadata": {
    "ExecuteTime": {
     "end_time": "2020-05-17T14:54:44.822741Z",
     "start_time": "2020-05-17T14:54:44.746184Z"
    }
   },
   "outputs": [
    {
     "data": {
      "application/vnd.jupyter.widget-view+json": {
       "model_id": "297b46f5ea794c16bed3c3e322153d53",
       "version_major": 2,
       "version_minor": 0
      },
      "text/plain": [
       "DataArray(children=[Container(children=[ProgressCircularNoAnimation(color='#9ECBF5', size=30, text='', value=1…"
      ]
     },
     "metadata": {},
     "output_type": "display_data"
    }
   ],
   "source": [
    "def plot2d_with_labels(da):\n",
    "    plt.figure(figsize=(8, 8))\n",
    "    grid = da.data  # take the numpy data\n",
    "    dim_x = da.dims[0]\n",
    "    dim_y = da.dims[1]\n",
    "    plt.title(f'{dim_y} vs {dim_x} - shape: {grid.shape}')\n",
    "    extent = [\n",
    "        da.coords[dim_x].attrs['min'], da.coords[dim_x].attrs['max'],\n",
    "        da.coords[dim_y].attrs['min'], da.coords[dim_y].attrs['max']\n",
    "    ]\n",
    "    plt.imshow(np.log1p(grid.T), origin='lower', extent=extent, aspect='auto')\n",
    "    plt.xlabel(da.dims[0])\n",
    "    plt.ylabel(da.dims[1])\n",
    "\n",
    "da_plot_view_nicer = df.widget.data_array(axes=[Lz_axis, E_axis], display_function=plot2d_with_labels)\n",
    "da_plot_view_nicer"
   ]
  },
  {
   "cell_type": "markdown",
   "metadata": {},
   "source": [
    "We can also create more sophisticated plots, for example one where we show all of the selections. Note that we can pre-emptively expect a selection and define it later:"
   ]
  },
  {
   "cell_type": "code",
   "execution_count": 10,
   "metadata": {
    "ExecuteTime": {
     "end_time": "2020-05-17T14:54:44.912611Z",
     "start_time": "2020-05-17T14:54:44.825210Z"
    }
   },
   "outputs": [
    {
     "data": {
      "application/vnd.jupyter.widget-view+json": {
       "model_id": "081d7d92dfc44bdca8e0d0ef65e09111",
       "version_major": 2,
       "version_minor": 0
      },
      "text/plain": [
       "DataArray(children=[Container(children=[ProgressCircularNoAnimation(color='#9ECBF5', size=30, text='', value=1…"
      ]
     },
     "metadata": {},
     "output_type": "display_data"
    }
   ],
   "source": [
    "def plot2d_with_selections(da):\n",
    "    grid = da.data\n",
    "    # Create 1 row and #selections of columns of matplotlib axes\n",
    "    fig, axgrid = plt.subplots(1, grid.shape[0], sharey=True, squeeze=False)\n",
    "    for selection_index, ax in enumerate(axgrid[0]):\n",
    "        ax.imshow(np.log1p(grid[selection_index].T), origin='lower')\n",
    "\n",
    "df.widget.data_array(axes=[Lz_axis, E_axis], display_function=plot2d_with_selections,\n",
    "                     selection=[None, 'default', 'rest'])"
   ]
  },
  {
   "cell_type": "markdown",
   "metadata": {},
   "source": [
    "Modifying a selection will update the figure."
   ]
  },
  {
   "cell_type": "code",
   "execution_count": 11,
   "metadata": {
    "ExecuteTime": {
     "end_time": "2020-05-17T14:54:44.922954Z",
     "start_time": "2020-05-17T14:54:44.915835Z"
    }
   },
   "outputs": [],
   "source": [
    "df.select(df.id < 10)  # select 10 objects\n",
    "df.select(df.id >= 10, name='rest')  # and the rest"
   ]
  },
  {
   "cell_type": "markdown",
   "metadata": {},
   "source": [
    "Another advantage of using xarray is its excellent plotting capabilities. It handles a lot of the boring stuff like axis labeling, and also provides a nice interface for slicing the data even more.\n",
    "\n",
    "Let us introduce another axis, FeH (fun fact: FeH is a property of stars that tells us how much iron relative to hydrogen is contained in them, an idicator of their origin):"
   ]
  },
  {
   "cell_type": "code",
   "execution_count": 12,
   "metadata": {
    "ExecuteTime": {
     "end_time": "2020-05-17T14:54:45.004826Z",
     "start_time": "2020-05-17T14:54:44.925080Z"
    }
   },
   "outputs": [
    {
     "data": {
      "application/vnd.jupyter.widget-view+json": {
       "model_id": "92a520c6b371423ab80d4d28ba4ca8fb",
       "version_major": 2,
       "version_minor": 0
      },
      "text/plain": [
       "DataArray(children=[Container(children=[ProgressCircularNoAnimation(color='#9ECBF5', size=30, text='', value=1…"
      ]
     },
     "metadata": {},
     "output_type": "display_data"
    }
   ],
   "source": [
    "FeH_axis = vjm.Axis(df=df, expression='FeH', min=-3, max=1, shape=5)\n",
    "da_view = df.widget.data_array(axes=[E_axis, Lz_axis, FeH_axis], selection=[None, 'default'])\n",
    "da_view"
   ]
  },
  {
   "cell_type": "markdown",
   "metadata": {},
   "source": [
    "We can see that we now have a 4 dimensional grid, which we would like to visualize.\n",
    "\n",
    "And [xarray's plot](http://xarray.pydata.org/en/stable/plotting.html#two-dimensions) make our life much easier:"
   ]
  },
  {
   "cell_type": "code",
   "execution_count": 13,
   "metadata": {
    "ExecuteTime": {
     "end_time": "2020-05-17T14:54:45.092144Z",
     "start_time": "2020-05-17T14:54:45.006801Z"
    },
    "scrolled": false
   },
   "outputs": [
    {
     "data": {
      "application/vnd.jupyter.widget-view+json": {
       "model_id": "e4a3816e53ae4e0398868b921df7ee37",
       "version_major": 2,
       "version_minor": 0
      },
      "text/plain": [
       "DataArray(children=[Container(children=[ProgressCircularNoAnimation(color='#9ECBF5', size=30, text='', value=1…"
      ]
     },
     "metadata": {},
     "output_type": "display_data"
    }
   ],
   "source": [
    "def plot_with_xarray(da):\n",
    "    da_log = np.log1p(da)  # Note that an xarray DataArray is like a numpy array\n",
    "    da_log.plot(x='Lz', y='E', col='FeH', row='selection', cmap='viridis')\n",
    "\n",
    "plot_view = df.widget.data_array([E_axis, Lz_axis, FeH_axis], display_function=plot_with_xarray,\n",
    "                                 selection=[None, 'default', 'rest'])\n",
    "plot_view"
   ]
  },
  {
   "cell_type": "markdown",
   "metadata": {},
   "source": [
    "We only have to tell xarray which axis it should map to which 'aesthetic', speaking in Grammar of Graphics terms."
   ]
  },
  {
   "cell_type": "markdown",
   "metadata": {},
   "source": [
    "## Selection widgets\n",
    "Although we can change the selection in the notebook (e.g. `df.select(df.id > 20)`), if we create a dashboard ([using Voila](https://voila.readthedocs.io/en/stable/)) we cannot execute arbitrary code. Vaex-jupyter also comes with many widgets, and one of them is a `selection_expression` widget:"
   ]
  },
  {
   "cell_type": "code",
   "execution_count": 14,
   "metadata": {
    "ExecuteTime": {
     "end_time": "2020-05-17T14:54:45.107350Z",
     "start_time": "2020-05-17T14:54:45.094036Z"
    },
    "scrolled": true
   },
   "outputs": [
    {
     "data": {
      "application/vnd.jupyter.widget-view+json": {
       "model_id": "83a4c8102f3349f28d097e62bb510f58",
       "version_major": 2,
       "version_minor": 0
      },
      "text/plain": [
       "ExpressionSelectionTextArea(label='Filter by custom expression', placeholder='Enter a custom (boolean) express…"
      ]
     },
     "metadata": {},
     "output_type": "display_data"
    }
   ],
   "source": [
    "selection_widget = df.widget.selection_expression()\n",
    "selection_widget"
   ]
  },
  {
   "cell_type": "markdown",
   "metadata": {},
   "source": [
    "The `counter_selection` creates a widget which keeps track of the number of rows in a selection. In this case we ask it to be 'lazy', which means that it will not cause extra passes over the data, but will ride along if some user action triggers a calculation."
   ]
  },
  {
   "cell_type": "code",
   "execution_count": 15,
   "metadata": {
    "ExecuteTime": {
     "end_time": "2020-05-17T14:54:50.325540Z",
     "start_time": "2020-05-17T14:54:45.109571Z"
    }
   },
   "outputs": [
    {
     "data": {
      "application/vnd.jupyter.widget-view+json": {
       "model_id": "faba0e9b76f2474997a18f96ad36c1bf",
       "version_major": 2,
       "version_minor": 0
      },
      "text/plain": [
       "Counter(characters=['&nbsp;', '&nbsp;', '&nbsp;', '&nbsp;', '&nbsp;', '&nbsp;', '&nbsp;', '&nbsp;', '9', '9', …"
      ]
     },
     "metadata": {},
     "output_type": "display_data"
    }
   ],
   "source": [
    "await vaex.jupyter.gather()\n",
    "w = df.widget.counter_selection('default', lazy=True)\n",
    "w"
   ]
  },
  {
   "cell_type": "markdown",
   "metadata": {},
   "source": [
    "## Axis control widgets\n",
    "\n",
    "\n",
    "Let us create new axis objects using the same expressions as before, but give them more general names (x_axis and y_axis), because we want to change the expressions interactively."
   ]
  },
  {
   "cell_type": "code",
   "execution_count": 16,
   "metadata": {
    "ExecuteTime": {
     "end_time": "2020-05-17T14:54:50.413172Z",
     "start_time": "2020-05-17T14:54:50.328549Z"
    },
    "scrolled": false
   },
   "outputs": [
    {
     "data": {
      "application/vnd.jupyter.widget-view+json": {
       "model_id": "c834de5879c14b9f9890335111b5b169",
       "version_major": 2,
       "version_minor": 0
      },
      "text/plain": [
       "DataArray(children=[Container(children=[ProgressCircularNoAnimation(color='#9ECBF5', size=30, text='', value=1…"
      ]
     },
     "metadata": {},
     "output_type": "display_data"
    }
   ],
   "source": [
    "x_axis = vjm.Axis(df=df, expression=df.Lz)\n",
    "y_axis = vjm.Axis(df=df, expression=df.E)\n",
    "\n",
    "da_xy_view = df.widget.data_array(axes=[x_axis, y_axis], display_function=plot2d_with_labels, shape=180)\n",
    "da_xy_view"
   ]
  },
  {
   "cell_type": "markdown",
   "metadata": {},
   "source": [
    "Again, we can change the expressions of the axes programmatically:"
   ]
  },
  {
   "cell_type": "code",
   "execution_count": 17,
   "metadata": {
    "ExecuteTime": {
     "end_time": "2020-05-17T14:54:53.908299Z",
     "start_time": "2020-05-17T14:54:50.415406Z"
    }
   },
   "outputs": [],
   "source": [
    "# wait for the previous plot to finish\n",
    "await vaex.jupyter.gather()\n",
    "# Change both the x and y axis\n",
    "x_axis.expression = np.log(df.x**2)\n",
    "y_axis.expression = df.y\n",
    "# Note that both assignment will create 1 computation in the background (minimal amount of passes over the data)\n",
    "await vaex.jupyter.gather()\n",
    "# vaex computed the new min/max, and the xarray DataArray\n",
    "# x_axis.min, x_axis.max, da_xy_view.model.grid"
   ]
  },
  {
   "cell_type": "markdown",
   "metadata": {},
   "source": [
    "But, if we want to create a dashboard with Voila, we need to have a widget that controls them:"
   ]
  },
  {
   "cell_type": "code",
   "execution_count": 18,
   "metadata": {
    "ExecuteTime": {
     "end_time": "2020-05-17T14:54:53.927309Z",
     "start_time": "2020-05-17T14:54:53.910550Z"
    }
   },
   "outputs": [
    {
     "data": {
      "application/vnd.jupyter.widget-view+json": {
       "model_id": "d219c8174c7a4ac0982ae8953b8283df",
       "version_major": 2,
       "version_minor": 0
      },
      "text/plain": [
       "Expression(label='X axis', placeholder='Enter a custom expression', prepend_icon='functions', success_messages…"
      ]
     },
     "metadata": {},
     "output_type": "display_data"
    }
   ],
   "source": [
    "x_widget = df.widget.expression(x_axis.expression, label='X axis')\n",
    "x_widget"
   ]
  },
  {
   "cell_type": "markdown",
   "metadata": {},
   "source": [
    "This widget will allow us to edit an expression, which will be validated by Vaex. How do we 'link' the value of the widget to the axis expression? Because both the Axis as well as the `x_widget` are [HasTrait objects](https://traitlets.readthedocs.io/en/stable/using_traitlets.html), we can link their traits together: "
   ]
  },
  {
   "cell_type": "code",
   "execution_count": 19,
   "metadata": {
    "ExecuteTime": {
     "end_time": "2020-05-17T14:54:53.942106Z",
     "start_time": "2020-05-17T14:54:53.929934Z"
    }
   },
   "outputs": [
    {
     "data": {
      "text/plain": [
       "<traitlets.traitlets.link at 0x122bed450>"
      ]
     },
     "execution_count": 19,
     "metadata": {},
     "output_type": "execute_result"
    }
   ],
   "source": [
    "from ipywidgets import link\n",
    "link((x_widget, 'value'), (x_axis, 'expression'))"
   ]
  },
  {
   "cell_type": "markdown",
   "metadata": {},
   "source": [
    "Since this operation is so common, we can also directly pass the Axis object, and Vaex will set up the linking for us:"
   ]
  },
  {
   "cell_type": "code",
   "execution_count": 20,
   "metadata": {
    "ExecuteTime": {
     "end_time": "2020-05-17T14:54:53.969053Z",
     "start_time": "2020-05-17T14:54:53.943972Z"
    }
   },
   "outputs": [
    {
     "data": {
      "application/vnd.jupyter.widget-view+json": {
       "model_id": "ba60f577a35f45569e3cc2817b4dd002",
       "version_major": 2,
       "version_minor": 0
      },
      "text/plain": [
       "Expression(label='X axis', placeholder='Enter a custom expression', prepend_icon='functions', success_messages…"
      ]
     },
     "metadata": {},
     "output_type": "display_data"
    }
   ],
   "source": [
    "y_widget = df.widget.expression(y_axis, label='X axis')\n",
    "# vaex now does this for us, much shorter\n",
    "# link((y_widget, 'value'), (y_axis, 'expression'))\n",
    "y_widget"
   ]
  },
  {
   "cell_type": "code",
   "execution_count": 21,
   "metadata": {
    "ExecuteTime": {
     "end_time": "2020-05-17T14:54:53.978462Z",
     "start_time": "2020-05-17T14:54:53.973241Z"
    }
   },
   "outputs": [],
   "source": [
    "await vaex.jupyter.gather()  # lets wait again till all calculations are finished"
   ]
  },
  {
   "cell_type": "markdown",
   "metadata": {},
   "source": [
    "## A nice container\n",
    "\n",
    "If you are familiar with the [ipyvuetify](https://github.com/mariobuikhuizen/ipyvuetify/) components, you can combine them to create very pretty widgets. Vaex-jupyter comes with a nice container:"
   ]
  },
  {
   "cell_type": "code",
   "execution_count": 22,
   "metadata": {
    "ExecuteTime": {
     "end_time": "2020-05-17T14:54:53.999633Z",
     "start_time": "2020-05-17T14:54:53.981064Z"
    }
   },
   "outputs": [
    {
     "data": {
      "application/vnd.jupyter.widget-view+json": {
       "model_id": "e17aff36f888456a943fd1075827de50",
       "version_major": 2,
       "version_minor": 0
      },
      "text/plain": [
       "ContainerCard(controls=[Expression(label='X axis', placeholder='Enter a custom expression', prepend_icon='func…"
      ]
     },
     "metadata": {},
     "output_type": "display_data"
    }
   ],
   "source": [
    "from vaex.jupyter.widgets import ContainerCard\n",
    "\n",
    "ContainerCard(title='My plot',\n",
    "              subtitle=\"using vaex-jupyter\",\n",
    "              main=da_xy_view,\n",
    "              controls=[x_widget, y_widget], show_controls=True)"
   ]
  },
  {
   "cell_type": "markdown",
   "metadata": {},
   "source": [
    "We can directly assign a Vaex expression to the `x_axis.expression`, or to `x_widget.value` since they are linked."
   ]
  },
  {
   "cell_type": "code",
   "execution_count": 23,
   "metadata": {
    "ExecuteTime": {
     "end_time": "2020-05-17T14:54:54.010645Z",
     "start_time": "2020-05-17T14:54:54.001846Z"
    }
   },
   "outputs": [],
   "source": [
    "y_axis.expression = df.vx"
   ]
  },
  {
   "cell_type": "markdown",
   "metadata": {},
   "source": [
    "## Interactive plots\n",
    "\n",
    "So far we have been using interactive widgets to control the axes in the view. The figure itself however was not interactive, and we could not have panned or zoomed for example.\n",
    "\n",
    "Vaex has a few builtin visualizations, most notably a heatmap and histogram using [bqplot](https://github.com/bqplot/bqplot/):"
   ]
  },
  {
   "cell_type": "code",
   "execution_count": 24,
   "metadata": {
    "ExecuteTime": {
     "end_time": "2020-05-17T14:54:54.329424Z",
     "start_time": "2020-05-17T14:54:54.013805Z"
    }
   },
   "outputs": [
    {
     "data": {
      "application/vnd.jupyter.widget-view+json": {
       "model_id": "cec9ef04d0a34ce9ad551a690e5d0056",
       "version_major": 2,
       "version_minor": 0
      },
      "text/plain": [
       "Heatmap(children=[ToolsToolbar(interact_value=None, supports_normalize=False, template='<template>\\n  <v-toolb…"
      ]
     },
     "metadata": {},
     "output_type": "display_data"
    }
   ],
   "source": [
    "df = vaex.example()  # we create the dataframe again, to leave all the plots above 'alone'\n",
    "heatmap_xy = df.widget.heatmap(df.x, df.y, selection=[None, True])\n",
    "heatmap_xy"
   ]
  },
  {
   "cell_type": "markdown",
   "metadata": {},
   "source": [
    "Note that we passed expressions, and not axis objects. Vaex recognizes this and will create the axis objects for you. You can access them from the model:"
   ]
  },
  {
   "cell_type": "code",
   "execution_count": 25,
   "metadata": {
    "ExecuteTime": {
     "end_time": "2020-05-17T14:54:54.343542Z",
     "start_time": "2020-05-17T14:54:54.333976Z"
    }
   },
   "outputs": [
    {
     "data": {
      "text/plain": [
       "Axis(bin_centers=[-77.7255446  -76.91058156 -76.09561852 -75.28065547 -74.46569243\n",
       " -73.65072939 -72.83576635 -72.0208033  -71.20584026 -70.39087722\n",
       " -69.57591417 -68.76095113 -67.94598809 -67.13102505 -66.316062\n",
       " -65.50109896 -64.68613592 -63.87117288 -63.05620983 -62.24124679\n",
       " -61.42628375 -60.6113207  -59.79635766 -58.98139462 -58.16643158\n",
       " -57.35146853 -56.53650549 -55.72154245 -54.90657941 -54.09161636\n",
       " -53.27665332 -52.46169028 -51.64672723 -50.83176419 -50.01680115\n",
       " -49.20183811 -48.38687506 -47.57191202 -46.75694898 -45.94198593\n",
       " -45.12702289 -44.31205985 -43.49709681 -42.68213376 -41.86717072\n",
       " -41.05220768 -40.23724464 -39.42228159 -38.60731855 -37.79235551\n",
       " -36.97739246 -36.16242942 -35.34746638 -34.53250334 -33.71754029\n",
       " -32.90257725 -32.08761421 -31.27265117 -30.45768812 -29.64272508\n",
       " -28.82776204 -28.01279899 -27.19783595 -26.38287291 -25.56790987\n",
       " -24.75294682 -23.93798378 -23.12302074 -22.3080577  -21.49309465\n",
       " -20.67813161 -19.86316857 -19.04820552 -18.23324248 -17.41827944\n",
       " -16.6033164  -15.78835335 -14.97339031 -14.15842727 -13.34346423\n",
       " -12.52850118 -11.71353814 -10.8985751  -10.08361205  -9.26864901\n",
       "  -8.45368597  -7.63872293  -6.82375988  -6.00879684  -5.1938338\n",
       "  -4.37887076  -3.56390771  -2.74894467  -1.93398163  -1.11901858\n",
       "  -0.30405554   0.5109075    1.32587054   2.14083359   2.95579663\n",
       "   3.77075967   4.58572271   5.40068576   6.2156488    7.03061184\n",
       "   7.84557489   8.66053793   9.47550097  10.29046401  11.10542706\n",
       "  11.9203901   12.73535314  13.55031618  14.36527923  15.18024227\n",
       "  15.99520531  16.81016836  17.6251314   18.44009444  19.25505748\n",
       "  20.07002053  20.88498357  21.69994661  22.51490965  23.3298727\n",
       "  24.14483574  24.95979878  25.77476183  26.58972487  27.40468791\n",
       "  28.21965095  29.034614    29.84957704  30.66454008  31.47950312\n",
       "  32.29446617  33.10942921  33.92439225  34.7393553   35.55431834\n",
       "  36.36928138  37.18424442  37.99920747  38.81417051  39.62913355\n",
       "  40.4440966   41.25905964  42.07402268  42.88898572  43.70394877\n",
       "  44.51891181  45.33387485  46.14883789  46.96380094  47.77876398\n",
       "  48.59372702  49.40869007  50.22365311  51.03861615  51.85357919\n",
       "  52.66854224  53.48350528  54.29846832  55.11343136  55.92839441\n",
       "  56.74335745  57.55832049  58.37328354  59.18824658  60.00320962\n",
       "  60.81817266  61.63313571  62.44809875  63.26306179  64.07802483\n",
       "  64.89298788  65.70795092  66.52291396  67.33787701  68.15284005\n",
       "  68.96780309  69.78276613  70.59772918  71.41269222  72.22765526\n",
       "  73.0426183   73.85758135  74.67254439  75.48750743  76.30247048\n",
       "  77.11743352  77.93239656  78.7473596   79.56232265  80.37728569\n",
       "  81.19224873  82.00721177  82.82217482  83.63713786  84.4521009\n",
       "  85.26706395  86.08202699  86.89699003  87.71195307  88.52691612\n",
       "  89.34187916  90.1568422   90.97180524  91.78676829  92.60173133\n",
       "  93.41669437  94.23165742  95.04662046  95.8615835   96.67654654\n",
       "  97.49150959  98.30647263  99.12143567  99.93639871 100.75136176\n",
       " 101.5663248  102.38128784 103.19625089 104.01121393 104.82617697\n",
       " 105.64114001 106.45610306 107.2710661  108.08602914 108.90099218\n",
       " 109.71595523 110.53091827 111.34588131 112.16084436 112.9758074\n",
       " 113.79077044 114.60573348 115.42069653 116.23565957 117.05062261\n",
       " 117.86558565 118.6805487  119.49551174 120.31047478 121.12543783\n",
       " 121.94040087 122.75536391 123.57032695 124.38529    125.20025304\n",
       " 126.01521608 126.83017913 127.64514217 128.46010521 129.27506825\n",
       " 130.0900313 ], exception=None, expression=x, max=130.4975128173828, min=-78.13302612304688, shape=None, shape_default=256, slice=None, status=Status.READY)"
      ]
     },
     "execution_count": 25,
     "metadata": {},
     "output_type": "execute_result"
    }
   ],
   "source": [
    "heatmap_xy.model.x"
   ]
  },
  {
   "cell_type": "markdown",
   "metadata": {},
   "source": [
    "The heatmap itself is again a widget. Thus we can combine it with other widgets to create a more sophisticated interface."
   ]
  },
  {
   "cell_type": "code",
   "execution_count": 26,
   "metadata": {
    "ExecuteTime": {
     "end_time": "2020-05-17T14:54:54.413931Z",
     "start_time": "2020-05-17T14:54:54.346177Z"
    },
    "scrolled": false
   },
   "outputs": [
    {
     "data": {
      "application/vnd.jupyter.widget-view+json": {
       "model_id": "ead950122f8f4036a8096fa044cd46f2",
       "version_major": 2,
       "version_minor": 0
      },
      "text/plain": [
       "ContainerCard(card_props={'style': 'min-width: 800px;'}, controls=[Expression(label='X axis', placeholder='Ent…"
      ]
     },
     "metadata": {},
     "output_type": "display_data"
    }
   ],
   "source": [
    "x_widget = df.widget.expression(heatmap_xy.model.x, label='X axis')\n",
    "y_widget = df.widget.expression(heatmap_xy.model.y, label='X axis')\n",
    "\n",
    "ContainerCard(title='My plot',\n",
    "              subtitle=\"using vaex-jupyter and bqplot\",\n",
    "              main=heatmap_xy,\n",
    "              controls=[x_widget, y_widget, selection_widget],\n",
    "              show_controls=True,\n",
    "              card_props={'style': 'min-width: 800px;'})"
   ]
  },
  {
   "cell_type": "markdown",
   "metadata": {},
   "source": [
    "By switching the tool in the toolbar (click <i aria-hidden=\"true\" class=\"v-icon notranslate material-icons theme--light\">pan_tool</i>, or changing it programmmatically in the next cell), we can zoom in. The plot's axis bounds are directly synched to the axis object (the x_min is linked to the x_axis min, etc). Thus a zoom action causes the axis objects to be changed, which will trigger a recomputation."
   ]
  },
  {
   "cell_type": "code",
   "execution_count": 27,
   "metadata": {
    "ExecuteTime": {
     "end_time": "2020-05-17T14:54:54.420848Z",
     "start_time": "2020-05-17T14:54:54.416293Z"
    }
   },
   "outputs": [],
   "source": [
    "heatmap_xy.tool = 'pan-zoom'  # we can also do this programmatically."
   ]
  },
  {
   "cell_type": "markdown",
   "metadata": {},
   "source": [
    "Since we can access the Axis objects, we can also programmatically change the heatmap. Note that both the expression widget, the plot axis label and the heatmap it self is updated. Everything is linked together!"
   ]
  },
  {
   "cell_type": "code",
   "execution_count": 28,
   "metadata": {
    "ExecuteTime": {
     "end_time": "2020-05-17T14:54:55.736748Z",
     "start_time": "2020-05-17T14:54:54.424208Z"
    }
   },
   "outputs": [],
   "source": [
    "heatmap_xy.model.x.expression = np.log10(df.x**2)\n",
    "await vaex.jupyter.gather()  # and we wait before we continue"
   ]
  },
  {
   "cell_type": "markdown",
   "metadata": {},
   "source": [
    "Another visualization based on bqplot is the interactive histogram. In the example below, we show all the data, but the selection interaction will affect/set the 'default' selection. "
   ]
  },
  {
   "cell_type": "code",
   "execution_count": 29,
   "metadata": {
    "ExecuteTime": {
     "end_time": "2020-05-17T14:54:55.851765Z",
     "start_time": "2020-05-17T14:54:55.744714Z"
    },
    "scrolled": false
   },
   "outputs": [
    {
     "data": {
      "application/vnd.jupyter.widget-view+json": {
       "model_id": "d1264cd1cd9c45d5986fed18911baf63",
       "version_major": 2,
       "version_minor": 0
      },
      "text/plain": [
       "Histogram(children=[ToolsToolbar(interact_items=[{'value': 'pan-zoom', 'icon': 'pan_tool', 'tooltip': 'Pan & z…"
      ]
     },
     "metadata": {},
     "output_type": "display_data"
    }
   ],
   "source": [
    "histogram_Lz = df.widget.histogram(df.Lz, selection_interact='default')\n",
    "histogram_Lz.tool = 'select-x'\n",
    "histogram_Lz"
   ]
  },
  {
   "cell_type": "code",
   "execution_count": 30,
   "metadata": {
    "ExecuteTime": {
     "end_time": "2020-05-17T14:54:55.859178Z",
     "start_time": "2020-05-17T14:54:55.854254Z"
    }
   },
   "outputs": [],
   "source": [
    "# You can graphically select a particular region, in this case we do it programmatically\n",
    "# for reproducability of this notebook\n",
    "histogram_Lz.plot.figure.interaction.selected = [1200, 1300]"
   ]
  },
  {
   "cell_type": "markdown",
   "metadata": {},
   "source": [
    "This shows an interesting structure in the heatmap above"
   ]
  },
  {
   "cell_type": "markdown",
   "metadata": {},
   "source": [
    "## Creating your own visualizations\n",
    "\n",
    "The primary goal of Vaex-Jupyter is to provide users with a framework to create dashboard and new visualizations. Over time more visualizations will go into the vaex-jupyter package, but giving you the option to create new ones is more important. To help you create new visualization, we have examples on how to create your own:\n",
    "\n",
    "If you want to create your own visualization on this framework, check out these examples:"
   ]
  },
  {
   "cell_type": "markdown",
   "metadata": {},
   "source": [
    "### ipyvolume example\n",
    "\n",
    "[![alt text](screenshot/example_jupyter_ipyvolume.png)](example_jupyter_ipyvolume.html)"
   ]
  },
  {
   "cell_type": "markdown",
   "metadata": {},
   "source": [
    "### plotly example\n",
    "\n",
    "[![alt text](screenshot/example_jupyter_plotly.png)](example_jupyter_plotly.html)"
   ]
  },
  {
   "cell_type": "markdown",
   "metadata": {},
   "source": [
    "The examples can also be found at the [Examples](examples.html) page."
   ]
  }
 ],
 "metadata": {
  "kernelspec": {
   "display_name": "Python 3",
   "language": "python",
   "name": "python3"
  },
  "language_info": {
   "codemirror_mode": {
    "name": "ipython",
    "version": 3
   },
   "file_extension": ".py",
   "mimetype": "text/x-python",
   "name": "python",
   "nbconvert_exporter": "python",
   "pygments_lexer": "ipython3",
   "version": "3.7.6"
  },
  "widgets": {
   "application/vnd.jupyter.widget-state+json": {
    "state": {
     "05ef2d3c215d4687bf40d8ad53c2d31f": {
      "buffers": [
       {
        "data": "iVBORw0KGgoAAAANSUhEUgAAAQAAAAEACAYAAABccqhmAAA+R0lEQVR4nO29e3icZ3Xo+5uZb+4jzUiWZdkT340xSmJSAwOE1A0ucSG3NmyTXg5lh7Mxu1D3dprSntOcarlNb5ReaP1Ai2k3B7pL67pAQwg00EBdMKAmxphEOMZ2bMdjy7Is6zIazX3OH+v7NCN55Esih8RZv+fRM6P53nlnpJm13vWu2wuGYbxQ9P2w34BhGIZhGIZhGNc6tu0wDMMwDMMwDMMwDMMwjBc5l+vEM2efYRiGYRiGYRiGYRiGYRiGYRiGYRiGYRiGYRiGYbwYsIw+w3iZYUJvGIZhGIZhGIZhGC8eXoh9uvkCDOM50Epw+i5yzTAM46LMVhxzKZLZiuZiyuhi8xiGMYvLEZbnK1BX+hp9LX6fax4TdsO4Aq6o/VXm4uOfywo+Q7BbzH/Zq3wG+rY15mh+v1cy51XH98N4UcO42mSgrx+2X2RIH43rnvDNNd4b25cB+mfep/kWYBmwe+bc2zPQtww40Xg+3mPu2Ob384Lhf6Ff0DAukyuxBi4Y23+hcE/fzzQJW6bF9Ra/Twtof+Px7d5ruI9N/+4J/5am1d1TDk2v2dcP9DQefsGFH8wCMJ47F1uxrsZqdrVWyOnVfY5bz5rAvT8t8E3XtjeNmfGcLeiqv2zW7WbgUZ1r+zZXUexovKcXTBmYBWA8Vy72Jb1aX+Dnuk+efl6Lff32OW6n8YR/S+P+9uZVHFSw3TF9GejbEtPfdzN9u31Z09iD7lxboG9jL+zQ1/V+XjB/gCkA48VMsyB4wnElz/V+prcD/Q3hnT1/83hvP998f1qYYXqLsR3gAejbzczV/gP5xvt2/QN9J5rm6Wn8TewZUEWwpcVrX21MARgvBuZaoVvt4+d87qzfZ6/o04qghXNwxh7dHQMzTXu2NI13hbXvI93QHtNru1Hh39StQrzF/XsyqMkPqiAyQIqGj2CQhi/AGz/7/VwtzAdwbfFD8SRfhPl8Pxf12s/ag89QInNca35ffZcYe8Fevh+2ewLcg+7fH0BNe2js89eugkNH9bEl3TAwpPf73bkyMejP6xyD7nN3M+1ruOqfpSkA44WkpUKYFbK7lNK4UqXS563cu1soh+b5PIH2BLCZ/qYxPUBmFQwOwnhehX4dKuwPHVWhHs/DKLDMFfB16O+eovCuJRJwylUKS7rhsaGG8njwBQgP2hbA+GExLYgthP9iJn/z9ZYhwFav4Qn/A+7vnlJwTfU+3H08wDb38c3MdO59MKbzLYup8J/Iq/m/Dr0dHIS7V+n4UVRJgAr0+l593ke6VdAzq2DjRnj/kI4FVQQ9wH3dqky4ysIPpgCuVV6sKajb57g/+7EL9ugXGTdDYbTKttvdmGP7qPu8E6jzrh+2r0MVwjYapvggjZW9H7b3ALtdx96JvK7cKRorPehjO1xz/51vVdN/3brG/n/dOr297jpIpeDhL8EHY3D3zSrwa1epkhgYgncdVUuBJufg1cAUwLXJC+0HuNIv6JWkxM6ZwtvkMJz+e72MvMzM1XP7lqbrW9wMvAfd+w/SEPwdsN3z0p9AV+sH3NeZjuXHoLdXry3phs0boMf14v3lW/X+338JMhtgyRL4qTtheBgiERX+0VH9ecutOvahvWo9gG4XBlHFMErDuXi1MB/AC8t8mHQvNkffc+Iiqbqz/75W24KWXvz+mY9tn30dptN0p/f4GXRf7jn5psfFdKVP0bAE2mMqsMuWwe6vqeB/+jTyo1UkkdBrhw+rkAN0d0MsBgcPqrm/Zw8UCpDLwebNMDCgvx8YUGUQieiYnh73/oAqgyYFMO+fu1kALyzz8QG+EML/fBJuLuu5zfnwsy61FPZM4/50Ek6Tabzdje/TNBZvzAPu6/WjwrSFhlnued7v7YUtsUY23rgr/KOoNfCWW933fVSFf2OvCumPVpFcDr44hRQKcNfdcPPNsGIFDA2pAnjjzeA4qgSe7EI2b4ZKRZ8ficB77msogxN53TocO6YKrYerGxI0BWA0Mzv3/VJjWwnvBbH7OfLtmzPp5jT/vef2N/0+23LYQsvtQB+uOf8o04k2ZGh45JNBJONm7B07psk7Xowe1LxPofv5r3xNBXjLrdDbrXv4wUHdCmzaBO9eiZw8CX+2DwEIhVQJ/O1RpFpRk79QgPf3qrXQ1QVr10J7u86zZg10durrjqIKaBkzi4yuBrYFeGlztbcDdZ7fd2SGQpmVR9/n7m9n5983s72VwM+ae8b4bdC3w71NocJ/X7d62zOoUK1DzfoeGgI2iIbvQJ153u3nJ5C72pBly+BP/gvZ/mZkZAT+4RTyC+tU2FMpKJXgY4cQuRWpVNTM7+rSeYaHYVEPfPDbyHtfibQlILkkDvlJpvJw4IBaCJUKnHDTBY8dU2vA42rVCZgF8NLmUl+G55s777tEzf2lmLEa98+0ENjdlJbb5LTzzHy2zLIQvLFuOG67lzGXQT34W1zhz0DfIBpHXwb84xCyzX1Nb/VfR8P8P7cY2Y2uuuvW6R7+1JAK8XVLVcD7++HGG+HoUV3df8Td33d16er+8cPIli7EceDDB3SVT/ZEKBRUkSQ6Q/hTbaRS8OffQaaGJzl5Ek6dgkwGXvNa2LdP/QYbNsDdd6v14b3Hq2UFmAXw8qRVNpz3+HOp8Guuk5+mxeo9vdJ7q/Gs5Jzp7LrdTe+vOR3XG5dxPfkZN5nmE0ON7Lx16MrvVtxJDhgAyQDb3ASenh741LPIbUHkm2HkjUXkppv02mM1ZNsNDVN93z4d396urzVVgD3fR378RuSjPwhIulbj+2N13tIT4zXL8nL4uCNfnqpQKsEf3JsSEm1QKiL/fFZ+7dV1SaZAvob89s3I3r3wY5tDnDtVAnTuyRwcOqRbBrjAGWgWwMuc+YgJz1iJL7LKX44fAJiuk5/xnP4Lx86I8+8GtjV56Le4yTjeF71V/LsXBOi7r1t/P5FX834ZcFuQ+t2r1Lz3qvG2xJBekEdvVoXQf1SFeXAQtr5Chf5nFyPr1ql3v7dXV/hUqhGuW7ZMV/jhYfijbyF7j/jkfB0+8z3k+rEqacfhv61KQjjMYLVL0q9M8I4bFvHeH1/KN/ZF5akDFdn1b0WRn+6R5Npu5KsI4TDBVJyvRqNSzpWoVPT9fmef3hYKug04MKCWgLc9mW/MAriGucj+GVqv6LPz7Vut3q3m4SJzzVj1mzvo4Ap5c/ecZk9+P8gykBPMLM7ZTCM0N5t2N3x3bjFy5DRsBlniKotcDt76Vvjo95GfXoSMj6vADw+rwJVK8J0csv8s9P0Y8uHvIsEgrAzBXeuQT53W1T4ZCjFQq7ExEIBAgEWLHfaOh+kt5qCtja62IgUnwdJ0jXwtQixSI5FyCHW1c2TvGR773ihb3xYVIlHITyJfQ+5fNSJPPQnX3wBPPalK6sABfd+f3Kd/64MX94k8J0wBXF2ulpPuYsJ4NfMMLqYgmh+bs6JvC/pldpthNCuD6QKY5iKb/lnXt8TgA/lGXn7GFfing8jry8j6XvjseeTIaWQzsPFm2PkDZNEi+M03IH/8cSitRd67Vp15j+SR3hxsvgXZ+QMkNanC/ulhR+QtjnzwHwrS0QHJUJBEMEg2EACfD+p10pWK/l6tclN7gAknyYJEmafzYa7vrOJEHBavbcMfcvAXp6BeJ7Y4CcUSj/zLMNmxMbbe1S4UppA9fpFbkSceHWHFClVKo6PqFDww0FBsKaZrBOYF2wJcXa6Wh36ueVtVuLWiVdjNC+u1mqPVKt+qrn7Gfn6W42p7Bt3zP8i0oDf7DbZ7WXrouGkH2DbU9N8MfDiPbEMbbvagTrvMKrinA3kQTcwZH284zfbvh2QSlvohexLGliJTU+rUeziH/FQKKXbB5w8iY2Pw7luQSASmxitQq/HTG5Ctb4vIQL0OU1NQq5H0+UgDyUSYja9KsTqVYiLQzpFymVwpRDoWZLQch0SCZw6VCfkrBCMBRs6UKU8UoGcRt3/g9WxaF4f2Nn7nX0ZFbkWO9I/wmrekcByNCsRi6iBsdwuK+mlUG84XZgFc21yRU+8Kzcs5Tf/Z4b6may1Ldd3XZgcNr/4OVPA959cWGhbBZhorYsYtt/V+39jrJtHk4V0b1KTvz8JPL0IyGXWuRSK6z//bI8iGRXDPDcinH0fefYsm9TiOxvM7FoeJnS6SXxymNFHkpsULuPfH6rLzSwVZnUwS9lcZ84VYGCxRCkTJVv2MOQ63La1ydtjHyutjVOt+yoUqiViNWCpEpeojlu6EVBLqdR753T3cflebyD+fFbktKIyPA3BuqEYup4rKyx7M5fRv3GFbgJclV2LeX2r/frlzTY+bw6MPNNJo+5sEvMnLT/O4Jk+2F8qbzrOHRpjOM/230UjH9a63uw6xE3lNyunqgl0D6ihbt04FHNSEjkR0n/+XB5BfXo/86RNIdxnecyvyp49rzD4Wg19aj5wfgW+d90m2VicdCvLkmTId6SjpUol0KET/1BS9qRSUywy0tZEpl8nVaiTicZLxEGO5IunuIMmeKGMjVXAcVq72E20PUp0qUQmESURr0NkBlSrE4+CDRz7Yz+33dIh8+rRQKvFr15dldFT/hsFBrSvwrCGY0XG45Wd1JdgW4KXD5Zr3zWPnWqVnr8Qz4uyzntfXC/VZJbszutZ4/e62NH0J+1GlQFNcfwDE65LjzeUJ+jp3/Ciu1xsVftCMPK84Z+0qDcX9VxwZRGP2w8MQXYr09OhqOTqq+37vjzt5En53E7KoR2Xut+/Vaw/cgixY6CPaESaVgn85h2QjEeQdXZItl3nTKxaQjkTY+iuvltvfvUoyCxYw5gb/N0Yi4Dgk2tuJhEKkO/JE/H5K9SBnTxZZ2FnFoYI/GCD7TImKEyEaqjI8WIaJCUrnczAxAT4fm+5YgPz9SZG3RYVIhD9/0pHl65Ms6NK/5747tcsQ7v9pjqjN5SZLzcAUwA+fVvvwyxnb6rmzmetLcYGzrinWPsPR5wlu03On9/bNiT1e+G4LF7bXajHPDDKoU3AZat4+iBbjgCqD9w/BqjXI/b0axksk4B0Lkd+6E54Y1zj+jed07r0hZP16tQo+P6H7+VJJV9LJHLxrGXJmCP6kH/mrH4SFQAD5iYh86HEEvw8cB/nilPQuXsxAvU7ScXjkU8/Kzs+ck0g0ymq/n4FAgCPhMAuXd5EMAj4fZysd0NHBq673097pUArGibSHOHOqyvLVDrVShVo0Ttf1i6BnMaFoABYsgKEhIl1t3JYIw5I0+HzILRUZOzHGE4+rBXPqlP4vemhYR5fJJS0C2wK8dHkuJt+c0YNZQj07dDetLJrSdwGN4/czM8XWM/ubU33TIFnXAvCq8bwUXDcqIMtAelCzPpdrtMry9vlLXHP/2DHNsy8UNEbf2Qk7nkR+bgnyr+PI4Gloa4O/eadfvvylGv/h04SffyshN7WFGSsWeWcGia5bzq5/GpSBaJTeqSnGQiGS7e3ce0+nyD8NCvE4vcEgA6USd6SCnD09Tq6jg4Tfz/KeAKMTAdILCoxV4jgO5CeqpFeG+Pr+PJlXhgn5yvqPqNVIdfiIpUKUag6hRZ2a91sqUs1NUc6XKQzn+ItvFZCfCAvD5yA3AcCZUzWGhmDXZ3Sqpv/vvPgBXq4K4FIx8Bc7c5n2z3fs5T53ev/e35SVNzuvv7mPXg+NIptRVPC9Lrn39+oeHsC3EKmf1SKdnh7YN4HcvBB5qoTsPa6P3dWGpFKamfePTyC5JHzoTuTDjyCDASiX4T1rkFgM/v2ERgV+cTPyV0/55NdeXZc//35Y0vE4jI2RrFS59/9Ii3wxL2lg608mZdfDORnI59nY08Ow40C1SiIQIOvz0UuZxHUp+oerrA6HaQuVwQ0Nns37SIZ8JFIOC1NlSsU6IadGIBZmUWeF8fMV/NEwtfEc7Yvj4PczeqZIakmMMwfOsCg4IvL5CSEY5P51OUkk4InH9f/i1Ql8aGDmuQTPl5frFqDVP+/FLvzN+/MZmXyX4ErG9kGj4y0Nc7/e4vX7XMddXz9adZdxV3ovlPdNkP6mRJ4HcU39WKPMdUtMU11BS3IrFfXen8irCf/UqK70j5+GX7pRY/cAT5WQEycg3wF3tyMPfAWZTMGbgurUW78eVq7SPf9r18T4zA/C0tvZyZ9/B0m78fys389Y90J2/ltB0tEoRKM89pWKDMTj9Pb00Jbwcf0iP+mwn4VxyEajpJbEOHe6wE3tAQrFIl8oBYnFIBRzoF6HUIhX37dBsoMBjmaDEI8zPOInn69TC4aZnKhBPE615qNUrBNv85MbypMbrbDz646k29uRn+kRgHJJMxKvu06jFwcG5r8m4OWqAF5MeIJVv8g1uLQQz3bgXSq9dy5/wnbPhG/yC/jSbgou7oqfQQtotqDFOV7HnXeDeC227gH5SLfG7zNoLP++bl3Fd8D2FFpK29sNU3FNx70tiPzN08jmDbrSr1ypVsCNnRrj/+lFOm6BozHy/+dmZG9Iq/Deu1atgTd1wlefCEi1AtlQkGy9ztb/1iUDPh9EI2TDYQA2JjV9l3qdzNIEN3VFCafi3OavsrKnjVI9yJlzfpb3xplILOKOhI+nRgIsWN0JkQgRx6E3GOT4sI+nz9XIOg4Ui+z608elvStGOBYiFvez9Lo6o1NhIuE65TJEYz6mCj6C8RDVmo/hET+VeJJkvU7W52PXriFJJCDYlSSf1+1QT4/2FWyOBswHpgDmj8vJ0b+Yo+5yt2NXEgJqdio2r+Kzr0+v9mmoZ9B+dG5iDgBZt5jGW937aVTYfSCvygB0j3qQmaW1G2/W+/fFkFNDurJnoP5UB/K5h+F7C7TM9s/2If8Z0PunKsjtt2u8vtgF9/+kmv1P15BPnkDufgOyfG2IR4cTEgzCt0+mZPUbuvAvSHHv2zsl6/fzxNASSadS9K68jp1fmpJ0IkFvdzfpZJKNnZ3s6eoiGYuRuX4J/YUor/vVWySUjNJ142LOEie1qhPa2jhwpo3hcplQR5yuRIJzI3XNBoxGGXCiZGMxCARIBgKMOQkSQDhQYM2aCH5/kNykj1A0wvcOBolEfRz9QZUKDmODU9RqUMxXGR+HgfZ29TmEw9CzmLETY3R0agWiFxa8e1UjOjIfvFx9AC91Zgj8FvTUmVnJNzOy8ryxmYbpzm5d1WX25JnG45IF0q7wPwaySc167uvWktnvxJGJSbgzhpwII+cisPo08u0g8vNLde5/OoPcEUf6Y8jtMeSrdeR/rEb+/QSSBN6yHvmL/UippPv6D96O/P1nkPCiAAmfj/5AgHStRrJe595bKrLz21FJ+nyMhUIAJOt1EqEQ/YEAtwVhINJGsliEep1EIkEkEKBQqXD7/a+TXTu+J2NAbyRAtqQm+4DPx0afj7akw9mJGtmAQ5IA4GdlPMAXJmv0UmeMAFtlo0A7j8i/ShYfWcqkqQFheoN1iuUSbfEgixf7icXAcYJUKnkKBT+lUpVquUplskhhJM/qdUEqNT/Hsw4Rp8Knnx6HM2dIR6Ns/ZEx+c3PFOSP3qpbncFBbSLqnS0wX8lApgDm5mrk21+xQ66pWOaC4ppZ8zQ75pqZnRMwnVUHmnHXC5JwBfs2kCKwHiQF7AHZ4672y2Lw5TKSLKu33uuNfyqObGhDvOYZx8PIq6PaImvZMk2zdRx483Uq5KtWwV/s1+uvjakCCEfg899HzjhQq8EHXq/luPLdDkn7/WTHx8m0tZGd0pz63nQ32bpDolAg5/czFg6z2u+nEI0SqVZpi9XZn6tDscjqzk7CkQDFqQrDiXYGgF4CJPDTX5si7Y+7QuzndrlHdsoXZKvcJeBnlzwiUAHCDFAFNA0YfGyVOwWCQBmRfxaRt8o3fv/zkkjUWb48QCjko1DwAVWefbZKIuEQDpcpFstQKhHw13F8VYKBGoeP+hk7nyM7PEw2HCZ97hybF01JIqFRj8cea0Q+Hjo6ZzLQFWMKYCZXMxLQnCPvZdW1qqO/6HuYXT3nzclFVn2vzPa2IPLKsibQbOrW+Do0svY8r3x/kyJpTsG9z119et2kFC8k52XfeZ1tIxFtbNGM1yjzLw8g/9cGjc93d8PIiJbYxpMBfvv1Vcnn1RH4V0eiIu/oFvnceUkXi2x990r1kNfryPt7ZdeHvysD7e3Ir79GZMeTIu/vlUc+dkiytRqr63WOxGKkfT76fT421uu0JR3aF8T57mkYw8/GxQEcJ0g0WqdWCxIMBjhxokosFmB01CFbroNrBSTw00+dNNAb9PHlcgmRbQJVRP5awE8GPxGKhIM10mlIJPJEIjp/sVjnmWemiEQglwsQCeWIx+H0sSILFzs45Sn2HnNIj59jgCCMjpIdHkbe0S31U6c5dEj9AEePqsN0x6zP9/lgCuDqc9HY+xy5963i8BeMmd0yurmazhNaz9xvPtaqGa+phnfCjdcZN7NKk276UU99f16VRi4HXuMML+W2UNB025ERvR+JaGw+FNJxt94Kv/OYttBaflMKanUoTEGlwlSuRnRJCvJ55BtBka2vEEbOQyiIfPq0yM8uFroXsfMz5yRbKEA4jLyvV+TvjgiVCrLtBtn5iWOyVW4V+e0vi/TdKoSCUCgiH94v8tu3iPz+N0Rki4CfnfIVUbNdzfx0MEgoBLFYnXy+xsKFMTo7wXEC1Gp+hodrZLNBsuU6CerkCDBAAKjQCwwQIM0kWfz0UueWtUVSKYdarUqlUqRYrFCtljl/voTjBCkUpgAo5UuUyj6YmCD9ihjFQp09R/Ikx8YYOHcOgMr5HL/2I2o99ffr/3JwcPrgUVMAz4F5X+Fn58jPkTPfymSf/b6a56SFhdA369qM52/jwtJZbwX3hH4zboNMV+Bxf/fGNiUDyWaQUff3Z+Lqfff63K1f33BKeY0z/vQJ5Ndfo3v+NWu0i8769bDohi6mTgwTTfgbT6jVtOKmVNblvmcR8kheZNsNwsmT0N6OfGZE5D1rRD52SOQXXqUC73rvPc+9/PprRP7qe4LfD34/4AAhoIau3gEA0vjYKj8jIg9LLzXG8JOkxis7HLLng/QDaRxuigd5ZrLCGH5uikMoFGD58hDxeJFs1sFxfEQifg48WQf8hIM1Bso+oEJvENLpGtFokWCwxvh4iWi0SjJZ5XvfKwBFSqUgY+Uar1xaZnCwTCpRhnqdRT0+CpNVTh8c43V3L5bH/mK/7CkWkXcslKmBYwwNqeAfOqS3u/Pzd27gy00BXIwr3Z+3DNHNUgCtxlwQCZgl1H3QulFGPzMFe3fT77OYLrLZzMxCmkfRtlgPuSfYNPfC90z7DRtgfFx73Gcy2rIaGm2su7t1pf/K1+B/vgeqFT0AA9QKOHZMnzeZh3AIgquWQiioFxJtqgTa2zXbrWexPrFS1mu5iUY3zeuug9ykKovuhVpAMzqq5kUyBZMTEF8EVIE4KvBlYAkwjqYeudl4RNH9ehhVEj5EPiEivyoiH5VeHLqoM4yf6xfCmbMBCq54RKizdo2Prq4ApZL6CkqlGtksLFhQ5fjxOqlUlcWLHSKRMvl8hXPnpqhUyuTzZSYmyyzomMJxohw/W2BhvML+ySrJcgGqVTLXVYi2B3nqv3IcqdfJHj8O1Sry+ik5eRLOu7kPX/964xzB+eoJYApgbi5ZQdditW857jJfC2bt5bcxw9s7YzvgvbbXFOMDefc46th0yej06u+Vz/bn1Xm0DfqWxdSU379fxw+iIabBQX388GFdyb2VftUqlctKReX38GGNTScSmqt+ww0q/O3tEEzFob2d+qnT+LpdYe5ZrFU7XV3gBFTDJNpUmHMT4AS1RDbkrvKJBCTiEIlCx0KYGNFr4YhmyATjqNC7+xAcIA8ahHMfC7qPJ9CIdztQbLoebxoTRS2HICJ/LBn8vHKpn6efdYAKOQKkg1WWL/fh90MkUicUgslJiEahfUEQgj7GB3PUaiWOH5/CcSrk83le9xv3yi75pAzg556OElDm3PkqVEosX+Zj8FiBRLTK06cLUCwyVquRzef5zRVD4jiQz+v/e2REPw83G9AUQAuuuMz1Mscyx/grfb3ZOfcXXGeWpdBUajtNc/mtZylkmrYIg03P2YLu3T/R7PBrKqd138v0QRnecdYbb9Y9/Ph4QwlkMir8Q0NaYHPddbo4T7nNK4NuI4v2dggmtNFlp5v2Hly7Qh0IsbgqgO5FOtjvV39AIqHXYlG3+2abTur3qRIItqFC6keFPk5DmIPu4zVUyB33Wpv7WBjPk68WQbv710bdsTX3NtD0mA/w84j8viyMBzg76SPdAblcla4uCIerVKt1Vq8OQFsSylNQzHMqW6JWK3Po8BRHUGG/KT5OLBYiny+zf9JHpsPHZ8/n6C0VWBmrE4tB3D/FwDN1srUayYkJ7n1jSQiFYHiYbz82iePov29gQE8Qnq96gGstEehK0mOvZM65xjd3xZmLGdf73dLZzMwknTlTk5ucdtPn2+1m+iSc6TJe7xCJlF6f3i70AO8fYvtm1Is/iK7cJ/LuGXfd6hM4iGslHNWMs1BIBf1mN4nnppv09uRJvbaoR7+Qo6OwqBui7tZgwbougokQU6MlFmxYjm/ZUoJrlqvjr2exCnd7u+4lEpoPT9dCvdbVpRZBoagvlp9sKAICUB5CBTMHTNAQ7gJq8seBEjBFY0UHFfqoez+KKocp93c16ZWwe7/g3pa5XX5Xzk76yFLn3PkK2bKPPadrRKN1li6tq8IqFaFQYHysypLlISKRMm3xAOCjNwjPTPqpVPycnfSzGh+5nJ8MNV6z0iEW0fc4VoyQi8VI5vMkKhWoVSkfPk5uaJKeHrd2qKRbgKYy6+fNtWQBzGd13HN9/qVyB1oWITXv4+cIC9L0/BmOvWbLwKuwa/b+b3JDd9459W4n3uljr5bFNIx38KAuwmvWwAN71SLIbNDY88GDugVYv16de11dapbGYvrFTF830ymYaPerlgiFGTsxRnLdYihMce7wKAs2LFcFkJ9UKwBUEYBO0r0IImGdKD+lCiIUUsdhKqVvslJWq8DnrfbeNiDk3npCnUKF2hPsCg1F4LiPx9wfT5mAWgIhdskfSgI/EQK0xauUSj5SKbg+E6M8micYgmPPVIAKoVCQUKhMMlnBcaqcPp1n/6E8WWqspkI4WKNYrnCEEpuWBhgZKTIxWaUwPk5yQZJUvMTxZ3JkR0bIVirI3e0ytf8QkQhkT8E396oLBRpbOeaBa0kBvFi5lHPxgvj9bEdi07ZhhvNvVuweaBTYgDbP/Eg3fW7PfD7YFM57bEj9BStWaCWet2V4ALUEbrpJ5e7ECT3CqlDQsY88oqb/+vUamlrlNugoldQR6DgNZbB8fZLcqTESyzp1/+73q9kQCesqv2SxWgLtSZ2gUtYJB880lEAorFqmq0u3ChFXgJujCb5FqAUQBQKIfEVE7hLoQoUeGoIfRuTTInKfiHxS0vjZKr8mIn8mupUI0EudAQL0ApkVAaJRP/G4JvKUSnUKhQrPPhugq8vH1JSPbLbMypV+JiYKrFxZJ9QWpF4YI5stcuBwhSxFborXKZUmCIX8TEz6CQfLfDlXIB0Msrpep80p8rp39crOP/6WbL0tJPLX35f3ranI6Kj+SyoV+MpX4MF9Mz7v5+1/MgVwZczeo7f6AJppeb1pxZ+duDOXoxEaRTjNiSB9oCu6t+p7Tj5oFI40+xAyzDwh11MuXlbfQDeSOIYsc0OFS7phxxDyRxuQ0dGGk/AfTiGb/Mjateon6Ox0ZbQAf3cUeed1yKcHkf++TI/VKpUguaaLk/uHNSloxQoolZHPnRe5/3XC+Jh6+cfHkW+FRX4qJcTi0NnBzo9+X7b+RkYYHVWlkZuEzk52fui/ZOsHXi/yJ/0iv/cWke1fkzQxspQQ+RkR+axAnTQRsvhIEyBLgI342YOPXvwMEGAjDnuokcZh42KH7OkKq1Zo2C8YVP/A1JSfYhGgwpHTIdIddT57vsY9HUEcR7cTjuNn6dIKsa4A9ckxjh4tMThYYqxcJRmsA1VSKR/Hz06RDAYZGB8Fv4YcnxktQ7nMWC4HIyNs3RwSRkfJjZQ4M6hKdWBA/TNuT4Br2gK4mhl5LzQt/5Y5IggzBJ65rYc6+tm1yh9ojufPOFyj2VrwFEEzXjMOaDiaPtKtzr/PPaxfvHdt0C1BJtOwDg4d0uekUpoQVKnoYytWqF9gx1/Dfe9UB35bQiN4D3wZ+Y3XIcklcahVkS8WRN7RJfIfPpGfXypq8neo67tWg64uZNcZoVhEfmm9ABCJIDsPifzSeiGRQB78T+3w83s/LkSi7Nz+H7K6XmPT9nfIY/IFgSpH3BBgmijJYI1s2cfKuI/29iDDw5BKBalUdJ8eCvkJheqUSg77J2usdjMDC6gXYmW8RKkExbKPBR1VSiVIp6ssWVqDSJjy6Hn27y9ydrIGVFm+ECqVOp8dztMLUK0C0FWvMwzc+65lsvN390i2VELeUBR5ZFLufy0S8Kvwz8oEbPW9uGK8L9G1ImxXi/n8H13UH9B0/1KWxvQcTUoDaGwT3DAi0No/sA74X26nnozbkQf3uc3bhU8MNTIGvZDhvb2NzjwHBjR60NurX9JIRLf5pZIqiEhElUZnJ3R0arSgUIDlK0C+7sj9N1Xk9/Yg0cVJMqUS2VKJrfd0iPzLOZFfvEHkH09r1t8vvEqolGF8nJ1fLksyGmVsclLb//j9ZOt10sEgyURCV9JAgNWBAIVwlGy9Stqn+3klxjB+EtSBOr0rIpw9GyAUClAqlTk76bB8YZCnzlYAP2MABEgCA1RIo06+JAESlEkGS9x4o59KpUTnQh+EI5RGx4EKp05VOHu2SmdnkEqlzJ5np0hXq9z+f66W//rfT8tE3kfYV+FNb18k8rFD0js6yr1vjQrA1OEs+bzWAgwP63brXUfnT15frBbAS4k6KjhX8qHMqVDSUM+2Vswzth+es7CVJTHbipgrm7DZOvCKg7xtwxBIt9vMIwcy4Lbz8tKB/8OH/PflyLFj+qXs6oL+88iqKtLbq3N84phW/3mpwn99ELn/tUh/P3wzjPT9GPLH/chkDnqB2GLIBh0W5iu891bk7/4TOR2P0BuPc+/bYrLzsyOSTCYZq1RI+tyvbiTCve9YKN/44rhkawHGKhXw+bSgxu8n6zjcFgsyVqyxsD3AxPkSJNopVEpknQhpKiyMh3lm0iv28ZPGIUudNHWSOIzhkKQGVBhzQ4RpfOSok6ACOCxfWCISqbJggY/U4gQEQxCJkDt6nCNHKuRyftasqTA4WCN73ke2UiJbLpOOxkgXC9z+W28U6XtMGBuD06eRO+JCLkc5V+LMEBQLqlwPH7ZqwGuJy7EsWiqCXqgPzP35zXYo0jxHBvoiIAW3ApCGcpAtrhUw0KgQ3J6Getod+9448rFJPW9vkzt2EFUYd8YQz6kYXaqNOge6kUwe6epSZ1YuBx/+LrKpBwY74fVTyMM5PVn34RwSCsGqAjhd6lv45bcin92LDESjpCsV3vPGsvzzE3EZKxZZHYvRtijBF3J10qUSSaDL52O4s5OuyUmGw2FwHMbyeW5e28HeY5P0drYxUIbV4TBHSiXSwSDU62Qdh7TjQCBMMlgnW/aRoEoyGCUUgolJVQ4Fau7WIcT1C6uMjpZJpeIsWlQmFgsTDpcJdHRBexuMj8FkjlPPThII1AkGq3z/+zUGJgokw2G6JiY4Egppb4F8nq1vXyAMDSGfHZF0tcrWWypCocjxgUmtAnxIPyyLAry0uZhJf6VzXG7JcqvfLwg5ztpKbPf6DMDM5iDNff68leiDMfq8Jp7ueFkG4vkMEgmNHjy6Tw/v8MzZwUHYuFHDi2vWaDvvX7xeqwUdRyMR0DiKu1DQrcTvfycq5LWhhj8WptdxGMhNQtChNxKhy3HYdGebyBfzkimXyUUiJNraSJYmIRajq8ehMFbk6VKcW9bUyJ6PEfMXyNejxNodnJAfp1qkY3GE/JQPv+OnVoNEu8Pxo2WWrnBoawswMVHD73cIharE2uNAFWLtGq3IT0GtCDUojI7z9JNTZHMR+sdGSAeDZH0+Mn4//fm8NjIslUiPjmoY8CfCMnVsiGgMxkbh0Uf1f+YldFkm4IuDq9Ez4Epe52JjLsgfaLreKloxY3yzQ7Hp9gKl4kUcUmidwQMb4MF92gvQ80F8chXsOKrhyUSiIfjeWXd3vlUVwKmhxqGf691tRCSiyUeJhDoZvziF/ObrdVvxN4fUQfZbb9BCpQ8fQF4ZB7/jY+ttQXngCyV58CfjMp1nEItpAkPPYnb906AQCDBQKpFOpUhWKgyEQmys1Qi3R0m1VXnqnJ8uv59wJEDXshjxeo7uZRG+u6/Kq18XolAOgN/BXy3iRGNEutshHNcVvVxWP8CJZzk/UuKpJ6sUgGy9TrZaRbaulV1/c1ASPh+cO0cuEGBsYoJsqYTckdCIR2GKMydKFAoack2lVAHevW/GZ/m8MAXwEmCuiMEczBU5mFYQ3krfQqhnjJv1+t6cs+eZVipe7cID0DfKBdWJM5yMt7mHee5xtyKeolm+EHndJNKfh9+6U51fPT1qJRw4oALgCUJ7u3rHr7sOvhlB/uda5K8PIu9ZgwwMwKMl7RV46pQmOwWXdCGfG5W+myvii6hpId+OCo4DgQDpUIitb18gsuuMbIzFOBLWHITeSIBioUq4PQrhMKkOH6NDJV712jjlepigr0ii3U8gGCKwaJGGMytFTn5viHPnwPFVOXO6QqFeJxsIkPT5GAsEoFgkWSox4Dikx8ehUiGby0GthtyK4PeTOzHCE49rVuaxYxqana9CIDAFMJ94obnL5cUSfZm9nWhlOQAz+/y3ckI2byE8ZeA5GjMxLWP1zg+ARinyDnf8Y7i+BTdRyY1AyIM3I17/gWXLVBg+9SzyJ3fo40NDqhA+P4H87c8j23Yj225A/v4k4vc3apD+8K2IfN2RdCJBtlyGYlFN8WAQ2dIlu3YNyUB7O5mpKRZ2RXmm6EA4TKJWIxsOs3FRjeFRh1SiwplhH2+4LcnouSqdi7XhZ6HkJ+CvU69DpR5g5GSeQycj7MnnSdfrpItFso5DslYj4fNBMEi2UlFrYXQUKhW2/sxi4eSzyEPjcv9NFZnM6RbqxAlVfJ/cN+MYtueNKYD544cp0HMlKM3lK5jTh9Ak0M0Kbc50ZC+a4BanCMA2kKZYNXfEkS9MahThRNO4zSCfAUkHoViGjW4Pgswq+PhRZD1IZpX2FCyV4JVlfV5vt24XNt4Mu4Y06ehvjyC/9+PIH+xF3rwI4pPIVEdAnj1f5c61yBPPIj3JGA8P5nlVd4SfvaEgf7AXuWdVB6USUCoxVnfI1et0uXXPixb5yRf8lMo+1twYpVooE0sGNS+fEKFgnUTKoTJVJt4eIJuFSMJhQarK0GCNXN5P4ewEZ/JxjuTzpAMBkvEQxfEpNj1wi+z8i/2SPX+e3miUgbNnSddqZAsFtQBuC0p9ZJQnn9Sdy8CAZgF6zVnMCWiA67nn8j7HaWFvCjXWewE3mtCcXNQ851wVjDPwCpLcysS6m1Ysrrk6o3uRqwikNwhfLsMfrkK+eBTZA7zRbSv+KMhdi+FABdY74BTgsRy8pgd+fBl87JAmHK2OwNvWwL4JiI/C0aK2DP/RdTA6Bgs64AdZSEVg5QoYGwOCQcYmyyyMQ6ynjcpUmYUrE2RPVGmPV2lbFOP8mRJOPEwlFOP4sUle8+oQw4MVSCSIhOuEE0GCQU1BKNTDONEg8TY/zx4ukkrBmeMFjpwos7A9wDNTepyYbLtRdn3kKRlwHO0rODVF0u9nYGwM+akO2bXrjNz7lqDIwxMit8eFkXN87/ESX/qS+//P6+18CT+YAnipc6XbDrh4AtLsrcCcCUjuOQG44UGh8eObNccMX8Os1OY6es2XgXoyCF1lGAaSIE25CAJa8rMRZLQD4TxyDqTQAQsXQugsjCUgDcQTWjYwNqbtxD/9OFKpat3+E6dh02I4FoXljiqRBQ7EarBoUZT9w1N05uFxP/xIR5SxWo3V4TDLl/kYmQiycGmEo08XSa+OMT4ZYPGyIH4/BOIRqFaZOpenGo4xeMbHwFge/H6S1SqJWGx6/z9QLsP589DWhtzTKbs+/gMZq1TI1mrI7XHZ+WhRtt5SlSP7xnAc+PgntD5jPK8FXPOVAwCmAF4OXG4x0qXm8LYFMmu+6edvg74dc9c3zNiaNFsENCmVLMh9QeS6sm4HUu6Ag0w3J5V+kE+uapwXmMvByALkoWdhE0i2A7mnA3mshhSLGk68oUPnSQNfy8MrYvD9cXh1FxwpqCWxKgxjVVgcgBH30M9EIkEyHiI7OknaqetGvFiE9nZ6FpQJxMIcPe4jvcTHwgU1jjwbIhausve8Q7ZSYaPfz6IVcZ46Nskre8I4tRLX37FCHvn/jktucpJ7f26JPPY3T8twvc69dycFJ6AdVlIpvv3QEF1dGiFJpeBje+f3XEC49voBXCvM1WPgUr0HWo3dztwr/lyhw9l4Y3xN8zXPX4cZK1PznNszrsA/oJGCPpg+fWjaKmgeP1BGHkRLlUdRZ2FPh7Yp3+w6Ch86Ck8vRAaGNETYeU4Tl55GDwLN5dQC+NGqnk+wsoLsOQKv7UUqFV2Af24JEgzBthuQBQ6c0NR8xsoQLMBAvU6kUCB7ZoRXL6xQDMUpThQIRbXF+OCxAtmTdSgWGT5T5fRImFK+QiUYpbdaIFOvE65McfzIOPf+j9Xy6jcvkH8+WUQ++n3J5nLce3NJOHqUPfU69/5Uh1CpaOJD10IYHZ1uxjI8DHv2NnIs5hOzAK6cF4v3vhXP571dTpfilo+7Zr3gWgfN8/RC3cso9NqXfTivK31zy7MtUN8NchvIWFMG4j1oG3O3elEAkkF1CKbQg0m+MNk4pWhjr2Yi+txw4lASOVLQsGM2phbBna9E/uMU8uR5uC0N3ylq3k5PBUYTsDwA730z8mcPI7cuQb45jKwKQ7a9jWQ+D8EgiXCYZBCKVT+Ew4QDNb48WeKeFUmyx8aIJJO0Rap8oRCgNxxmoFSCqSnSjkO2UEDeVBFKRS14cty9SKWsJdOjozx9oERXF+zdq3kQXkn3RT6j54QpgJcOlyvcc417LjULreYWZn5vZqzebkTAGzOjl0EGPWIsq3v+vn6QtD7m2wJ9A1pz4APqW1wfgDex23VM+t3ko35gNchqkEdBFsYhOomMBdUCOBXXQ0bSQLoAXynB+66Hbw7B/rOwMgS5JGQSkA9BTw6eDcH6LsDn48xEnc4QFONBVoYr7C+HWB2NUhgdJeI4HKlUSKdS5ByHrlqN4XKZRDRK1udTT34oRG+9zhiw9efSIv/7pKQrFT0/0O8nXa+TrVTIVCrcvjkk+P3I7mGRt0bk87sK3Hyz5v174b/Dh6crNOd18TEFcO3wXNOJ57pGi+utlMgFWYZN/Q68x6eVRPO1NMgbaZwrOBsvbLiZxglFNH62A9wRpx6d1JOKervhH4caNQk7BpA3L4S3vUYzB7/yNfUZfG+B1il0dekpw2/qRg6PI6c7IDQMG7phQRT513HklrYwuVKJrkiE3PgUJ6oQXhAn6/Mhd7bJRz91WpxEmK13xGXXoyUZi8dJTk0xVtNTgLNjY9DRQd8rTosvEkK+FRHZ5Nda/xwkVnTp6g9MnRol73r6h4c1+6/f7d7c292wAlp8Ls8ZUwA/XJ6LF38uWgntfG1Xrvh9NuUGNL+nGe9xdiZhc6KRex1oKIwtaBLRg8wseYaGgIC2Pc/l9MdrfJoF+ZVbkSF3zB6/FikNlJH3/Bjy0LeQAaDnMPKe+7Qm4a42ZM0a+NS3kF+92y+/tKsmf/XeTtn5+QlZWy5zKBiEUpmkD96xEfHFIuz8RlC23pEQACpl5N+rUhk6j5OMgeMgbyjI2FCJZApIpfjHfxmVgwF43zo9ACQc0Tbr/f2a3AQa/9/s/t3MswVgTsAfLs8lhDcXrZx9l/tl6Wtxv/mx2Sb/JZ2RuxvvxxPoGRWKuMKfabrWbAlsmXXfswb+V1NZMmiUoNfNHIy4W4aHjqoy8A4/6Qdu61bhPzCgKbV3tyM9PbBpKbLj35AbupFfXo+cXIEEHIiMaPbgk0/CG7uQ40dr/OpNyBOPjjBwtsxXfT6oVDh/Hl6/AnnySajnC2R9Pk4+fpqPfuq0MDLCVPY8D94Vkft78yI3l0S+GZbksiT4/cjXkAVVRN7eKeWKrvpffUzN/j171QF40D3UYXTuf/WVOIYvwCwAoxWXcgg207InwUXmmtGfwFv13eQkaQ4PetuF5m7ImYYfQrLqQxCvN+K2VWoyL4s1Vv4UjVDhw3nkZ7r10NGeHq0qHBjQ+4ODevDpL16vK/GHv4v8yquRkRE9KOXUKXXQez0PQyG4cT08fRA+MoD87ibkdx7T1ONoDH7/Lcj/+++IE/Lxm6+ry+88hvzJ20NyZKDE6rV+djxSk21vjwu1KkeeLJBK6XscHtYdwfg4PLTX/T+4xVReotXlfYSXhymAFx/zYbZfKvY/31yJgxKYu09Bq/oCuLD7MWharHsIyrRjsPmsw0eBpFt0BI2WZh/ah9y/ATl4ULPr7nXLk71Td0CVxnXXqQe+t1e7Gx0+DJs26f0/26f1BqEQfPUk8vb12tjks08i73wDEo2oghkfh4mczvV/fwlZFoD33RURCgWOH1PFE4vpj1f1ePRoo/TXO8btapj/YFuAF4orMdPm40Nu3g48LxPxCl7PY8brZWaZ/97jXlTAG9NcSNQk7H1Z1/PvjmMLKuT9qPC6Y6eF/wRadDTqTjDm5hSMutc+tE+rDwuFxhbhQwMqeKMdSGZD48Xb23UbEInoir9mjQr+xz4DmbwWG3V0wh1rke/s0xX8fW9BqhX4rS+p9TCRg48fD8q5Ybj/tcgti5DccIGTJxunLIFWKZdK0zlADAzp3+spMq6SMjcL4NrkufYP8H5vrguYry/eXD0IZmQJtig9nuscxO242wlP8L1cA1Bn4SiNSkNonHScSDTOSvAOSNmd1/lT6OqfSDROSBod1Wacd7v3169vOBlXrNCxTz6pWwnH0UNTsie1A9LHPw733aeCffQovKoXvrNPrYp8Xn+GhnTeSKTR9HMbM9/ffJ4I3IxZANceF8v1b+ZiDkPfHGOa57qUZdFK4Kd/MjPnmRZ2dwsw43nevte7toVpqwFQ5eCdtrQbVQaP0uhvCCpUGVSQBob02gfybN8B213hArS5qSfca1fpY5EI3Henmuvd3eqhz+UaNfq379DV+6GHVBlkT+rYU6dg82b45c8gR4/qY5M59e5XKvrcPXug3+31v2dAbx9AhX5ctzf05xvW0nxjFoAxF5fKE3g+SUmzx8w+K2H2c1tZCN7YPi9C4AlJ83kIMNOR6FkGKXRf/ZHuhkK4260vaI/pat5/tNG+rKtLBXRZTFf9VEoF2muDXig0+hIMDurzQW/379ezFLzHQyFVKvvcbcOmTdp2vT2mz9mdb5zqPN+5/7MxC+Da4Grs8y/mQ7hYbcHljLtgvv65/RYzlEh/w4IAVOg9C2EHuqJDY0vg+Ro8ZfAoKtRudI1PDDUUxkNHVTnszuv9HajQv39I04t3oCb5gQEV6h1HVXA/9CXY8TUV/kNHtXtRLqf39+/Xudvd80hHR2H311RZnBrSTkWfe1hboPXnG9ELUGWVufj/7XljFoDxQvB8LYbLKVfuo5GKfIH/AFpaGdCUufjBWKNrkVd4k0JbcGXQfgeZmAqq1xB1G3rUutff0CvbXd+risKLJhw8qI9nNjRi+6DWxIcGGke4N6/+btLTVY3kmAXw0uKF8Og/H67ULzCbVtWBzdemi4/mGHtB9mFTQtJ0LsKWRmSir/nxDzSiCuxwrQfXLJ8h/N71LdCXQoV2kEbkYRQV/oOo9eCd53cQt71XXn0F/Xm1LDYz7ennvm7dmvTQsFKuJmYBGC8kz6ta0b3dDtO9B6Apb2DWrTe2VR+ClmHLptTjGcrFO0vR8yM0+xbggtOat38wps/7QJPzzotUzLYu2mONU5uhZUNVswCMeeWyUnmvwmvCzMKgy30fs/sa9MGMA1KnacojaPYnzPArNFkIs19/e5PQNc8zLdze/X7Y3nSu4vbdTc/dhp6PsDvfUBjNeQy73XE70FW/P+9mMer1vrWrZkQvrnoil1kAxgvJRfsKzOM8c+U4zE5SmnFk2iwuyFCcY/7m6sdpX0Fz844UKuxeKu8W9MAVz0HZHKWAhrWxu/XfMq+YAnhpclW/FC8CriSR6bkolQvOS3SZ9hE0hd8ulVbdl0H37u8fmlml6DUyoeGcnL3N8M5SaH79a/2zNV5GPJ+txuznXmyuucZeKmmp1fPmfJ1ZyUvT95vTnWeNmXY4emO2uPe3NB672Pt7vlxyXrMAjGuR57SKNhchXWS+Gf6MVhl6nmm/GfXoz171udCyuFha9uXynP5mcwK+dHmxhwTng9kJQZdLKy9/q+fPWPH7Zz4+fdtCyKedes0KoznxCBoxfO/xba7CyLSe94KtyBVi2wbjmuJyzfZ5Y478g0u+ly0XKqoZZv+2WdsEwzCunKspPHP6DOZQCnNZFXOFOFv5CAzDaMF8C8hzyU68bEugaWW/EqelYRgvIZ5virNhGD8EXijBNAVgGC9DTPAN4xrABNkwDMMwDMMwjBcJtj0xDMMwDGN+MKvCMAzDMAzDMAzDMAzDMF7EmAPPMF5GmMAbhmEYhmEYhmEYhmEYhmEYhmEYxoseC+sZhmEYhtEasxIMwzAMwzAMwzAMwzAMwzAMwzAMwzAMwzAMwzAMwzAMwzAMwzAMwzAM44eNVfsZhmEYhmEYhmEYhmEYhmEYhmEYhmEYhmEYhmEYhmEYhmEYhmEYhmEYhmEYhmEYhmEYhmEYhmEYhmEYhmEYhmEYhmEYhmEYhmEYhmEYhmEYhmEYhmEYxjxgB4UahmEYhmEYhmEYhmEYhmEYhmEYhmEYhmEYhmEYhmEYhmEYhmEYhmEYhmEYhmEYhmEYhmEYhmEYhmEYhmEYhmEYhmEYhmEYhmEYhmEYhmEYhmEYhmEYhmEYhmEYhmEYhmEYhmEYhmEYhmEYhmEYhmEYhmEYhmEYhmEYhmEYhmEYhmEYhmEYhmEYhmEYhmEYhmEYhmEYhmEYhmEYhmEYhmEYhmEYhmEYhmEYhmEYhmEYhmEYhmEYhmEYhmEYhmEYhmEYhmEYhmEYhmEYhmEYhmEYhmEYhmEYhmEYhmEYhmEYhmEYhmEYhmEYhmEYhmEYhmEYhmFci/S90C/4/wNaY1phKy6z9AAAAABJRU5ErkJggg==",
        "encoding": "base64",
        "path": [
         "value"
        ]
       }
      ],
      "model_module": "@jupyter-widgets/controls",
      "model_module_version": "1.5.0",
      "model_name": "ImageModel",
      "state": {
       "layout": "IPY_MODEL_dbe63d1d4e1745bbba07fe65039d7146",
       "value": {}
      }
     },
     "0672daed693a4d7a9a403f95e44dcd7c": {
      "model_module": "jupyter-vuetify",
      "model_module_version": "^1.4.0",
      "model_name": "VuetifyTemplateModel",
      "state": {
       "_component_instances": [],
       "_jupyter_vue": "IPY_MODEL_11b05c187dba4190adb54bdef0aca000",
       "_model_module_version": "^1.4.0",
       "_view_module_version": "^1.4.0",
       "color": "#9ECBF5",
       "components": null,
       "events": [],
       "hidden": true,
       "layout": "IPY_MODEL_3c9c081d6f9647be88e3812f043e83e4",
       "parts": [],
       "size": 30,
       "template": "\n        <v-progress-circular v-if=\"!hidden\" :key=\"value\" :size=\"size\" :width=\"width\" :value=\"value\" :color=\"color\">{{ text }}</v-progress-circular>\n        <v-progress-circular v-else style=\"visibility: hidden\" :key=\"value\" :size=\"size\" :width=\"width\" :value=\"value\" :color=\"color\">{{ text }}</v-progress-circular>\n      ",
       "text": "",
       "value": 100,
       "width": 5
      }
     },
     "06e1680c054641468824173358c738bc": {
      "model_module": "@jupyter-widgets/output",
      "model_module_version": "1.0.0",
      "model_name": "OutputModel",
      "state": {
       "layout": "IPY_MODEL_39923c009f55452c867d38632e635590",
       "outputs": [
        {
         "data": {
          "image/png": "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\n",
          "text/plain": "<Figure size 576x576 with 1 Axes>"
         },
         "metadata": {
          "needs_background": "light"
         },
         "output_type": "display_data"
        }
       ]
      }
     },
     "0a5404ed6da145708c4a3ec9cbd33947": {
      "model_module": "@jupyter-widgets/base",
      "model_module_version": "1.2.0",
      "model_name": "LayoutModel",
      "state": {}
     },
     "0f14861c5c2e4634bab4e230e2b8375c": {
      "model_module": "@jupyter-widgets/base",
      "model_module_version": "1.2.0",
      "model_name": "LayoutModel",
      "state": {}
     },
     "0fe16ab5c31f42cca027ac8753a6870e": {
      "model_module": "jupyter-vuetify",
      "model_module_version": "^1.4.0",
      "model_name": "VuetifyTemplateModel",
      "state": {
       "_component_instances": [],
       "_jupyter_vue": "IPY_MODEL_11b05c187dba4190adb54bdef0aca000",
       "_model_module_version": "^1.4.0",
       "_view_module_version": "^1.4.0",
       "color": "#9ECBF5",
       "components": null,
       "events": [],
       "hidden": true,
       "layout": "IPY_MODEL_b683efdf81754bfba9fffacde9da0028",
       "parts": [],
       "size": 30,
       "template": "\n        <v-progress-circular v-if=\"!hidden\" :key=\"value\" :size=\"size\" :width=\"width\" :value=\"value\" :color=\"color\">{{ text }}</v-progress-circular>\n        <v-progress-circular v-else style=\"visibility: hidden\" :key=\"value\" :size=\"size\" :width=\"width\" :value=\"value\" :color=\"color\">{{ text }}</v-progress-circular>\n      ",
       "text": "",
       "value": 100,
       "width": 5
      }
     },
     "10b8af639a1c49efad58169cce8f7a1f": {
      "model_module": "jupyter-vuetify",
      "model_module_version": "^1.4.0",
      "model_name": "VuetifyTemplateModel",
      "state": {
       "_component_instances": [],
       "_jupyter_vue": "IPY_MODEL_11b05c187dba4190adb54bdef0aca000",
       "_model_module_version": "^1.4.0",
       "_view_module_version": "^1.4.0",
       "components": null,
       "events": [],
       "layout": "IPY_MODEL_f5dadcfeaf5f47cfb9ff9b93ba9f4364",
       "template": "\n          <v-slide-y-transition leave-absolute>\n              <span :key=\"value\" v-html='value'></span>\n          </v-slide-y-transition>\n      ",
       "value": "Ready"
      }
     },
     "10f6ee8daecd4241bac1ccbcfaf5a5ae": {
      "model_module": "@jupyter-widgets/base",
      "model_module_version": "1.2.0",
      "model_name": "LayoutModel",
      "state": {}
     },
     "11b05c187dba4190adb54bdef0aca000": {
      "model_module": "jupyter-vue",
      "model_module_version": "^1.3.2",
      "model_name": "ForceLoadModel",
      "state": {
       "_model_module_version": "^1.3.2",
       "_view_module": null,
       "_view_module_version": "",
       "layout": "IPY_MODEL_db87109f28bb421691d97695d986fb2e"
      }
     },
     "1243b34f0a2e4712a2752ebd350e0b40": {
      "model_module": "jupyter-vuetify",
      "model_module_version": "^1.4.0",
      "model_name": "ThemeColorsModel",
      "state": {
       "_model_module_version": "^1.4.0",
       "_theme_name": "light",
       "_view_module": null,
       "_view_module_version": "^1.4.0",
       "accent": "#82B1FF",
       "error": "#FF5252",
       "info": "#2196F3",
       "primary": "#1976D2",
       "secondary": "#424242",
       "success": "#4CAF50",
       "warning": "#FB8C00"
      }
     },
     "13a919710e90427cae8bae59356017f7": {
      "model_module": "bqplot",
      "model_module_version": "^0.5.6",
      "model_name": "LinearScaleModel",
      "state": {
       "allow_padding": false,
       "stabilized": false
      }
     },
     "179e076b82f548bd9a6604a64bd97807": {
      "model_module": "jupyter-vuetify",
      "model_module_version": "^1.4.0",
      "model_name": "VuetifyTemplateModel",
      "state": {
       "_component_instances": [],
       "_jupyter_vue": "IPY_MODEL_11b05c187dba4190adb54bdef0aca000",
       "_model_module_version": "^1.4.0",
       "_view_module_version": "^1.4.0",
       "components": null,
       "events": [],
       "layout": "IPY_MODEL_3e6c8e2a6ef24c27b3d6afd920478b90",
       "template": "\n          <v-slide-y-transition leave-absolute>\n              <span :key=\"value\" v-html='value'></span>\n          </v-slide-y-transition>\n      ",
       "value": "Ready"
      }
     },
     "17edf41d55714dbea3760c048cc5ad7b": {
      "buffers": [
       {
        "data": "AAAAwNgXJsAAAADgwOwQQA==",
        "encoding": "base64",
        "path": [
         "x",
         "value"
        ]
       },
       {
        "data": "AAAAADOeZcAAAABg6gJOQA==",
        "encoding": "base64",
        "path": [
         "y",
         "value"
        ]
       }
      ],
      "model_module": "bqplot",
      "model_module_version": "^0.5.6",
      "model_name": "ImageModel",
      "state": {
       "image": "IPY_MODEL_05ef2d3c215d4687bf40d8ad53c2d31f",
       "pixelated": true,
       "scales": {
        "x": "IPY_MODEL_84726769586b4cf6892976f3511ab498",
        "y": "IPY_MODEL_a11fbd3eaca8449f9adb9c023c26b43d"
       },
       "x": {
        "dtype": "float64",
        "shape": [
         2
        ],
        "type": null,
        "value": {}
       },
       "y": {
        "dtype": "float64",
        "shape": [
         2
        ],
        "type": null,
        "value": {}
       }
      }
     },
     "1f50fae97ed44f76b81f44d4d29bed49": {
      "model_module": "jupyter-vuetify",
      "model_module_version": "^1.4.0",
      "model_name": "VuetifyTemplateModel",
      "state": {
       "_component_instances": [],
       "_jupyter_vue": "IPY_MODEL_11b05c187dba4190adb54bdef0aca000",
       "_model_module_version": "^1.4.0",
       "_view_module_version": "^1.4.0",
       "components": null,
       "events": [],
       "layout": "IPY_MODEL_10f6ee8daecd4241bac1ccbcfaf5a5ae",
       "template": "\n          <v-slide-y-transition leave-absolute>\n              <span :key=\"value\" v-html='value'></span>\n          </v-slide-y-transition>\n      ",
       "value": "Ready"
      }
     },
     "1f6774fe209e4613b38a7b6fe61c6c85": {
      "model_module": "jupyter-vuetify",
      "model_module_version": "^1.4.0",
      "model_name": "ContainerModel",
      "state": {
       "_events": [],
       "_jupyter_vue": "IPY_MODEL_11b05c187dba4190adb54bdef0aca000",
       "attributes": {},
       "children": [
        "IPY_MODEL_67c1425166534f689983b5c395946deb",
        "IPY_MODEL_39b1f616ca7145d69efa2b350d828d10",
        "IPY_MODEL_6fe2db1f174844988c7006eb04cb15db"
       ],
       "layout": "IPY_MODEL_6ca7bfd349c440e3a48bf8fcfa0e7d32",
       "v_slots": []
      }
     },
     "1fdbe7bc5e714295827e484bfa7ca663": {
      "model_module": "@jupyter-widgets/base",
      "model_module_version": "1.2.0",
      "model_name": "LayoutModel",
      "state": {}
     },
     "203791b38bb64e46b6ceb029c91e8d1f": {
      "model_module": "@jupyter-widgets/output",
      "model_module_version": "1.0.0",
      "model_name": "OutputModel",
      "state": {
       "layout": "IPY_MODEL_7ad2a5b3e34845eabddd3c2e9678a033",
       "outputs": [
        {
         "data": {
          "image/png": "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\n",
          "text/plain": "<Figure size 576x576 with 1 Axes>"
         },
         "metadata": {
          "needs_background": "light"
         },
         "output_type": "display_data"
        }
       ]
      }
     },
     "2430ac7446114a148ffd3196ab5166c2": {
      "model_module": "jupyter-vuetify",
      "model_module_version": "^1.4.0",
      "model_name": "TextFieldModel",
      "state": {
       "_events": [],
       "_jupyter_vue": "IPY_MODEL_11b05c187dba4190adb54bdef0aca000",
       "attributes": {},
       "children": [],
       "counter": null,
       "error_count": null,
       "error_messages": null,
       "height": null,
       "hide_details": null,
       "label": "X axis",
       "layout": "IPY_MODEL_42b2793472e244719a5f46cf4e1e6312",
       "loader_height": null,
       "loading": null,
       "messages": null,
       "placeholder": "Enter a custom expression",
       "prepend_icon": "functions",
       "rules": [],
       "success_messages": null,
       "v_model": "y",
       "v_slots": []
      }
     },
     "280def28ce7149d187a64c3040387161": {
      "model_module": "bqplot",
      "model_module_version": "^0.5.6",
      "model_name": "PanZoomModel",
      "state": {
       "scales": {
        "x": [
         "IPY_MODEL_84726769586b4cf6892976f3511ab498"
        ],
        "y": [
         "IPY_MODEL_a11fbd3eaca8449f9adb9c023c26b43d"
        ]
       }
      }
     },
     "288483b4c04c4cd1b79d2d62147e588d": {
      "model_module": "@jupyter-widgets/base",
      "model_module_version": "1.2.0",
      "model_name": "LayoutModel",
      "state": {}
     },
     "2a5c1ed8e3584d72862399cf0239e2a6": {
      "model_module": "bqplot",
      "model_module_version": "^0.5.6",
      "model_name": "AxisModel",
      "state": {
       "color": "#777",
       "grid_color": "#777",
       "grid_lines": "none",
       "label": "log10((x ** 2))",
       "label_color": "#777",
       "label_offset": "2em",
       "scale": "IPY_MODEL_84726769586b4cf6892976f3511ab498",
       "side": "bottom",
       "tick_values": null
      }
     },
     "2b3ed28115fd445e9e07b7c86ec8a60f": {
      "model_module": "bqplot",
      "model_module_version": "^0.5.6",
      "model_name": "LinearScaleModel",
      "state": {
       "allow_padding": false,
       "max": 1,
       "min": 0,
       "stabilized": false
      }
     },
     "30e5f006f74f41d5ae26ba432765226c": {
      "model_module": "@jupyter-widgets/base",
      "model_module_version": "1.2.0",
      "model_name": "LayoutModel",
      "state": {}
     },
     "31b6057dce8745dab472a6b676f6a2de": {
      "model_module": "@jupyter-widgets/base",
      "model_module_version": "1.2.0",
      "model_name": "LayoutModel",
      "state": {}
     },
     "37e3c5d0ed3f4fefb6eb0a4ca7d5060e": {
      "model_module": "@jupyter-widgets/base",
      "model_module_version": "1.2.0",
      "model_name": "LayoutModel",
      "state": {}
     },
     "385ab4456b17450f9f01b9f17bb9dd00": {
      "model_module": "@jupyter-widgets/base",
      "model_module_version": "1.2.0",
      "model_name": "LayoutModel",
      "state": {}
     },
     "39923c009f55452c867d38632e635590": {
      "model_module": "@jupyter-widgets/base",
      "model_module_version": "1.2.0",
      "model_name": "LayoutModel",
      "state": {}
     },
     "39b1f616ca7145d69efa2b350d828d10": {
      "model_module": "@jupyter-widgets/output",
      "model_module_version": "1.0.0",
      "model_name": "OutputModel",
      "state": {
       "layout": "IPY_MODEL_8ca70cdca425435587f067698051990b",
       "outputs": [
        {
         "data": {
          "text/html": "<div><svg style=\"position: absolute; width: 0; height: 0; overflow: hidden\">\n<defs>\n<symbol id=\"icon-database\" viewBox=\"0 0 32 32\">\n<title>Show/Hide data repr</title>\n<path d=\"M16 0c-8.837 0-16 2.239-16 5v4c0 2.761 7.163 5 16 5s16-2.239 16-5v-4c0-2.761-7.163-5-16-5z\"></path>\n<path d=\"M16 17c-8.837 0-16-2.239-16-5v6c0 2.761 7.163 5 16 5s16-2.239 16-5v-6c0 2.761-7.163 5-16 5z\"></path>\n<path d=\"M16 26c-8.837 0-16-2.239-16-5v6c0 2.761 7.163 5 16 5s16-2.239 16-5v-6c0 2.761-7.163 5-16 5z\"></path>\n</symbol>\n<symbol id=\"icon-file-text2\" viewBox=\"0 0 32 32\">\n<title>Show/Hide attributes</title>\n<path d=\"M28.681 7.159c-0.694-0.947-1.662-2.053-2.724-3.116s-2.169-2.030-3.116-2.724c-1.612-1.182-2.393-1.319-2.841-1.319h-15.5c-1.378 0-2.5 1.121-2.5 2.5v27c0 1.378 1.122 2.5 2.5 2.5h23c1.378 0 2.5-1.122 2.5-2.5v-19.5c0-0.448-0.137-1.23-1.319-2.841zM24.543 5.457c0.959 0.959 1.712 1.825 2.268 2.543h-4.811v-4.811c0.718 0.556 1.584 1.309 2.543 2.268zM28 29.5c0 0.271-0.229 0.5-0.5 0.5h-23c-0.271 0-0.5-0.229-0.5-0.5v-27c0-0.271 0.229-0.5 0.5-0.5 0 0 15.499-0 15.5 0v7c0 0.552 0.448 1 1 1h7v19.5z\"></path>\n<path d=\"M23 26h-14c-0.552 0-1-0.448-1-1s0.448-1 1-1h14c0.552 0 1 0.448 1 1s-0.448 1-1 1z\"></path>\n<path d=\"M23 22h-14c-0.552 0-1-0.448-1-1s0.448-1 1-1h14c0.552 0 1 0.448 1 1s-0.448 1-1 1z\"></path>\n<path d=\"M23 18h-14c-0.552 0-1-0.448-1-1s0.448-1 1-1h14c0.552 0 1 0.448 1 1s-0.448 1-1 1z\"></path>\n</symbol>\n</defs>\n</svg>\n<style>/* CSS stylesheet for displaying xarray objects in jupyterlab.\n *\n */\n\n:root {\n  --xr-font-color0: var(--jp-content-font-color0, rgba(0, 0, 0, 1));\n  --xr-font-color2: var(--jp-content-font-color2, rgba(0, 0, 0, 0.54));\n  --xr-font-color3: var(--jp-content-font-color3, rgba(0, 0, 0, 0.38));\n  --xr-border-color: var(--jp-border-color2, #e0e0e0);\n  --xr-disabled-color: var(--jp-layout-color3, #bdbdbd);\n  --xr-background-color: var(--jp-layout-color0, white);\n  --xr-background-color-row-even: var(--jp-layout-color1, white);\n  --xr-background-color-row-odd: var(--jp-layout-color2, #eeeeee);\n}\n\n.xr-wrap {\n  min-width: 300px;\n  max-width: 700px;\n}\n\n.xr-header {\n  padding-top: 6px;\n  padding-bottom: 6px;\n  margin-bottom: 4px;\n  border-bottom: solid 1px var(--xr-border-color);\n}\n\n.xr-header > div,\n.xr-header > ul {\n  display: inline;\n  margin-top: 0;\n  margin-bottom: 0;\n}\n\n.xr-obj-type,\n.xr-array-name {\n  margin-left: 2px;\n  margin-right: 10px;\n}\n\n.xr-obj-type {\n  color: var(--xr-font-color2);\n}\n\n.xr-sections {\n  padding-left: 0 !important;\n  display: grid;\n  grid-template-columns: 150px auto auto 1fr 20px 20px;\n}\n\n.xr-section-item {\n  display: contents;\n}\n\n.xr-section-item input {\n  display: none;\n}\n\n.xr-section-item input + label {\n  color: var(--xr-disabled-color);\n}\n\n.xr-section-item input:enabled + label {\n  cursor: pointer;\n  color: var(--xr-font-color2);\n}\n\n.xr-section-item input:enabled + label:hover {\n  color: var(--xr-font-color0);\n}\n\n.xr-section-summary {\n  grid-column: 1;\n  color: var(--xr-font-color2);\n  font-weight: 500;\n}\n\n.xr-section-summary > span {\n  display: inline-block;\n  padding-left: 0.5em;\n}\n\n.xr-section-summary-in:disabled + label {\n  color: var(--xr-font-color2);\n}\n\n.xr-section-summary-in + label:before {\n  display: inline-block;\n  content: '►';\n  font-size: 11px;\n  width: 15px;\n  text-align: center;\n}\n\n.xr-section-summary-in:disabled + label:before {\n  color: var(--xr-disabled-color);\n}\n\n.xr-section-summary-in:checked + label:before {\n  content: '▼';\n}\n\n.xr-section-summary-in:checked + label > span {\n  display: none;\n}\n\n.xr-section-summary,\n.xr-section-inline-details {\n  padding-top: 4px;\n  padding-bottom: 4px;\n}\n\n.xr-section-inline-details {\n  grid-column: 2 / -1;\n}\n\n.xr-section-details {\n  display: none;\n  grid-column: 1 / -1;\n  margin-bottom: 5px;\n}\n\n.xr-section-summary-in:checked ~ .xr-section-details {\n  display: contents;\n}\n\n.xr-array-wrap {\n  grid-column: 1 / -1;\n  display: grid;\n  grid-template-columns: 20px auto;\n}\n\n.xr-array-wrap > label {\n  grid-column: 1;\n  vertical-align: top;\n}\n\n.xr-preview {\n  color: var(--xr-font-color3);\n}\n\n.xr-array-preview,\n.xr-array-data {\n  padding: 0 5px !important;\n  grid-column: 2;\n}\n\n.xr-array-data,\n.xr-array-in:checked ~ .xr-array-preview {\n  display: none;\n}\n\n.xr-array-in:checked ~ .xr-array-data,\n.xr-array-preview {\n  display: inline-block;\n}\n\n.xr-dim-list {\n  display: inline-block !important;\n  list-style: none;\n  padding: 0 !important;\n  margin: 0;\n}\n\n.xr-dim-list li {\n  display: inline-block;\n  padding: 0;\n  margin: 0;\n}\n\n.xr-dim-list:before {\n  content: '(';\n}\n\n.xr-dim-list:after {\n  content: ')';\n}\n\n.xr-dim-list li:not(:last-child):after {\n  content: ',';\n  padding-right: 5px;\n}\n\n.xr-has-index {\n  font-weight: bold;\n}\n\n.xr-var-list,\n.xr-var-item {\n  display: contents;\n}\n\n.xr-var-item > div,\n.xr-var-item label,\n.xr-var-item > .xr-var-name span {\n  background-color: var(--xr-background-color-row-even);\n  margin-bottom: 0;\n}\n\n.xr-var-item > .xr-var-name:hover span {\n  padding-right: 5px;\n}\n\n.xr-var-list > li:nth-child(odd) > div,\n.xr-var-list > li:nth-child(odd) > label,\n.xr-var-list > li:nth-child(odd) > .xr-var-name span {\n  background-color: var(--xr-background-color-row-odd);\n}\n\n.xr-var-name {\n  grid-column: 1;\n}\n\n.xr-var-dims {\n  grid-column: 2;\n}\n\n.xr-var-dtype {\n  grid-column: 3;\n  text-align: right;\n  color: var(--xr-font-color2);\n}\n\n.xr-var-preview {\n  grid-column: 4;\n}\n\n.xr-var-name,\n.xr-var-dims,\n.xr-var-dtype,\n.xr-preview,\n.xr-attrs dt {\n  white-space: nowrap;\n  overflow: hidden;\n  text-overflow: ellipsis;\n  padding-right: 10px;\n}\n\n.xr-var-name:hover,\n.xr-var-dims:hover,\n.xr-var-dtype:hover,\n.xr-attrs dt:hover {\n  overflow: visible;\n  width: auto;\n  z-index: 1;\n}\n\n.xr-var-attrs,\n.xr-var-data {\n  display: none;\n  background-color: var(--xr-background-color) !important;\n  padding-bottom: 5px !important;\n}\n\n.xr-var-attrs-in:checked ~ .xr-var-attrs,\n.xr-var-data-in:checked ~ .xr-var-data {\n  display: block;\n}\n\n.xr-var-data > table {\n  float: right;\n}\n\n.xr-var-name span,\n.xr-var-data,\n.xr-attrs {\n  padding-left: 25px !important;\n}\n\n.xr-attrs,\n.xr-var-attrs,\n.xr-var-data {\n  grid-column: 1 / -1;\n}\n\ndl.xr-attrs {\n  padding: 0;\n  margin: 0;\n  display: grid;\n  grid-template-columns: 125px auto;\n}\n\n.xr-attrs dt, dd {\n  padding: 0;\n  margin: 0;\n  float: left;\n  padding-right: 10px;\n  width: auto;\n}\n\n.xr-attrs dt {\n  font-weight: normal;\n  grid-column: 1;\n}\n\n.xr-attrs dt:hover span {\n  display: inline-block;\n  background: var(--xr-background-color);\n  padding-right: 10px;\n}\n\n.xr-attrs dd {\n  grid-column: 2;\n  white-space: pre-wrap;\n  word-break: break-all;\n}\n\n.xr-icon-database,\n.xr-icon-file-text2 {\n  display: inline-block;\n  vertical-align: middle;\n  width: 1em;\n  height: 1.5em !important;\n  stroke-width: 0;\n  stroke: currentColor;\n  fill: currentColor;\n}\n</style><div class='xr-wrap'><div class='xr-header'><div class='xr-obj-type'>xarray.DataArray</div><div class='xr-array-name'></div><ul class='xr-dim-list'><li><span class='xr-has-index'>selection</span>: 2</li><li><span class='xr-has-index'>Lz</span>: 100</li><li><span class='xr-has-index'>E</span>: 140</li></ul></div><ul class='xr-sections'><li class='xr-section-item'><div class='xr-array-wrap'><input id='section-9ca7c0f0-268a-4f89-b7d1-5c1e006e8842' class='xr-array-in' type='checkbox' ><label for='section-9ca7c0f0-268a-4f89-b7d1-5c1e006e8842' title='Show/hide data repr'><svg class='icon xr-icon-database'><use xlink:href='#icon-database'></use></svg></label><div class='xr-array-preview xr-preview'><span>0 0 0 0 0 0 0 0 0 0 0 0 0 0 0 0 0 ... 0 0 0 0 0 0 0 0 0 0 0 0 0 0 0 0</span></div><pre class='xr-array-data'>array([[[0, 0, 0, ..., 0, 0, 0],\n        [0, 0, 0, ..., 0, 0, 0],\n        [0, 0, 0, ..., 0, 0, 0],\n        ...,\n        [0, 0, 0, ..., 0, 0, 0],\n        [0, 0, 0, ..., 0, 0, 0],\n        [0, 0, 0, ..., 0, 0, 0]],\n\n       [[0, 0, 0, ..., 0, 0, 0],\n        [0, 0, 0, ..., 0, 0, 0],\n        [0, 0, 0, ..., 0, 0, 0],\n        ...,\n        [0, 0, 0, ..., 0, 0, 0],\n        [0, 0, 0, ..., 0, 0, 0],\n        [0, 0, 0, ..., 0, 0, 0]]])</pre></div></li><li class='xr-section-item'><input id='section-8c1babae-388a-48de-8207-f5952892d9db' class='xr-section-summary-in' type='checkbox'  checked><label for='section-8c1babae-388a-48de-8207-f5952892d9db' class='xr-section-summary' >Coordinates: <span>(3)</span></label><div class='xr-section-inline-details'></div><div class='xr-section-details'><ul class='xr-var-list'><li class='xr-var-item'><div class='xr-var-name'><span class='xr-has-index'>selection</span></div><div class='xr-var-dims'>(selection)</div><div class='xr-var-dtype'>object</div><div class='xr-var-preview xr-preview'>None &#x27;default&#x27;</div><input id='attrs-847b3d54-526f-4632-bede-79a7048199a2' class='xr-var-attrs-in' type='checkbox' disabled><label for='attrs-847b3d54-526f-4632-bede-79a7048199a2' title='Show/Hide attributes'><svg class='icon xr-icon-file-text2'><use xlink:href='#icon-file-text2'></use></svg></label><input id='data-93db0b4d-f85c-4b3f-83fc-328657d8b492' class='xr-var-data-in' type='checkbox'><label for='data-93db0b4d-f85c-4b3f-83fc-328657d8b492' title='Show/Hide data repr'><svg class='icon xr-icon-database'><use xlink:href='#icon-database'></use></svg></label><div class='xr-var-attrs'><dl class='xr-attrs'></dl></div><pre class='xr-var-data'>array([None, &#x27;default&#x27;], dtype=object)</pre></li><li class='xr-var-item'><div class='xr-var-name'><span class='xr-has-index'>Lz</span></div><div class='xr-var-dims'>(Lz)</div><div class='xr-var-dtype'>float64</div><div class='xr-var-preview xr-preview'>-2.877e+03 -2.83e+03 ... 1.761e+03</div><input id='attrs-3fe4dc78-4894-4584-a5d5-34c378314020' class='xr-var-attrs-in' type='checkbox' ><label for='attrs-3fe4dc78-4894-4584-a5d5-34c378314020' title='Show/Hide attributes'><svg class='icon xr-icon-file-text2'><use xlink:href='#icon-file-text2'></use></svg></label><input id='data-b27c400b-164c-42fb-81c1-10643f131f45' class='xr-var-data-in' type='checkbox'><label for='data-b27c400b-164c-42fb-81c1-10643f131f45' title='Show/Hide data repr'><svg class='icon xr-icon-database'><use xlink:href='#icon-database'></use></svg></label><div class='xr-var-attrs'><dl class='xr-attrs'><dt><span>min :</span></dt><dd>-2900.541259765625</dd><dt><span>max :</span></dt><dd>1784.0928955078125</dd></dl></div><pre class='xr-var-data'>array([-2877.118089, -2830.271747, -2783.425406, -2736.579064, -2689.732723,\n       -2642.886381, -2596.04004 , -2549.193698, -2502.347357, -2455.501015,\n       -2408.654673, -2361.808332, -2314.96199 , -2268.115649, -2221.269307,\n       -2174.422966, -2127.576624, -2080.730283, -2033.883941, -1987.037599,\n       -1940.191258, -1893.344916, -1846.498575, -1799.652233, -1752.805892,\n       -1705.95955 , -1659.113209, -1612.266867, -1565.420526, -1518.574184,\n       -1471.727842, -1424.881501, -1378.035159, -1331.188818, -1284.342476,\n       -1237.496135, -1190.649793, -1143.803452, -1096.95711 , -1050.110768,\n       -1003.264427,  -956.418085,  -909.571744,  -862.725402,  -815.879061,\n        -769.032719,  -722.186378,  -675.340036,  -628.493694,  -581.647353,\n        -534.801011,  -487.95467 ,  -441.108328,  -394.261987,  -347.415645,\n        -300.569304,  -253.722962,  -206.87662 ,  -160.030279,  -113.183937,\n         -66.337596,   -19.491254,    27.355087,    74.201429,   121.04777 ,\n         167.894112,   214.740453,   261.586795,   308.433137,   355.279478,\n         402.12582 ,   448.972161,   495.818503,   542.664844,   589.511186,\n         636.357527,   683.203869,   730.050211,   776.896552,   823.742894,\n         870.589235,   917.435577,   964.281918,  1011.12826 ,  1057.974601,\n        1104.820943,  1151.667285,  1198.513626,  1245.359968,  1292.206309,\n        1339.052651,  1385.898992,  1432.745334,  1479.591675,  1526.438017,\n        1573.284359,  1620.1307  ,  1666.977042,  1713.823383,  1760.669725])</pre></li><li class='xr-var-item'><div class='xr-var-name'><span class='xr-has-index'>E</span></div><div class='xr-var-dims'>(E)</div><div class='xr-var-dtype'>float64</div><div class='xr-var-preview xr-preview'>-2.414e+05 -2.394e+05 ... 3.495e+04</div><input id='attrs-f7204579-9131-49e7-8fc0-f75c66bb4ed5' class='xr-var-attrs-in' type='checkbox' ><label for='attrs-f7204579-9131-49e7-8fc0-f75c66bb4ed5' title='Show/Hide attributes'><svg class='icon xr-icon-file-text2'><use xlink:href='#icon-file-text2'></use></svg></label><input id='data-75a58ba8-372e-49b4-9a11-f9fd90ba0922' class='xr-var-data-in' type='checkbox'><label for='data-75a58ba8-372e-49b4-9a11-f9fd90ba0922' title='Show/Hide data repr'><svg class='icon xr-icon-database'><use xlink:href='#icon-database'></use></svg></label><div class='xr-var-attrs'><dl class='xr-attrs'><dt><span>min :</span></dt><dd>-242407.5</dd><dt><span>max :</span></dt><dd>35941.86328125</dd></dl></div><pre class='xr-var-data'>array([-241413.395131, -239425.185393, -237436.975656, -235448.765918,\n       -233460.55618 , -231472.346443, -229484.136705, -227495.926967,\n       -225507.717229, -223519.507492, -221531.297754, -219543.088016,\n       -217554.878278, -215566.668541, -213578.458803, -211590.249065,\n       -209602.039328, -207613.82959 , -205625.619852, -203637.410114,\n       -201649.200377, -199660.990639, -197672.780901, -195684.571164,\n       -193696.361426, -191708.151688, -189719.94195 , -187731.732213,\n       -185743.522475, -183755.312737, -181767.102999, -179778.893262,\n       -177790.683524, -175802.473786, -173814.264049, -171826.054311,\n       -169837.844573, -167849.634835, -165861.425098, -163873.21536 ,\n       -161885.005622, -159896.795884, -157908.586147, -155920.376409,\n       -153932.166671, -151943.956934, -149955.747196, -147967.537458,\n       -145979.32772 , -143991.117983, -142002.908245, -140014.698507,\n       -138026.48877 , -136038.279032, -134050.069294, -132061.859556,\n       -130073.649819, -128085.440081, -126097.230343, -124109.020605,\n       -122120.810868, -120132.60113 , -118144.391392, -116156.181655,\n       -114167.971917, -112179.762179, -110191.552441, -108203.342704,\n       -106215.132966, -104226.923228, -102238.713491, -100250.503753,\n        -98262.294015,  -96274.084277,  -94285.87454 ,  -92297.664802,\n        -90309.455064,  -88321.245326,  -86333.035589,  -84344.825851,\n        -82356.616113,  -80368.406376,  -78380.196638,  -76391.9869  ,\n        -74403.777162,  -72415.567425,  -70427.357687,  -68439.147949,\n        -66450.938211,  -64462.728474,  -62474.518736,  -60486.308998,\n        -58498.099261,  -56509.889523,  -54521.679785,  -52533.470047,\n        -50545.26031 ,  -48557.050572,  -46568.840834,  -44580.631097,\n        -42592.421359,  -40604.211621,  -38616.001883,  -36627.792146,\n        -34639.582408,  -32651.37267 ,  -30663.162932,  -28674.953195,\n        -26686.743457,  -24698.533719,  -22710.323982,  -20722.114244,\n        -18733.904506,  -16745.694768,  -14757.485031,  -12769.275293,\n        -10781.065555,   -8792.855818,   -6804.64608 ,   -4816.436342,\n         -2828.226604,    -840.016867,    1148.192871,    3136.402609,\n          5124.612347,    7112.822084,    9101.031822,   11089.24156 ,\n         13077.451297,   15065.661035,   17053.870773,   19042.080511,\n         21030.290248,   23018.499986,   25006.709724,   26994.919461,\n         28983.129199,   30971.338937,   32959.548675,   34947.758412])</pre></li></ul></div></li><li class='xr-section-item'><input id='section-894849e0-ef5c-4707-ac35-0570ebdfd618' class='xr-section-summary-in' type='checkbox' disabled ><label for='section-894849e0-ef5c-4707-ac35-0570ebdfd618' class='xr-section-summary'  title='Expand/collapse section'>Attributes: <span>(0)</span></label><div class='xr-section-inline-details'></div><div class='xr-section-details'><dl class='xr-attrs'></dl></div></li></ul></div></div>",
          "text/plain": "<xarray.DataArray (selection: 2, Lz: 100, E: 140)>\narray([[[0, 0, 0, ..., 0, 0, 0],\n        [0, 0, 0, ..., 0, 0, 0],\n        [0, 0, 0, ..., 0, 0, 0],\n        ...,\n        [0, 0, 0, ..., 0, 0, 0],\n        [0, 0, 0, ..., 0, 0, 0],\n        [0, 0, 0, ..., 0, 0, 0]],\n\n       [[0, 0, 0, ..., 0, 0, 0],\n        [0, 0, 0, ..., 0, 0, 0],\n        [0, 0, 0, ..., 0, 0, 0],\n        ...,\n        [0, 0, 0, ..., 0, 0, 0],\n        [0, 0, 0, ..., 0, 0, 0],\n        [0, 0, 0, ..., 0, 0, 0]]])\nCoordinates:\n  * selection  (selection) object None 'default'\n  * Lz         (Lz) float64 -2.877e+03 -2.83e+03 ... 1.714e+03 1.761e+03\n  * E          (E) float64 -2.414e+05 -2.394e+05 ... 3.296e+04 3.495e+04"
         },
         "metadata": {},
         "output_type": "display_data"
        }
       ]
      }
     },
     "3a86354946f043e581ada033c7869e83": {
      "model_module": "bqplot",
      "model_module_version": "^0.5.6",
      "model_name": "BrushSelectorModel",
      "state": {
       "color": "green",
       "x_scale": "IPY_MODEL_84726769586b4cf6892976f3511ab498",
       "y_scale": "IPY_MODEL_a11fbd3eaca8449f9adb9c023c26b43d"
      }
     },
     "3c9c081d6f9647be88e3812f043e83e4": {
      "model_module": "@jupyter-widgets/base",
      "model_module_version": "1.2.0",
      "model_name": "LayoutModel",
      "state": {}
     },
     "3e6c8e2a6ef24c27b3d6afd920478b90": {
      "model_module": "@jupyter-widgets/base",
      "model_module_version": "1.2.0",
      "model_name": "LayoutModel",
      "state": {}
     },
     "3f2acbc0afd94252a0eb96a9c2fd33af": {
      "model_module": "@jupyter-widgets/base",
      "model_module_version": "1.2.0",
      "model_name": "LayoutModel",
      "state": {}
     },
     "3f7cb5ab3878407cbaaec199725b2db2": {
      "model_module": "@jupyter-widgets/base",
      "model_module_version": "1.2.0",
      "model_name": "LayoutModel",
      "state": {}
     },
     "42b2793472e244719a5f46cf4e1e6312": {
      "model_module": "@jupyter-widgets/base",
      "model_module_version": "1.2.0",
      "model_name": "LayoutModel",
      "state": {}
     },
     "49ccb7f0a2b84760a66ffd74a8ad8f3a": {
      "model_module": "jupyter-vuetify",
      "model_module_version": "^1.4.0",
      "model_name": "ContainerModel",
      "state": {
       "_events": [],
       "_jupyter_vue": "IPY_MODEL_11b05c187dba4190adb54bdef0aca000",
       "attributes": {},
       "children": [
        "IPY_MODEL_8791f2d5990740069650b3a864daac93",
        "IPY_MODEL_06e1680c054641468824173358c738bc",
        "IPY_MODEL_bb9739c98bbc4661a7272f10cd78be02"
       ],
       "layout": "IPY_MODEL_3f7cb5ab3878407cbaaec199725b2db2",
       "v_slots": []
      }
     },
     "4aa18874125549e4aacdb561bd59713f": {
      "model_module": "jupyter-vuetify",
      "model_module_version": "^1.4.0",
      "model_name": "ContainerModel",
      "state": {
       "_events": [],
       "_jupyter_vue": "IPY_MODEL_11b05c187dba4190adb54bdef0aca000",
       "attributes": {},
       "children": [
        "IPY_MODEL_0672daed693a4d7a9a403f95e44dcd7c",
        "IPY_MODEL_179e076b82f548bd9a6604a64bd97807"
       ],
       "layout": "IPY_MODEL_53a490e46c1a490eb6cff959e5f8ce42",
       "v_slots": []
      }
     },
     "4ad6cb1f2025422997e7e2867337aa36": {
      "model_module": "@jupyter-widgets/base",
      "model_module_version": "1.2.0",
      "model_name": "LayoutModel",
      "state": {}
     },
     "4b13a8927f9b4b198bbcfb6bc70da791": {
      "model_module": "@jupyter-widgets/base",
      "model_module_version": "1.2.0",
      "model_name": "LayoutModel",
      "state": {}
     },
     "4b9fc3540bde4b57b52fb434e36059a0": {
      "model_module": "@jupyter-widgets/output",
      "model_module_version": "1.0.0",
      "model_name": "OutputModel",
      "state": {
       "layout": "IPY_MODEL_3f2acbc0afd94252a0eb96a9c2fd33af",
       "outputs": [
        {
         "data": {
          "text/html": "<div><svg style=\"position: absolute; width: 0; height: 0; overflow: hidden\">\n<defs>\n<symbol id=\"icon-database\" viewBox=\"0 0 32 32\">\n<title>Show/Hide data repr</title>\n<path d=\"M16 0c-8.837 0-16 2.239-16 5v4c0 2.761 7.163 5 16 5s16-2.239 16-5v-4c0-2.761-7.163-5-16-5z\"></path>\n<path d=\"M16 17c-8.837 0-16-2.239-16-5v6c0 2.761 7.163 5 16 5s16-2.239 16-5v-6c0 2.761-7.163 5-16 5z\"></path>\n<path d=\"M16 26c-8.837 0-16-2.239-16-5v6c0 2.761 7.163 5 16 5s16-2.239 16-5v-6c0 2.761-7.163 5-16 5z\"></path>\n</symbol>\n<symbol id=\"icon-file-text2\" viewBox=\"0 0 32 32\">\n<title>Show/Hide attributes</title>\n<path d=\"M28.681 7.159c-0.694-0.947-1.662-2.053-2.724-3.116s-2.169-2.030-3.116-2.724c-1.612-1.182-2.393-1.319-2.841-1.319h-15.5c-1.378 0-2.5 1.121-2.5 2.5v27c0 1.378 1.122 2.5 2.5 2.5h23c1.378 0 2.5-1.122 2.5-2.5v-19.5c0-0.448-0.137-1.23-1.319-2.841zM24.543 5.457c0.959 0.959 1.712 1.825 2.268 2.543h-4.811v-4.811c0.718 0.556 1.584 1.309 2.543 2.268zM28 29.5c0 0.271-0.229 0.5-0.5 0.5h-23c-0.271 0-0.5-0.229-0.5-0.5v-27c0-0.271 0.229-0.5 0.5-0.5 0 0 15.499-0 15.5 0v7c0 0.552 0.448 1 1 1h7v19.5z\"></path>\n<path d=\"M23 26h-14c-0.552 0-1-0.448-1-1s0.448-1 1-1h14c0.552 0 1 0.448 1 1s-0.448 1-1 1z\"></path>\n<path d=\"M23 22h-14c-0.552 0-1-0.448-1-1s0.448-1 1-1h14c0.552 0 1 0.448 1 1s-0.448 1-1 1z\"></path>\n<path d=\"M23 18h-14c-0.552 0-1-0.448-1-1s0.448-1 1-1h14c0.552 0 1 0.448 1 1s-0.448 1-1 1z\"></path>\n</symbol>\n</defs>\n</svg>\n<style>/* CSS stylesheet for displaying xarray objects in jupyterlab.\n *\n */\n\n:root {\n  --xr-font-color0: var(--jp-content-font-color0, rgba(0, 0, 0, 1));\n  --xr-font-color2: var(--jp-content-font-color2, rgba(0, 0, 0, 0.54));\n  --xr-font-color3: var(--jp-content-font-color3, rgba(0, 0, 0, 0.38));\n  --xr-border-color: var(--jp-border-color2, #e0e0e0);\n  --xr-disabled-color: var(--jp-layout-color3, #bdbdbd);\n  --xr-background-color: var(--jp-layout-color0, white);\n  --xr-background-color-row-even: var(--jp-layout-color1, white);\n  --xr-background-color-row-odd: var(--jp-layout-color2, #eeeeee);\n}\n\n.xr-wrap {\n  min-width: 300px;\n  max-width: 700px;\n}\n\n.xr-header {\n  padding-top: 6px;\n  padding-bottom: 6px;\n  margin-bottom: 4px;\n  border-bottom: solid 1px var(--xr-border-color);\n}\n\n.xr-header > div,\n.xr-header > ul {\n  display: inline;\n  margin-top: 0;\n  margin-bottom: 0;\n}\n\n.xr-obj-type,\n.xr-array-name {\n  margin-left: 2px;\n  margin-right: 10px;\n}\n\n.xr-obj-type {\n  color: var(--xr-font-color2);\n}\n\n.xr-sections {\n  padding-left: 0 !important;\n  display: grid;\n  grid-template-columns: 150px auto auto 1fr 20px 20px;\n}\n\n.xr-section-item {\n  display: contents;\n}\n\n.xr-section-item input {\n  display: none;\n}\n\n.xr-section-item input + label {\n  color: var(--xr-disabled-color);\n}\n\n.xr-section-item input:enabled + label {\n  cursor: pointer;\n  color: var(--xr-font-color2);\n}\n\n.xr-section-item input:enabled + label:hover {\n  color: var(--xr-font-color0);\n}\n\n.xr-section-summary {\n  grid-column: 1;\n  color: var(--xr-font-color2);\n  font-weight: 500;\n}\n\n.xr-section-summary > span {\n  display: inline-block;\n  padding-left: 0.5em;\n}\n\n.xr-section-summary-in:disabled + label {\n  color: var(--xr-font-color2);\n}\n\n.xr-section-summary-in + label:before {\n  display: inline-block;\n  content: '►';\n  font-size: 11px;\n  width: 15px;\n  text-align: center;\n}\n\n.xr-section-summary-in:disabled + label:before {\n  color: var(--xr-disabled-color);\n}\n\n.xr-section-summary-in:checked + label:before {\n  content: '▼';\n}\n\n.xr-section-summary-in:checked + label > span {\n  display: none;\n}\n\n.xr-section-summary,\n.xr-section-inline-details {\n  padding-top: 4px;\n  padding-bottom: 4px;\n}\n\n.xr-section-inline-details {\n  grid-column: 2 / -1;\n}\n\n.xr-section-details {\n  display: none;\n  grid-column: 1 / -1;\n  margin-bottom: 5px;\n}\n\n.xr-section-summary-in:checked ~ .xr-section-details {\n  display: contents;\n}\n\n.xr-array-wrap {\n  grid-column: 1 / -1;\n  display: grid;\n  grid-template-columns: 20px auto;\n}\n\n.xr-array-wrap > label {\n  grid-column: 1;\n  vertical-align: top;\n}\n\n.xr-preview {\n  color: var(--xr-font-color3);\n}\n\n.xr-array-preview,\n.xr-array-data {\n  padding: 0 5px !important;\n  grid-column: 2;\n}\n\n.xr-array-data,\n.xr-array-in:checked ~ .xr-array-preview {\n  display: none;\n}\n\n.xr-array-in:checked ~ .xr-array-data,\n.xr-array-preview {\n  display: inline-block;\n}\n\n.xr-dim-list {\n  display: inline-block !important;\n  list-style: none;\n  padding: 0 !important;\n  margin: 0;\n}\n\n.xr-dim-list li {\n  display: inline-block;\n  padding: 0;\n  margin: 0;\n}\n\n.xr-dim-list:before {\n  content: '(';\n}\n\n.xr-dim-list:after {\n  content: ')';\n}\n\n.xr-dim-list li:not(:last-child):after {\n  content: ',';\n  padding-right: 5px;\n}\n\n.xr-has-index {\n  font-weight: bold;\n}\n\n.xr-var-list,\n.xr-var-item {\n  display: contents;\n}\n\n.xr-var-item > div,\n.xr-var-item label,\n.xr-var-item > .xr-var-name span {\n  background-color: var(--xr-background-color-row-even);\n  margin-bottom: 0;\n}\n\n.xr-var-item > .xr-var-name:hover span {\n  padding-right: 5px;\n}\n\n.xr-var-list > li:nth-child(odd) > div,\n.xr-var-list > li:nth-child(odd) > label,\n.xr-var-list > li:nth-child(odd) > .xr-var-name span {\n  background-color: var(--xr-background-color-row-odd);\n}\n\n.xr-var-name {\n  grid-column: 1;\n}\n\n.xr-var-dims {\n  grid-column: 2;\n}\n\n.xr-var-dtype {\n  grid-column: 3;\n  text-align: right;\n  color: var(--xr-font-color2);\n}\n\n.xr-var-preview {\n  grid-column: 4;\n}\n\n.xr-var-name,\n.xr-var-dims,\n.xr-var-dtype,\n.xr-preview,\n.xr-attrs dt {\n  white-space: nowrap;\n  overflow: hidden;\n  text-overflow: ellipsis;\n  padding-right: 10px;\n}\n\n.xr-var-name:hover,\n.xr-var-dims:hover,\n.xr-var-dtype:hover,\n.xr-attrs dt:hover {\n  overflow: visible;\n  width: auto;\n  z-index: 1;\n}\n\n.xr-var-attrs,\n.xr-var-data {\n  display: none;\n  background-color: var(--xr-background-color) !important;\n  padding-bottom: 5px !important;\n}\n\n.xr-var-attrs-in:checked ~ .xr-var-attrs,\n.xr-var-data-in:checked ~ .xr-var-data {\n  display: block;\n}\n\n.xr-var-data > table {\n  float: right;\n}\n\n.xr-var-name span,\n.xr-var-data,\n.xr-attrs {\n  padding-left: 25px !important;\n}\n\n.xr-attrs,\n.xr-var-attrs,\n.xr-var-data {\n  grid-column: 1 / -1;\n}\n\ndl.xr-attrs {\n  padding: 0;\n  margin: 0;\n  display: grid;\n  grid-template-columns: 125px auto;\n}\n\n.xr-attrs dt, dd {\n  padding: 0;\n  margin: 0;\n  float: left;\n  padding-right: 10px;\n  width: auto;\n}\n\n.xr-attrs dt {\n  font-weight: normal;\n  grid-column: 1;\n}\n\n.xr-attrs dt:hover span {\n  display: inline-block;\n  background: var(--xr-background-color);\n  padding-right: 10px;\n}\n\n.xr-attrs dd {\n  grid-column: 2;\n  white-space: pre-wrap;\n  word-break: break-all;\n}\n\n.xr-icon-database,\n.xr-icon-file-text2 {\n  display: inline-block;\n  vertical-align: middle;\n  width: 1em;\n  height: 1.5em !important;\n  stroke-width: 0;\n  stroke: currentColor;\n  fill: currentColor;\n}\n</style><div class='xr-wrap'><div class='xr-header'><div class='xr-obj-type'>xarray.DataArray</div><div class='xr-array-name'></div><ul class='xr-dim-list'><li><span class='xr-has-index'>selection</span>: 2</li><li><span class='xr-has-index'>E</span>: 140</li><li><span class='xr-has-index'>Lz</span>: 100</li><li><span class='xr-has-index'>FeH</span>: 5</li></ul></div><ul class='xr-sections'><li class='xr-section-item'><div class='xr-array-wrap'><input id='section-1469b2f5-064f-41f6-893e-2b7795c5e14c' class='xr-array-in' type='checkbox' ><label for='section-1469b2f5-064f-41f6-893e-2b7795c5e14c' title='Show/hide data repr'><svg class='icon xr-icon-database'><use xlink:href='#icon-database'></use></svg></label><div class='xr-array-preview xr-preview'><span>0 0 0 0 0 0 0 0 0 0 0 0 0 0 0 0 0 ... 0 0 0 0 0 0 0 0 0 0 0 0 0 0 0 0</span></div><pre class='xr-array-data'>array([[[[0, 0, 0, 0, 0],\n         [0, 0, 0, 0, 0],\n         [0, 0, 0, 0, 0],\n         ...,\n         [0, 0, 0, 0, 0],\n         [0, 0, 0, 0, 0],\n         [0, 0, 0, 0, 0]],\n\n        [[0, 0, 0, 0, 0],\n         [0, 0, 0, 0, 0],\n         [0, 0, 0, 0, 0],\n         ...,\n         [0, 0, 0, 0, 0],\n         [0, 0, 0, 0, 0],\n         [0, 0, 0, 0, 0]],\n\n        [[0, 0, 0, 0, 0],\n         [0, 0, 0, 0, 0],\n         [0, 0, 0, 0, 0],\n         ...,\n         [0, 0, 0, 0, 0],\n         [0, 0, 0, 0, 0],\n         [0, 0, 0, 0, 0]],\n\n        ...,\n\n        [[0, 0, 0, 0, 0],\n         [0, 0, 0, 0, 0],\n         [0, 0, 0, 0, 0],\n         ...,\n         [0, 0, 0, 0, 0],\n         [0, 0, 0, 0, 0],\n         [0, 0, 0, 0, 0]],\n\n        [[0, 0, 0, 0, 0],\n         [0, 0, 0, 0, 0],\n         [0, 0, 0, 0, 0],\n         ...,\n         [0, 0, 0, 0, 0],\n         [0, 0, 0, 0, 0],\n         [0, 0, 0, 0, 0]],\n\n        [[0, 0, 0, 0, 0],\n         [0, 0, 0, 0, 0],\n         [0, 0, 0, 0, 0],\n         ...,\n         [0, 0, 0, 0, 0],\n         [0, 0, 0, 0, 0],\n         [0, 0, 0, 0, 0]]],\n\n\n       [[[0, 0, 0, 0, 0],\n         [0, 0, 0, 0, 0],\n         [0, 0, 0, 0, 0],\n         ...,\n         [0, 0, 0, 0, 0],\n         [0, 0, 0, 0, 0],\n         [0, 0, 0, 0, 0]],\n\n        [[0, 0, 0, 0, 0],\n         [0, 0, 0, 0, 0],\n         [0, 0, 0, 0, 0],\n         ...,\n         [0, 0, 0, 0, 0],\n         [0, 0, 0, 0, 0],\n         [0, 0, 0, 0, 0]],\n\n        [[0, 0, 0, 0, 0],\n         [0, 0, 0, 0, 0],\n         [0, 0, 0, 0, 0],\n         ...,\n         [0, 0, 0, 0, 0],\n         [0, 0, 0, 0, 0],\n         [0, 0, 0, 0, 0]],\n\n        ...,\n\n        [[0, 0, 0, 0, 0],\n         [0, 0, 0, 0, 0],\n         [0, 0, 0, 0, 0],\n         ...,\n         [0, 0, 0, 0, 0],\n         [0, 0, 0, 0, 0],\n         [0, 0, 0, 0, 0]],\n\n        [[0, 0, 0, 0, 0],\n         [0, 0, 0, 0, 0],\n         [0, 0, 0, 0, 0],\n         ...,\n         [0, 0, 0, 0, 0],\n         [0, 0, 0, 0, 0],\n         [0, 0, 0, 0, 0]],\n\n        [[0, 0, 0, 0, 0],\n         [0, 0, 0, 0, 0],\n         [0, 0, 0, 0, 0],\n         ...,\n         [0, 0, 0, 0, 0],\n         [0, 0, 0, 0, 0],\n         [0, 0, 0, 0, 0]]]])</pre></div></li><li class='xr-section-item'><input id='section-1a3d5c0d-cbd7-46db-b4ab-1d0fa87987c0' class='xr-section-summary-in' type='checkbox'  checked><label for='section-1a3d5c0d-cbd7-46db-b4ab-1d0fa87987c0' class='xr-section-summary' >Coordinates: <span>(4)</span></label><div class='xr-section-inline-details'></div><div class='xr-section-details'><ul class='xr-var-list'><li class='xr-var-item'><div class='xr-var-name'><span class='xr-has-index'>selection</span></div><div class='xr-var-dims'>(selection)</div><div class='xr-var-dtype'>object</div><div class='xr-var-preview xr-preview'>None &#x27;default&#x27;</div><input id='attrs-b7772791-e321-4161-9db2-4c7da85df5ae' class='xr-var-attrs-in' type='checkbox' disabled><label for='attrs-b7772791-e321-4161-9db2-4c7da85df5ae' title='Show/Hide attributes'><svg class='icon xr-icon-file-text2'><use xlink:href='#icon-file-text2'></use></svg></label><input id='data-7d93e62e-9166-420c-83eb-c09c6a6d1c72' class='xr-var-data-in' type='checkbox'><label for='data-7d93e62e-9166-420c-83eb-c09c6a6d1c72' title='Show/Hide data repr'><svg class='icon xr-icon-database'><use xlink:href='#icon-database'></use></svg></label><div class='xr-var-attrs'><dl class='xr-attrs'></dl></div><pre class='xr-var-data'>array([None, &#x27;default&#x27;], dtype=object)</pre></li><li class='xr-var-item'><div class='xr-var-name'><span class='xr-has-index'>E</span></div><div class='xr-var-dims'>(E)</div><div class='xr-var-dtype'>float64</div><div class='xr-var-preview xr-preview'>-2.414e+05 -2.394e+05 ... 3.495e+04</div><input id='attrs-de12c85b-e94e-452b-8f77-e37be01f7428' class='xr-var-attrs-in' type='checkbox' ><label for='attrs-de12c85b-e94e-452b-8f77-e37be01f7428' title='Show/Hide attributes'><svg class='icon xr-icon-file-text2'><use xlink:href='#icon-file-text2'></use></svg></label><input id='data-0a5aff83-3c3d-4781-934b-2130187dca94' class='xr-var-data-in' type='checkbox'><label for='data-0a5aff83-3c3d-4781-934b-2130187dca94' title='Show/Hide data repr'><svg class='icon xr-icon-database'><use xlink:href='#icon-database'></use></svg></label><div class='xr-var-attrs'><dl class='xr-attrs'><dt><span>min :</span></dt><dd>-242407.5</dd><dt><span>max :</span></dt><dd>35941.86328125</dd></dl></div><pre class='xr-var-data'>array([-241413.395131, -239425.185393, -237436.975656, -235448.765918,\n       -233460.55618 , -231472.346443, -229484.136705, -227495.926967,\n       -225507.717229, -223519.507492, -221531.297754, -219543.088016,\n       -217554.878278, -215566.668541, -213578.458803, -211590.249065,\n       -209602.039328, -207613.82959 , -205625.619852, -203637.410114,\n       -201649.200377, -199660.990639, -197672.780901, -195684.571164,\n       -193696.361426, -191708.151688, -189719.94195 , -187731.732213,\n       -185743.522475, -183755.312737, -181767.102999, -179778.893262,\n       -177790.683524, -175802.473786, -173814.264049, -171826.054311,\n       -169837.844573, -167849.634835, -165861.425098, -163873.21536 ,\n       -161885.005622, -159896.795884, -157908.586147, -155920.376409,\n       -153932.166671, -151943.956934, -149955.747196, -147967.537458,\n       -145979.32772 , -143991.117983, -142002.908245, -140014.698507,\n       -138026.48877 , -136038.279032, -134050.069294, -132061.859556,\n       -130073.649819, -128085.440081, -126097.230343, -124109.020605,\n       -122120.810868, -120132.60113 , -118144.391392, -116156.181655,\n       -114167.971917, -112179.762179, -110191.552441, -108203.342704,\n       -106215.132966, -104226.923228, -102238.713491, -100250.503753,\n        -98262.294015,  -96274.084277,  -94285.87454 ,  -92297.664802,\n        -90309.455064,  -88321.245326,  -86333.035589,  -84344.825851,\n        -82356.616113,  -80368.406376,  -78380.196638,  -76391.9869  ,\n        -74403.777162,  -72415.567425,  -70427.357687,  -68439.147949,\n        -66450.938211,  -64462.728474,  -62474.518736,  -60486.308998,\n        -58498.099261,  -56509.889523,  -54521.679785,  -52533.470047,\n        -50545.26031 ,  -48557.050572,  -46568.840834,  -44580.631097,\n        -42592.421359,  -40604.211621,  -38616.001883,  -36627.792146,\n        -34639.582408,  -32651.37267 ,  -30663.162932,  -28674.953195,\n        -26686.743457,  -24698.533719,  -22710.323982,  -20722.114244,\n        -18733.904506,  -16745.694768,  -14757.485031,  -12769.275293,\n        -10781.065555,   -8792.855818,   -6804.64608 ,   -4816.436342,\n         -2828.226604,    -840.016867,    1148.192871,    3136.402609,\n          5124.612347,    7112.822084,    9101.031822,   11089.24156 ,\n         13077.451297,   15065.661035,   17053.870773,   19042.080511,\n         21030.290248,   23018.499986,   25006.709724,   26994.919461,\n         28983.129199,   30971.338937,   32959.548675,   34947.758412])</pre></li><li class='xr-var-item'><div class='xr-var-name'><span class='xr-has-index'>Lz</span></div><div class='xr-var-dims'>(Lz)</div><div class='xr-var-dtype'>float64</div><div class='xr-var-preview xr-preview'>-2.877e+03 -2.83e+03 ... 1.761e+03</div><input id='attrs-81b14e15-c9ba-4302-9617-e9b4f0ddb674' class='xr-var-attrs-in' type='checkbox' ><label for='attrs-81b14e15-c9ba-4302-9617-e9b4f0ddb674' title='Show/Hide attributes'><svg class='icon xr-icon-file-text2'><use xlink:href='#icon-file-text2'></use></svg></label><input id='data-774c6f18-4346-4ded-b52f-0076a176d5c4' class='xr-var-data-in' type='checkbox'><label for='data-774c6f18-4346-4ded-b52f-0076a176d5c4' title='Show/Hide data repr'><svg class='icon xr-icon-database'><use xlink:href='#icon-database'></use></svg></label><div class='xr-var-attrs'><dl class='xr-attrs'><dt><span>min :</span></dt><dd>-2900.541259765625</dd><dt><span>max :</span></dt><dd>1784.0928955078125</dd></dl></div><pre class='xr-var-data'>array([-2877.118089, -2830.271747, -2783.425406, -2736.579064, -2689.732723,\n       -2642.886381, -2596.04004 , -2549.193698, -2502.347357, -2455.501015,\n       -2408.654673, -2361.808332, -2314.96199 , -2268.115649, -2221.269307,\n       -2174.422966, -2127.576624, -2080.730283, -2033.883941, -1987.037599,\n       -1940.191258, -1893.344916, -1846.498575, -1799.652233, -1752.805892,\n       -1705.95955 , -1659.113209, -1612.266867, -1565.420526, -1518.574184,\n       -1471.727842, -1424.881501, -1378.035159, -1331.188818, -1284.342476,\n       -1237.496135, -1190.649793, -1143.803452, -1096.95711 , -1050.110768,\n       -1003.264427,  -956.418085,  -909.571744,  -862.725402,  -815.879061,\n        -769.032719,  -722.186378,  -675.340036,  -628.493694,  -581.647353,\n        -534.801011,  -487.95467 ,  -441.108328,  -394.261987,  -347.415645,\n        -300.569304,  -253.722962,  -206.87662 ,  -160.030279,  -113.183937,\n         -66.337596,   -19.491254,    27.355087,    74.201429,   121.04777 ,\n         167.894112,   214.740453,   261.586795,   308.433137,   355.279478,\n         402.12582 ,   448.972161,   495.818503,   542.664844,   589.511186,\n         636.357527,   683.203869,   730.050211,   776.896552,   823.742894,\n         870.589235,   917.435577,   964.281918,  1011.12826 ,  1057.974601,\n        1104.820943,  1151.667285,  1198.513626,  1245.359968,  1292.206309,\n        1339.052651,  1385.898992,  1432.745334,  1479.591675,  1526.438017,\n        1573.284359,  1620.1307  ,  1666.977042,  1713.823383,  1760.669725])</pre></li><li class='xr-var-item'><div class='xr-var-name'><span class='xr-has-index'>FeH</span></div><div class='xr-var-dims'>(FeH)</div><div class='xr-var-dtype'>float64</div><div class='xr-var-preview xr-preview'>-2.6 -1.8 -1.0 -0.2 0.6</div><input id='attrs-5c316726-2c52-443d-af8b-8b60a6dc1dae' class='xr-var-attrs-in' type='checkbox' ><label for='attrs-5c316726-2c52-443d-af8b-8b60a6dc1dae' title='Show/Hide attributes'><svg class='icon xr-icon-file-text2'><use xlink:href='#icon-file-text2'></use></svg></label><input id='data-de74848c-cc1e-403c-b7c3-b2467f812393' class='xr-var-data-in' type='checkbox'><label for='data-de74848c-cc1e-403c-b7c3-b2467f812393' title='Show/Hide data repr'><svg class='icon xr-icon-database'><use xlink:href='#icon-database'></use></svg></label><div class='xr-var-attrs'><dl class='xr-attrs'><dt><span>min :</span></dt><dd>-3.0</dd><dt><span>max :</span></dt><dd>1.0</dd></dl></div><pre class='xr-var-data'>array([-2.6, -1.8, -1. , -0.2,  0.6])</pre></li></ul></div></li><li class='xr-section-item'><input id='section-c1f19426-8d29-4123-8378-7f0bc27c4aed' class='xr-section-summary-in' type='checkbox' disabled ><label for='section-c1f19426-8d29-4123-8378-7f0bc27c4aed' class='xr-section-summary'  title='Expand/collapse section'>Attributes: <span>(0)</span></label><div class='xr-section-inline-details'></div><div class='xr-section-details'><dl class='xr-attrs'></dl></div></li></ul></div></div>",
          "text/plain": "<xarray.DataArray (selection: 2, E: 140, Lz: 100, FeH: 5)>\narray([[[[0, 0, 0, 0, 0],\n         [0, 0, 0, 0, 0],\n         [0, 0, 0, 0, 0],\n         ...,\n         [0, 0, 0, 0, 0],\n         [0, 0, 0, 0, 0],\n         [0, 0, 0, 0, 0]],\n\n        [[0, 0, 0, 0, 0],\n         [0, 0, 0, 0, 0],\n         [0, 0, 0, 0, 0],\n         ...,\n         [0, 0, 0, 0, 0],\n         [0, 0, 0, 0, 0],\n         [0, 0, 0, 0, 0]],\n\n        [[0, 0, 0, 0, 0],\n         [0, 0, 0, 0, 0],\n         [0, 0, 0, 0, 0],\n         ...,\n         [0, 0, 0, 0, 0],\n         [0, 0, 0, 0, 0],\n         [0, 0, 0, 0, 0]],\n\n        ...,\n\n        [[0, 0, 0, 0, 0],\n         [0, 0, 0, 0, 0],\n         [0, 0, 0, 0, 0],\n         ...,\n         [0, 0, 0, 0, 0],\n         [0, 0, 0, 0, 0],\n         [0, 0, 0, 0, 0]],\n\n        [[0, 0, 0, 0, 0],\n         [0, 0, 0, 0, 0],\n         [0, 0, 0, 0, 0],\n         ...,\n         [0, 0, 0, 0, 0],\n         [0, 0, 0, 0, 0],\n         [0, 0, 0, 0, 0]],\n\n        [[0, 0, 0, 0, 0],\n         [0, 0, 0, 0, 0],\n         [0, 0, 0, 0, 0],\n         ...,\n         [0, 0, 0, 0, 0],\n         [0, 0, 0, 0, 0],\n         [0, 0, 0, 0, 0]]],\n\n\n       [[[0, 0, 0, 0, 0],\n         [0, 0, 0, 0, 0],\n         [0, 0, 0, 0, 0],\n         ...,\n         [0, 0, 0, 0, 0],\n         [0, 0, 0, 0, 0],\n         [0, 0, 0, 0, 0]],\n\n        [[0, 0, 0, 0, 0],\n         [0, 0, 0, 0, 0],\n         [0, 0, 0, 0, 0],\n         ...,\n         [0, 0, 0, 0, 0],\n         [0, 0, 0, 0, 0],\n         [0, 0, 0, 0, 0]],\n\n        [[0, 0, 0, 0, 0],\n         [0, 0, 0, 0, 0],\n         [0, 0, 0, 0, 0],\n         ...,\n         [0, 0, 0, 0, 0],\n         [0, 0, 0, 0, 0],\n         [0, 0, 0, 0, 0]],\n\n        ...,\n\n        [[0, 0, 0, 0, 0],\n         [0, 0, 0, 0, 0],\n         [0, 0, 0, 0, 0],\n         ...,\n         [0, 0, 0, 0, 0],\n         [0, 0, 0, 0, 0],\n         [0, 0, 0, 0, 0]],\n\n        [[0, 0, 0, 0, 0],\n         [0, 0, 0, 0, 0],\n         [0, 0, 0, 0, 0],\n         ...,\n         [0, 0, 0, 0, 0],\n         [0, 0, 0, 0, 0],\n         [0, 0, 0, 0, 0]],\n\n        [[0, 0, 0, 0, 0],\n         [0, 0, 0, 0, 0],\n         [0, 0, 0, 0, 0],\n         ...,\n         [0, 0, 0, 0, 0],\n         [0, 0, 0, 0, 0],\n         [0, 0, 0, 0, 0]]]])\nCoordinates:\n  * selection  (selection) object None 'default'\n  * E          (E) float64 -2.414e+05 -2.394e+05 ... 3.296e+04 3.495e+04\n  * Lz         (Lz) float64 -2.877e+03 -2.83e+03 ... 1.714e+03 1.761e+03\n  * FeH        (FeH) float64 -2.6 -1.8 -1.0 -0.2 0.6"
         },
         "metadata": {},
         "output_type": "display_data"
        }
       ]
      }
     },
     "4f6d929ad29b4b2c8bdc5a2314ac9da6": {
      "model_module": "@jupyter-widgets/base",
      "model_module_version": "1.2.0",
      "model_name": "LayoutModel",
      "state": {}
     },
     "511dc05338014fd5a0601f3a76132069": {
      "model_module": "@jupyter-widgets/base",
      "model_module_version": "1.2.0",
      "model_name": "LayoutModel",
      "state": {}
     },
     "52d3c1ca80854a6794601226fdef2094": {
      "model_module": "jupyter-vuetify",
      "model_module_version": "^1.4.0",
      "model_name": "ContainerModel",
      "state": {
       "_events": [],
       "_jupyter_vue": "IPY_MODEL_11b05c187dba4190adb54bdef0aca000",
       "attributes": {},
       "children": [
        "IPY_MODEL_dd872f273ee0451bbc533d3b82e81078",
        "IPY_MODEL_4aa18874125549e4aacdb561bd59713f",
        "IPY_MODEL_ab11a566ca524a99801b1e3cb7c2acb6",
        "IPY_MODEL_fe186e997a1c40a194f512e0ce5022c4"
       ],
       "layout": "IPY_MODEL_7ae6a8c885414a6a9ce8ba47ec1960b3",
       "v_slots": []
      }
     },
     "53a490e46c1a490eb6cff959e5f8ce42": {
      "model_module": "@jupyter-widgets/base",
      "model_module_version": "1.2.0",
      "model_name": "LayoutModel",
      "state": {}
     },
     "55340708a0c54149a905bba1dfd77312": {
      "model_module": "@jupyter-widgets/base",
      "model_module_version": "1.2.0",
      "model_name": "LayoutModel",
      "state": {}
     },
     "5551bd162acc4d6c9aa9d9f6ed8cc48b": {
      "model_module": "@jupyter-widgets/base",
      "model_module_version": "1.2.0",
      "model_name": "LayoutModel",
      "state": {}
     },
     "5588c7e344b6494ea503327922a33360": {
      "model_module": "jupyter-vuetify",
      "model_module_version": "^1.4.0",
      "model_name": "TextFieldModel",
      "state": {
       "_events": [],
       "_jupyter_vue": "IPY_MODEL_11b05c187dba4190adb54bdef0aca000",
       "attributes": {},
       "children": [],
       "counter": null,
       "error_count": null,
       "error_messages": null,
       "height": null,
       "hide_details": null,
       "label": "X axis",
       "layout": "IPY_MODEL_55340708a0c54149a905bba1dfd77312",
       "loader_height": null,
       "loading": null,
       "messages": null,
       "placeholder": "Enter a custom expression",
       "prepend_icon": "functions",
       "rules": [],
       "success_messages": null,
       "v_model": "vx",
       "v_slots": []
      }
     },
     "5a36fa6284be42e4818aee9f50099c32": {
      "model_module": "jupyter-vuetify",
      "model_module_version": "^1.4.0",
      "model_name": "ContainerModel",
      "state": {
       "_events": [],
       "_jupyter_vue": "IPY_MODEL_11b05c187dba4190adb54bdef0aca000",
       "attributes": {},
       "children": [
        "IPY_MODEL_ee77337f537e493fbfe4ddac04eae62f",
        "IPY_MODEL_da95a21e8e4a4b32ae0a34e19a4a3b4f"
       ],
       "layout": "IPY_MODEL_5d1621e3c35c4534ad332083dbced6f3",
       "v_slots": []
      }
     },
     "5c359e300b8c4c918f0836357352cb17": {
      "model_module": "@jupyter-widgets/base",
      "model_module_version": "1.2.0",
      "model_name": "LayoutModel",
      "state": {}
     },
     "5cdb52ea0f5347d1926c066085a8beb1": {
      "model_module": "jupyter-vuetify",
      "model_module_version": "^1.4.0",
      "model_name": "VuetifyTemplateModel",
      "state": {
       "_component_instances": [],
       "_jupyter_vue": "IPY_MODEL_11b05c187dba4190adb54bdef0aca000",
       "_model_module_version": "^1.4.0",
       "_view_module_version": "^1.4.0",
       "components": null,
       "events": [],
       "layout": "IPY_MODEL_9bfa7f353c774f1084c936a77120ad12",
       "template": "\n          <v-slide-y-transition leave-absolute>\n              <span :key=\"value\" v-html='value'></span>\n          </v-slide-y-transition>\n      ",
       "value": "Ready"
      }
     },
     "5d1621e3c35c4534ad332083dbced6f3": {
      "model_module": "@jupyter-widgets/base",
      "model_module_version": "1.2.0",
      "model_name": "LayoutModel",
      "state": {}
     },
     "5d1a113baa734b06acd7dd9fd061ee85": {
      "model_module": "@jupyter-widgets/base",
      "model_module_version": "1.2.0",
      "model_name": "LayoutModel",
      "state": {}
     },
     "5deb05be20074f6d9088ef54d4ca0c34": {
      "model_module": "@jupyter-widgets/base",
      "model_module_version": "1.2.0",
      "model_name": "LayoutModel",
      "state": {}
     },
     "5e93ce938e694817b7b561273967b865": {
      "model_module": "jupyter-vuetify",
      "model_module_version": "^1.4.0",
      "model_name": "VuetifyTemplateModel",
      "state": {
       "_component_instances": [],
       "_jupyter_vue": "IPY_MODEL_11b05c187dba4190adb54bdef0aca000",
       "_model_module_version": "^1.4.0",
       "_view_module_version": "^1.4.0",
       "color": "#9ECBF5",
       "components": null,
       "events": [],
       "hidden": true,
       "layout": "IPY_MODEL_f81a83992a004c77a124608238820d9e",
       "parts": [],
       "size": 30,
       "template": "\n        <v-progress-circular v-if=\"!hidden\" :key=\"value\" :size=\"size\" :width=\"width\" :value=\"value\" :color=\"color\">{{ text }}</v-progress-circular>\n        <v-progress-circular v-else style=\"visibility: hidden\" :key=\"value\" :size=\"size\" :width=\"width\" :value=\"value\" :color=\"color\">{{ text }}</v-progress-circular>\n      ",
       "text": "",
       "value": 100,
       "width": 5
      }
     },
     "5ef186643aa04c49a0e618b7e9df35f1": {
      "model_module": "@jupyter-widgets/base",
      "model_module_version": "1.2.0",
      "model_name": "LayoutModel",
      "state": {}
     },
     "64fb20346351438bb261ba50e2ec3293": {
      "model_module": "jupyter-vuetify",
      "model_module_version": "^1.4.0",
      "model_name": "VuetifyTemplateModel",
      "state": {
       "_component_instances": [],
       "_jupyter_vue": "IPY_MODEL_11b05c187dba4190adb54bdef0aca000",
       "_model_module_version": "^1.4.0",
       "_view_module_version": "^1.4.0",
       "color": "#9ECBF5",
       "components": null,
       "events": [],
       "hidden": true,
       "layout": "IPY_MODEL_4ad6cb1f2025422997e7e2867337aa36",
       "parts": [],
       "size": 30,
       "template": "\n        <v-progress-circular v-if=\"!hidden\" :key=\"value\" :size=\"size\" :width=\"width\" :value=\"value\" :color=\"color\">{{ text }}</v-progress-circular>\n        <v-progress-circular v-else style=\"visibility: hidden\" :key=\"value\" :size=\"size\" :width=\"width\" :value=\"value\" :color=\"color\">{{ text }}</v-progress-circular>\n      ",
       "text": "",
       "value": 100,
       "width": 5
      }
     },
     "672223ff88514f32b28d963eb18d0527": {
      "model_module": "jupyter-vuetify",
      "model_module_version": "^1.4.0",
      "model_name": "VuetifyTemplateModel",
      "state": {
       "_component_instances": [],
       "_jupyter_vue": "IPY_MODEL_11b05c187dba4190adb54bdef0aca000",
       "_model_module_version": "^1.4.0",
       "_view_module_version": "^1.4.0",
       "components": null,
       "events": [],
       "layout": "IPY_MODEL_f849ac1cca8646bdb6cb710d1bca0b21",
       "template": "\n          <v-slide-y-transition leave-absolute>\n              <span :key=\"value\" v-html='value'></span>\n          </v-slide-y-transition>\n      ",
       "value": "Ready"
      }
     },
     "67c1425166534f689983b5c395946deb": {
      "model_module": "jupyter-vuetify",
      "model_module_version": "^1.4.0",
      "model_name": "ContainerModel",
      "state": {
       "_events": [],
       "_jupyter_vue": "IPY_MODEL_11b05c187dba4190adb54bdef0aca000",
       "attributes": {},
       "children": [
        "IPY_MODEL_e7c2486f7d6e4559bfaffac6a368d96e",
        "IPY_MODEL_10b8af639a1c49efad58169cce8f7a1f"
       ],
       "layout": "IPY_MODEL_be48ffa4f1704f4da46c5be9e38e327b",
       "v_slots": []
      }
     },
     "69bbc32905724cc794281c057d418776": {
      "model_module": "@jupyter-widgets/output",
      "model_module_version": "1.0.0",
      "model_name": "OutputModel",
      "state": {
       "layout": "IPY_MODEL_ef46a79fc2674ad9a714f64dccc50581",
       "outputs": [
        {
         "name": "stdout",
         "output_type": "stream",
         "text": "imshow of a numpy array of shape: (100, 140)\n"
        },
        {
         "data": {
          "image/png": "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\n",
          "text/plain": "<Figure size 576x576 with 1 Axes>"
         },
         "metadata": {
          "needs_background": "light"
         },
         "output_type": "display_data"
        }
       ]
      }
     },
     "6a81491a1e4b4ec88cc9463cb670fec5": {
      "model_module": "@jupyter-widgets/base",
      "model_module_version": "1.2.0",
      "model_name": "LayoutModel",
      "state": {}
     },
     "6a93f15fd96740a797bbcb8857029503": {
      "model_module": "@jupyter-widgets/output",
      "model_module_version": "1.0.0",
      "model_name": "OutputModel",
      "state": {
       "layout": "IPY_MODEL_5ef186643aa04c49a0e618b7e9df35f1"
      }
     },
     "6c11e22d4158493fb1c377b38e060ae3": {
      "model_module": "@jupyter-widgets/controls",
      "model_module_version": "1.5.0",
      "model_name": "ImageModel",
      "state": {
       "layout": "IPY_MODEL_4b13a8927f9b4b198bbcfb6bc70da791"
      }
     },
     "6ca7bfd349c440e3a48bf8fcfa0e7d32": {
      "model_module": "@jupyter-widgets/base",
      "model_module_version": "1.2.0",
      "model_name": "LayoutModel",
      "state": {}
     },
     "6f8357125adf4962a7699935b3f649bb": {
      "model_module": "@jupyter-widgets/base",
      "model_module_version": "1.2.0",
      "model_name": "LayoutModel",
      "state": {}
     },
     "6fe2db1f174844988c7006eb04cb15db": {
      "model_module": "@jupyter-widgets/output",
      "model_module_version": "1.0.0",
      "model_name": "OutputModel",
      "state": {
       "layout": "IPY_MODEL_eca90532a34949a290cc1de6825f4882"
      }
     },
     "712267bcf0774274845e9da7e3b06fd8": {
      "model_module": "bqplot",
      "model_module_version": "^0.5.6",
      "model_name": "LinearScaleModel",
      "state": {
       "allow_padding": false,
       "max": 1,
       "min": 0,
       "stabilized": false
      }
     },
     "71f235bfe5c24775b4734718da369d23": {
      "model_module": "jupyter-vuetify",
      "model_module_version": "^1.4.0",
      "model_name": "ContainerModel",
      "state": {
       "_events": [],
       "_jupyter_vue": "IPY_MODEL_11b05c187dba4190adb54bdef0aca000",
       "attributes": {},
       "children": [
        "IPY_MODEL_64fb20346351438bb261ba50e2ec3293",
        "IPY_MODEL_db5b6859040f4622a6c9f77247053711"
       ],
       "layout": "IPY_MODEL_288483b4c04c4cd1b79d2d62147e588d",
       "v_slots": []
      }
     },
     "7252c48da1fa4116bba7f4259b2ceb16": {
      "model_module": "jupyter-vuetify",
      "model_module_version": "^1.4.0",
      "model_name": "ContainerModel",
      "state": {
       "_events": [],
       "_jupyter_vue": "IPY_MODEL_11b05c187dba4190adb54bdef0aca000",
       "attributes": {},
       "children": [
        "IPY_MODEL_c2e198caeacf4b38b190d87397cec300",
        "IPY_MODEL_8f3838ae9f60416ca00ad170482df835",
        "IPY_MODEL_b408d83248fe438cb82251627daba8aa"
       ],
       "layout": "IPY_MODEL_5deb05be20074f6d9088ef54d4ca0c34",
       "v_slots": []
      }
     },
     "7701f7c42b524c83bc3a07568f1bdabe": {
      "model_module": "@jupyter-widgets/base",
      "model_module_version": "1.2.0",
      "model_name": "LayoutModel",
      "state": {}
     },
     "7818954933cd4868a1fb8f8bd847a534": {
      "model_module": "@jupyter-widgets/base",
      "model_module_version": "1.2.0",
      "model_name": "LayoutModel",
      "state": {}
     },
     "7a9a4f8c06f44e49982b5763cf97a6eb": {
      "model_module": "@jupyter-widgets/output",
      "model_module_version": "1.0.0",
      "model_name": "OutputModel",
      "state": {
       "layout": "IPY_MODEL_9a7c820d92de4b4e974a7ae62283766c",
       "outputs": [
        {
         "data": {
          "image/png": "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\n",
          "text/plain": "<Figure size 432x288 with 3 Axes>"
         },
         "metadata": {
          "needs_background": "light"
         },
         "output_type": "display_data"
        }
       ]
      }
     },
     "7ad2a5b3e34845eabddd3c2e9678a033": {
      "model_module": "@jupyter-widgets/base",
      "model_module_version": "1.2.0",
      "model_name": "LayoutModel",
      "state": {}
     },
     "7ae6a8c885414a6a9ce8ba47ec1960b3": {
      "model_module": "@jupyter-widgets/base",
      "model_module_version": "1.2.0",
      "model_name": "LayoutModel",
      "state": {}
     },
     "7d8fef2c25c846c49122557ac2a89bcc": {
      "model_module": "@jupyter-widgets/base",
      "model_module_version": "1.2.0",
      "model_name": "LayoutModel",
      "state": {}
     },
     "84726769586b4cf6892976f3511ab498": {
      "model_module": "bqplot",
      "model_module_version": "^0.5.6",
      "model_name": "LinearScaleModel",
      "state": {
       "allow_padding": false,
       "max": 4.231204509735107,
       "min": -11.046575546264648,
       "stabilized": false
      }
     },
     "860724ee3cec42629c368843c76754ef": {
      "model_module": "bqplot",
      "model_module_version": "^0.5.6",
      "model_name": "BrushIntervalSelectorModel",
      "state": {
       "color": "green",
       "scale": "IPY_MODEL_84726769586b4cf6892976f3511ab498"
      }
     },
     "8791f2d5990740069650b3a864daac93": {
      "model_module": "jupyter-vuetify",
      "model_module_version": "^1.4.0",
      "model_name": "ContainerModel",
      "state": {
       "_events": [],
       "_jupyter_vue": "IPY_MODEL_11b05c187dba4190adb54bdef0aca000",
       "attributes": {},
       "children": [
        "IPY_MODEL_90e6336e16a14f0f9492a231ee444f1d",
        "IPY_MODEL_baa8cc26e7a04657a5a5d33b420bddf4"
       ],
       "layout": "IPY_MODEL_5d1a113baa734b06acd7dd9fd061ee85",
       "v_slots": []
      }
     },
     "8b3e49e53baa474388e2b4e8c5bedeae": {
      "model_module": "@jupyter-widgets/base",
      "model_module_version": "1.2.0",
      "model_name": "LayoutModel",
      "state": {}
     },
     "8c278835803b4370b98d088549923396": {
      "model_module": "jupyter-vuetify",
      "model_module_version": "^1.4.0",
      "model_name": "ContainerModel",
      "state": {
       "_events": [],
       "_jupyter_vue": "IPY_MODEL_11b05c187dba4190adb54bdef0aca000",
       "attributes": {},
       "children": [
        "IPY_MODEL_f2b092ac8a7c4a8d9245fd1286efad18",
        "IPY_MODEL_672223ff88514f32b28d963eb18d0527"
       ],
       "layout": "IPY_MODEL_9367557b777443f1ad323d67b2f83b25",
       "v_slots": []
      }
     },
     "8ca70cdca425435587f067698051990b": {
      "model_module": "@jupyter-widgets/base",
      "model_module_version": "1.2.0",
      "model_name": "LayoutModel",
      "state": {}
     },
     "8ce6e6785e17426cabba934328d918ac": {
      "model_module": "@jupyter-widgets/base",
      "model_module_version": "1.2.0",
      "model_name": "LayoutModel",
      "state": {}
     },
     "8dd40e9de1924f77907acbf7f6ad62a9": {
      "model_module": "jupyter-vuetify",
      "model_module_version": "^1.4.0",
      "model_name": "TextFieldModel",
      "state": {
       "_events": [],
       "_jupyter_vue": "IPY_MODEL_11b05c187dba4190adb54bdef0aca000",
       "attributes": {},
       "children": [],
       "counter": null,
       "error_count": null,
       "error_messages": null,
       "height": null,
       "hide_details": null,
       "label": "X axis",
       "layout": "IPY_MODEL_1fdbe7bc5e714295827e484bfa7ca663",
       "loader_height": null,
       "loading": null,
       "messages": null,
       "placeholder": "Enter a custom expression",
       "prepend_icon": "functions",
       "rules": [],
       "success_messages": null,
       "v_model": "log((x ** 2))",
       "v_slots": []
      }
     },
     "8f3838ae9f60416ca00ad170482df835": {
      "model_module": "@jupyter-widgets/output",
      "model_module_version": "1.0.0",
      "model_name": "OutputModel",
      "state": {
       "layout": "IPY_MODEL_d8037e4d872b4761a299a7dcdd4aa0f0",
       "outputs": [
        {
         "data": {
          "image/png": "iVBORw0KGgoAAAANSUhEUgAAA/gAAAKACAYAAAAo3dOPAAAABHNCSVQICAgIfAhkiAAAAAlwSFlzAAALEgAACxIB0t1+/AAAADh0RVh0U29mdHdhcmUAbWF0cGxvdGxpYiB2ZXJzaW9uMy4xLjEsIGh0dHA6Ly9tYXRwbG90bGliLm9yZy8QZhcZAAAgAElEQVR4nOy9e3gkd3nn+32rqu+tVus2N41Gtsc3FGAmjI3xHHKAeAk4JycOISRsWCC7Scjm5Lb7ZDd72LNPQiDJE5JdSDYkEE5wEvaQdS6EY5aD4wUnkBBf8IWxscfBHuMZz80zGo1aUt+7qn7nj/dX1S1NazQXSd2Svp/n0aNSdVX1r7reLtX7e9/3+4oxBoQQQgghhBBCCNnYOL0eACGEEEIIIYQQQq4eOviEEEIIIYQQQsgmgA4+IYQQQgghhBCyCaCDTwghhBBCCCGEbALo4BNCCCGEEEIIIZsAOviEEEIIIYQQQsgmgA7+FkdEAhE51PFzzUW2vUZEnl6y7gMi8u9WeUzvEpGn7M+DIrJvme1ERH5dRJ4TkWdF5OdXcxykv+hTW71ZRB4SkcbFji0id4jIE3bcXxOR61dzHKR/2OB2eq2IPCIiz4vIn4tIcjXHQfqHPrVTEZH/KiJH7P//1yyz3WdE5Fsi8rSI3C0iidUcB+k/+sVeReSt1vaOiMj/eZHt3mjH+YyIfPVq35eQy8Xr9QBIz6kZY/b3ehBLeBHAG4wxsyJyJ4BPArity3Y/BmACwM3GmFBEtq3jGMn604+2eh7AzwP4gRW2+ziAu4wxz4rI/wHgP0Htl2w+NrKdfhjAR40x94jIJwD8ONR2yeajH+30TgA32J/boLbX7X//ZwD8C7v8ZwB+ArTTzU7P7VVEXAC/D+DNAE4AeFREPm+MObxkuyKAPwDwVmPMS3w2Jb2AEXxyASLiishvi8ijdhb9p9bz/Y0xDxpjZu2fDwPYvcymPw3gg8aY0O53dj3GR/qHPrDVs8aYRwG0VtoUQMEuDwI4taYDI33FRrBTEREA3w3gr+yqP8XKEwJkE9FrOwVwF4BPG+VhAEUR2bl0I2PMF+02BsDXsfwzAtnE9MBeXwvgiDHm28aYJoB7oDa7lB8F8NfGmJcAPpuS3sAIPsmIyCG7/KIx5m3QqM2cMeZWEUkB+EcR+Z9QJ2Vvx/YAsAPAf156UBF5F4B/3+X9jhhjfugyxvfjAO5b5rW9AH5ERN4GYBrAzxtjnr+MY5ONRb/b6sX4CQBfFJEagHkAr1ul45L+Y6Pa6QiAkjHGt3+fADC+Cscl/Uk/2uk4gOMdf0c2eLrbxjY1/90AfmGF45KNTz/Yazf77JZhciOAhIh8BcAAgN81xnx6xTMkZBWhg0+6pT19D4BXi0h0cxuEpsw9B+CFzu1F5APdDmqM+Qw0je6KEZE3QW/gr19mkxSAujHmFhH5QQB3A/iuq3lP0tf0ra1eAv8WwPcaYx4RkX8P4CNQp59sPjaqnUq3t13D9yO9pR/t9HJt8A8A/L0x5h+u8P3IxqEf7PVS7dMDcADAHQAyAB4SkYeNMc9d4vsQctXQwSfdEAA/Z4y5f9HKi4iaXHCAy5gVFZGfAfCT9s/vNcacEpFXA/gjAHcaY2aWeZsTAD5rlz8H4I8vdXxk09BzW72E448B2GeMecSu+nMAf3Op4yObgr63UwDnoCnRno3i7wZLSbYaPbVT6P/0iY5NlrVBEfkVAGMA1ruMgPQP62qvuHT7PAHgnDGmAqAiIn8PYB904oGQdYEOPunG/QB+WkT+1hjTEpEbAZy8nANczqyoMeb3ocIlAAAR2QPgrwG8e4UZz/8XWjN6N4A3gDfPrUhPbfUSmQUwKCI3Wnt+M4BnL/MYZGPT93ZqjDEi8ncAfghaW/peAPdezjHIhqfX//s/D+BnReQeaOrznDHmgvR8EfkJAG8BcEekwUO2JOtqrwAeBXCDiFxr3+ed0Hr7pdwL4GMi4gFIQm35o5czLkKuFjr4pBt/BOAaAE9Y4aVprK/Y0i9D60H/QN8evjHmFgAQkS8C+AkbkfpNAJ8RkX8LoAymPG9FemqrIrIDwGNQAb1QRP4NgCljzHynrYrITwL4rIiEUIf/X63XGElfsCHsFMB/AHCPiPwagG8A+NR6jZH0Bb3+3/9FaCT/CIAqgH8ZvbDETj8B4Bg09RlQQbMPruM4SX+wrvZqjPFF5GehEwsugLuNMc8AgIj8a7vNJ2y3nL8B8BSAEMAfGWOeXu64hKwFoiKkhBBCCCGEEEII2ciwTR4hhBBCCCGEELIJoINPCCGEEEIIIYRsAujgE0IIIYQQQgghmwA6+IQQQgghhBBCyCaAKvqXQVJSJo1cr4dBtiALmD1njBm7lG1pp6RX0E7JRuBy7BSgrZLeQDslG4XLtdV+5y1vypmZ88G6vufjTzXuN8a8dbWORwf/Mkgjh9vkjl4Pg2xBvmz+6tilbks7Jb2Cdko2ApdjpwBtlfQG2inZKFyurfY7M+cDfP3+Pev6nu7O50dX83hM0SeEEEIIIYQQQjYBjOATQgghhBBCCNnyGAAhwl4P46pgBJ8QQgghhBBCCNkEMIJPCCGEEEIIIYTAIDCM4BNCCCGEEEIIIaTH0MEnhBBCCCGEEEI2AUzRJ4QQQgghhBCy5VGRPdPrYVwVjOATQsgq4k1OwJuc6PUwCCGEEELIFoQRfEIIWUX8Y8d7PQRCCCGEEHKFsE0eIYQQQgghhBBCeg4j+IQQQgghhBBCtjwGBoFhDT4hhBBCCCGEEEJ6DB18QgghZAtCMUhCCCFk88EUfUIIIWQLQkFIQggh5ELYJo8QQgghhBBCCCE9hxF8QgghhBBCCCFbHgMgYASfEEIIIYQQQgghvYYRfEIIWQMiATPWORNCCCGEbBxYg08IIYQQQgghhJCes6Uj+CLyVgC/C8AF8EfGmN/s8ZAIIZsERu4JIYQQQjYWBkBgGMHfkIiIC+D3AdwJYArAPxeRqd6OihBCCCGEEEIIuTK2rIMP4LUAjhhjvm2MaQK4B8BdPR4TIWST4E1OxHX4hBBCCCGErAdbOUV/HEBnDu0JALct3UhE3gfgfQCQRnZ9RkbIZUI7JRsB2inZKNBWyUaAdkrI2hD2egBXyVaO4EuXdRcUXBhjPmmMucUYc0sCqXUYFiGXD+20//CPHWcd/hJop2SjQFslGwHaKSGkG1s5gn8CQGf+7G4Ap3o0FkLIJoNt8gghhBBCNhYGBsEGb5O3lR38RwHcICLXAjgJ4J0AfrS3QyKEbBbo2BNCCCGEkPVmyzr4xhhfRH4WwP3QNnl3G2Oe6fGwCCGEEEIIIYT0AgMEGzuAv3UdfAAwxnwRwBd7PQ5CyObD2addN8MnD/d4JIQsD0tJCCGEkM3FlnbwCSFkraBjTzYCdOwJIYSQNgZU0SeEEEIIIYQQQkgfQAefEEII2YJE6fmEEEII2TwwRZ8QQgghhBBCCIEggPR6EFcFI/iEEELIFiQsDvR6CIQQQghZZRjBJ4SQNYAq+qTfcUoLcKiiTwghhMQYACHb5BFCCFkKHXuyEaBjTwghhGwu6OATQgghhBBCCCEAa/AJIYRciLNvKk7TJ6QfYfSeEEII2Xwwgk8IIatI1HrMZ4o+IYQQQghZZ+jgE0LIKsKoKOl3PArrEUIIIV0xYIo+IYQQQgghhBBC+gBG8AkhZBWJoqMRjJKSfoM2SQghhCxPaBjBJ4QQYvGPHacDRQghhBBCegIj+IQQsgbQySf9jjc5QTslhBBCOmANPiGEEEIIIYQQQvoCRvAJIYSQLYqzbwoAELKtIyGEEAIDQbDBY+B08AkhZBWhyB7ZSNCxJ4QQQjYXG3t6ghBC+gBvcmJRb3E69WSj0Gm7hBBCCNn4MIJPCCGEEEIIIYRg47fJo4NPCCFXCSP2ZCNCuyWEEEI2H3TwCSFkDaDzRPqVznISQgghhLRhmzxCCCFdYW0z6Xe8yQk4+6ZiJX1CCCFktRCR7xGRnXb5BhH5QRHJ9npcWwFG8AkhhBBCCCGErCa/DeC1IlIE8DcAvgzgXwH4vp6OakUEgdnYMfC+c/BF5AMAfhLAtF31H40xX7SvvR/AjwMIAPy8MeZ+u/4AgD8BkAHwRQC/YIwxIpIC8GkABwDMAPgRY8xRu897Afwn+x6/Zoz50zU/OULImtKZetwtKhnmkrrdyZk4PdnZNwWntBDvt1ow/ZlcDr1Im/ePHQeOrdvbEUII2VqExpiGiLwdwF8YY94vIt/o9aC2An3n4Fs+aoz5z50rRGQKwDsBfAeAXQC+LCI3GmMCAB8H8D4AD0Md/LcCuA86GTBrjLleRN4J4MMAfkREhgH8CoBboKUWj4vI540xs+tzeoSQqyV2iMZH4nUz12cAABLsRqOo9VNhAvB1NZyW/vYzWRhP909PA2GyCAAoHBsHAKRKLaSOnNVtr9DhYp0z6UbnhFJEdWoHMKfG2ZzagfSpCgCgNZpB4lwNAFDflQMAZA+/HNuUNzlB+yKEENKvNEXkLgA/DeD9dp3bw/FcEgZAuMGr2PvVwe/GXQDuMcY0ALwoIkegaR9HARSMMQ8BgIh8GsAPQB38uwB8wO7/VwA+JiIC4C0AvmSMOW/3+RJ0UuC/r9/pENI7OmvDOx2EpTXj/eo8eJMTsWN/fioLP63rffWBUB8xCDIhAMCkQoiny5FmipMIEPp6825cA0gpofuN6jqvkoLcqp/FwPHdyL3cBACkjpy94DNZ6mTRsV89oiyM8MnDPR7J1RPbRS4JYABAO6OkPuxh7jq1Qa9qsDBRjPczN6QAAIVjOgFw/vW7kdy/CwCQnm7E/8Qvx97Cor4/jtFeCSGErBk/Dc2Wvt8Y8zURGQDwoR6PaUvQrw7+z4rIewA8BuAXbWR9HBqhjzhh17Xs8tL1sL+PA4AxxheROQAjneu77LMIEXkfNDsAaVAXgvQnF7PT+l23AQCyRzVq6JQWULYOgp8RNN6iD/iJikGyrI5w6KknnD12fNnJgF7iHzsOWAffbRp4GuREOaPjdhuCYFQdIscL4XgGAJDOqKMeBA4cR8+12fQQjuhya1AnloOSh+SsOvu1MYETqPNVHt+NzPQOABpJXXZsoOPUjZXup97kBBrXbwMAuLUAMzdp6kVu160AgLnrEnAbuq1xgJGnq+2dHzy0hiO/MjptILYLtB3s6k6dmTJuO8skSAkcX5dDFwjs5FUpqTaYWDCojqmdOs0E5q/dDQAo2O9DZ/kJDu6Hd3ImHkM8no4JE9pnd/i/n2wEaKeknzHGPCEiPwLgJhH5DgDfMsb8Za/HtRXoSf6BiHxZRJ7u8nMXNN1+L4D9AE4D+C/Rbl0OZS6y/kr3WbzSmE8aY24xxtySQOoiZ0VI76Cdko0A7ZRsFGirZCNAOyX9jIi8GsAzAP4QwIMAvioir+ntqC6NALKuP6tNTyL4xph/dinbicj/DeAL9s8TADrzh3cDOGXX7+6yvnOfEyLiARgEcN6uf+OSfb5yOedASF9zcD8AYPamDFwNWqN6q6b9NgtFhBoMhBEgVdLlub0Ct2FLo2xGe/VfH4Sxq9wGMPhiO7oKAE6luSYCdZeEjdiOnGyn6xef1pOdvq2IxrymP7cGgeaohkTrovN4rhfChDq/aYwgbOlJmkBvskaA1oBuaxxBY0i3DRNAZad+eNub+lmkjpztmkrOyOjFkUwazTdpZL5pMycqOxy4dX3dzwItW3JR3q2feZgAQr2sSM0CL9+mESuvBiSuvx2AZnQAQGa6Fb9X4lytJ2n+3WzAP3YcTlHtJXtaT9apNDFo0/Vfvi2L7Fn9ApZ3OshYudnQ/rf2s4KBE/r9m59MIF3SbaNsgPJrJlDeo/8SM2cF41/S74RTnALsd5XZJYQQQtaB3wPwHmPMwyLyBIDvB/BZLPbByBrQdyn6IrLTGHPa/vk2AE/b5c8D+DMR+QhUZO8GAF83xgQisiAirwPwCID3QA0q2ue9AB4C8EMA/taq698P4DdEZMhu9z1oiz8QsqGRTBpORR/qCy+5OPcqndX3bDazhEAr316u2hTgIGMQJu0sos1niVKFAd2nlddjRd1DCsfSaOUGAQD5k9vgPvC4vtc6OhD+sePxjSxKfS6+0EBtTJ3CSsuBEd3Cb+jAg0EfjqdOUjLtq0cPILATHMYzQEvX+RmDwanzAIDJwVk0A93mudeog59+ZAK7P6vnGXaMazPVj68VSSssNz+p10p8oKnmhNBr2180IQVBbJutHGDibQ28ml4vr6q/68UUxF4Qc0MK+Wu0VCU93WgPwE4SradYnTc5sShFHlC7ieyl+O1UXCLjtICGLceXwO5fA2rDasdDzzcQJHX5zK36IQ0dPIPbR04CAGpBEt98404AwMJTI7juz+372fenSB8hhJA1ZNAYE5VXizFmRkRyPR3RJWAM2+StBb8lIvuhj3FHAfwUABhjnhGRvwBwGIAP4Gesgj6gIg5/Am2Td5/9AYBPAfhvVpDvPFSFH8aY8yLyIQCP2u0+GAnuEbLRMbV6vJw6chZDSa0Zr+zQr7tbFwzY1li10XaNr9OQC4pX6mOII6pOE6hbwfrknP6evcnB4LfVi5q9IYV8/rZF++eXjG2tnIl2fbNOLKRKC3BrOtj8S8D8tVrgvLBHb9jNegL+mO5b910kczohEtoIvjQSkc8PJxSUShopHspUkfXUKR0a0BmT89tybSX/jvOLMhuclZyog/vRHFTnLHnfo8tvt8kwtXrsYI9CM07Ke9KoOnqN3DrQLCzex8+2nX7jqWMPABIIAhvZj2r0qzsB12ozpEpAeadOzDTzagtOYJDJHNB1SQfJFcQTV4tux/QmJ+Loev7QAuZvUUmYXf/jOKa/e/eibavbBQP2EK28Fzv7aS21x3wtjbmWnuNQsoqRrCryz4wOojWq6zsljBnNJ4QQska4IuIZY3wAjoj8MIBzvR7UVqDvHHxjzLsv8tqvA/j1LusfA/DKLuvrAN6xzLHuBnD3lY+UEEIIIYQQQkgXfgfAjdDg7CloF7Mf6+WALpVwDeri15O+c/AJIVdPlILrTE7EUeHQqulH6b8AYBwHvhXeDT0gsBo9UVTfbWjkHrBp0lF6tA3NexWtmwY03d9pajS/dINGpNPTI3G5QGs0g4RNoXdKC2sfHbXLwR0H4jZ3QVLDvH5WgLqNY6YDJGy6vpfT39VA4NjWeaFrgLP6gZzKDGIwqykNlYY9ViFAeY++nn9w5TEe/+WDAIDWzRpevn7nWdiPG0fe/Z0o/L1GWUc/cQkH2yRENlJ8aAaFSGH+mgE4rcUpcokFiVshNoba6fhi2mn8kT0jbLdNBNqR/yCt++ReNiiPJ+PX/be/DgBQeEzT28PiAHBsVU5vRRYp3B87jmzUAvL1u5Go6Zeuals4JqpAo6jn0Bxw4/OK6vJPvVDAS1m1rXI6hdCmorjZFiJd3c73Wtoa81Jg1J8QQshKGGM+1bF8Zy/HstWgg0/IJqbzATx97yPxclwfniggNa/rmnknTsEPbfFLkNS6aEBF50zSitRV1VFoOUDDOlaZs8D5m+0fdg5h+juzSC6ow5qZ9uHaiYfWHQfg2rHNvE8d3tyZIG7ld7V1695kW3gvca6G0iu1WDtyjPyBEHDsuaSDeL90Uk9WBuuoebZlYMODlHUyIJNq4dpBzYWu5/Vc/ykUZKYvVC/u5vwc/Y2DuOZ1LwEADgzr69sT85gL9DPyQwcndl6+w7WaRM5b3Csd7XIDYG2cuuh6h2iXWeQPLSBtr2GQ0c+/PJ6E40etENsifMYF/LxeL6ch8br4+Mn2esdq7/kZB6lZXU6XwniiKmXb9AFAyn4WZ/8ggw/dfG+8/uMn3gQAOPOpawEAg59+6CrO3o6no71iJH3hBCYeV3JO7bVRFIS2pZ4E7YmLhZSesLSAtC0juSZ3Hp6j9r3QSKNRtK0lO67hsiUDy7x2sfWEEEJIhIjcje6dywAAxph/uY7DuWQMgKA3jeZWDTr4hGxBIoeqWJpY1DM7qgWPVM2dFlAet2rzriBMWOcpuu91qPA3hoGEnSxIWEG/TidrfjKBwp2qmp6879HYiRj5pEaq5991e6z0j1sPYvRRPXB9l3pxbjNE6shZAJfmYERR4flXFOAE6hy18laIreygmVaHMGi6qIuedxDoiWXTTTh5Gzl1gMCq78++MIRDdkYjiuTX5tMIrDhhaoW67dZQgEagt93jNdX4PF0fxKmqFpu/8NJ23HB/ddn9VxNvciJ24mf3DXZEhe1YCyZWbjdeARLaz66i1018IGf7lYw9Yo1gFVrRd8vCiMxoEO3JqWjcANAoCDJnIzvV15oFoDHcrtGPIvxOez4nPr/qNqetXG+j+omKgWsnGPIfS+B3f0mbv3zwmntx996/BgD85ftvBAB8+PXfixvf9/WrOOvFEyvR99BpAbmX24r60ZjdDp1AP0r/sL9zp4Gj39C6/Zmbcpgo6LU5P5/FnlK7swCw+LPcSB0gOm03zCXhndRJt1gLA1i87sFVMMwNBrMsCCF9wBdW3oSsBXTwCSGEEEIIIYSsGsaYvxaRBICboIHxb1nBPbLG0MEnpAf0S3Rl0fs/eAhpG9FL28hsazQDx9fbRHhSULf94KOoYXNwcT2+Hy3bCGPo6g8AJKoGYbKd8hRF2+r7d+nvIUHLRo+DFDB/rUbz41Z9BnBfa9PXZQIZDeYjf7KF9ClVCo+ikP6x43H9dGb0QNxKbMQGKSs7HDgNPa/mkEGQs9HRjL5ZaARBSwceBhKVLsNpCbyvabRdTuvJbncF2cMnLvhscVCV4b2TM2jYtG9noImBRGPRZr5xcL6mheP5Z5LAg49deKxVIrjjQLx86jUp2MoAtAoGwbBmPCTz+tsEDlxbxiBi0KxqZLtpU8ETs2587aMSiNWI4K9EVC7gj49g8IjWmjcHE3Ct/kMrr9e1vNONW+e5daCqzSRinQmnXZIOAKgXrXp/Q885TAD1Md04e3QB4Zu0Nv9dH/45/Is7vwoAOJB9EQDw+lc9h/NdShuWKzW52Pc/fPIwkjm1neRcK47mD89p6kFlh4fWgM14DIG07f8SdRFIzRtkz+o5eP8wiDODmilSdAFAr223Fo7LdQ3ol3tV885b47aKjYyLRlE/F68aoD62a9G2ibKPwH7n3FrQN+ewnnSe61Y8f0JI7xGRVwP4KwDTUDH0p0Xk54wxT/R2ZCvBNnmEkCugXx+0YufJji81OYGourxx/TZ4tvY+SuGH4yB1XJ2J2ojE4nzV7fblVlvUzKsBraxN/b/zVixM6AN6fVi3DTJtobTWjiacpDo0vk0NdzyDlu1rHlQTqE7qculGD/mXdDLAu1Xr+UcfLcXOi/vA43GKdzSBUXhsIXa6S3tTCNJ6K6yMW6fepGFS1kmqCRIL7fMZ/qfFac7J+x5F53R05Dw5UYrwseMov0FTpndvP41XFXX2JGEbm5daWdRs2v/AaYPVIrijPbERtUhsDAlqtj2gPxgAOR15MttCytXxiPUdXTdE044raDkwLStoF7Rr2VOzOt7Ci7VVG/dKxN+dju9QEm0npmUnjNRRt5oLmbYjHOlM+BmgUbTXuNpuEZk/rgtz1wjGntRrPbtvEEPQ67rnfzbx0J+pA/7ANd8FAEhPN+AUm/F4orKSyFH3Ts7Ejn+nwGSn47V0sg1QW8paO4r2T953GE1b6tIcdOPykNwZ/XJkjy603/++R2MBRxzcH6etd05C9FO9fWeZQvT9jSal3GYYt7t0AoP8S1oiUx9LtbU7csl4XaJsv5UPHsJWDxf16/8bQsim5/cAvMcY87CIPAHg+wF8FsAbezqqDYiI3ATgzztWXQfgl40xv9Ntezr4hKwS3uQEvE+rQ/C5G+4DAHy+MoBf/d33AAC2fay7Kno/RVeWjsE/djx2WN1agLlr1d1PltWZ8KpA00YT/SxiJymqgw5cwM+269+tT4vGUCIWO0ta57meAMKcdXCrLoIgUv/Wx/NE0kdonX0IYkX/IBDM2VJib0Ed2vLuIhJvVmd/6Pmg/bD/wOMAVMwtEhobeaDjGtisAqfSjHuGJ84tdl4vJgDoTU7A7+hgEJE/qc5fqZFCwxZ+N+zt95uzO9F8TiPgxadLCJc9+sp4kxOLJi4iEbooM6IxEsa19E6h2b5eocSF7g2b2WBCB0FNl91ZD4k53ThR1u2K3w6QP6STFb2w3U71927vb1xZpAHhRzNV1m6Mo+r7gO0aYf+Yuz7SGgDOvdp2g5hp1/tLAKTtxEl6WrMxIscZUBvKHn4ZAFCd0rQBpzIQO59hbiT+x7vU0V96LuGTh9v20KHoH3XGyHbZz5mcQLKLjXaOMcLZNxXb63IR/PViOTX/KFKfKrXi65l5uT3J5mck/q66Nb3BZI8utCcr12rAhBBCVmLQGPOwXRZjzIyI5C66Rx9gAIR9JrJnjPkWgP0AICIugJMAPrfc9v01ekIIIYQQQgghGx1XRKI5bUdEfhjAuV4OaJNwB4AXjDHLNvNlBJ+QVeLZD27DU3v/AADg2MTYj7z45mUj9xH9ELm/GGFHhG+0o6c9ACTnHNSHbcTXlbgOOIqS+nkDp2kj/PkQxrUvzLb7d/u2Dty42udc39SBsT3QQ19/1zMOJKoJd41GnQGYZAixrdNaQ5FEuhtHqmdvcJGesTX4Ue1xLrlIWXtp2neItnL75UTUO69lHFHdNwXPqv+bL0zg3hu1JiHq4b7zH1u49r4HL/u9uhEWBzC/Ry+CVzdoFtop6gBgEgYmjMLWDsRGrUNHUCtriDts6pl7sx5SdozJEpAq6bYjT8zpdk8e7ml0dLnvTRRVd5rtuvzS3hS8uo6/PtzuFmA8XQ5SAKy9BFndxx8wcCtqN40hQdJmMKRmgVZOo8oJa/vpwR3xe7m1IM6iiKheMxCPq5NYxb4jbf9y6LbPcscJiwNxVHtpKU4v6fwMOksHIg2L1BLlf0Cj+p7NoohS9QHE3+kQV/9dIoQQctX8DoAbARwGcArAWwD8WC8HdKkEZtnufmvFqIh0ijB90hjzyWW2fSeA/36xg9HBJ2SVeMUvn8Xb//Cn9A/7oJnBiz0c0erSKVyXsA/ljesLcbo+4KA2ZgRLl8cAACAASURBVNPqo3LkssQp3RI4CDLWQQ+Blm1Dl5i3td1GxdAAwDgCY4/RcvT1MOEAnu5jjAHszdfN+AjtZIDEOederAfg+IhFyeZfoQJ5+ZfqK6Z4XzXWQQkfPBQ7G6OfOI7R1X+n9rmUFjD0LXXwZ2/KxKn50lHaL4PqMEWTJQAQNDxgwabj21r7wguC5EJ7m+LTc2sw8tVj6SRNet9U7MgWsQ21MXXK3bqdtEBsQgg9oLZLzzVZskKSGQOn1W4L6dukwvqYQc7W6UeTBfWhBBIV3T/3sh+LPlpJCYS5ZNy2sb4rhyCjEwBLyz+Axanyq5k2Hz55OC4biUpR1vsBoFs5UtilpKU1momvV9KKC4ZJJy51SR05226T9+Thtv33UbkTIYRsdYwxnwIAERkA8A5jTLnHQ+pnzhljbllpIxFJQrUM3n+x7ejgE3IRmnfeukigDND+2lEtaGIeKBxX963w7PyW6bccPZRnn1wsjBW8RuuUB6zwXn3IiUXNUrNALRE54O0ItrF3IT/TFkUzLuDZfwOejaL6WSfuW+4XgzgbIPAFnq3TD+bVKWiNtuBU9CIZx4knDkK3PSMb98xeo2sWOXThwf1rbhfnX68ifuf2A8E2q4afqSCdUmfeWE9WWl4ctW81vDha704n4oyHtE2eC722eJ5TaV5Ue6Af6axfd48dR9HaadmK8IWewE+37S0W5LOOfHKu3dXBbWinAQDwFgQNFaZvT5wIkJ7VRT/rtkXu5i6MPmcPv7zIOQUA7JuCU2xHsiOuxFF1OiY2lts/yNgbWBel9bWkm7J79Fk0RjNxB4T0dAOhqxNVUWZE+lQl1jEA2lkIzlpP1BFCCLkiROR6AJ8GsFv/lJMA3mWMeaG3I9vQ3AngCWPMmYttRAefEEIIIYQQQshq8ocAPmyMuRcAROT7AXwCwJt7OqoVMBAE/StT98+xQno+QAefkJgoolSd2oHpfTYSXACao7bS2IbrJBnG9eGQBKqNqBY0ia1IOzUaGCstjgI6+3chSLWlzD3NXEaYQlvN3L4socSRdqCd5h/1Lc9Mt3uZJ2dcNG29vfgOApu6j0wk0+/GdfnGMXAbi2upzk9lse1LOu61qiOPIozhk6sbVYxapJ25JYH6dj3f1A5Nd9hTnMNwWqPuWbeJpk15mG/ph3h6oYBqTe1UBEBTbde4mmEBtMskwiRw7tVZAEC6lEZmVNuVpayewEaLlkbjTXemv9ssjurONPLaEKDdFSKDuMwD6CglCQDH2mYU7Re/3YfeuIL8ETV0pyMaH0Wq/fGRWNG+bq+l2wzjdP3L/VxP/zvtFhFdN7cJBGltG1k4tqtrp4PovTrr1MPiwCKl/rWga1vAcS1lcWtB3Nbx/FQWw4erAIDyHr0IanftGv1ubQfJ5qKfOswQQq6I0ci5BwBjzOdF5IO9HNBGRkSy0MmRn1ppWzr4ZMvjLUndnZ900Ryy6d9ps7iAGQDKHjIvq1daOGaQmVYX0Ts5EzuLnQ8mnamo5eu1Brw+ZAXkPGDbQyUAm+NBden408eOL+rD3RzUiZPKDg9hol3yAGhdfiS859WA/MnFMlm1EQeDz+u1qOwSJO3MgJ8zMGU7S5C1Dr5jEI5aL6ziobrDbpvR9xw4EbYdhOLUJaefO/tW3nZpqnOnI3m1qfrBHQdw5lb9DGt7WkgNqnDb6IA6lFmvBcfOnJT9FEoN/fQrTXXwq/Vk3GowqLtAK+ppL2iM6H7+a/RYe8fOYVtaJw6qfhJPn9HZldbzen43fHxjP3irpoSOPwvEmgn1Mf2sKtvduJVjat7E9fbG0ZR9AMifsp9ZWjD0LVtP36G50Jk+HqWXeydnYtuL2un54yPtyYAVbMybnMD8LeMAgOqYg/J1avO5nXqtFqpJGNticmEyhYEJHUP23HgsSBdNMDgdNf7rUYIRfw/GR+ISlupYKn499CINj/Y9NzN9YZlDpx4IxfQ2Lxv5/kIIAQA0RSRpjKoq2frxDdG9NDT9F8E3xlQBjFzKtnTwyZam0xmrDeuXOUi2xbfEAGIj9I6Ndg4+1xYfKz49Fz8Yd7tjOfumULX1uOdfkYgdg0iRvPBiLVakT3VE+zYlDx5ClOOQnZyInZzqNfo7fe8j8aaddcTRdl41h/K4OrcSIM4AgCDu5w5bly8OAOvkIB2gaZXtgkwkoOaguk2jnPmTIVI2Ou0+8PhFT+FynKDOCGNcj3/Jey9P/D/HIK6nTzhB/Ho90Nv6XDONSlM/8YWKOvqB78IvW7G5BRfGZj44e8v4jh3qbO7NaxG+JwHONfMAgGPzQwgO60zMDX9kMx8228O3nXyJJqTynbXd4yMYtK87+6bateDLTNgsneQJiwOxU924flscQY8cda8aLBLeC+44EC8vracPiwOLJggjpX/PVRu4YddZTFf0us0lQswn9Iyagw6CpN5r5FrVbCi8WIOzVA9gDYm/B7lkrFPQGNTxJyomVszPH+m4L3ZkjMQ6BYQQQjYC70C7KRGg7dl/uEdj2VLQwSeEEEIIIYQQspqcAPBqq6If8Zsi8n4AL16sj3svMUA/1+BfEnTwyZYniqItXKMR38a2AIgCogM+ZE4jnpnTtr3WgkH6vMbrndJC16hs1Ae7siMZ1/TmT4Vxy6eojZZTWojThDdEztIq0Zlim7d1+53n36mA7kFfT+aScMdsK7eGtCsnHEHT9iOLtBGcZACx0enQd4CMHj20rfnq6QSCtE4q10ccFJ/TiGza1kQn73t02bGvVBcatzhDO4obZyMse9QV3sumNp86mEJ9l57L6K45bMtpWnYhoakhpWYax89rZoII0Gjo59Wa1zToxKyLjO1e0MoZyE7db2SggrGUHutMXf8PP18aw8tHNPVh9AnB3r/dpJH7ZVh0nl3aui2la3159BraqfBuRzp+/oi+Xt+Vi+vPMZqBW9P7hNPZG95+X1qjGaRn1ZJqIw4SC3o9585r1D6faqKQ0lR8P3Awn9MvR3NQULapSUPf0v2dSnORGv1aXNvObIZylK0z3YjvgW5TI/Wd2QrVqR3t8oVL+OwJIYT0JX8DjeB3pqjeDOAXAfwZ1lz5ZetCB59sSZyoj/toBudepQ/WzaJ1vzJ+O+V7PoHUOSuid6qdVh+l5i5yyg/uj9tPxe2ezvsIkrrs1cxixx5bx1m6GCt9Bp39zQcf1MXUXbdhfkI/60QZCD1bYx914fNCmMCm/mZbcc/3wLeicsUmmkl1fLx5N56EKbzYrvft5shfSV/y6tSOdru0y9w3eq9TP6xjab2ihskxVcPbninDt/n6L84NAwDOz2fhT6vD5JUdpM7rcYbP2NZ4WcHcjbqc31vCDSOajr87M4uKVTN8ZkZr7c8fLWL4m3r8oT9+cEtNQF0Jl2oXnTX40X0gmUvG945GMYGsdfDD4kC7HMBqBCTO1dqCfOlBpM7bCZu82nNpMIPrhrUcoNpKol7QSZxW2YXYshXHt5NfuSQi4brOfvKreV/qPFa6YznSJ0h1aQuYPHac9rbJuZJ7KSFkwzFijPnOzhUi8oQx5n/v1YAuBQNBENXqblDo4JMtSRQJqrzrdrSsY28G7CNl4MCb1ofl7Y+GyB8pLdrnAuyD98wrs2hpEC2utQdcjH1D1aA7xbcoDHV1pO99JK6R1h7weiOuD9sJloKDIKefcpgK4Noa9VxWL0y9kYiPFdYc1Efs/lbwK43uPbs710WTRMvZRZTFkT5ViXUGst0E1A7uj2uTLxBajIXf1CEbGKhhe0Yj7fOtFF48p5F9eUYNb+c3AmSPzl8wrkhpPbh9Ht81/hIAYG92Gg2rsv9ceXssomcOaa39dQ824D7Q1kUgV07nNfWPHY+zO9pK8iOx095J+foCsqcXC+P5x47Htld8eg6z+wYBAK1ZteHyTBbns+1jNatq604gsfp/omwzkNYwgn+xyQI6d4TXn5AtwZ90Wfen6z2IrQgdfEIIIYQQQgghq8khEXnD0nUAICIHjDEXVzYmVwwdfLKlKXzmISTLtwEAGraF28hXT8QptJ214CuRmQlRfEFTsaMa2qtti0aWJ4oAFbpEvE/9L1mUb9Qrl0y1sL2gUcqUZyOXYvDS7BAAoFJKxpHNqGc4lkQYu7XUi353RiM7lyP1bwBo5jXK2nzlIGZ/SKPpjR1qK17OR3hOo+ZutYixQ6oJUXzoJHxrPzee1Gjo2TdP4Js7h+15G+y0LRqT9z3YHmuXz0rsytp0Ft/w9Phfq16H8KwqrBefdbD7Ew922ZOsBUujl52R9GBXDo2i3ovyR+bb7fMs3uQEEJX4jI9g6Mk5XU6r9kJth4v5ml7X0XwZuYJmADROp+LSo9qYHj9xrraoXGCp+v+VRlmDOw7AiTISbJ97AO3SJkZvCSFkK/CLXdYJgK8CeDeAvnXwQ4rsEdIf1O9SR91photq3Vd6mIzas0XtsXxgRdmPRemn9qE1e0WjJquKvRbDY7ehttMKzA24cB31cItJdXYcCQH173HKDTCX1xT3535G24fteMSgYA/pHzuOb/2CXt2B4Sqqz90OALjulx6KX0fHtkuJe38DmHmVIHmjOmR7h7WW3pMQ5W1aZ/3S9DDOelpD77TGEd6uzviZ1+n+4VADqZzORpy7yUM4qyUF2e/USYPxr1TjVO6wOIBzt6rTVzgW2t8OUiU9l53nagif5ARUPxA+eRiwaffpU5W4RVx9Vw7ZLu0zO3Upov1yZ3RS0TguZj112oOdgiC0wpN+u3TIsZIQcX0/gPDJK3O6vY5SmZlX6QxCmDQIbfs7Y8Uw3QUPwzfpd2fkiTkK5hFCyCbHGPP9F3nt36znWLYadPBJ37FcfWZndCmqb569QR2cIA34sYftAt9pe5yfGERqbhcAIHvUKplfxoOlNzkRq+w3CvrwalyJe5HnzuxCelqfmp1Kkw+tfUL26AIGd6oNlNwMXhKNetdtZLSYqsGBeh6ZhI8FT50jf0iv8eyNCRQe02NV3/46XLtHI/sfuO5/4GOjdwAAHv+oOivjXwnjSaJOosjo3PUZzO3V4+amzmPPoGo6DKdUm6EZujhfV+MVMXBquu3MlKA2oRH67IhuO5itoxmozkAFQMMKBRpRg3z+PUk4A6p8P1SsoNbQyYS5pt7qzYksRp5Sp27wgb6dON/UrFR/HuaS7QwgtCeIOnUaIjoj5VFdff400LBaFNVcOt7WSxg0B6NOIBIfMxb8vIJzcfZN4dj36vesuieIu1VkBhrxxEKkASAB4vfvBuvyCSFkcyEiQwA+AOB/hXaf+xqAXzHGzPZyXCthDBAYRvAJWVVWaj8W3HEA83vUSfE10IXaDgMTK6gjbh1V2S5oDujDbno6iUvB2TcVP/TOvGE3gqQeq1lobxNFwvyMoGlT+5NMx+89NkX/5ddkUR/TVcY1aFkn47ynjnRoBI7tsxeEEqcuuxW1ldCLxPsAr27w4rM6SRRcJ7h5QNt3PZreC0BtoJNoIurUG2zK9CjQ2Kkh04IbwLPZBFVf7dERg9Aab6uchJvTcZmCgZNe7HZVmwk0WnrbbiykYGx3gOYrdQJgpFDFQDJWeIydrOqCdfRSpt2OjfQE/9jx2E6jbIvy/l3x641BB4NH2iJ5kbp+kNGbXafqfOJcLY72RyzsdlG9QScDRsYWkLZlKWfSA8ChnO5XMfH2S9vwXQrBHQcAANM3p9AYtvbqhfCSatutlougpeN2ZtTOs6cE6fO6bbf2onTuCbByG1JCyIbijwE8BuBt9u93A7i742+yRvTkSU9E3iEiz4hIKCK3LHnt/SJyRES+JSJv6Vh/QES+aV/7ryIidn1KRP7crn9ERK7p2Oe9IvK8/Xlvx/pr7bbP230vzfMjhBBCCCGEELIS1xpjfs0Yc9T+fAjAdb0e1MoIwnX+WW16FcF/GsAPAvjDzpUiMgXgnQC+A8AuAF8WkRuNMQGAjwN4H4CHAXwRwFsB3AfgxwHMGmOuF5F3AvgwgB8RkWEAvwLgFmhayOMi8nmbFvJhAB81xtwjIp+wx/j4Wp/0VmM1Uy69yQlUp7SN1+xNiTgd37eBSa8qaEWRT9cgTFz4ZZm/ViNdhRW0xJzSQhxRC13E6fiREJvjA8kF20v8pfqiMTLq0BuiiGJ5XOfqatuBIGWjlPkA6bwto7ARb0cMkq5GNl0nRKGgEdN5u0vLT6M2pjY0+GKIxIJGIz96/Hvwtu3f0I0ytle5m2hHncZHULat9qLskuZ4C25K38tz23HLqId903dRaei4peHAuLZHeSaEa8cbRfgr1RSChr1tC5AsqFEmEnr8XLIJsZkJlWYKlaqOBfOawVB4wcG2L6mNss94b/AmJ+LPPoqeV7a7cFp63Vo5wdlb2ooeYrP1o3tOK78LaZu2Hz54CClre9PfrRknbgNAWW2kWkhieEizO7YPLeDkuBrl2JPtEoCoDr+zBGq5+1i0TdNmgTQLgEnouMQ1CFq27r7lQRq6nCqp7Q4/24q1UQhZDv4PJWRTURGRNxpjvgIAIvImaIUhWWN64uAbY54FABuE7+QuAPcYYxoAXhSRIwBeKyJHARSMMQ/Z/T4N4AegDv5d0PoOAPgrAB+z0f23APiSMea83edLAN4qIvcA+G4AP2r3+VO7Px38VeZy/1GvlJpXG1Nz9apASzNN22JRKcRp1ok5J1YNh9N+QM693Izfp2uPc/vQXB1MoJnXh1O3CcDWaqes95e/5+HYoexUyafD1Bu8yYm4Djlv11V2phBY3xZVFw3HOrhFdXZcJ0Q+ofYwnKqinNGNX06qw3UaQKNiPfQX25M7x+eLODCpucx7J84AAGZzbXuq3jKOyg61nYYV8ZOyi8SgTgQFoYNSQ2elkq6t+w8dLMxFwnoCaVqth0IY23TLOvVh04Wb0v2CloNkUq0undQvQq2ZwIJVUG/WPeCMLudP64G2f73KB+ge4x87ruJ4AMpvV/XEzEwIx9f7S33Eje9fYQJIlHW5lY3+Xzpo5i+crAxSkcBdx7rAwYK1t/GBObw8ot0cyuNRWn8OybnW4rGtNHYATSv+GHqA07DvCwAVtVMBkD2pk2KunQNNzrXiyYQrFfQjm5tl/zfznkXIRuUnAXxaREbt3+ehafp9jQFr8FebcWiEPuKEXdeyy0vXR/scBwBjjC8icwBGOtcv2WcEQMkY43c51gWIyPugmQNIUyd9Easdob+YsF5YHIjrRhsFgWdLVFu2fNQ4gARWOKrVfigO0kCiqvtFwlVLHyDiGtQOAvuQHKQkjpx17uPZFmj94tRvZTtVh0mXK+9S4bvULNAasI5HS2BsPXC5os6O54bIWQc/5fjIpHQ5qzM6CI3gVE1vjwtnE8jZ7nmVVyZwqKE2+cO7VKTu97MTcKySeSdJ1bdDdcDAhFZkL9mIHfuISjMFYyP0EgqCvG3vl2sikVi8bcP14Fescboh/ED/AbV8PT9jBM1oMmA2hVRZj7vtG7Yuv8c6EVvZTiM673XZ0+0MoPIetU23ro49AHiV9nI0H94ckFgDZP5dt6P4tBpauqR2Uxtx4FqhxlbDA+ztzQ8dJOyEULKs24ZJJxbv88dH4omH5ajaCYnqqI3gFw3CIdsaNOMj9PS47ql0PO7saZs1s0SEtN+dN9rq+rPUFvrVNvoJ2inpZ4wxzwA4ICJ5AGKMubAtDFkT1szBF5EvA9jR5aX/yxhz73K7dVlnLrL+Sva52LEufMGYTwL4JAAUZHjZ7QjpJbRTshGgnZKNAm2VbARop6SfEZFfWfI3AMAY86s9GdAW4qIOvoj8kjHmt+zyO4wxf9nx2m8YY/7jcvsaY/7ZFYznBICJjr93Azhl1+/usr5znxMi4gEYhKaAnADwxiX7fAXAOQBFEfFsFL/zWOQyWM3Z9ZWU853iVJzCCgBNzTRFsmRXDLQjXcYFJCq/PmniyH+kWN0Zde+M3kcRtHrRQdOuzp0xcALdPzm3OJoKsO6+34iimaVXDsapw05SEEIj3JEJlUwujnpXWkmMpDV1v+qrEc1V03AX9PYYJAHPZoEMfj6PX61/HwAgZ+v6x77ZiCOTeUyhskPV8xtD9s08E0fok26ArKcRz0jFvxm4gM0+CQo+0kWN6qYSPlJWAb3h61j8egKubUWWSPpxbX4Uya/OZeCdsTXVTWDgqO0UYGum3Yt8dp012ACjZ2uFf+x4O3pt1zmVJooP6f3JuWUcrZxe19qIIGGrFaO0fQkMHHsrSp/3Ud+l9UqFZ+cBAPlcEvVhjeQ1Ukks5LX8ZCRTQb2sttEoqD0UHzp+ydfZ2TcFP63jKu+xtr29jmRSB+O6Ieq2M4TxTNzJZOiPH9L9JycWKefTvgghZNPTGbFPAfjfAHyrR2O5LILe6NCvGitF8N8J4Lfs8vsB/GXHa28FsKyDf4V8HsCfichHoCJ7NwD4ujEmEJEFEXkdgEcAvAfA73Xs814ADwH4IQB/a4wxInI/gN+wPRgB4HsAvN++9nd223vsvstlFJA+Icwl47p4AEjYW0ZD25vDrQO2FTjcelvgLDUXIn9I52+6PVCGuSSqO9WxD13rEPpolwBkJZ4gcJsdAml8OO1Lohrf4a+dQKNoHVYRBL5NWS6oSxXUXcy31AlamM/gWEN76klTjchpCtx6tA+Q1YoMFF6sYfCILld3at/E1JGTbdG0XDJOn/aqdqbacxHk9Lj5RBNJxwruWY/taGMIYicTZLiJTEonADKJViy+V63ZlnpeALFt9nKZRuzYN5p2dssx8AvqcA0fcjHyhE54dKZGR3ROTjn7puB32YasDfH9I/q9byoWEU2VWqiNqFPutNqOfWj/Wwd5QXKufU+KJm9isbyTMxh6Xu9pzmHg9EG106PXAajqQbbff/l1zuGTh4FXagmMsWNJpP1Y/2FhPgNTtloXRwSjT1W7nzMhhJAtgTHmI51/i8hvA/hSj4azpVjJwZdllrv9fcmIyNugDvoYgP9PRA4ZY95ijHlGRP4CwGFocONnrII+APw0gD8BkIGK691n138KwH+zgnznoZMSMMacF5EPAXjUbvfBSHAPwH8AcI+I/BqAb9hjkFViLWorvZMzSI6psr0TSBxNrw+3o6yNITXJzDmDzLRVSG+GsXheZOz+seNxzXR5ZzqOltWHrUMmbQc/UTXIH9HIWOQk9UvdPbmQOEtjfCTWUZAAaA3Z20gkxJhtwdggpAkdJArqlTdr6qCEoQcrZo/EPODV9Y/5azMY/prKgeQrmubRGZENK024TZ1dcq1YXtAU+FYDoBm4cZ1/yW43c7yI7Gl10vyFNEq+LpfqLmAnJmRQ98nkGyhkdKyD6RrmrYBa7OBXPeS/re+1/f7u0dnI9kuvKAC3t+VH8k8u96mStcYpLSCZa6vjFV/Qa9zKeyjt1euZmrVq9WH7X69bC9DK652ts5a++NBJXT52HNeUVBD05VsHkYsyWOx1Lz508rLu01E2U+aMzRhxc2jZ7JPkrGDsKf2epe9doVXJFcBsKUII2fAMYnGmdl9iIHGG5EZlJQffLLPc7e9LxhjzOQCfW+a1Xwfw613WPwbglV3W1wG8Y5lj3Q3g7i7rvw3gtZc3akIIIYQQQgghKyEiT6EdEHYAbAfA+vt1YCUHf5+IzEMvTsYuw/6dXtORkQ3LWkRZwuIAHJsiX96bQHCd7bdsbxthsr1sHEGjoBHN/OkQedtCrXNcTklz/P30IBpFGyW1oXl/IGqPB2Sm/a7pzcvR78rQm53O1OfhwVsBAGdfk4inI51Eu164kNVa92bgIrCp7mmbHl/PJtC0EVUJkzif1dd3PtyIM0K6KdLXd+VQ3mUzQkZsD/tsGL/vdDWPhaamXx+f1voSt+zG9pZ/ziDzj7auPis4c4uN7BesGv5AOVb/rwceZsu21vqk1mFP/K2Jo6c+LrTH8z9xEKUbbV1+PkTGtjIbffpCfQmyfnS2zgvuOBCn3TvNEJlztp/8nL3/7WwrKcy8MgunZbUc8ipM4tUNChrA1+v/gHZ7mDwygRNvV3vwaqb9vpdB/h5tcpOxbUKjziQAVrVDg7NvKr5HxzoppQXeXwkhZGPxfR3LPoAzHZnZfc2mrsE3xlxMk4mQdaM1mkFoH3r9jArpAe3ffsbA8dt9oN1296muDnr00Jgst2tYI/KnDQqPtVNcV6JTnIwPnv2BNzmBuTFb124AaVnbaKjBBF6IhhXZyyR8ZDLqNEdieImBAI2i7j9dyKN2Wh3o8zensP1rquwYdrxXRHPQhWdtL6rhD7OI56/PnCvA2BR8mdfju3677Vn+ZBOudcjcOw4gdV4nA/y8TlgdxSjchG1xdi6FwhE91uRX7ZiW2PrMG1Sb9Nx+q1G6rYahIVVtC0IHpUAFAbNfWFgkgEbWh06HNW612JF2DwBuM3Lg9Vpnp0M07IRPdSfgWq0HX00U2ZcF2WUmoaL2odFk6ZWmvUc2uujet8y2l+qULxJ5LC3EZQRBUs8vfzITvy8hhJD+xxjzUq/HsFVZszZ5hKwmbi1Ao6hOTpBGHJFtDeqDqgQCaPAViXI7Ap8/Mt/VcYlVz0sTSNsHz84H0cups/eX7E96j3/sOPIntwEAKttTah8AQvtbHAPPVctIW1V7ABhKa7ZH2m2hHqi9uRLilHX8S14GTkud4pHcfj1mpRlHGwHA2Pmi5phakaQCJFK67LdcGKueH1jth2SpPcGUOnI2tj33gcex6wH7x0F9r/lrM/Gk1uCRWuzAddp4ZIcvvXMC1V36ysA1KrY3PjgHx355XioNITVjBdoosNcTOp3e6Bo4+6aQtfX05esLsd5IZYf+u16YdFAfs9khXgiT0dfF0XWNMRfNQc3sGB28Fcn7Ho3fKzWvTnO8bhXHf6XbRPbauH5bPLFRG3aQsFkGsZ4KnXtCCCHkkqCDTwghhBBCCCFky2MAhGYTp+gTciV0S8m82jR2p9KEn1bVca8GNLXzw8v51gAAIABJREFUUxwthRgY2+aulQd23avvUZ3ageRF1ME7x3K16fWL+lszVb/nRBG/9LUHAcf2FXc0/N1Ke2gm9PZXCh1sz2sEvhno644Y5D3Nm/ckRKug6083PZRusmn+aY2SjjzjImUj+FFtcydeqh0ndRyDViNSPdfjpGeAsW9oS7Hl7CbqDlCsDCyKtsf2ZlOyqzvTmN6vX4rm7iYGhvS4Y3nNzQ6NYKamudwLJwcw+Ug7e4H0B05pIW6Z1ygIWrnF/6ZDDwjTNnMp38LAgNaEtGzJSSORQCW63YYJ7LqvvW9kn0FUQ//A4z27Z0UlCb7VumgUE/DTbdXiaKzpU1pSwhISQggh5NKgg09WnW4PikvXLX2o7KwF7VYXGj55GAWbEl0fyqIxbB2prBVNO5uAZ9su50+Y2OGJUlFXm8600siRZC/x/mTwxQb8tNayu1V1flteAhWb0pzP11FpqZMxlGqn6Eek3RZG0mpc1UIS55vqSM2lIwc9idQR3TZ/6BT8jKZBV3bbiYCMi2TSpug3PZimjiF3Sn/nT4aXLFDmlBaAqMXj9QXURvQYURu/mVcBwaimd2cHa8indZKi7mu5QaWZxMKCTpQVnneRvO+RS3pfsn74x44jae9/yYP70RzUa1e6IRFv4y7Y0oq8CkYCQMIL4t+RbTfnMph/l/auLz49h/yhU7qf1SDpldPs7JtCaB378h7V6400BgAgf7KF5Jx+B1k+QgghGxsRuccY887od6/HszKC4Mq7wfcFdPBJT4gc+FhYqqOGedlIknWCsnteB7Gh+8asPvRmz7Q3G/nqifaxVmvAaDv1YXEgduRTHe/BB9H+xH3gcRSTqqgfJmyf+4QDP623Pz/jIAitw2Rr7ZuBh8GkOvuBERQSGiXdmZ+Pj9sqqgM/e3MRuZe13t+tBci/pNs6LXVczh5IoxYr8gsGj+l77Py7UnysS3W0yvt3oTqm71vdDtS36Z4mqQ6dSYTw0rZm2TFxRkK9aR38Mzkkz+p5j3/u8rQmyPrjnZxBfWwXACBVstfYEbTy+npY89DK24mmpDrE6UQLjaRe4+buBmZDndwqvJgEYB37jnvVWkfuu2mThFA9CR2Xfs+qO9MI7RxGcq4VZ63QRjcXFKUlZEtyk/19Y09HsYWgg08IIYQQQgghZMvDGnxCLpGV2jGFxQF4uLSZ/cKz88jbCFS3aMBqR3wuqFE91n6NEYiNQZTuO/aURrzPJFNo2LT1qpuJ05vTno3wQ+I0/YFEHa5tyzCcrKCQ1Aj9eEaV6e/HzZiZtsr6zzSQOnIWAJDKaFR/6J+SyJ/UY3W2ZLySjI/5SRfl3RrJdSarGMrpWKp1zRBoNtq39JbvIgg1W6DR0PPyZj1c+1nNHKDtbgyitHrs10h+K+vCs63xgpygMq+ZIgPbtBxDxGCsoJoLs24G/s1qeyfqeez5gtrxekRRl943o7p/AKjsSKL4tH5/5l+hgirJuQD1YWu/Dx5i5H6TwvsOIYSsPXTwyZrS+ZDXbTlKTXZKC5fcbq5beulatqjjA8kmwJZ3tO66DQDgNFXcDgBqiQTmjOY8Nwf1ljhWKCPtqosxkKhjV3pWl506tiW1nOT23PN6rMkQX8gfBADM3pDCtnOaBu3WdNJg8EgNjm175nYRyKtO7VhRKyLqZz+/N8T1r9ISlN25Es43VDDvmbKKsiWOZODZXufJBUDsFyxpU5+H/6nBUpINROe9JxvVzXsFpG11R23aRclWOc0PaCr+9sIC8gk7IWW1IwDgmVe4CP9OJ4Jao7akpKP13EqTsJeDs2+qfW8v2gE+8Hjs5A9/7USsA5C/5+F4v+SqvDvZCAR3HGDrQ0JI38IafEIuQjeV+kUPkuO2l/iTV6ZAvx4K0N0mD+j0b0yiaKifGcfsjRpN78zC8q0SedP3ULbCe37KRcMWB+9KlJB2NCLq2n7ye1Iz8LWcGEm3fawgY0X2kg6SHSJ6ke5EY1R3cpvLV+BH285fq/9oBq+bxdTgywCAkUQFfqjvMTSgjlx9XyuO2pfKKciMOn3DT+nx+EC9cYkmZrJPtu9Jte+bQOqc1WRwdJKqlmlgV061IjJuCzN2EshNhIB9YIkmnzq56nvawf3xRFb5+gJSJf2ezF2rNph8xetifYrS7eOxSn5iVJ3+xLmaikiuxljIhiCa8EmcUx2GpZOP0f2Pk5KEbHgubDFE1pSNXWBACCGEEEIIIaRf+ciS32SNYQSfrBudKvRxHfsy7cGWRs2Xi+ispwI0o0obn+gaJqd2wLHt6pyGIPBt+7ya3hJrGQ+ZhK6rBEkENszfMi4cOxH9aO1aAMBk8hyaQxoRzUy7aNnIfBSValxfiFOPnX1TmL5N6/WbWnqMVAkY7jJWb3ICL9+u2zb2auRzMr+AlKOlAzOtHKqBHjmX1MhpK3RRqej7J7+dxvg/aF02I/ebi8iOt39tADOvGQQABCmN5NdaHuqBZpwMJ6pxJkou20B5j9pTFEkHVr7HrZQlFbcMzbioj2nafeGxkyjdru0i3aZ+X8o7HZR3ZvX1l0L4Gc0myB5tR2/Z637r0Cgm4Pg2i+OcrlvNMpHLZT2yAQnZqhhj/p/O3/2OMUKRPUIulThFHxNwlvwzXfqPvZ/+yfbTWMjqkLzvUexoanrozCtSmCvY1OUBddT9wIWxLfNKjQzKKU0zLgVZFF1Nh49S9G9MnAUy6pr4KTcW0nNta7woVRlQQbGK+j0I0sa+3r3Oa/6Wccy+SsdTGFQnyBGDk3V10vzQjZ23lk3Vn5vNovCYiq7t+GqJqa2bHKe0gMaQ2kOYVhucmx7AUVeXs24TSUdtaHxgDmcyQwAQt6AL903FLT+7lSJ1ruvmfC1ad/02LOxWOyztnYCrc0uwXyMkKoBXV5v304LCZx7SMVzhuZONR3DHgXjiEwDKO9Ve/IzOdhaeRSy26x87HpdsrIeNLPcsQgghGxE6+KQnLBXH88dH4FjRpU7BvV7gTU7AHx8BAISV5iLVfLJ5iKLacvPBuI65kdFbokm14NvZ22bo4lxD65tdMbESWMvoPkf9ESQL1ptxEvHxoxp8oF1LWt7loDGp0XbU9PWFSRfDB1WLAg8eir8T83scJEYrAICD/z979x4d2Vne+f777LqqJJXUrVa73Re3bdo4NA7doW0MHVaG4AQMYbgkkHguwZkwhxlOJpd1MiuJk6xDBkLWIVknZHIj8TmQQC7jJHAYCMEhBkIyiW3iC90E2jhubMvqi90X3aVS3fZ7/njfXSp1S61Wt6SqUv0+a2lp1669S6+kV6X97Od9n3fnMwAU0/OMlnyQNl9fePs+9UKo4v+3Obb8wYOAAqduUBsZJU6FkVEZHzxbpt4YZTJXz5JP+xEfp2aKzA+FVRX2LRTZS/pmbYmbQfFg/5Lz4psD/2Qe9cSLclT7wr48je0kCdI/4sjM+nYVPrlQWE82v6S/ROdKnAmjkir9EAYjMZ/MFn1Jkb77Nu6m5FJZewX3IgI0Rm52KgX40lILS8+NNrL6i4bwb4BFUwfwF7rJH4b+2W9+1/zDBDP7fAbp+R4foJfzdabD0nn1bMS5yIfLMcaN+TOLzv/S5EuojPmseb4Mccjg50/54HxmX7GR1Z/ZG7N1mw+YSmHpuvJ8f6M4WcxCP4yzcM0WXyxtR85/Hilt5aundje+9vyk/7rXPuBvFgw+dELLi3WR+bfcTioZIBJKGOV7K+zo831sODfNUMb3w9GpQeLwxpbc3Erv3bNkYJ8E/dVtPdR3+iJ9BZqWIg2fK2+4jfGbfT+eH4JqMfyd9NZJTfkvlj/rbyrkppwC+y7VWCpx3yEyc76jVvuMcpiblNQZzU4bNN3sXE/Rgf0Qbl5x+OC6fz0RkY2kAF9ERERERETWjJndfannnXMf26i2rIbDJ3Q6mQJ8aakkU9Q8LH+pOfqX40qL5CyMIlhin2x68dFj5MJSXblxP9d+Pp0nLC1PNZ9ics5nyisDKU6Gecw35M8CUKpnG/OM6xkoD/hsfV8ytDk/wNR1PsuZ3jHLNSG7OpXxr3my2EPcu7ACeLJd3kKjDsCJef81v3pmN9Vn/djn7Lhx82cnGt8DoOx9l+k7coq5Yf++l5r3/S6dipmu+H6c66tRSPnRIdf2TfHN/PCyr1W/4xC54350SrKE4+yOLFE9DKvn4tFOM7syVH2Cn8rWOvT6HmjlFFHF991MSJIqe9+9kn4zN5ih56zvI6WhDGk/uITyVt/Hpq430vP+fbF5xMhafP3ktZqvORqUvRdZL4eW2JcCvg/YA7RlgL8ZKMCXDVcbWVjzPm7a13g+zH8HYIV/8KpyL2shCWwGhn0FvOxUxBT+QrOUzuHC/OaTccT5oo9okgA/F9VI9fpx0ubSbDk6CcDcfn+HwKWg4gudM1ScZWsurFlf82+/NpMimvVXus3z5i2G58f81IGzUz6or54qMPQN/3zxubKK6HW52sgoLvLvgS7t+2hpPkM11H+YreeYj33F/NgZLvzHT+bNp48vTDfJNW0nU0rKg0bv8/5148H+Rn+r7L/Nf/08zG/3vTYarJDL+7+DEjlc2rdh++MLRdWkOyX/mwsjo8zc9crG/mpYSSRdWsiUzVzr+15hnYbNJ304PnywUWxSRNaHc+4nkm0zSwH/BvgZ4CHgTa1q18pMc/BFrkRjnnFTgNII+mcrC3fXV8jKK6iXtZD0o8HwuDjYTz3nH81c74jK/gK0Vos4Oef37+3pb5wfT/sMvTOYuMVH81v/4QQA06/fQ2WLD4KGembpCZOmS6ECfmYqavT3aO8eX9gRyMwUKJ/0mdT0mP/6xdOO4S+dWGj3mnz30skGv+ULPJYHfNZ+tphhvt//ay/X07xQ9lFUPlVrjDSp9vnncyzOyie1KOJQK9LqvuI9+Pfq5NjJYX/+9L4Y1+97YV9vmXocvkBsFE767eb6EtLd0nv3kJ30tU2ibRFRZfHz9VzTsSfPr+n724WZ+9qDRxqvr8r5IuvHzDLA3cBPA18BfsA591RrW7X5KcAXERERERGRNWNmPw78BPAF4A3OuWdb26LuoQBfWmKpocXJ0PxotrJoGSeRjTZ3fT+FF/zQ5PKWiFohrN9dyjA2XwBgpOT7a6meJTXgU1GVwTS18ZDtT/pz1TWG+Bez8401689PherkLyweiVLf54dP95yBzIx/rfx5f35+rKZMkywpGwY9zU2nqQ/7oYVj5QLb8n76xwulPqrbfM4yM+OzqIv60ggUen0F87Pf4fu4S0HxGT/EvvKG20gSruPf5vtlvVCnJywR2ZOtUqosLBNZOBOG9msaiQS1kVGyoc/l3vkqKgO+H1UGfV9Jzy1MI6ntGlpxit7lSkYMNtP0PpEN8RvAGeA7gb80a0zHcYA55769VQ27FIef1tbJFOBL26gMhIvDgQzzW33XDFP0VhxCpyF2shYac0UH+6mEofbZSb+uNwCViJmyH1pfcz5Qjyymt+CDnHlXoHA2LK8X5kFXew3yYViqOebrvp/Xqwvzu5qHSc+H4dPZmRir+38wg1/38/oVLMmFkpug20o+OJ/dVWBqyk/t6MuVG8fV4wgLhfgy52aAC4bNHz648B4cVAswd63v/Om5+sJr5UNA1lcll/VTTrLpGhOz/uvmRrMUn5lbi29PNqmeszXqWd/fqv3+fc5FkJ30fasykCG77NkrS+/ds3CT9eT5hWmB4XNzYV8RWTc3tLoB3UoBvrRUc+X77P2PAD5TVOuxxjYA4bnl6B+1rLVkDn361l2Ut/rAqF41UpFbdNzu/ATfKmwD4NzcFip9IYjyMRRRDTKhCN9cLctMmHsfz/iL21Rl8UoO0U7f57MV6HvOn5fMG9U8ZllOckMpfx4md/h/7VOlPGmLG9tJZfv5sLZ99ujC+emT55kf3gnQmKufmVmYg5+egzMv9302LviRAD25KumUf/3x2QKVMz7A752hUcBMdSJkKflTs4zf7OuZZKf8vjgDc9f4/tYzdnUFrmojo0RNQX1j7n0I+uOjo1e88o6IXB7n3HNmtgO4HZ8Yf8Q5d7rFzbosdTq7yF5LWm9m7zCzb5hZbGa3Nu2/3sxKZnYkfPxe03OHzOyfzey4mf2mhXEeZpYzsz8L+79iZtc3nXO3mT0VPu5u2n9DOPapcO7V3CgWERERERGRwMzuwlfM//7w8bCZ/ZvWtqo7tCqD/3X8L/r3l3juW865g0vs/zDwbuBh4HPAncD9wLuAcefcvtCRPgj8kJltBd4L3Iq/a/SYmX3GOTcejvmQc+6+cBPhXeH1ZYMld87Te/c0lhXLTlZhV8gUheWaWKclc0SWEh89BqHqcpxZWMs7TkfMlHyp53Ldv30WUmX6M34o9Au5hTnLSQazcuseevJ+9vL1vec5Pu3XIk9WYKkVFo9kKRx7vrGdVH5WhklWkgzV35K9jfkh//4525ejN+f7Xq0ekQqrQSRToJrvbM/t38HccJhWEqYsuwhSlWQeYprytjB6Jeez9kn2HmB+PkOq5Dt1cTRWn5VLiiamGXjGd7TzL/X9rpaHYsjtlQci+q4yw55k7cv7tpPq9b09eV+OD+ynpilPIuvt54FDzrkxgBCbfRn4H61s1Eocpjn4V8I59wRAU7GFSzKza4Gic+6h8PjjwFvxAf5bgF8Kh34C+O2Q3X898EBTp3oAuNPM7gNeC/zbcM7HwvkK8FuoNjJKIWxP3bqLSrjAzIeCZQruZaMl892L7Gd2hx9KGmeM8infU8eG/edqb5paiNZT5YWh0snw0FoBdvT58fqFqEIlFNmzECul5pe+gE3v3dO4ANVQUlkNS+JuZwzmF9ahPz3oh+a71MWD9wrHnmd+6+7wAv5919zCknmlYWu8cCrvB97HzqjHYfrKfJpMuBkw+NAJDc2XS6qNjBLfugvw74EAFGFyn39j3PmPa3eTKPXFx3ySgIX30Ghw/5q8toisaLJpe6Jlregy7TgH/wYz+yowBfyic+5/AbuAE03HnAj7CJ9HAZxzNTObBIaa919wzhAw4ZyrLfFaFzGzd+NHDpBvhKCyHhr/eA/upCdUDY8zlzpDEuqn6yc+eoyB628HYOzFKdIzPqA5X/LB0lycpS8T1vpu6q9J9sjiQbIpX6BsqtbTeN5dMJc/sdRF7WYJ7NVP1192sko61HcoV6NGFmJH7zSn8lsBsPrSs/OqvWHN+9CP4zQUTofVJAaNep/vx6lQ/LFaTVGaDeMAZtL0P+s3N0N/VV9df4XTPrI//9Lw83Xgsr6/zQ2nriiDv6g6fphv31yNv3GzdJNk79VPpc19DvhrM0sy9v8u7JN1tm4Bvpl9AdixxFO/4Jz79DKnnQauc86dN7NDwP80s5cCS6X6k6vj5Z5b7f4lOefuBe4FKNrWZY8TaSX1U+kE6qfSKdRXpROon0o7c879nJm9CXhN2PXfnXOfaWGTLlvc4UX21i3Ad859zxWcUwbKYfsxM/sW8GJ8ln1306G7gVNh+wSwBzhhZmlgABgL+19zwTlfBs4Bg2aWDln85teSNpCZqTE37Oc5W32Fg5toGLOsl8yMH/Az+LQxu8O/6Z+9wQ/BL23PECX3CGPIHT8D0KgpEadoPF+KM5RqIT0aMqupsq7JZA09eIT8/sMAzM6lG6NLriuM8bXeneEg/6+/OdtZ3redekjGx01XBjO7F9Yqt/TidRwqY3lSU37KSf9pY+jeB9f6u5FNLJr1fbNv1I9sGrvFv18C1HNLZ+AvV23XUOP1ObAfwrauD0Q2lnPus8BnW92ObtNWQ/TNbBgYc87VzexG4CbgaefcmJlNm9krga8A7wR+K5z2GeBufJXGtwNfcs45M/s88CtmtiUc9zrgnvDc34Zj7wvnLjeiQFogc65EfJMP8JOCZStJ792jf9yybpICZuk33NYY3lyf8oF6qZ6lkA4Xkk3jg5JlHzl8mImyv4DNp2uNIdPJGveZktPNKVkzzUF7VFoYol+IKuTzftnFetb3x+b+Nvvq3VT7/LYLQZbVIDPrt+e3O3r6fTFJCwUkyilH6qwfFjz8tfL6fEOyaSXTmKq9vsZJVIU4FHBsms20Kgtz7Psby0EWjj2v91aRFjCzKRaujDL42q6zzrn+1rVqZc5BXUX2Vs/M3oYP0IeBvzKzI8651wPfBbzPzGpAHfjPSZE84D3AHwI9+OJ694f9HwH+yMyO4zP3dwGEmwLvB5IF1N/X9Fo/C9xnZr8MfDW8hrSJ6rYeCmfD2s03+P/yxWUSQ40q45tkPp20N1/h3mfmp270b5/TtRzZyA81iSoXB+lRDabn/Q2rwVyJmbLfjub8jYK+50q6+JQ1UxsZZdsjYXTJtkEmynkA+rbMU8j6G1HVwtIXLhlfC7JRLT83ZVR7w5P9Nfp7FgfxpZkcqaSw/vEzKqwnV2T743MAPHttobF4c3ZqoeL9avpV4wbXxDSFcANB768ireGcKzY/NrM3Aodb1Jyu0qoq+p8CPrXE/k8Cn1zmnEeBW5bYPw+8Y5lzPgp8dIn9TwOvWF2rRUREREREZLWcc58zs18BfrHVbVmJlskTWSONO+9ffIz0G24DoJa/dBeNlbmXDZY/5ccs9z3nh5WenB1gb984ALXeheMqoQ9Xex2FsF54jBHH/p9GdlJLQMr6SIY+948OMF7yQ+j7o3mKeV+1fHLOp92bpzZFdUd5i++TyXVNnFno0/2Dc6Qi34/PT4ed41muecyPXlGWVFareTg9QP9IgfE+3/lKwxCH/Yxc/msmtU+S92mANJrCJ9IKZvYDTQ9TwCFgrkXN6SoK8KVtNP8D9kOhYf7Vvrai5thLO6iNjFLfdwiAoSf8cOWTr+lnIOsDp/TCNWWjD3PHQn3QCMfMtB8yvXVUxfVkfSTvlcVdQzw1MgDA9A35RkbCpWzRcQB9z80zfpO/GRBV/fO5cagO+H6azdSo1P3k/HrVfx58IiL/aRXWk6uT3Kgf6j3I+Ev9+6OLFm5UxcueuSBJEKTD+2482E/cmw2vr2sHkRb5vqbtGvAs8JbWNOXyOYzYqYq+yJpL7tznx/zsOwX30i6SKvlJn6y8+ZU8l602nk8uNBvZpxjSIfNZiVPE0/6ic8uTl1dAUuSKPXiEa697JQDnv7OfwVzI4C9x3TJzXZ7ogsnO9TzEYV3yehxRCYF9fNbXkdjylArrydrqecF3TquucOAK4t6sRkeJtJhz7kdb3YZu1dm3J0RERERERKStmNmQmf2xmZ0xsxfM7E/MbFur29UNlMGXtpQMzWtUwW1lY0SWkKzgUPxWxOw1PqOZc83zSv3z5qBU8Uvq1eKI3BmfBb2SCtEiqxWH4fhPTm2nkPZp0Vph6eOSEYmpkJjvPe2Y2eu3y5U0pakwveQb/sBk+UiRtZA+eZ7cmO+clf4rm4OfnFPvSZFa6waKyGr9DvAo8KPAw+Hx7+GXKm9rdVRkT2TNJUFS85rOIu2gMV0kXHQObTvE5E1+OceeStMQ/XB8vcdRq/uAaHYmR750weuIrKOt/3ACgMp/TPGy3pMAfDO+GVj8/lrpN2I/e4SeMwvnJ/PxS9M5bMpfMlzzed93dXNK1lJtZJQ46/tkvUBjHfvs0cs7F3xBPYCUCvCKtIOXOOfuAjAzc849aGYfanWjuoECfOkI0YH9qpgvbSUJjqJzJXJjYW37pnmjSYEngGuKfiTKGesjPd+zcY0UCcbmClQHfU6z2rTaQxIYZad3M31D2Nfjg3qrG9lJv69az7Ll2OJzRNZaccSvynBmKNWohL+aInvqmyJtZdFAGjPriKydQ8vkiWyIaGL6sv7Ji2yU8r7tgC+6F1X8knlRrTnDH4bqf/+rGsuL1Wop8logRjZQ0h/PT3wHU9v9EPvU/OLnwBc0tbqfSlL396vIzNAYtp8/Z/Q+f5WVz0RWkJnx40KsllpVFf1EMnVKCQGRtvD3ZnbAOXcUGAI+D/zHFrepKyjAFxERERERkTXjnPvfmx6+xDk3u+zBbUXL5ImsK83Fl3bT6ItJgbG9e+g56zctvniZvFqxTj32/yiq82nS825D2ysCwJk8o7u2AFDtu/jp6T0Zar0+V5o/5/trcaRKtc9n9ftPxGTvf2Rj2ipdK3POFymJ6rlVDbe/sDaKiLSXzgnuNwcF+NIR4sF+/eOWtnDhRWdtZJT0/G4A4tTFF5oWv4I4VGN1M5kNa6dIs/xZ48ysj+yTIfrpvXsa/bWehVTJB/bpMI0kzkZEoZJez1kNz5eNUzjt4PBB/0Dr2YvIBotVRV9k/Wk+nbSr9N499Jz1UVCcjRbtB6BuzFayje0tR33VMtWUkI205cmYsUN+cn0cMvjNN6tSlYXl8fITvneWtkYMPOOLnuWOn1HVfFl3ybz73ud7tZSoiMgV6uwJBiIiIiIiIiKbmJkNmtknzOybZvaEmb1quWOVwRcRuQq1kVEKYXvq1l0XH5B2zM37DH52MrqiytAiV6twep6TU76KfmF+YX8y0iQ3FVPe4u/5J8s9Fs9WGnOitfyYbKTspKaEiEhrOAf19lwm778Df+2ce7uZZaFx+XkRBfgiIlcpCX5yYem85n02v4vStB8ave1brlF8TzUlZCNFsxWi8R5gYRk8aCpkenAnUcXvK5z2dwDmh3Nkzm1oM6XLJf0xGuyntmvI79TNJRHpcmZWBL4L+BEA51wFqCx3vAJ8EZGrlGRBo3OlRma+fschAKxmuFn/Vlt8rqJ6EtIS8dFjZMcPA5DzZSAWFdmr9EUUn/O9N5n7HA3sUH+Vloh7s5qDLyIt04Jl8raZ2aNNj+91zt3b9PhG4CzwB2Z2AHgM+MnlVifQHHwRERERERGR1jjnnLu16ePeC55PAy8HPuyc+w5gFvi55V5MGXwRkTVS3dZDKmznjp8BIF3aQ1zxezPnpjX3XlomumBac/O8+vxYjVRlce/UPGhpmQePQLISiYjIBnIYcfs7vUFvAAAgAElEQVTNwT8BnHDOfSU8/gQK8EVE1k9jDj5LDCd10Hvab2q4s7RSfsx/tiXuMjUv8dg8D1o3pKQV5n7glfQdn/IPVK9ERLqcc+55Mxs1s5udc08CdwDLXlQqwBcRWUfZSeg7qTBJWi897wCoZy/OTFT6IorPlBft0w0paZXCJx/WzSURkcV+HPiTUEH/aeA/LHegAnwRERERERERIKbthujjnDsC3Ho5xyrAFxG5Sukl5oomy+FFNYgzG90ikYvlJn1OtDxwcX3d4jOlhQeHD/rPDx7ZiGaJXKT5PbWmZfJERFZFAb6IyFVa6gI0Gd4cvfowxSf8XFINOZVW6jtyCoDKq3df9FxlIEPh2PPAws0p9VdpFQX1ItIqDtqxyN6qKMAXEVlHcQaiiWm/3eK2SHdrFM971a6LnstOVheCKhU1kzaQZPEV7IuIrM7F4/Q2gJn9mpl908y+ZmafMrPBpufuMbPjZvakmb2+af8hM/vn8NxvmpmF/Tkz+7Ow/ytmdn3TOXeb2VPh4+6m/TeEY58K52Y35jsXERERERGRdhW7aEM/1lpLAnzgAeAW59zLgH8B7gEws/3AXcBLgTuB3zWzZFnpDwPvBm4KH3eG/e8Cxp1z+4APAR8Mr7UVeC9wO/AK4L1mtiWc80HgQ865m4Dx8BoiImsuO+mIB/sbw55FWiW9d4//KDnSJbfs8yLtoDYyquy9iMgVaEmA75z7G+dcslz0w0AyIfAtwH3OubJz7hngOPAKM7sWKDrnHnLOOeDjwFubzvlY2P4EcEfI7r8eeMA5N+acG8ffVLgzPPfacCzh3OS1RETWRBIsZUqO+OgxLTkmLZcETIVnpyk866eNJP10fjjX4taJiIi0AWfEG/yx1tphDv6PAn8WtnfhA/7EibCvGrYv3J+cMwrgnKuZ2SQw1Lz/gnOGgImmGwzNryUisiaSzFN2/44Wt0RkseaaEEk/7UNznUVERDaDdQvwzewLwFJXtr/gnPt0OOYXgBrwJ8lpSxzvLrH/Ss651GtdxMzejZ8aQJ7CcoeJtJT6qXQC9VPpFOqr0gnUT0VkKesW4DvnvudSz4eid28C7gjD7sFn05snAO4GToX9u5fY33zOCTNLAwPAWNj/mgvO+TJwDhg0s3TI4je/1lLfx73AvQBF27rsjQCRVlI/bV+1QgpV8fTUT9uPKpUvTX1VOoH6qcjac0C8ZD64c7Sqiv6dwM8Cb3bOzTU99RngrlAZ/wZ8Mb1/cs6dBqbN7JVhDv07gU83nZNUyH878KVww+DzwOvMbEsorvc64PPhub8NxxLOTV5LRGRNNAqazdVb3RSRRZYq+hgd2L/QZ1VsT0REpGO1ag7+bwM54IGw2t3Dzrn/7Jz7hpn9OXAMP3T/x5xzydXxe4A/BHqA+8MHwEeAPzKz4/jM/V0AzrkxM3s/8Eg47n3OubGw/bPAfWb2y8BXw2uIiKyZJCOa2re9xS0RWWypOfjsOkh8VFl8ERGR9Sh8t5FaEuCHJe2We+4DwAeW2P8ocMsS++eBdyzzWh8FPrrE/qfxS+eJiKyLRgb0i4+1tiEiF2hk70cW9qVPnqe29OEiIiLSQdqhir6IiIiIiIhISzk6P4Pfkjn4IiLdIjqwv9VNEFkkPnqM+OixRftUZE9ERGRzUAZfRGQdNAKmkUsfJ9IuVFFfREREGXwREbkEVSOXTlEbGVVwLyIi0uEU4IuIiIiIiIhsAhqiLyKyjsr7tpNSVlRERESk7TlMQ/RFRGR5mXOlVjdBRERERLqEMvgiIiIiIiIiQIwy+CIiIiIiIiLSYsrgi4isg+jAfoCL1hsXaTX1TRERkWW4zl8mTwG+iMg6UPAk7Up9U0REZPPSEH0RkXWQ3ruH9N49rW6GiIiIiHQRZfBFRERERESk6zk0RF9ERJZQGxltdRNEREREpMsowBcRERERERGh8zP4moMvIiIiIiIisgkogy8iIiIiIiJdz2HK4IuIyMVURV9ERERENpoy+CIi6yApspfeu0cF96RtJTeh1EdFREQ8pwy+iIgsR4GTtLPayCi1kVGNNhEREdkkFOCLiIiIiIiIbAIaoi8iItLlNNJERETEi9EQfRERWYaGPouIiIjIRjHnXKvb0DHM7Cww0oIvvQ0414KveyG1Y7GNbMde59zw5RzYwn4K7fG7aYc2QHe2Q/10ddSOxTaqHZfdT0H/+1E7LqR+uli3/V5W0o3tWFVfbXd9L97hDv7uOzf0a/7j9/7aY865W9fq9TREfxVa1XnN7NG1/KWrHZurHRdq5ZtsO/xM2qENasfKur2fqh3t244L6X+/2tGO7biQ+qna0Y7tkNZQgC8iIiIiIiKClskTERERERERkTagDH5nuLfVDQjUjsXapR3tpB1+Ju3QBlA72lm7/EzUjsXapR3tol1+HmrHYu3SjnbRLj8PtWOxdmlHBzLiDs/gq8ieiIiIiIiIdL2+F1/rvv23797Qr/nw6z+4pkX2NERfREREREREZBPQEH0RERERERERVGRPRERERERERNqAMvgiIiIiIiLS9Rx0fJE9ZfBFRERERERENgFl8EVEREREREQcdPoic8rgi4iIiIiIiGwCyuCLiIiIiIiIADGdPQdfAf4qZC3n8vS2uhnShaYZP+ecG76cY9VPpVXUT6UTrKafgvqqtIb6qXSK1fZVWX8K8FchTy+32x2tboZ0oS+4T4xc7rHqp9Iq6qfSCVbTT0F9VVpD/VQ6xWr7qqw/BfgiIiIiIiLS9RzgtEyeiIiIiIiIiLSaMvgiIiIiIiIiGLEy+CIiIiIiIiLSasrgi4iIiIiIiADOtboFV0cZfBEREREREZFNQAG+iIiIiIiIyCagIfoiIiIiIiIiaJk8EREREREREWkDyuCLiIiIiIhI13NOGXwRERERERERaQPK4IuIiIiIiIgAsTL4IiIi0mnSe/e0ugkiIiKyxpTBFxER6UK1kdFWN0FERKTtONfqFlzMzJ4FpoE6UHPO3brcsQrwRURERERERNrbdzvnzq10kIboi4iIiIiIiGwCyuCLiIiIiIiI0JJl8raZ2aNNj+91zt17wTEO+Bszc8DvL/F8gwJ8ERERERERkdY4d6k59cF3OudOmdl24AEz+6Zz7u+XOlABvoiIiIiIiHQ9h7Uig78i59yp8PmMmX0KeAWwZIDf1XPwzexOM3vSzI6b2c+1uj0iIiIiIiIiCTPrNbP+ZBt4HfD15Y7v2gy+maWA3wG+FzgBPGJmn3HOHWtty0RERERERKQV2nCVvGuAT5kZ+Pj9T51zf73cwV0b4OOHNRx3zj0NYGb3AW8BFOCLiIiIiIhIy4V49cDlHt/NAf4uYLTp8Qng9gsPMrN3A+8GyFPYmJaJrJL6qXQC9VPpFOqr0gnUT0XWgWtJFf011c1z8Jf6zV00IsM5d69z7lbn3K0ZchvQLJHVUz+VTqB+Kp1CfVU6gfqpiCylmwP8E8Cepse7gVMtaouIiIiIiIjIVenmAP8R4CYzu8HMssBdwGda3CYRERERERFpFbfBH2usa+fgO+dqZvZfgM8DKeCjzrlvtLhZIiIiGya91w9kq42MrnCkiIiIdIKuDfABnHOfAz7X6naIiIi0ggJ7ERGRxVRkT0RERERERERarqsz+CIiIiIiIiIJtw7z4jeSMvgiIiJdKJl/LyIiIpuHAnwREZEuFA/2t7oJIiIissY0RF9ERERERES6nqPzi+wpwBcREelC0cQ0kZbJExER2VQU4IuIiHQpBfYiIiJNHNDhGXzNwRcREelCCu5FREQ2H2XwRURERERERNAyeSIiIiIiIiLSBpTBFxER6SJpFdYTERFZXodn8BXgi4iIdBEF9iIiIpuXhuiLiIiIiIiIbALK4IuIiIiIiIhgOC2TJyIiIp0mmYsvIiIim4cy+CIiIl1KBfdEREQu0OFF9pTBFxERERERkTVjZq8zs2vD9k1m9v1mVmh1u7qBMvgiIiJdSpl7ERFZJ78GvMLMBoG/Br4A/Cjwppa2aiUOzcEXERGRzlMbGSW9d4/m4ouIyHqInXNl4I3Anzvn/hOwq8Vt6grK4IuIiHQpZfBFRGSdVMzsLcB7gHvCvlQL23P5NAdfREREOoWy9iIisgHeA9wNfN459w9m1g+8v8Vt6grK4IuIiIiIiMiacc49bmY/BNxsZi8FnnTO/UWr29UNFOCLiKwDLT8m7S69dw/xYD8A8dFjLW6NiIhsJmb2MuATwFngFuDrZvbjzrnHW9uyy9HZRfYU4IuIrAMF9tLuaiOjMNLqVoiIyCb1W8A7nXMPm9njwJuBTwKvaWmrukDbzcE3s18ys5NmdiR8vLHpuXvM7LiZPWlmr2/af8jM/jk895tmZmF/zsz+LOz/ipld33TO3Wb2VPi4eyO/RxERERERkU1swDn3cNg259x5oLeVDbpsboM/1ljbBfjBh5xzB8PH5wDMbD9wF/BS4E7gd80sqcT4YeDdwE3h486w/13AuHNuH/Ah4IPhtbYC7wVuB14BvNfMtmzIdyYiIiIiIrK5pcwsGS0emdkPAuda2aBu0a4B/lLeAtznnCs7554BjgOvMLNrgaJz7iHnnAM+Dry16ZyPhe1PAHeE7P7rgQecc2POuXHgARZuCoiIiGxa8WB/Y+69KuqLiMg6+Q3gxWH7FD7++pGWtWY1OjyD365z8P+Lmb0TeBT46RCE7wIebjrmRNhXDdsX7id8HgVwztXMbBIYat6/xDmLmNm78aMDyFO4uu9KZJ2on0onUD9trUbhx6aCeqoVsTT1VekE6qfSzpxzH2nafkMr29JtWhLgm9kXgB1LPPUL+OH278ffz3g/8H8DP8rS5QzdJfZzhecs3uncvcC9AEXbug73WESunvrp+jr7Y4cBKG2H7ITfN/y1MgCpLz5GdGA/oErkK1E/XT9J8P78G/YwdaP/0RaeN3Z+cWLhoInpRccquF+e+qp0AvVTaWdm9lEuUY7eOfcfNrA5XaUlAb5z7nsu5zgz+3+Az4aHJ4DmcYS78cM9ToTtC/c3n3MizAEZAMbC/tdccM6XV/M9iIiIiIiIyJI+u/IhbcgBTsvkrSkzu9Y5dzo8fBvw9bD9GeBPzezXgZ34Ynr/5Jyrm9m0mb0S+ArwTvyyDMk5dwMPAW8HvuScc2b2eeBXmgrrvQ64Z72/NxHpPC/81GH47nEAvm3LGJXY1/Y8/sphAPIHDrP7kz4TGjedpyypbKTn7vL9rfjdL3D70EkASvUs//zaawGY/toQN/6ZP1YjTUREZL055/4/M8sAN+PD5iedc7UWN6srtF2AD/yqmR3Ed4Rngf8E4Jz7hpn9OXAMqAE/5pyrh3PeA/wh0APcHz4APgL8kZkdx2fu7wqvNWZm7wceCce9zzk3ts7fl4h0oN7nY06P+7mNU72z9GUqAGzpnwNgbLiX2q4hf3BTMJ8E9um9exTky7rLn/efJ+fyTBZ7ANiSnWOoMAvA+W0DVLf5/cnyM83F9dRHRURkLZnZy/BFzs8CtwBfN7Mfd8493tqWrcx1+ISXtgvwnXM/fInnPgB8YIn9j+I7zoX754F3LPNaHwU+euUtFZFu0Hffw+Rv9nPwn+8v0t/j597PzGcBqBXrzFyX98c+ePH5CpxkI2z9f33ne/rmV/FcbwmAmXyOOAwzTBWqJAvnNI8uUQV9ERFZJ78FvNM597CZPQ68Gfgki6dJyzpouwBfREREREREOtqAcy5ZAc2cc+fNrLelLbpcyuCLiGxuxWf8O/38y+vsLfr5+LV+nw39pjP6nts8b6VJRjdZJx0gCtXXQSMS2l16zsim/BTH63vHSEd+Jtt0OU950E8lSS0xlURERGSNpcwsHebdR2b2g8C5VjeqG2yeq1IRkXUy9HcnADg1uIevfZd/2xwozANQmuihMuCPy7akdVcmvXdPI4gfPzBAedAP5a6EuL5adMThP4RLF7HYP5+e9TcArAa9Yb2S4a+EpdiObEzbZXk3fnSUp7L+dzT20gLXDfjfzdhUgesmqouObe4DnVR4b1G7e7OkT/oCBI1aGLB434PqmCIiLfAbwIvx9dNOAa8HfqSVDbpsqqIvIqulCuudJfk9bf/NUSpP3Rb2+nn31w6kKBzzVcuXKg3bTkX26nccamyfenmOuq+5RrXoqG/1xQOzff6zq0ekIj9ywcxRmfO3Lyo5X6ItM56i2ufPn7gl3OFQHNVytZFRbrgn9LfDBzlzww0ADGYB/O82OrDfH3v0GIz4Q9upny6l8obbyE76GxTlnhTlwQwA6bk688M7Fx2bmalR37cdgFSprvdbEZEWcM59BMDM+oF3OOdmWtykrhG1ugEiIiIiIiKyeZjZPjN7EPgG8ISZPWxmL2p1u7qBMvgiLaBMUufK3v/I4scsnblPtOp3Xb/jEPWsv4c7u8O/1Ze3GKXh0K6BOvT6lmcLVXIpP1fbwqi0VCqmUvZZ0no1wlX9E1b3n6Mq5MZ9hr/4TGn9vyFZvQePUExWdjh8sDFsvbm+Qjtlt5vrPyRTBpJRJ6lKzNQNfshJVHf0PeenyMwP5yg862tExL3Zxr7MTPirfPDIJf8+RURk3fw+8EHn3KcBzOzNwO8B39vSVl0GU5E9Ebka7XSBLZ0tvXcP5TA0eeJFOaqhVm01xHPlobgxlz4qViAE8y62xuLo5XI67Iuol/x2ajxNZtIfnAkD7AafrtN3xE/CV99tf0lw3yw6sN8P06f1Q/SXW64vGYqfm6jiQh/teX6hlkCtx6hu84F/quRvUhWenW4UhlRwLyLSMtuS4B7AOfcZM3tfKxvULRTgi7SYgqPNLTqwfyHYWOffdTzYz9R1PouZnndUij4or4W59i7jcHG4LV2PsHCLOo6M0kzOb1d8FJUeT5Ob8+dnJyA34Y8denzSH3f0mIKnDhIP9jf64Ub1x8uR1ANgYnrRyAIOHwR8YH+h8mCGdBidkmTygUYxvTh8iIhIS1XMLOucqwCY2UqDHtuDo+OXydMcfBEREREREVlL76AxPhDwcecPtqgtXUUZfBGRddCYenH02LpnExvDmyemGXrcb55/+UCjyn3zXDIb8BlRixZ21stpmA7D8cNc++K3jOz0wjGDX59cp9bLRoiPHiNK+mRYTi7Nxmbxl5qOlMy1j5qG6Fe39VAa9kPzs5N+2H2cjeg76VcByB0/s2h5v0b/13QnEZF2cgJ4Waiin/i/zOwe4Bnn3EiL2rUC0zJ5IiKyvI2c2zxzcGG5sLlrjGp/GILfE24x9NRJZ33AVK9GxFV/Yz11NtOYm58/5w+N0wvF86LZSketk97NLmdKSL0nJFSant+IPtr8NZoL6gGUt/VQ7fOXJPmzZeKUn2qSqvi+mz812yiiBwvTDJpvDCiwFxFpK3+Nz+BPN+37NuCngT+lsVCrrDUF+CIi62Ajgo0kSJp41S4AZndEVJKCettibKjsj0v7IMk5Iw6BvEVAxc/ScinIjfvzUmFKc5xpCgQfVHDfrk7/18PAwu8tVYF6fhCA4sjOJQshZs75GzfNI0s24kZUcwa/8bV2+bn2qVK9serD2P4CW4/NATBzXR7wWXtYSAIlNwaiiWkF9iIi7WnIOfcdzTvM7HHn3L9uVYMuW4fPwVeAL3KZVlPtXpXxN6fowP5VZ7LTe/c0hkQnRcCuRtK3Zg7uZG7YB+DT1/nn4pyjNuyH4EfZOtl8WAYv4z/PlRYyoLVSGsJw/KhipMNKd0NP+JsCmXMlVSJvQ+m9e5i61d/QmRuOmLnRj8jovdYvbzA9l8WFpQyn9+bo3+P7S+HcrkZBuqSiftQU1G9IBj/5O9g1RDRbCd9DrvF8nPbtTlUWrqx6zl5cZK82MtrI+6iYnohI2/rDJfZ9bKMb0Y0U4IuIiIiIiMhaOmJm/+rCfQBmdsg591gL2tQVFOCLXKbVZLiUud+crnQeepKtXMtsY5y2xnD8yrDP4tJTo6c/ZODT9cYyeLNzPkvq4ojajC9elp5KUTjpM6aFM65RRC/5HrXUWHuKB/uZ3+KHssdpSM367XTK94Gbdp7h7KyvrjiZiZnK+CHulYGIejasF3+dHwHQ99w8UVOxuvXW+DvozTK/sxeA8oBvf2bWNZbE6zteaqxt74fm+/fUaHD/urdRRETWzE8vsc+AvwN+GGjfAF9D9EVEuseVTL9IhrqvRcCcfN3qv9pNNZmSXPOBuqtFlKZ8QFcrVKnXQiCYBPUTKXrH/bEDz8b03fdQ43UVzHeO/Lj/bZWGIjLT/vc5OeaD+r5chWLOD8Wv1SOmev3vvjJgzISqwFue9Fcu0WxlUbG69bgxmW4qgjdzve+w+bNl8qdmAUhVfCDfPCVkbv8OCsee99/DEhX3RUSk/Tnn3nyJ535qI9vSbRTgi4gsYalA/koKkZX3bSdVChn2NQygBj7+EH13HAJg/CafoU+VjVrBB3GVYpZsmDzf+4IP6HKTMflPf2XN2iAbLz56jD58JruWHyA35n/f1T4fyE8M9HDjVj/Hfq6aZb7oR3RUZ1JYmJsf1cLqCr1ZksJ1zcvNrWWg3/xa+abtpPp9bmL6omOzI6Oq+7DJbeTqIiLSGma2Bfgl4LvwOfF/AN7rnBtvZbsuS4dn8KNWN0BEREREREQ2lT8AzgJvA74/bH+0pS3qEsrgi4gsYak1u5v3RQd8FnWlYcO542ca69MXlqrCf/hgY27yapf8Sn3RT1/b9sWFfVrBoXsMfn2S8QMDAFTD1IuZ8wXGCqXGMZU5n9mP6kbkuxmZGZ8fX88h+pfqh8rein7/Il3hBufcW5sev9/MjrasNZfLAWFKW6dSgC8isoLGmtuDCwF68vlygpVKnx8sVbllgPG3+3XLyzt8QbF0b434XBGA1Nwgw0d8AbTBh04u+bqT73wVAEN/d6Kxr/k4XThvfo3lC3cNseWoL45Yyw8CUNqRYqrk6zBs65uht+jn45dP53xpI6A07IP+zLlSo7+k9+5ZNF8errwv1e84RHQu3GQI69wDjWUi1UdFRLrCrJm9xjn3ZQAz+25gtrVN6g4K8GXTmH/L7QBElbhRwGm1GVGRpTz5kwUA+rfOMfcvPsC+8Wd8gbqV+ldj7W/g/Lcb2Rf7gOxFW/0UtLTFzGz369M/d3YrZ9K+6FhU3UX8Kh/sv/BKf368pUq24Pv2uddtIx73c+8Lp31gtuevJlSIrAs0+tzIKISRJL0v+DoPLkoxnvY3pOrXGvXY31yKapDy0/GJwtLycW8WDvsAvBaC79VKbgqMvXo357/d30GIs444VMd3YR5jajrN1pvDzanHJ9VPRUQ2v/8N+LiZbQuPx/DV82WdKcAXERERERGRNeOc+wZwyMz6AHPOTa90TruwDi+ypwBf2s5yQ56bh4+W920HFqqH1/NQKyTPpuA7/HDVvhMD5CbD/Odnw1JlyhzJKsy/5XZuuO40AL9041/y29vuAOCxD/ls5K4vX7oy/eS+HiZf5DObvfvHuG5gAoCtuTkAKnGKsXnfec0cUckfe36/Udrj50oXhvyxA4V5KvUUALOWpZz2mf+sHxTA3PX95Nt/dpuslcMHIdRvSObV952G8lbfR+Z6841D0xlHZcD3rWxYWq95Dv6VVK2PDuxn5I3+vXbuujr0+Ffp6S83Rg4kNQCsTuPri4jI5mdm773gMQDOuf/WkgZ1EQX40naWG/Kc7K/fcYip63xgU/OjmSntcI16GC5NY23o2WuMSr+/2M2fza5jq2Uze+YJf5OofqPxbf1+fe5H8i8CoNazOGhJbkSd+tf+8/w2mN/px0QXU3XSkV/DfK7m+2Nkjjh03upMllSvv23sio4ovzjsmqtkKFf923b5fA/Zs75vp+f8OX1HTml5sS6SPnm+cbMzMb07xdxNPugfGp4mn/Y94oV8PxzpBSAzu5CaSOpLMHL5X7celmc8+205yltDf03HpLO+b1erKepV3zej876fF04Z+TF/bDQxTXz5X066iIqEimwqzRn7HPB9wJMtasvqKIO/emb2Dvy6iC8BXuGce7TpuXuAdwF14Cecc58P+w8Bfwj0AJ8DftI558wsB3wcOAScB37IOfdsOOdu4BfDS/+yc+5jYf8NwH3AVuBx4Iedc5V1/JblKqX37mFu/w4Axm/ONLL1tZCgSs8Z1SQwSjnizMWZoqkb/N2A4oPr317ZPArPTpOZ8lnKD42+jrdd81X/RI+f8xynMgsXpbuGmBn2o0qSm0/zu6ukQqCeTi2ENTUXMpy1FLNlHwRZOcKlwhrlPTGpKGyHGwCzs3nqEyFrP5ai+Ix/fvhLvuCeLoq7S21klFzYPvva3UCYZz/j/7XPFbNs3eJHf1yzZZqTu3ynHD5ab7xG3Ov7U/MIqeX6UXJMJRv6bhFcxvdBSznq1TDvvprGyn47N+H77tYnqhSOPX/J1xdR3xDZPJxzv9782Mx+DXigRc3pKlGLvu7X8esh/n3zTjPbD9wFvBS4E/hdM0uFpz8MvBu4KXzcGfa/Cxh3zu0DPgR8MLzWVuC9wO3AK4D3mtmWcM4HgQ85524CxsNriIiIiIiIyNobAPaseJQsy8xSZvZVM/vspY5rSQbfOfcELMzFaPIW4D7nXBl4xsyOA68ws2eBonPuoXDex4G3AveHc34pnP8J4LfNv/DrgQecc2PhnAeAO83sPuC1wL8N53wsnP/hNf9GZVVWGppXGvbdNT0HVT/SdKEadI7GElCZyQhLEqWRn/sJ0Pt8pfF1lCWQyxUfPUbqrX5pu9GpQQ7t9WOZX7TnBQDGexf60/zBncxc6+9JlkPx/NRMisygX6qsHkdMlP2wk2zKd8xaHDE9mVTON6wS5qgV40afrpZ934+nskQhM1o4DS7lD1B/lmTUUn1h2j31esR06G+7+id5fmgAgJmQyYdespPVxvErrggRnq+E1R3iNETlUDkfYNb3UwMKJ/3fQcp3fbKT1d8qYkEAACAASURBVIUVJdRfZQn63yyyuZjZ12hcyRAB1wCaf391fhJ4Aihe6qB2m4O/C3i46fGJsK8ati/cn5wzCuCcq5nZJDDUvP+Cc4aACedcbYnXuoiZvRs/coA8heUOk6u0UmG9eLC/MW+0XDTSYYnlapg+6iKweigcVYXMjN9fz0MmzE9OlUJAtQkvINRP11ffc74PTd2S5UjZ98kf3PkYAL9T2EMUliqLKjEu5QObRuG7foeLQ5G9bLkR2CdmKzlcGIJvsVHv83ensr0VMpkwDSCcX6pFRJN+ULYz2P6A78udMu9e/XTtJe9nuSn/b6yUiUiFQo3VchrCe2QtjshkfU/Jzvg+Fmcj0ifP++d3Da0YeM/9gF+vcW5bGKI/6Ii3+BsEqZ4acdq/bupUntjX1qNwOsy7n610VIFT9dWNtxn/N6839VNpc29q2q4BLzjn6ssd3E7asYq+me3G1zH4APB/XOrYdQvwzewLwI4lnvoF59ynlzttiX3uEvuv5JxLvdbFTzh3L3AvQNG2tuGve3NYqbBeNLifqLbw46/4RBTZibCjn8YFpUst/GH2nXSNGwONC9m1bXpbUD9dX1v+wK95H9VfxX8r+/9XvX1+UfHhfy43Apc8+5m80c/XT/ooadcI4LOpOoW0D4ii0Ekr9RSEm1P1Yo18yPbnMjUyaf9/sFQOlcgnM40+33c67rgLYvXT9TP40EkA+nYNMb/VX+iXc1mm+/wNoaGeWeZn/Hz7cjEK54wu9KEV+lJ0YD+1vO+nM9eFX90182Szvo+mUjHzoXCkS7tGodPkb6fTiuqpr0onUD+Vduace67Vbegg28zs0abH94a/72a/AfwMjVv3y7tkgG9mP+Oc+9Ww/Q7n3F80PfcrzrmfX+5c59z3rPTFl3CCxXMzdgOnwv7dS+xvPueEmaXx8zvGwv7XXHDOl4FzwKCZpUMWv/m1RERERERERDbKOefcrcs9aWZvAs445x4zs9es9GIrZfDvAn41bN8D/EXTc3cCywb4V+gzwJ+a2a8DO/HF9P7JOVc3s2kzeyXwFeCdwG81nXM38BDwduBLobr+54FfaSqs9zrgnvDc34Zj7wvnLjeiQNpE3Jul0rdQEzITFt4ob/WfU/Ng0cJ2UsE8NxnTd8Tfv+m0bKe0n4GPP8TA8YMAzF3rpz/ljp9sjAqJjx4jdZufr5/2xctx6RT1Xt85+zIVslGoqB8KRTxb3oJNh7nLWyv05HyGvydTZark50/PjvmMbO/zEXvun2h8LZFE8v6WBoa/5rP2cdo4fdj302dvBOZ8P7vm86t/L4yPHoNbXgX4pUgBMvka+azvr9NTPbgZP9KkeNzY9rW5K/1WREREWsstNeC7pb4TeLOZvRHIA0Uz+2Pn3L9f6uCVAnxbZnupx5fNzN6GD9CHgb8ysyPOudc7575hZn8OHMOPpP6xprka72Fhmbz7wwfAR4A/CgX5xvA3JXDOjZnZ+4FHwnHvSwruAT8L3Gdmvwx8NbyGtLH0yfNkh/1a5FHdyE76bjG/1XfhehbKW3yX7Dnn6Dnrg6hUJW4Udko6uwJ9uSoPHgGgL8y7r42MLlpiLFUJNR9C8bFa1RprglfqKQopX+xxouLvQp0fHaRw2t8AqE3nmaj57YlSisy4P++6f/L9vfDshAJ7uaTayCj5pve46yf8mvXP3zZAWEmUmYP+vTS5+Xm5orp/gZ4XfB+dS/VSDdNLsuPG8Nd8P81/WmuRioiIrBXn3D34ZDshg/9flwvuYeUA3y2zvdTjy+ac+xTwqWWe+wC+eMCF+x8Fblli/zzwjmVe66PAR5fY/zR+6TzpEPFgP1HFZzxnXpShfmNYbzncZoqzC9suMspFn0nqOx3Td85X5FNgL2tpqUB7bv8OZnb6jlje5t8i670xUSiWd3auj+mKz66OnvXDT1IzKULMT9+/OHr+MQRMk+WFuhGh73baPGZpvdQXfTHIvcf3cOIH/I2ozIy/Abra98S++3wN3J47/E2DpHAp0LjxJSIi0szM7nPO3ZV8bnV7VuS4iii3PawU4B8wsyl8tr4nbBMe55c/TURERERERLrczeHzi1vaik3COfdlfF25ZV0ywHfOpdawPSJXrLqthzgbhjH3+Er5sPC51uOIamE95uzC2sugucqycSoDKdKh79XCUmX1XhoTml44V8SFIfg25d9+UzUj5Qvy03ey0si4Rgf2a9SJrKlk+dDEla47nvTR5qkpm3F1EhER6VKbPIMv0hZSpTrlQT/svp6n8YdXHfCDlq1u4Gs9kZlhYcjz8SkNa5Y1Ex3Yf8kbRumSw4Vij5XtIeTJ1cnkwpDoagpnydD9MBR/YqF4ZO74mUUF+0SuRnMAXxsZJTe1C1gI0K82KNcNKBERkfajAF86QjRboZb3RcnSJaj4wtCNYApzuJQPmKp9sPPT/sJzbv8Oskc3urWyWUUT00Qha5kUb+TBI41AJ7NvO7B44FM6vxBGRZGjWvZvu9GsPy5/Hoa/6iuOK2CSq3WprHy6FO6MHvYrQfDgkUYWXn1PRETEM2XwRdZffPQYxV5/UTq/pUB5a/jLK/giT6kzmcayZH0nXCP4yt7/yEWvJbJaSRA0t38HlQEfmE/t9XeXds8uZPVzx8/QN+yzpHM7/XH1nhTZbMjgV9K4ij+v91RYOu9krAJlsmbiwX7mD94O+Cr5zcPok6r58WC//7zxzRMRke7T4eFy54lWPkRERERERERk1X79gs+yzpTBl84RspyF616JhbH55XE/L7/wwsJhQ393orGtwk+yFs6+djcA80NG6Rp/I9pd65dfPFUdZEeYBlIbGaUYsqPZyV7//KvzlPqyAFhsDIz4qSTX/u0E4If9q5/KWpq40Y8eOf/SPY2Cozu/OEE0MQ0sru+gofkiIrKenHN/3Py5I3T4mAMF+NJxik9M0RcuUBdVcU6KSbWkVbKZ1Qo+KJ/ZXyHT66s53nHjkwB8KffiRXOak+Apz34A9nypp/E69ezCoKnkuCsdJn2lFdBlc3vh1YNM3xTWp48c1uvfEU+kBtn5a4sLN65nH9LcfhERkdZQgC8dZ6nsU3OgL7LWZnf6z0PXTLG1xxd7+L4tPm3fk6pytMcH+M3l9ZJ+mjmwv7EvtYaV8RU4yVKmb3AM7J4EoCdTI5/2N6SerW9buBEV1Nap9kN0YH/jxlUaBfoiItJhOjyDrzn4IiIiIiIiIpuAMvjS0TQMVDZC/pz/XI8j+jIVAKrO5+t35cb5X9f5OfZbljhX69nLRiqcMuxmv31N7zTzdf9vPpVtmgyyHpn7wweJZv3fxsy+IsVHTwIwdatfVaKI3qdFRLqJmW0F/k/guwAD/h74b865sZY2bAXmtEyeSEvpglE2wuDTfk7ziZcXyG49C8DfTNwCwKuK36K0zc/RXyrAF9lIw0fLPP0yX+DxhsExzs72AVAolKn3+HoQuaYbo1d7kzQ5v9yTYn7YF5gsPnqyEdhXe/3fxsSrdtEXli/VspDSbpQsEFkX/wMf1L8NH+D/+7Dv9a1sVDdQgC8isoL8p78CQOa2w5y51gdP/Rlfnnx/7hRzu7WiuLSH3PEzpE/7YGVid56+XBmAnt4qM4NFf0w4Njqwn9pVjDBZVKRv33amd/tRLRMv2kN2yu/Ozvi/jeITU40q/iqEKu2muZ6PgnyRNTPknPtA0+NfNrPHWtaa1XDW6hZcFc3BFxERERERkbX0d2b2huSBmb0ReKSF7ekayuCLiKwgGb6ZmYaTY4MAbMv7avpPVa7B9SsnKe2hNjJKbsz31xPnt7BtYAaAmXIO2+Lv6ReSDOWIz+LD6mpFNK9aUr/jEAATL8pRLYR9BaiHYQLVPv81i09o+LO0l6WG5auPiqyp7wd+yswm8HXptwDPmdnTgDnnbmhp6zYxBfgiIitILvry5/cQp/yQ43zKLz/2l+cOkBrLtKxtIhfqOeerA1XNcX3R1zL66qndDJQurhp0JUUgk7+HyhtuY/xm3/fnh6Ba9H8bcaFOaspfXvSP+GGO0cQ0msgi7SI6sB/ClBEOH1RdCJH1cajVDbhiKrInItI9SjM+NTlf94HN2VIv6ZnOnqslm0tuyl+ZVEqZRj/t75mnnu1bdFzzfOPLmXucZDzjQV9Mb2ZXhqovSUFlax16/UgWK6eIqiGw94X1lRmVlmnu28mIlaQeBKDgXmSdOOfGzOwlwB34kPmLzrlvtrhZXUFz8EVERERERGTNmNk7gP8JXAvcA/yqmf271rbq8iRL5W3Ux1pTBl9E5DJtf2CU8Vv88l9PT24FIGWOzEwrWyWyWN9xX8I+GhvgxLYBAOarGdK55UeaXE6GvTE0f/9t/nEe5rf7gffRYIVc3k9bKZHDpXxF/W1fK13hdyGy9pIpKfHhg6RPnm9xa0Q2vZ8HXu2cOxuK7b0NeBD4k9Y2a/NTgC8icplqI6MUn/LDlM+HJccsFbNlavlztOySbLQkiOl97jBni74oJKmYl9zv++GVloRMhuhPDvtLh+l9caPAZF9vmXocbiDERuFUGKI/68foa/69tNKFQ/NrDx5p/B3oPVpk3UTOubNh25xzdTPrjKJFmoMvItI9hr/qq+dXC75k+Pywo/eF+rLH68JRWuX/Z+/OwyS7zjrPf98be2TkVll7VTolqyRbZZkqLNmyq+nGWGDLDIOgwVhPe2w3DS3gAZp+GqYZN0yb9kJjmLG7Bzc2GiyweQA12HjkoS3UsrzQnpJsbSUjydgqWyrVqlpzz9jP/HHOvRGZlVlrZkZE5u/zPPlk5I17I05knLwZ733Pec/2L45zJO0D/Ga2NXeeQ/7b5fbN2d1bATj3Sh+8N4oNCgMVAArZGnPV1ue24kn/6ehKiviJLKek37dpXwlC52iRFVM1s2Hn3Dkgb2b/Bfhapxu1HijAFxERERERkeX0i0A/cA74C+C7wJ93tEXrhAJ8EZHLESoup1+zD4DSESN/qtLJFoksqe8ln0mf3mHJ8OSrHS7fyPvHTJdq5LJ+3n02XWd8pgBA7nCWgednr/JZRK5cemyU+o4RAKKjZ5Isfvw9Gp9S5l5khTnnvt52+30AZva/A+/vWKMuxQoVvltNCvBFRK7A5id8ADOxq7DoMksaAiqd1nzqWUob/TLEuYmr+3cf7dnNydf4IfjNop+9XMjVSKf85YJzM0WqJ32A3zdNUsDsSuf7i1yN+qHDRG1BfTL3PgT9zacOJ+donZ9FVoaZfRFYWN31FjPbB3zCOffpDjRrXehIgB+WTfgt4Ebgdc65x8L2a4BvAt8Kuz7inPv5cN/NwJ8ABeDzwK8455yZ5YBPATcDZ4C3O+deCMe8G/jN8FgfcM59Mmy/FrgX2AA8AbzTOVddsRcsImtOXDxs+Kkq0SIfFPWhUbpB6qHH/fd9ey/YJxcrNNZ+kersTYNURkJKI+eD+ji4ByiXM6Tm/Mq7A4eb6v/ScXFQX9m1mVRfFmhdeGru2U1d9SFEVtqvLfjZ4Yfo/w7wMaB7A/wez+BHHXrep4F/CvzdIvd9xzm3N3z9fNv2jwF3AdeHr9vD9p8BzjnndgEfAT4EYGYbgPcCtwKvA95rZsPhmA8BH3HOXY+fF/Izy/niRERERERE1ivn3BMLvp4EPuec+wpwvNPtW8s6EuA7577pnPvWxff0zGwbMOCce9g55/AZ+x8Ld98BfDLc/jRwm5kZ8BbgQefc2VC98UHg9nDfm2hdNfpk22OJiFyS5lPP+q++LPVDh1c0Y5keG52XTRW5XBdb83ux/tu+rTxsEDmIHKl8nVS+TtMZjWbkv8ppoqoRVY2hh48ue/tFrlQ8igVY8XO1iLSY2S4z+7CZvdfMBswsD/wBgHPutg4378LcKn8ts26cg3+tmT0JTAK/6Zz7H8AO4EjbPkfCNsL3wwDOubqZTQAj7dsXHDMCjDvn6os81nnM7C78yAHyFK/ulYmsEPXTzkkfPbPi84zXygdS9dPe0H4xKVliLIJGyS8HmWr4KZW1Woq5GT/0mek0/S/4m2uhv6qv9qZ5tU/CfHva+mMy736NDM9XP5Uu9xn89OptwEeBnwX+FPgnHWzTurBiAb6ZfQHYushdv+Gcu2+Jw44DL3POnQlz7v8fM3sV5xdogNb1jqXuu9zti3LO3Q3cDTBgG3p8RoasVeqnnbMWgpnVon7aOYv108Xm3bfvmx4bZXrXAAAz28HS8+vvV8/mSU2mAOg/bozcvX+5m90x6qu9rb5jJKmTwp7dEG6vtfO1+ql0uRnn3EcAzOwbzrmqmfXElShV0V+Cc+4Hr+CYClAJtx83s+8AN+Cz7Dvbdt0JHAu3jwCjwBEzSwODwNmw/Y0LjvkycBoYMrN0yOK3P5aIiIiIiIhcnS+Z2U/jp1Y3zGxXpxu0XnSqyN6izGyTmaXC7Zfji+l91zl3HJgys9eHOfTvAuJRAJ8D3h1u/yTwxTBP/wHgzWY2HIrrvRl4INz3pbAv4dilRhSIiFzU1c6R1xx76YSLZTPrO0ao54163mgUmxT6KxT6K+SLVfLFKqnBKqmKkaoYm75RWaVWiywtnmMfzVQpb++jvL2PaHwqqZkiIqvql4E/AubwMd1fAL/U0RatE51aJu/Hgd8HNgH/zcwOOOfegp+T8T4zqwMN4Oedc2fDYb9Aa5m8+8MXwCeAPzWzg/jM/Z0AzrmzZvZ+4NGw3/vaHuvXgXvN7APAk+ExRESuyNUO+1xrw0altyXzlPcfYGbfPgDcQI3+wvwgfm46RypeOe/gSa15Lx2XXCgdn6IYlsnT+VWkM5xzA51uw3rVkQDfOfdZ4LOLbP8MviDDYsc8Bty0yPYy8LYljrkHuGeR7d/FL50nInLVkoBIHyRlLdm3l8oGf7N/aJZU5Ofgn5nq8xvPZdnyuC+8p74v3WB2ty/9lD82k2xLs3itCRFZeWa2ExijLeYMy+TJCurGKvoiIj1FHx5lLVh4oaqxazPNtE/RZzN1qg1fUK9R89+HvhmRv2/tFNaT3hX33fSzJwC/+kOzz6/w0HxK52eRTjCz3wF+CngWiKu0GtD9Ab6K7ImIiIiIiIgk7gBe4Zyrdboh640CfBERETlvJMrcpgzNvE9jNJoR1ZC5b57KATD8nArrSXdq9mVh/4FON0NkvXsOKAITnW7IZXFaJk9ERETWkHi4c+nFMu4f5QGoVNPMTfrbG57xC/CkHnq8Mw0UWUJzqB+ARiFFqsNtERGqwJNm9hBQjjc65365c01aHxTgi4iIrEPpscWLj8Xbqru3EtUMgLmpHDbpPzJsecDfr6r50i3iPpvGX5xKaUk8kW7wufDVe5TBFxEREREREfGcc5/qdBvWKwX4IiIicp7yhjTZCZ/BrzWyDIekqFaNkG6jpUpFuo+ZfRFfNX9RzrkfWMXmrCsK8EVERNahiwVD9YLh/HR78qeNvhMqhCzdLdqzG4CmhuiLdINf63QDrpiG6IuIiEivW5gFHXy+QmXIV8zvP9Ike/+jHWubyIUkF6sOdbYdItLinHti4TYz+4/Oufd0oj3rSdTpBoiIiIiIiMjaYWb/0czOmNmUmU2a2STwv4afuzbIN/wyeav5tdyUwRcREZHzhuw3shFRKJVfOKXh+SIiclnuADY75xrxBjN7wjn3mg62aV1QgC8iIiLnKW9IM/i8/1yWO3hSy+KJiMjleLw9uA+e6UhLLpfm4IuIiEgvulD18b4TVTKn55a8X0REZCnOuXdeyjZZfpqDLyIiIiIiIrIGKIMvIiKyTl0oM18rpcmcXsXGiIiIdNoKFb5bTQrwRURE1qH02OiiAX48bD+qNrWeuIiISI9RgC8iIrIOXWxefXZClfNFRGQd6vEMvubgi4iIiIiIiKwByuCLiIjIeRX1o6F+mp1skIiISCf0eAZfAb6IiIicN2Rf8+9FRER6jwJ8ERERadm313/ff6Cz7RAREemAXq+irzn4IiIiIiIiImuAMvgiIiKSiGaqAJp/LyIi0oMU4IuIiEhCc+9FRGRd0xD9y2dmv2dm/2Bm3zCzz5rZUNt97zGzg2b2LTN7S9v2m83s78N9/5eZWdieM7P/GrZ/zcyuaTvm3Wb2XPh6d9v2a8O+z4Vjs6vzykVERERERERWRqfm4D8I3OSc+x7g28B7AMxsN3An8CrgduAPzCwVjvkYcBdwffi6PWz/GeCcc24X8BHgQ+GxNgDvBW4FXge818yGwzEfAj7inLseOBceQ0REZN1Kj40mS+WJiIisS64DX8usIwG+c+6/O+fq4cdHgJ3h9h3Avc65inPueeAg8Doz2wYMOOceds454FPAj7Ud88lw+9PAbSG7/xbgQefcWefcOfxFhdvDfW8K+xKOjR9LREREREREpCd1wxz8fwH813B7Bz7gjx0J22rh9sLt8TGHAZxzdTObAEbaty84ZgQYb7vA0P5Y5zGzu/AjB8hTvMyXJrI61E+lF6ifdrf6ocMX32mdUF+VXqB+KrIyen2ZvBUL8M3sC8DWRe76DefcfWGf3wDqwJ/Fhy2yv7vA9is55kKPdf4dzt0N3A0wYBt6/O2WtUr9VHqB+qn0CvVV6QXqpyKymBUL8J1zP3ih+0PRux8BbgvD7sFn09snAO4EjoXtOxfZ3n7METNLA4PA2bD9jQuO+TJwGhgys3TI4rc/loiIyLq0cP69MvoiIrIu9fjlsk5V0b8d+HXgR51zs213fQ64M1TGvxZfTO/rzrnjwJSZvT7MoX8XcF/bMXGF/J8EvhguGDwAvNnMhkNxvTcDD4T7vhT2JRwbP5aIiIiIiIhIT+rUHPyPAjngwbDa3SPOuZ93zj1jZn8JPIsfuv+LzrlGOOYXgD8BCsD94QvgE8CfmtlBfOb+TgDn3Fkzez/waNjvfc65s+H2rwP3mtkHgCfDY4iIiKxbytiLiIj0vo4E+GFJu6Xu+yDwwUW2PwbctMj2MvC2JR7rHuCeRbZ/F790noiIiIiIiAjQfUX2zCwP/B0+QZ4GPu2ce+9S+3dDFX0REREREREROV8FeJNzbtrMMsBXzex+59wji+2sAF9EREREREQEuq7IXqghNx1+zISvJVvZkSJ7IiIi0l3SY6PnVdIXERGRFbfRzB5r+7pr4Q5mljKzA8BJ4EHn3NeWejBl8EVERERF9kRERBydyOCfds7dcqEdQuH5vWY2BHzWzG5yzj292L7K4IuIiIiIiIh0OefcOPBl4Pal9lGALyIiIiIiItKFzGxTyNxjZgXgB4F/WGp/DdEXERERERGRdc/CV5fZBnzSzFL4BP1fOuf+ZqmdFeCLiIiIiIiIdCHn3DeA773U/RXgi4iIiIiIiEDXLZN3uTQHX0RERERERGQNUAZfREREREREBDBl8EVERERERESk05TBFxEREREREQHNwRcRERERERGRzlOALyIiIiIiIrIGaIi+iIiIiIiICGiIvoiIiIiIiIh0njL4IiIiIiIiIk7L5ImIiIiIiIhIF1AGX0RERERERAQ0B19EREREREREOk8ZfBERERERERF6fw6+Odfjr2AVmdkp4FAHnnojcLoDz7uQ2jHfarZjzDm36VJ27GA/he54b7qhDbA+26F+ennUjvlWqx2X3E9B//tROxZSP51vvb0vF7Me23FZfbXbFTePule87d+s6nMe+IN/87hz7pblejxl8C9DpzqvmT22nG+62rG22rFQJ0+y3fA76YY2qB0Xt977qdrRve1YSP/71Y5ubMdC6qdqRze2QzpDAb6IiIiIiIgIqMieiIiIiIiIiHSeMvi94e5ONyBQO+brlnZ0k274nXRDG0Dt6Gbd8jtRO+brlnZ0i275fagd83VLO7pFt/w+1I75uqUdPUlF9kRERERERER6XHHzqHvlT6xukb0nP64ieyIiIiIiIiLLy6E5+CIiIiIiIiLSeQrwRURERERERNYADdEXERERERERAQ3RFxEREREREZHOUwZfRERERERE1j2j95fJUwZfREREREREZA1QBl9EREREREQENAdfRERERERERDpPGfzLkLWcy9PX6WbIOjTFudPOuU2Xsq/6qXSK+qn0gsvpp6C+Kp2hfiq94nL7ai8w19spfAX4lyFPH7fabZ1uhqxDX3CfPnSp+6qfSqeon0ovuJx+Cuqr0hnqp9IrLrevysrTEH0RERERERGRNUAZfBERERERERGHiuyJiIiIiIiISOcpgy8iIiIiIiICmDL4IiIiIiIiItJpyuCLiIiIiIiIgObgi4hIS3pslPTYaKebISIiIiLrkDL4IiLLqH7ocKebICIiIiJXSHPwRURERERERKTjFOCLiIiIiIiIrAEaoi8iIiIiIiICKrInIiIiIiIiIp2nDL6IiIiIiIiIU5E9EREREREREekCyuCLiIiIiIiIgObgi4iIiIiIiEjnKcAXEVkB6bFR0mOjnW6GiIiIiKwjGqIvIiIiIiIi656hIns9zcxuN7NvmdlBM/vfOt0eEVk76ocOUz90uNPNEBEREZF1ZN1m8M0sBfwX4IeAI8CjZvY559yznW2ZiIiIiIiIdITr7RT+es7gvw446Jz7rnOuCtwL3NHhNonIGqE5+CIiIiKy2tZtBh/YAbSPnz0C3LpwJzO7C7gLIE9xdVomcpnUT6UXqJ9Kr1BflV6gfiqyMjQHv3fZItvOezudc3c7525xzt2SIbcKzRK5fOqn3Udz8M+nfiq9Qn1VeoH6qYgsZj1n8I8A7eNndwLHOtQWEVlj4uH5CvJFREREeoRjkZRvb1nPAf6jwPVmdi1wFLgT+GedbZKIrBUK7EVERERkta3bAN85VzezXwIeAFLAPc65ZzrcLBEREREREZErsm4DfADn3OeBz3e6HSKy9kR7dgPQfEorb4qIiIj0Cmt2ugVXZ10H+CIiK0WBvYiIiIisNgX4IiIiIiIiItDzRfbW8zJ5IiIiIiIiImuGMvgiIiIiIiIigCmDLyIivkDQgQAAIABJREFUIiIiIiKdpgy+iMgKUBV9ERERkR7jANfbKXxl8EVERERERES6kJmNmtmXzOybZvaMmf3KhfZXBl9EZAUocy8iIiIiy6AO/Kpz7gkz6wceN7MHnXOLfthUgC8isgI0RF9ERESk93RbkT3n3HHgeLg9ZWbfBHYACvBFRFZaemwUgLoCexERERG5uI1m9ljbz3c75+5ebEczuwb4XuBrSz2YAnwRERERERER8IX2Vtdp59wtF9vJzErAZ4B/7ZybXGo/BfgiIsuofuhwp5sgIiIiImuImWXwwf2fOef++kL7KsAXEVlG8RD9mAJ+ERERkd5gdN8cfDMz4BPAN51zH77Y/lomT0RkGdUPHVZQLyIiIiLL5R8B7wTeZGYHwtcPL7WzMvgiIitAQb6IiIhIj3HOf3UR59xX8YMLLoky+CIiIiIiIiJrgAJ8ERGRdSo9Nnpe3QgRERHpXRqiLyKyjFRkT3qJ+qeIiMh83VZk73Ipgy8icpXas6Aqsie9Qpl7ERGRtUcZfBERERERERGAHs/gK8AXEblKythLL1K/FRERWXsU4IuIrAAFTyIiIiK9R3PwRURERERERKTjFOCLiIiIiIiIrAFdN0TfzH4L+JfAqbDp3znnPh/uew/wM0AD+FfOuQfC9puBPwEKwOeBX3HOOTPLAZ8CbgbOAG93zr0Qjnk38JvhOT7gnPvkir84EVlR7ZXsoz27z7u/2Zf1+x09kwyhj/bsJhqfSo4T6YT2visiIiId4oBmb4/R77oAP/iIc+7/aN9gZruBO4FXAduBL5jZDc65BvAx4C7gEXyAfztwP/5iwDnn3C4zuxP4EPB2M9sAvBe4Bf82Pm5mn3POnVudlyciVysJiHaMJNvO7CoAYI2dVIYMgGYG6n4zUc1/rxeKuLQ/Pn8KmtkhAAYO7QAgN14jd/Ck3/cKAy4FbLKY9gtKsdndW2HCd87q7q3kj80AUNtYIHN6DoDy9j4Ais+eSPpUemxU/UtERLqSmb0Z+Hvn3HEzux54NfC3zrnZDjdtzevWAH8xdwD3OucqwPNmdhB4nZm9AAw45x4GMLNPAT+GD/DvAH4rHP9p4KNmZsBbgAedc2fDMQ/iLwr8xeq9HJHOaV//uj1AWLgudrcGD+mx0SSwP7u7SD3vt9d9DER5xNEoNAFwuSaW9rfxMT9RpkGz7mcoVa4BG8/44zb6bemZHPZa/7voP7yTvhNVAHIHT573O1kYZCmwXz7xKIzmU892uCVXL+kXfVmgH2iNKClvSDPxct8H07OOqdGh5Dh3fQ6AgUP+AsDZ79tJdu92APKnKsk/cfU3ERHpMr+Hj9WGgL8FvgD8C+BHOtqqS9HbCfyunYP/S2b2DTO7x8yGw7YdQPsnmCNh245we+H2ecc45+rABDBygcc6j5ndZWaPmdljNSpX96pEVoj6qfQC9VPpFeqr0gvUT6XLNUNi9oeBv3TO/RxLxFuyvDqSwTezLwBbF7nrN/DD7d+Pv3byfuD/xF/tsUX2dxfYzhUeM3+jc3cDdwMM2IYev54ja9WF+mn5jlsBKL7ghwVH41NMhwxgvWBU3uIzi5kZR3baZ7qbaf8nUjx0eMlsfyfVDx2GkMFPVR1pP4qZ6YJvd6piNDb6jGeUbhKl/a8kX/CZ+EYjIor8a61W0zRH/O3aYMrfP54me85f/5zbZEQNn12d3rGTwil/6io+e2LptqFM/mIudj5Nj41S2bUZgNRcgzOv8HMr+ra/FoCJl2dIhc+wLoKRp9tG+e0/sJJNvyLtfSDpF0BzyGfwZ7f5oScu1ZpG0sgZUd3fbqagEUanjGd9H8xMOWY3+X4aVTNMXrsTgIHw99BeX4J9e0kfPZO0QS6d/vdLL1A/lS5XNbM7gF8A3hO2pTrYnkvW68vkdSTAd8794KXsZ2b/N/A34ccjQPv44Z3AsbB95yLb2485YmZpYBA4G7a/ccExX76c1yDS1fbtBeDcKwqkfEzL7Gv9sN/qwBBNHyvgDHLj/vbEdUaqEs67YUT77M/vw4VNqQoMPt8KvgCimWrnCtSFgG7kaGu4/tDT/sWeunWIyqQf/lwbhOpGHzGVwxk7lW7imj6Ad85o1vyLdA1/gcAZ1Pr9vi4yLOxbOtokVfW/nIWB/EIKqC7MCnmqP+AD92q4sDKzNSJV9vfXi1ALUy6md/oO28xA07+t5M7BiVuLAKTnILPrDYC/4ANQOFVLnitzeq4jw/wX6wP1Q4eJhvzUg+Jx/2KjmSqDYbj+iVuLFE/6Pja9LaIQys02w3/retHoP+L//ibHMuTH/b7lTX4of3Gmn3T8r7I92BcREVldv4AvaP6Ac+6rZtaPT97KCuu6Ofhmts05dzz8+OPA0+H254A/N7MP44vsXQ983TnXMLMpM3s98DXgXcDvtx3zbuBh4CeBL4bq+g8Av902/P/NtK4sifQ0K+SJZnygO/BiitOv9h/80yHZaU2olVq3Z0OGsFFwNLNhcEu4chlnEsEfUyv5x3Jhcs/AoTy1vkEASkc3k3rocf9cq5i9rh86nJzI4szo0HcqzG3yQeFMLcKZ36Ne8Q1vDNaJ0j5IyubrPqIHGuECh0s7qMWjAUiCzmYGKkP+cUthfnh9icBRGfyLy4bCcpNj/ndqdaj67kQz3ep/8QUpjKRv1vrAJfs60nP+/UrP+u/loRwWLlS563OUrvEjWfKn2oaxhotEq1msLj02el6fadKqNzD03VwygiaqQSVMx7dGOH4O5jb4fjz8XIVG1t9uhu+1jQVSbatFXLQt6p8iIrICnHNPmNnbgVeY2auAbznn/qrT7bokrrdT+F0X4AO/a2Z78R/jXgB+DsA594yZ/SXwLFAHfjFU0Ad/hehP8Mvk3R++AD4B/GkoyHcWX4Uf59xZM3s/8GjY731xwT0RERERERG5cmb2Pfgi56eAm4CnzeyXnXNPdLZla1/XBfjOuXde4L4PAh9cZPtj+I6zcHsZeNsSj3UPcM+Vt1SkO7m5cnI7d/Akw1k/Z3xmq/9zT5WN/kP+/rmNrTm+UcXOq05R3tTKXkdVKIcV6bIT/vu5V0QMftenSc9dn6NUunXe8aUFbVupbGFrfrPPmufGp0jN+caWXoTJa/0E56mX+SxntZyhvskfW66nyPb5EQ/NMETfKpk4qU89T5IJLr1YplHwWf7aRv+YuavNgu7bS3XQp6iz9z96kZ3XDjdXTjLoG/FTSqZflmc28u9RqgzVgfnH1IutrL5L+8w9gDWMRhi6H8/Rn90GqVCbITcO09v8+1Yt+fctajgKhZv9tmxE9iKrIyyXxR4zPTYKYapL6cAUk7f4GkTb/9/DnHrTznn7zm4x+sND1ErpVjb/W/7FRjPVZDpCc89uOHR5bREREVkmvw+8yzn3iJk9Afwo8BnmT5OWFdB1Ab6IXL34A340NpoEjc1QbC8e/gvgooh6MRyThoYfgZ8E/amKD+whDJOOh0eHyD094+dNgw+CozA/ffx6H7DmT40k0wVqGwtkwhD6aHxq5YOncLtx283JMneNrI8C60WDcigukG+QCcP1033++2zDiMLSefUBR2UoDO0vpKiVFpw2d20mdYHXsjBQPPzv9wFQe6UPyHZtO0n4dXPwnd/LwN/5AHTjx/df8uvudXEfGXr4DANxAbpr+olq8xd6yUxZshRiZbg1HN9caxh/3J9ptpZNhNaFgUbeH9N3wjG9I5vcX/+J1wMw8NhRf/hQ/wWD4+VUbytmWT90mGK8BOT37SQz5//oZsMSjplZqAz511DtTyWvK56DXzp6Ji6hQfOpZ1dkqUFNPxERkUsw6Jx7JNw259wZM+u74BFdQkX2RKRrtX8Az9/3teR28qE/M0Bu0m+rlqIkQ98Mk18aWT8vGnzROZcNRepmw3zfCCohsCqchLOvDD+EawinvrdIdsoHrIVTdVIhyKjddnMSFJ+5ywe8fS81kkr/VxuMpMdahfcyp+cYv8lP1o4Do3p/E6LwWvKN5Lh81r9YGywzlw4rClTSzG31x515VS6pP7DtS746YbMvu2jAs1jw88Jv7+Oa178IwM0b/P1bMpNMNPzvqN6MOLJt8aJ9a1mScaY1CqN0YIp8eA/jURPTO7JE9VZthLgIn0tBveTfr6hiybbk8bOt7VGovVcvROTO+dv58WZyoSoXqviDH50BcPIPCrz/lfcl2z925AcAeOkT1wIw+KmHr+LVh/a0FW2MS19EDZe0Kzvh+2tlyGiGivvWaF24mMr5F9xM70guELD/wBX9LV0sgFdgLyIilyBlZumwVHlkZj8FnO50o9aD6OK7iIiIiIiIiFyy/wTcEG4fA94C/POOteZSuQ58LTNl8EXWoTirNzQ+Om/N7HgueLxsWVSD6R1hObmU0cyE7Gh8abBtmb3KBsiE0QCZULG/PYs6OZZh4K1+WbTs/Y8mWcKRu/1Q9Ml3vCFZyo/X7mPjo/6By9t9mjZVbZI7eBK4tAxiPOx78sYBooY/e9ZKodL6dEQ17zO+jWqKsvnX3Wj4F1bMV4lKYWh0BI0wVmumnmXDsy55XIDsRAP2t2VfL9C22nCDSsOfdg/P+UU8jpcHOTbrH+s7L27h+gdmlzx+PVhsmkXcjQZpjT4BOLcnjMwYMAon437q76sOQGVDa45+PIQ/ag3YSJaem90ctZamC8P2MzOOVMiElz6a4T//W7+66/uuuY97rvtrAP7qPf5zy4e+74e54a6vX8WrbmXNm0P9yd9hVIO+E60l8+I2p9oWAqjH8zvCd2cRzYz/oVC4OVnZYqnnXGopP+ltmkYhIp3mnPtE2+23drIt640CfJF1bN6Hv/0HyIfgKX/Mb6ptLBDV/WmiedQoD/sgIw4qqoPz5+PX49shAGmm/BdAZtYlS3kByRD68t7t/vuwUfPTr2nkYPJaH+wnS/U5SL0uDF+3UQo+1qd0tEb+2Ix/vnDhon7ocDJ/urDx5mQpsZEwWnlma0RU8a+rOuxo9IXgqeCfrOmMRi0MeW5YMtbJpR21or9IMHjQz6FPHz1D22qCLfv2Jr/Xxm2+mFvUX6U/U5m3W91FnJ3zE8dLz2Rh/2OLPZoEUShGV98xkrwH1cEMqVD/Ia6RML0tlSydlyrDrK81mdSZiGrMG8NWDnUWUhV/UaCZaVtb/oUpmj/g5+a/40O/zP/y1q8AcHPxeQC+79Xf5mxbgB5banj8hYKv5lPPku3zfSc7UUuC/Q0T/srEzNY0tf4wB6YJ+bD+S1xkMDfZSgWk5hoXfK5LCf4UKPam9vdL76GIdIKZ3cN55ZtbnHM/vYrNuWQGmJbJE5G1IgmewgfB3NgoIR6ismsz6TD3Ps7wE0XkDvuT4NyIJcX5ZreEu2utombpOagVw8iAt76WqVEfuJQ3+H0bhVahtNrWKlHWBzT1Zpg7nXbUQvWwxmyG2TF/e/yGNKUX/cWA9Gv9fP6Nj44nwVXqoceTDHB8AWPgsSkqYa71+HU5Gnl/KpzZEYJ6l8flXGi3kZlqvZ6BQ7XwOwiN3T9/3n2cYY7CGuR1WlnhnVuO8+ohf/UkExY2H68VmQuFDPqP9/Y/lNWQBCltwUqWVhBTCxeMfKAeai4UWoFwXGeiXoDKUHiPZ1srSJQO+xsT1xibnvLv9bk9gwzj39eX/fcqD/+5D8AfuuYfA5A/VSEaqibtiUedxIF6+uiZJPBvLzDZHngtvNgGfrRCMfSj+Pjs/c9SDSNhqoMpGtlQNPAl/8dRfGEqeX72H1j84tNlUFDY+/QeikiH/E2nG7BeKcAXWSbpsVHSn/IBwWevvx+Az8308x/+87sA2PzR7q+KvvCDYHvAmpprMHGtD/ez0z6YSM9CNWQT60WSICkeJt1IQb3YGh4fYloqw5mk2Fk2BM/lDDT7QoA7m6IRlqxLFX2IksnWaYZgHyOZs9RoGBNh1HZ6yl+AmN45ROaHfLA//FyDzHQIc8Jw5SYkRf5GHmoLtMKogmimmiyDlzk9N+93cqGiZemxUeptKxjESkd98DdeyVEJ48Ir4fT79+e2Uf22H2o+9PR4UgF9Na3UknArKd32+12s7S5l86aI1OMrVaHfuKhVJbeRJ/lhYle4IDUDp78nrAZxpjUdwBqQDyNC8qf8aIx0CMLB96HisycAmN3thw1EM/00+/xFnmbfSPKPd2Ggv/C1NJ96ttUf2ir6xytjFBc5LhobJbuMFfNFRESuhHPur80sA7wC/9/3W6HgXvfrxIexZaQieyIiIiIiIrJszOx7gGeAPwT2A18xs9d0tlXrgzL4Isvkm+/bzDeu+wMAolDx6sPP/1BPZO4vJM5Yp8dG2di2pj1AdiKivMGfRlzKknnAcZa0XnJE1ZDhLzVxqXDHudb63fWw5JdL+XXO/ZNGuLAGerPuv5cLERaWtrOUw4Vsvss2sbB0Wm04rqCWwsL9565PkT8T5uDHywP2ZZNh0HD+sO8mrcJul3MRd6ll8uJCZ+76fdx3g5+TEK/hvu3/q3Ht/fsv+7nWu6VGHMRZ9ajampc/fl2OdNn3nfKGeA15cGl/u5EDQn9pFP0x9X5Hasb3m8qwkZ3w9+fOQa3PZ/Yzoe/nB7cmz5WaayTTP2Kz1/Qn7WqXFAxsG7Z/OVQgT0REutjvA+9yzj1iZk8APwp8BnhjR1u1DijAF1kmN/77k/zEH/6c/yEEjwWe72CLlld74bpMCEwquwaS4foQMbcpDKuPpyNPG5lpf9MaEY1CCNCbUAtV6jOT/hhzvhgagIsMFx6jFvn7m5kI0v4Y5xy48FyFOs1wMcCSOQLppB5AVCcpShZXvi+9WL7oEO+rFQdv7UP6N358PxuX/Znma5/XfanFtdZCULjwIk1+z+6kpsQQm5nb5IPyVNn3hSxJF6KZhrntvm9lx0MhyYIjqrVWjaiHae3lTY6+ME8/vlhQHs6QmfHH952oJ0UfQ5UGmn3ZZFWH8vY+GgV/AWDh9A+YP11iNaZOqACbiIiskEHn3CPhtjnnzphZX0dbdIlUZE9kDau+9bXMbA1zpodD5m+gNcc8MwkDh32AO/DNyXlZ4bUsDlqLT81f3qvxGj9PuT8U3isPR0lRs9w5mMvEAXgrg+3CWaheaBVFcylIhwsD6ZBFrRejZFmz+lAjGQ3QqBvpME+/MelDqtrGGtGMf5NcFCUXDpqpVjHXeL79Sr1ncXDJnt0XnLe/HKbvfD0Ap/ZE1Lf5QDJKb8Ti31HFB5Spk1kGvut/B1vvP7ymg7r2+eupQ4cZCv10OhTha6aNer7V35KCfOGjR3aitapDqgK1gVCQb8qo+BUOkzn8GOTP+Zv1YqpVZG+idl67is+eSArmJf1iz26ioVY2P7Ya789qXkwQEZF1JWVm6TDvPjKznwJOd7pR64Hm4IuIiIiIiMhy+k/ADeH2MeAtwD/vWGsulevA1zJTBl8kiDPRs7u3cmpPyAQPQHVjmCwe0nWWbSbzw7EMsxV/u/RilvWoNTQaNo2Pzrsv2rudRq5VyjztRy7TzNGqZh7utqYlmXZoDfOP1y0vnGqtZZ49k6Ia5ttbPaIRhu5TiMv0p5J5+S5ypCrzl2E9u7vI5gd9u1e6nOtyZ+/jJdJeuiVDebPPUWe3zAKwdWiK4Zwf9p1NNThb9gUOTk75jPHMVIZUmAp+sWxtemyUM9+/E4BU1VE45bPRuYMnL+n4bhO3N9+esQ6jOGa35Sn51Qtbq0IUSKZ5QNtUkgZEoW/G2X6rt9ahdymjdNB39KgtGx9n7es7RpKq++XwXqaqzWS4fq/9XkVWiqaPiPQ259wnAMysH3ibc266w01aNxTgy7qXXjB0d3IsRXU4DG3Ou9Y43HjC7nSawgkflQ4cchRO+RAxffTMosFi+xD26V1+Dnh5OBSQS8Pmh8eB+etj96qF7c8fOkwSI+3bm6wdP7M1TTPTmvIAfl5+XHgvPQelo/NLzs2NRAw+59+Lme1GNlwZqPc53HS4SlAMAX7kaG4MUdhMmtmtYd+Cf87+I83WuuRDyzuEvn1u/3Jr3HYzL93if4dzo3XS/f41lophuTZrMlv395+e6+OlM/6Xm/6uD/Q3P+cY+coRYP6FjWjPbg7dMQRA89X+/+91m05zY/4ZAGbrWZ5+yV9dqT3nX9/1H+vtD96+poRvfxFgn1+zvrzJX1Ga2ZJKlnLMTbpkvr2LSC6SlI75/ljPG8PfCvPp9x9Ipga0L5UYL5OXPnom6Xvxcnr1HSOrOqVjMb38XsrapD4p0tvMbBfwKWCn/9GOAu9wzn2nsy27GAeagy/Su9qDsbkNPuhuZFuxvDmwkKGPqv774LeN7JT/wx96eiL5MN4eMLUH9bNhPu7ZG1vZ09y4P37g+bmkIn2uLdu3Ju0/QDzGoTg2mgQ5s9f47/n7vpbsGrUVSIv3S8/2Mb3DB6/WoDWkyYinT0OYc24R0Agb8w2qobJdoxAXUIuY3ewD2tLRJrmNN/vDQ7X75RC3u3398mURDx5pu/7RDB12ppplpuJ/y7MvldjwpL+wkZv0O5fufSTpp+mxUb7zs6GfXj/Dq3ccBOC6kp8el7YGp6sl/xImh2k86y8WXP9HYeTDWvvwHWoxxBekSu1FGHeMMBjuj/bsToL1peo3LLzI0xzqT7L2lV2bk2z95C07/P6zjXmF9xq33Zzcjv8OlvP3rcyoiIisgj8EPuScuw/AzH4U+DjwQx1t1TqgOfgiIiIiIiKynDbGwT2Ac+5zwKYOtmfdUAZf1r04izZ1jc+CVjY3IF5Ovb+OTfisceF4WF5rypE/6/Og0fjUomuXx+tgz2zNJnN6S8eaZCf8A8fLaEXjU8kw4ZWeC95N2pfcK4V5++2vv70Cehp/f7YvS2qTP2WlKtaqYB4Z1bAeWVwbIco2sDAvv1mPoOAfvRmW5ivnMzTyPrtdHokY+rbPyObDnOjs/Y9e3Wtra/fVrG2fZFrDXPFj+3LM7fCvZWT7BMMFP/c+n/LbTsz0M3vcZ92zZ1PJ0m1DDx/1jwOU77gVgJduSdG4zmeSNw9Nsynnh+a/VPYjD54b38SJg37ow8YnjOu+uEYz90uY9zrbbi81fL49K77wd5SmVaE+1TYcv+QHTfil87LhevvGAqk5f56IxqfOGwkSLcMQ/vXyHoqISEdVzSzrnF/42Myy9MjHXevtEfoK8GV9itcor2wscPrV/oN1dSiEYoV6a8j3ZIbc6VBE71hrWH08NHfeWWrfXhoFHzTWSv5PK3+2TiPrb6fn3PzAHn3QhstYo/3QYQb3+5u5O25lctT/rjPT0EyHOfbxKnzpJq7h37dMsYZF8ZJ6fpsbqlLN+qsC6clUchFm4PnzlzW7Wlez/Fh83LGf8sFj7cY5xjb59di2FKapNv3rPjzppxuMTxRJhWUFiydg4M8e9o8THm/6ztfz0uvCBafrznH9iB+Ov7NwjplQzfCZM36u/dkXhtjw9/6xhv94f2/8R+6gS32P2+fgx+eBbF82OXdUhjIUQ4DfHOpvTQcINQKYqS5jq0VERFbM24BU288R8FMdasu6ogBf1qU4AzbzjjdQC4G96w8hTCMifcoHf1sebVI6OD7vmPOED95nbipS88nTZK49pNj0pM+ythffupqsrvj5+vEc6bPft5P4ikx5Q7jAMhDR6PO/5WauQSryAVNfKEZXrmSSx2rORZRHwvGhwFpb8fQrFo/iiKvOX5Gk8Ju/QNHfP8eWgs+0T9ZyPH/aZ/btGd/xdjzZoHQgFNFrCziP/9o+ABpvmOQf73gRgOuKp6g0/b+Ab09vSYrouQN+rv3L91dIPdSqiyBXrv29qB86nIzuSLbvGEnm5beb3jVA8bhfWiKew6+LgiIi0iOOAN8TqujHfsfM3gM875xb7ipFy0dF9kREREREREQSf4vP4LdXkX4l8KvAn7P8ZYglUIAv69rAnz1MdtrPSa6EJdxGvnIkGULbPhf8Ygpnmgx9xw/xjufQLlVlW65enMkcaM9ohoz3sX9UZPqGsEZ8rsaWAf+/JZcOtRPM8eK5YQBmxrPJuualA2Ex9CscVt8+HH9Z1osP/eeGoz7je/KHRvlWaQMAhVOOnSd8w1MP7U8OWWwofVxxf+5UkSfTvubEV2dfTvOkH6sw9M2InR/fv8iRshIW9oloppoM129s76My5M9FpYOTreXzgquZ8rGYeLpSJ5bmExGRNW3EOfe97RvM7Ann3P/cqQZdEjd/paJepABf1r14ebZ4WHYdLnpNcd4yUyEIK65M8+RyhPdiw6ZbmdvmT2+1/hSpyJ+ph7J+uHNkTfDxPcdSDSZKfoj7t39xJwBbv+YYCA95OcHUSg2fjh93wx8dvuASZ+3LszWH+jn9Wj83f+BQM3yPyI37nrrt9BzNp3QBqhs0n3oWQqCdPzaTLJ1Z3t5HcYWXz1RgLyIiK+RPFtn2ydVuxHqkAF/kAtJjo0mV/cqAn6ftUoYLBa/7XtpO/pSf1x3NVPVhuUsUX5hicFsoPJcq8KL5rHc5ZEaHcnNE+PlVhUydqbQfcVEf9u/xuRsyDDzmH6s9aL6cAH5h9fPl0t6GeL30iWt97YAzr2kQDfqs/vDQDHOVCX9/1Z/q3ZEiI9/wRdsGH3p8eRsml+RiGfhmX7Y1AojWCgpRKK7XntFf7mx+J62l1yIiIgAcMLPvX7gNwMxuds517wcRzcEXERERERERSfzqItsM+ArwTqB7A/we15EA38zeBvwWcCPwOufcY233vQf4GfxK5P/KOfdA2H4zfqhHAfg88CvOOWdmOeBTwM3AGeDtzrkXwjHvBn4zPPQHnHOfDNuvBe4FNgBPAO+M12gUifbsTrJkZ75/J42sz+pWB1r7xFXy6wWjGubuZzXfvvPCHPwTrylS3uQ3uZSjNuvfo7NpPzy96YwoLHLaaFqyLGJqxlfhb6bj6vyw4atHriizGPeh5r69K1KL4fTP72Py5f41uO2+AvvI8Awc2lWtAAAgAElEQVT92WQJBxpNP9RkdipMQMm51nrr0hH1Q4eTfhpXxp/euz25vzIYMXiwVVE/Xj6vUfDD9nMrPGS/U5S9FxFZW5xzP3qB+/71arZlvelUBv9p4J8Cf9i+0cx2A3cCrwK2A18wsxuccw3gY8BdwCP4AP924H78xYBzzrldZnYn8CHg7Wa2AXgvcAvggMfN7HPOuXNhn4845+41s4+Hx/jYSr/o9aZXh1xG41PJB+5mimQ4flyILapDdsoHVqUXy8lxvfp614J4qPr0Dj/8fG4LNHJheFWpQb4UplFEfltkjmzKl6NLRU0GBnxANRkOqdXzzG3yUX9l12Zy4Xk6/f5W3/paTu31FyvmtjaJNvnXlc/7ztmXrWLhwsVMNcfMbGj5pD9m4DsRmx/0r0Hr2ndGemw0+d3H0zhmtqSIav59q/UZJ29pVfSwMFo/PufUStvJh2H79R67qHil011ERKT3mNkwPqH7T/Cx2FeB94ZYrLv19gj9zgT4zrlvApjZwrvuAO51zlWA583sIPA6M3sBGHDOPRyO+xTwY/gA/w585wH4NPBR8w/8FuBB59zZcMyDwO1mdi/wJuCfhWM+GY5XgL/MeuUDXFK0LHxonh3MUC35qD5VhfivPBeiv9K9jyQBZXtmVgFTZ6THRonCGuKlsG1mW45GHJXPpqhEIcAdmgV8UF/K+KB4Q26W6YLf+UTWB1zHgcqMz5jWSukkwL+UtsTi/p/m6vtG/Lgnbswwuz2Udi02yOb8qg2F8H2ummFqzmfrq+U0vORvl477c+2Wr8/2zN/lWlU/dBjCezD9E68H/AocUd2fX8ojqaR6bzMDmWl/u1aM/19GVEu+bw60LXxwoeKL3aKb2ybdpxf6tIhc0B8DjwE/Hn5+J3BP28+yQrptDv4OfIY+diRsq4XbC7fHxxwGcM7VzWwCGGnfvuCYEWDcOVdf5LFERERERETk6lzrnPuxtp/fb2ZPdaw1l8FUZG9xZvYFYOsid/2Gc+6+pQ5bZJu7wPYrOeZCj3V+g8zuwk8NIK+F0OZZC0PS02OjrWrnbRrZ8D1nydDY9mPS8RrnK97CS7Oe+6nPiPrbM+94AwC5c1Dr93/qzZrhan4e8/SMz2inU036QgY/F9Up5Pztoh+yQdMZx+b86XHqZIbiC76PpLlIBfSh/vNWUliOv5F4ykgjC+lZ/7pq+dYc+1rdvz7njGrFt7t5Lkdu2u+7+ckwL7/DQ7rXcz+NtZ83i8dbU3ymX+b7ZqrsM/cA6ZnW7XjAW7Xfkhogk+94A0NP+5US6le4gkensqTdnp1VX+28bu0b3UT9VLrcjJm90Tn3ZQAz+wFgprNNWh9WLMB3zv3gFRx2BBht+3kncCxs37nI9vZjjphZGhgEzobtb1xwzJeB08CQmaVDFr/9sRZ7HXcDdwMM2IbevpyzzNbCP9/24D7+gF0eiqiGzX0vOaKGf9uzE43zju+Wixzqp14c7IzfNEhU8RFRlDWa+AA4jIJm3PUlQfFMLctI3g/dn637aGpiNk9qyp8eG1k485pBAIb/+MJB1Lzgvq2Q2pX2kXgqyORoXGgN6lv8cPxcX6suaL0RiulNFEi/5K9OpavQ/0IoJBgK66Uu8Fzt0wtgZf6+1U/97zUJbsO2aKbK0MO+4F50yw5qfb7vzo0YmfBRKB62bw1HFE5F+bN1ytv7ACiOX1nAvFrnr4Xnym44b16I+qr0AvVT6XL/EviUmW0MP5/FD9Pvfms5g29m/9Y597vh9tucc3/Vdt9vO+f+3TK353PAn5vZh/FF9q4Hvu6ca5jZlJm9Hvga8C7g99uOeTfwMPCTwBdDdf0HgN8OBR4A3gy8J9z3pbDvveHYpUYUyBrX7Msyu80H9s1UCAjrkA5FrGtFIzPj/8hT1WZyXLd/OF2vmn0+uN3w1SNUhkLAakajHrLeAz6kapRTTNZ8tmNqssChii+5b1UfCEdVI1WOj4HiyfAEF6uI33Z/vG55fcdIMuf6cs1t8hccZsIkotqmGumcfw39xXIS2FeqIc0bOeoDPvrbcCDFyBP+gsfCUQUwP+CK9uy+4gywXL7k/BF/37Ob2d1+wFtuvMbciK/6ENVagX0z/LdulIzsROucFF+8iWuIcOgw0Z7d/phLeE9XK5Ouc6aIyPrinHsGuNnMSoA559bmMjBd6GIZ/DuB3w233wP8Vdt9twNXFOCb2Y/jA/RNwH8zswPOubc4554xs78EnsUnN34xVNAH+AVay+TdH74APgH8aSjIdza0GefcWTN7P/Bo2O99ccE94NeBe83sA8CT4TFkmXT70Esg+QA8vS2fZMvKG/x3Z60APzPrKB2cBFoflrtlWL6cL152rL5jJJlmYQ2oDYfTSBjmnCnWkouzrhmRGfBjnqtzPlBuNtOkwv2ZSUiX/Q+T1xbYcHTp/p0+eqZVIT1cbIhmqjTP2/Pioj27mRwLwds2376+gTIDBX97MD/HZMVfnEoC/Nk0pe/6PP2WBw4v2sa474/fOABvaJUfKfXErLi1KRqfIhv6C8DQd/x7XCulGb/Ov5+5c74PWrM1yyw116BW8v/G4wtKzX17icLfwVL9rv0CQDefp9t1y2gpERG5NGb23gU/A+Cc+w8dadClciz9D7RHXCzAtyVuL/bzJXPOfRb47BL3fRD44CLbHwNuWmR7GXjbEo91D75a48Lt3wVed3mtFhERERERkUvQnrHPAf8T8K0OtWVduViA75a4vdjPIkB3Z+5j0bg/59Tzg1SG/LUqC6nXen+8PB4UTtUvaZhrrBdGL6xl7UOfNwy+FoCTr8kkZ6so4zP5qVSTgaIvcFZtpGiEoe75sNxcuZihGjKq1sxytujv3/ZIZd5Q6CWfn9ZoAriyC8G1jQWqg+GHcDl1c/90Uhyw3EhzbtpPM6gc9fOwR7/oyN/n106rc35/PPuz+xi/IczLLzUpHPXZ4Y1Pn19fQlZP+9J5jdtuTobdR9UmhdP+dm7C96Lpba1KCmduKhLV/PtZLfnOki47Bo76+3s16x3t2Z2co5M6KeNTOr+KiPQQ59yH2382s98DHuxQc9aViwX4e8xsEv/xshBuE37Or2jLRFZQ/KExO92awxorHXcMPOY/IV/KB8nF1j6XzkqPjTKxyZ/ezIHVQkX9SihWl25SCUX2Cpk6hYIPmp3z+2X6G1SG/PGnBkrMHfcB9NlX5tjy1XH/WG3Ptdj7Hvexy7lA1C5zeo7sOT8Xu9bvh+C/wEZSGf/MzdM5Bg76vjv2lfFFn+vM9/vapKf3hhqlm+cYHvZV2xrNiPHGEADFv5nq9dFoPak9YI2HzdM27B4gVY0DeP9eF081qQz4fjq7DVJhVYW676IUTxjF+CLUEvUikuB5+V7Kki41KJ9X5HF8ivEwfaSR9a+vdLRA6qHHV6aRIiKyGgaZX0y9KxlubS+T55y7UNFlkZ4VB0Kl8VHy4YNn+wfRy5lnX19wvHRe/dBhSkc3AzCzJYc1QoAfvlvkSKd8eJNP15LjhvO++EI+VaPc8EF1ypocC4H/eKpIVPNB8Uifr5LfnKkmy/RFe3afH9BfrDDfEppPPcv2eF58qMg/eW2B+Kw8eHAuedz2QC3uhy/eOcrsdn9P/zW+2N6OwQmiMJzhxfFhcmei5Llk9bUHvfF7EO3ZTTHMp5/eNZCs3jGzNSzbOBZR3uTfw2a6iSv4+y3y2yqbUlQH/ciOLYWbFw2KV/NC5KUG9pVdm5MLG3MbIjJz/vUUTvmzsYJ7EZHeYmbfoDWlOwK2AN09/36NWLFl8kRERERERGRd+pG223Xgpbbi6d1tLWfwRa7EYkMyu3UY+3Kuyzxvfesueo3rVZzxy1+7D6Kwrnjk09+1fJpqxp/+xpsRW0p+yHK14e+PzFFK+0rmaWtSG/Dbj1XSTNzgZye5yGdJh59LkQvve3smvbaxAEDu4MmrXnkhns8/NNM/L9ue9LcwJHt2W55Te31WvrqzSv/wLACbStO+fc44M+fHck8d7Wfsa63RC9IdovGpZMm8yoBR65v/b7qZhmbe9zQr1ejv97UkamHKSSWTYSacbk82cmx76Pzn6IbzVDwloR5qXVSGMtTzrdq96ZDBzx/zU0o0hUREpLc4517sdBvWKwX4suwW+9C4cNvCD5jt85h7oTBU+7DSOJDUWuLdafD5CvW8n8uemvXBby2dYSYMaS6VyszUfJAxnGsN0Y/lUzVG8j5Qnh7IMV4OQ6Wv8UP4i6cy5MK+7cF3as5fpG4O9SdD+K9WND4F8RKPuwaYG/GvJ17G78yrobHRD+8uDs5RyvuLFOW6b+tMNcvUlL/wMPBciuz9X1uehsmyqR86TDac/7L79lId9O/d+PWZZJ/UVJhaUfIFIwEy6UbyfTrsVx1KMX3n6wEYevhocl7t9Pk12rM7WUZy+mX+gllcYwCgdLRGdsL/DWr6iIiIrDpl8EUuX/wBMyksNT513n3dJg7qm0P9SSCfg9a65/og2pVSDz3OUNZX1G9mwjr3mYh63p/+6oWIRjMETGGufbWRZjDrg/2GM0oZHyhvKU0xV/GPUZ32GdOZrRG5XX6+f2rHSJJtb4Z51NH4hQvYXc4Frem925nd5J93dguUN/tHdln/j8hlmqTzYc5y5JIRCeVqCPBf6iN70r/uHZ+9vFoTsvrSR89Q3rQdgNx4eI8jo1by9zfn0tRK/j3OZ31AnM/UmE35S07VjXVmN/r3e4jOZO4Xq03SxNeTABh43v+dzW7L0wzXMLITteTvSH10benW0XwiImtJdPFdRERERERERKTbKYMvq+JiWcrmUD9puvPK/nlZr7bh1t3UTllaPNx30zd8xvulbI5KGLY+myokw5vz6ZDhx5Jh+v2ZMoVwOxvVmQvHHRr3Q4srQxHnrvcZ0+HnKuedVKf3bk9WaljM5fShybEU0zt9Jjcam2W4z8+/ni374c7VSuvZa/UUjaYfkVAJow7S59Jc+5nxy35e6ZzSgWP+xl6fya8VU6TD0niNPmNm0vfD/s1+lEnTGbm8Hz0yO5emElbMm929NZnPHp9rV6MPxM/RuO3mZNvM1ixDT/uVHSZvHAAgO9GgvCH03/0HlLlfo3TeEVl/zOxe59yd8fdOt+eiHD1f+EUBvqyo9uB4sdvx3080PtW1y83pA8kaEJaTq91xKwBRFfJ+BDBzmQwTzo95rg76U+KmgWnyKR9i9GfKbM1O+uNdiqbzA59ODftjGicyVP2S95y7Psfm0/6HeI5x6cCxRYOVuJ/P7t5K9v5HL9j8eD37yeua7Hr1EQB29o1ztuIL5j0z7YuyZQ4WSIcJ2NkpsPAHlg1Dnzf8Q0VTSXpI+7mnOBT6VXqAvL9Gw9ypFONhltNkv7/IVMpXqdXCv/ZUk+qw7wRzm9Jk7w9L8S1yjl2p2ifJ+fyhx5Mgf8NXj/jaFEDp3keSfbPL/uzSrRq3Lb6Eo4isSa8I32/oaCvWEQX4sqIWq1I/74PkjrCW+FPdW4F+sQsO3dZGuTRxNrRe2MG5G3yg7tomKtVDJfJqPc10KLxXz6WohcXnN6RnqOT8aXPnsI+yvr2lQHrGR9DxGvUAjUJ4rN1bk6Jp0Ko7UQlV9lPVpS8Tx/tOXusztoMvP8fuwRMAjGRmqDf9cwz3+yKA5T21JGs/Pp3Dzvigb8M3/OPpA3Xvii/MFJ9qnZPmfmSU3OlQkyHyF5wKLzuX9IczzT6s4vtxrdiqUB+vusAyriJynn3+3D4bigTWb9lB8bgfcTL+hh1JlfzMRh/0Z07P+SKSK9EW6UrxBZ/MaV+HYeHFx/j8p4uSIrLarMeL7GkOvoiIiIiIiMgaoAy+rJr2KvTJPPYwdHqpfWOdyuio4u/aEr+H2d1biar++mZUMRr1sHzenD8lzhXSFDJ+20xj/sDhyNy876lCPVnKLDMDtZCZj7NSlV0DydDjaM9uTt06BEDVTz0mNw4bFmlremyUE2/w+1au85nPsdIUucgP+D9T62M2tK0v6+dc15opZmb882e/m2fH//DzspW5X1vifrzlq/2cec0gAI2cz+TXGxF9Bd9f8vkaMxt937TvZM7PmLY95lJD9K90ZFVcBZ/9/riZn34D09uKAJSON6kX/IiC4gut7G2PT3mUy1AZyhDVwyiO035bLyyRKyLrRI9n8BXgy6pJhugzmswBXXTYPt0VTHdTW2R5ZO9/lK1VH+ycuTHHxIAPNlL9vthevZHChSXzxisFpnN+qHt/qkw+8gX3SpmwDF66SSas8ljPQSPrLwykwhz83Hgted7JGweY2eFvN/Iu3N8aOt1u8pYdnHu1b8/AoA+CInMcLfugv95MJdMIamGo/sS5IgOP+aJrW78yrqGta1w0PkVl2PeHZt6Hx+Mn+6kO+3/tjWZENOX7RiPfOu5S+0X7Bc7LDb7iaQDTb9iRbMuf832+njcG/uxh35ZLfkTpdY3bbk4uLgFMbwsXpQr+aufAN+cXgIynbKiPiPS83o6Wu4CZ3QP8CHDSOXfTxfZXgC8dsbCgXn3HCFEoutRecK8T0mOjyYfT5kx1XtV8WTvirLa9cl8yj7lS8KdEl6tRD5Pzq80Upyul5LhSqjLvccyg8v+3d+/BkV5lfse/T9/V0mg0N3vsmfF4yHjJDgS82BjjkC0Ks3jYsBh2oeKkCrtqIWQ3oWqrUpUA5VQ5YdklXqpCFWGzxCnMLWTNBorYuTjG3LLLGoNtmAFsYzy2kTUXey6a0V3d6u4nf5zTrZampZFm1N1vS79PVZdevTcdtR69/Z73nPOcreGzq+/kfGW9PgYf5seSTl6ZorQ3PBhgJmyf2JtmaxyvzCOHGv8T41elyG4PWc9vuvIFAAYzs4zMbAFgtjp/+T7+cqjkbftuni2ffwTQTfFGUBkeoZaOPaOysWdJrkouG3p59GUrnNwR4mx2rI+pnbHHR2zJb+7Z0eqaWxvatKpx8c2t/fX4Lw2G/6PslJOZDWUsfv3R1ieQdakeF6nTM5yMvZLKmyB2RmK2Plr01wcZuE8PJUXWof+w6GvCeRJb8L8AfAb40kp21hh8ERERERERWXPu/l+bv8rquftfA6Mr3V8t+NJV83PLjzS67S8Yo98BC3IDAJXDTzX+MdQ9f/27/PvnmNwfuoi+1BfGK5cKVSYyoXt8NZfidCq0h1c8xWsGwzR1W3IhU7mlnPxo7OJfglrsol+fc3xy/2Cj2/7k3hpbt4cW0Zk4N31pdhOpqdCqX2M+Dms5uHxLmJ5vZz58HZ7Zyk+O726UfXYs9Lu+4uHQWjr0g6OaP3wDmb31DaTrI0BiY0Ohv8zuwTDHfC5dxWKuiBOjeUpDIQ4HvxJa7pfqdl/vcTK3vY/qlWEqxiLLXw+bz5XZu4fMkZMA5HeELvqZGadw/w8v8jeVXlaPi+r+68hOh3icGzBKMflIfSKR3IQ1Zl9YKj+PiMg6td3MHm/6/h53v+diT6YKvnRV/UayuVt+qzH6K3GxyaDmHzK0WCfrXu3wU+TjVF35s2Gs/WymQJxanrlCmrHpUJGeHcywPRe6yA9lw1jSzcUZRodCJShVNkqbQyVqoN61ubCZ8atCZT6zc4rLB8L68Ww457HBPmr984n86sulLTTyABydDT/zJyd3M/erMFwgd9Z45f861/gdAFXuN5iBQ8eZ3hGue+nZEHeZdI2JuRDH+wqjpAZCherktkGq+b4Fxy+4zt10bSMxXn0Kx6mdOVLV2K3+AmVZnEOlfj0efDo8nFI+iI2rHgvTQ1n6ToWr1My2LJnwDLQxxGn8aiMzG66LF3qgJCLSNk43uuifdvfr1+pkquBLxzXf/NWa1jW21+dohgXzNLeiLPeyFvKxtXFzbG3MjacYJ9xozmTyeBzffKKW4qqBUKn+u4UTAGwtTnNqe2hGtZdzbDkcWk+nD4QnBJ6Gckh0zrbBKbbm45z1lXD5tck0qalwp9s8bt5q8NJo6FlwajxU6ueOF9n2ZNg++GJJlaYNrjI8gqfCNdAzIUZnZrMM9oXKfsVTDGRCzohcfo5aNlTcqy3G4Dey3jOfKLI0ZPS/FM57sT2rFKNS/2wuDo8weduNjfVzcSaRzMx87pLJK0LsFW+6Vq34IiIXSRV8ERERERERWTNmdler9e7+7zpdllXr8UzFquBLVzTGGTe17jRa9afKjczNXKDbvVrtZS3U42gofj84tIlqPnw3ebWTKoUWpkolxcnZ0Jq+uxBa+LcXpvjlRMy+b3Du1aG5fuv3w1j9yd/aQ3lL+KTY1jdFXxw0PROnuMuOpxrxntq7J8zcAGQni5SOhRbXTBzjP3jC2fGdo/PlXrN3QHrV0HOhhb60OXTLnxrMMrspxGPNjbKH/Aw7N49zbFNoMp0bCNvTLMxBUs9FUQsjSrBqmNIOVtYS3zxMStdmWSyzdw+5sZDbJLU9Raq8cHs137TvsTO6von0vomm5X7gncCPu1SWnmZmfwm8mTBW/yhwl7t/bqn9VcGXrmh1s1jvmp+aKlPafxmwsAupSKdMX72J4suha3JpS4pKMc7fPZNlvBQq9i+XQ2WoUkuT2h4qWeWJPipn48OAGM9W9UYX/8HcbGPO+jPjMXnZywsfVFX3h+7TfSchOxnOVTgTji+MVlRxkpZy8TZqeiJDdUfo5jxeLjCUD7kiZuZylLeHKlN2sto4rjkHSbE/JDg79RthxL2nYfCFcHz57a8n9+Bjy5ZBsSnLqQyPkIsxkr/9jZQ3h+tbeShc3zLThse70squbRccoiciyebuC6bFM7O7gf/ZpeKsiiVsmjx3/8er2V8VfEmM8ubYbLQ5y+zWEJpxiN6S2Z5Z4XaRlWiMFR3aRDm2xOfGoFqIO5RTTJZCy3s1JsArpOcoFmMrqvdRPBWz78d5wOf6DQqx1cqc2WqI8+rc/Cylza2os7F1NTdZw6rhZwz9PIzr13hmWaz+EHT7TKicT+0qMj4een4M5EvUCDFUrRmpmIgve3oSWNQD8aZr56/B0VwRpq8IwZ+ZriKyVvpOVajmQrzNbQox6inIjYWb6vLmLLkljxaRXuTuZTM7ZWZpd9eHShupgi9d1dyls946VH7766n0WWMZALUcSYfVu9hnrt9FaWuoGFXnjHQq3ICm4/RjV+bP8kJ/mO/p9PQQ5YE4TV6s6KfLkO0P3fKnKzkmY9f82mS2sb25FTV1ZYj5XBkGXgzH1bvw9/iQMGmj+gOlwhkY2xk+2sdnCqRinE6Vclg5XFdn49R3ucPzx2eOnWF2x5VAGGoCkJ2c76JfPDGHyFopHJ/i7CvDMKhcmGiBWhamLw/x1jeaWupQEekRZmbAB4BbCLnpvwnc7u7Jv51JWAv+anXlCmpm7zWzJ82sZmbXN62/2sxmzOxQfH22adt1ZvYzMztiZp+OQYOZ5c3sq3H9D83s6qZj7jCzZ+Prjqb1++K+z8Zj9aBYRERERERkbXwc+G3gPwN/D9gB/PuulmiD6FYL/s+B3yX8wRd7zt2vbbH+L4APAo8C/wc4CDwIvB846+77zew24G7gH5nZVuAu4HrCU6MnzOwBdz8b9/mUu98XHyK8P55fOqzecpnZu6cxrVhubA52hdbNWpyuCU2ZIx1UO/wUvPZAWM5CNo5vrmVSTM6ETFClarh8DmRm2ZQNXfRfzs+PWW7MKf4PivQVQjapq/vPcGRiBxC6owJUigt7shSfeqmxnIplUA8VuZB6V/0tudczuy1cP6cG8vTnQ+y5G+l6C34cAtX8ZLu0/zKmd8RhJZviSoPMbGzOf+TQgmlJQXEpFy91boLNL4RAO/OqEHeVAgyG2UcpbU4xcIEkuyKSeL8DvM7dK2Y24+5/amY/7HahNoKuVPDd/WmA2Ah/QWZ2BTDo7j+I338JeBehgn8r8G/jrl8DPhNb928BHnb30XjMw8BBM7sPeAvwT+IxX4zHq4LfRZXhEYpxefz6XZTjDWbh7PzNpUgn1ce7D3KAqZ2hK2kta5SOh0gd3RG+zvVnqMTaero031U6FWeKqBRh50AY81xMlSnHJHux5zTp2dY3sJm9e6hozL1cBKt3fnRjqBAeOLkbLw2FrvmePr/zXv7ISTI7d8cTzH821+JdQuq1BxSPsmYqwyPUrt8FhGsgAIMwtj8Offrbmir2Ir3P3L0xIUbsMZ1fZv9kcKDW2130kzgGf5+Z/QQYB/6Nu/8NsAs42rTP0biO+HUEID4hGgO2Na9fdMw24FxTwDWfS7qo/mGeuvZK+mLW8Fp2uSNE2q92+Ck2X/0GAEZ/LU1mMlSOzsyEytJ0LcdANrSSNsdrfdy81YbIpcN4/PFKX2O7p1p/eOimVi5FbmyOTMzvUJpLUYsD6q8YGOdEYQsAVm09Om+uP06JF+8MahnYNNHbNzmSXMUToWZ/5lXx8b6D50K8Te9IqwVfpPedNLNr3P1ZQt7svwX+vMtl2hDaVsE3s28BO1tsutPd71/isBPAVe5+xsyuA/6Hmb0KaNXUX7/rWGrbate3ZGYfJAwNoNBoYxZJFsWp9ALFqfQKxar0AsWpJNy7gHq2/H8GPOvuw10szwp5zyfZa1sF393fehHHlIBSXH7CzJ4Dfo3Qyr67adfdwPG4fBTYAxw1swywGRiN69+86JjvAaeBITPLxFb85nO1KtM9wD0Ag7a1t//aPSI7WWF6R+jBY6uYRCOzgZ/2K07bKzsZOvwMPW9M7Qytn6f2hS74M5dlSdWfEdZCV2egkVOilqaxfaaWZaYSm/ljy2q6tHH+XIrTDnjkEIUDNwEwNZ1p9C65qjjKT/uvjDvNf/TXr5ul/ZdRjYPym3uiTF0R4jRVHWSgKev+eqdYbb/UVIjNgZHQs2n01eF6CVDNQ2XXtvDNBvxMXynFqSTcuwl1rxcJ9bvfM7P/5u4vdbVUG0Ci5iExsx1mlo7LrwCuAZ539xPAhJndGMfX3w7UewE8ANQz5L8H+I67O/AQ8BIFtT0AABR8SURBVDYz22JmW4C3AQ/Fbd+N+xKPXapHgXRB9vQMtUzoHjr4wkwjadlyMnv3UBke2ZCVe2m/9LefIP3tJ8hMV7FqePBUHc9SHc8yU81RzJQpZsoL+gflHnwsTP1ocK7Ux7lSH2fLRWpu1NywanhlZ3RPJmunORFeaibViLdiqkyhMEehMEc1R6MyX79uTu3MMTcAcwPg6fCyKhTOOIUzzuDT4136jWS9Sp2bIHVugrl+Y67fSM1ZSE5iTtNoJhHpXf8KOGZmO4F7CePvv9rdIq2Qe2dfa6wrY/DN7N3AfyRMl/C/zeyQu98C/CbwMTOrELp0/EE9SR7wh8AXgD5Ccr0H4/rPAV82syOElvvbANx91Mz+GKhPoP6xpnN9GLjPzD4O/CSeQxJibnsfxVMhS9T4vvApP/hI630bWcaV/Ek6IGS4Dy3z468Il8+JSp5cKnQ1SZXP70GSqsDEbOiRMpSfYbIUllPT4fnqwIsXfoAlslKV4RG2PxZ7l2wf4lypAMDAllmKudBiOldsneA2G3JBUtoebjay40Z+POZD0TVW2uSyH08D8Ksrio1mp9z4/EwklaUOFJGkm3P3qpn9Q+DL7v4JM3tvtwu1EXQri/43gG+0WP914OtLHPM48OoW62eBlsHi7vcSnhgtXv88cMPqSi0iIiIiIiIrMGFmf0SYjvx9sRd2EhO8rzt6kyUxGl1Lv/0Embe/HoBKYfkQVauSdFrh+BQAAy+GqfOOTW1m78BZACr98/uVYwzP9TvFdOiRUsOo1ULraW5MU0BKe9RncNg0spmzMyHx1qbULIOFkLV8bDq0yteHNgGkqk5py6KWfYOBI6Frfg2RtdWIvTil6KbhImcHQgzO7IBaXE8PpOQSkZZuB/4I+DN3P2xm/YQe2cmnJHsia6O5a3PoCg2zbwq5FZtvREW6pTI8QnX/dQBse7oEwLE3b2JzLlScMlPz+9ZjmJvn84OmcCYnQpfprSO9/eEhyVW/Vg7u2sazw5sBmNhXaEyZ52lbsB/AwIuznPs74WGAVcL2vlNhyBRAujNFlw2o/qB+W/+1nH1VuD56av5BlR4uifSmmDH/XzZ9P2Vm7yBMlydtpAq+JFL9yX1hNIy+U+VekqKeJb8ek+V33siLubnG9npPlEbrUw0yqXCLWq6lqU2E7GZbntHYe2mzRw5xxVU3AnDm729iKB9b8Fuk1528qoAtqkl5KiSYFOmUvpdDcNrcBXYUkcQzs08QpnHMMT8ledHMPgT8qbt/omuFW44Dtd5uhFEFX0RERERERNbSrcBl7t6Y9NrMfuzur+timTYEVfAlkepd84rxq7LoStLUZ3AYfC7F1OUhM37em8eVhu3mMFMOE4tXainyJ0NnZ2WIlk6oxe74z4xfRjETmkUrxdb7eWzZT4fRJ/S/XD1/R5E2yRw7Q340BGd5k8bgi6wDTzRX7qMnu1KSVXHw3h4cpAq+JFK9ktQ8p7NIEjSGi8Sbzm3br2PsmjBOua/c1EU/7l/tcyrVUHOamsxTmFl0HpE22vr9owCUP5DmNf3HAPhF7ZWN7fV4LW8yamH0CH1hFArZST1+ks6pDI9Qy4V4rBZh9sqQtTR3uJulEpGL5e7vW8k6WXuq4EtPSL32gDLmS6LUK0ap0zPkR+Pc9k3jRmv9ucby5YOhJ8pJGyAz29e5QopEo9NF5oZC75G5ptke6g+achO7mdgX1/WFVv9qLqXketJRg8Ohse/ktnRjxpLebkcTkZ7U41n0W6TaEREREREREZFeoxZ86QmpcxN6ii+JUtp/GRCy6qfKQwCkKs1d+ONY/N99I+mYRb9SSVOY7nxZZeOqx+OZc7/B+GVhCrL07Pn7FUYrWDXkiqjm47rjU7ruSkfVh4VYJa1p8kRELpIq+JJoGosvSdOIxfr0YXv30HcqLFrt/GnyKoNVqrXQWWpuNkNmtre7fUmPOllgZNcWAOYGzt88sSdLpT9UpQqnQ7zqwap0WvZ0SFKSquaVp0REukPT5Il0Rm1okzLpSiIsvumsDI+Qmd0NQC19fhI+q91AjTCm2SezHSunSLPCKePkVKjZ11vwM3v3NOK1moP0TKjYZ9TLRLqseMLhpmvDN48c6m5hRER6jCr4IiIiIiIiItDzSfZUwZeeoAz6klSZvXvoOxXGjdZyqQXrAagaU+VcY3nL4bGwb0dLKRvdlmdqjF4XBtfXYhf95t4o6TKkS2G5cC5Ep3pOSafVx933v9RP5tgZADRZo4jI6qiCLyJyCSrDIxTj8vj1u87fIeNMz4YKfm4spcRR0hXFE7McGw9J9ootkuzlx2uUtsSx93G6Rz1YlW7Jjc1deCcRkXZRC76IyMZWbwnNx8z6zetsdhczE6HldPtz3ki+p5ZR6aTUVJnU2T5gPkt+s8yMkyqH5eKJFk8ARDqgft1MDW2ismtbWKlkeyIiq6IKvojIJap3x0+dnmm0zFdvvg4Aqxg+FS61gy+W1SoqXVE7/BS5szcBkB87f3t5IMXgizF6ldRMuqzWn1MXfRHpEu/5FvzUhXcRERERERERkaRTC76IyBqZ295HOi7nj5wEIDOzh1o5rM2e1rzi0j2pZYY1F0YrpMuKTkmIRw5BPVGpiIisiir4IiKXqDEGnxbdSR36T4RFdc+XbiqMhq/Woh5fy6VUwZfEmP69Gxk4Mh6+Ub4SEekkB2q9/XmoCr6ISBvlxmDgWG9/UMj6kJkNYwqrOTtvW3kgReFUtdNFEmmp+PVH1dtJROQiqYIvIiIiIiIiAj2fZE8VfBGRS5RpMVa0Ph1eqgK1bKdLJHK+/FhoEy1tPj+/7uALM50ujsiSmq+pFU2TJyKyKqrgi4hcolY3oPXx9qk33cTg02EsqbqcSjcNHDoOQPlNu8/bVt6cpfjUS4CmJZPuU6VeRLpKLfgiIrKUWhZS5ybCcpfLIhtbvdKUeuOu87blxuZUqZJEqbfiKy5FRFbn/H56IiIiIiIiItJzulLBN7NPmtkvzOynZvYNMxtq2vZRMztiZs+Y2S1N668zs5/FbZ82M4vr82b21bj+h2Z2ddMxd5jZs/F1R9P6fXHfZ+Oxuc785iKy0eTGnNrQpsaYfJFuyezdE14zTmbm/O6H9e0iSVAZHlHrvYh0gUOtw6811q0W/IeBV7v7a4BfAh8FMLMDwG3Aq4CDwH8ys3Q85i+ADwLXxNfBuP79wFl33w98Crg7nmsrcBfwBuAG4C4z2xKPuRv4lLtfA5yN5xARWTP1ylJ2xqkdfqoxJl+kW+oVpuKvJij+Kgwbqcfp7I68KlQiIiLrQFcq+O7+TXev5/F5FKhn/LkVuM/dS+7+AnAEuMHMrgAG3f0H7u7Al4B3NR3zxbj8NeDm2Lp/C/Cwu4+6+1nCQ4WDcdtb4r7EY+vnEhFZE/XKUm5Mc4tLsqTOTTTyQtTjtJ6AT0REZENzcK919LXWkjAG//eBB+PyLqC5+eBoXLcrLi9ev+CY+NBgDNi2zLm2AeeaHjA0n+s8ZvZBM3vczB6fo7TqX06kExSn0gsUp9IrFKvSCxSnItJK27Lom9m3gJ0tNt3p7vfHfe4kzMjzlfphLfb3ZdZfzDHLnev8De73APcADNrW3p4zQdYtxWlyVYpplOQjUJwmjzKVt6ZYlV6gOBVpkzaMi++ktlXw3f2ty22PSe/eAdwcu91DaE1vzvCzGzge1+9usb75mKNmlgE2A6Nx/ZsXHfM94DQwZGaZ2IrffC4RkTVRrzhlptVFX5KlkfBxeH5d6rUHlCdCRERkHehWFv2DwIeBd7r7dNOmB4DbYmb8fYRkej9y9xPAhJndGMfQ3w7c33RMPUP+e4DvxAcGDwFvM7MtMbne24CH4rbvxn2Jx9bPJSKyJupjm9PltR9bJXIpWo3Br/Wrn4mIiAgA7p19rbG2teBfwGeAPPBwnO3uUXf/A3d/0sz+CniK0HX/X7h7vfnrD4EvAH2EMfv1cfufA75sZkcILfe3Abj7qJn9MfBY3O9j7j4alz8M3GdmHwd+Es8hIiIiIiIi0rO6UsGPU9otte1PgD9psf5x4NUt1s8C713iXPcC97ZY/zxh6jwRkbZozCf+7Se6WxCRRVp10c8cO0Ol9e4iIiLSQ7rVgi8isiFobLMkTat4VJI9ERERQpf5Wm8Pr1QFX0SkDRoVpuHl9xMRERERWSuq4IuIiIiIiIhAWxLfdVJXsuiLiGwUjbH4IiIiIiJtphZ8EZE2Ku2/jLTGN4uIiIj0BO/xMfhqwRcRaaPs6ZluF0FERERENgi14IuIiIiIiIjgGoMvIiIiIiIiIt2nFnwRkTZIvfYA0HrOcZFuUmyKiIisX6rgi4i0gSpPklSKTRERkSU4UFMXfRERWSSzd4+myBMRERGRjlILvoiIiIiIiAiA9/Y0eargi4i0QWV4pNtFEBEREZENRhV8ERERERER2fAccI3BFxEREREREZFuUwu+iIiIiIiIiHvPj8FXC76ISBsoi76IiIiIdJoq+CIibVAZHqEyPKJKviSaHkSJiIisL+qiLyLSRsqmL0lWj8/M3j2KVREREZRkT0RERERERETaxMwOmtkzZnbEzD6y3L5qwRcREdng1HovIiISJSzJnpmlgT8Hfgs4CjxmZg+4+1Ot9lcLvohIG2l8s4iIiIhcghuAI+7+vLuXgfuAW5fa2dx7e4xBJ5nZKWC4Cz96O3C6Cz93MZVjoU6WY6+771jJjl2MU0jG3yYJZYCNWQ7F6eqoHAt1qhwrjlPQZz8qx2KK04U22t/lQjZiOVYVq0lnZv+X8P51UgGYbfr+Hne/p6lM7wEOuvsH4vfvA97g7h9qdTJ10V+FbgWvmT3u7td342erHMkvx2LdvMgm4T1JQhlUjgvb6HGqciS3HIvps1/lSGI5FlOcqhxJLEcvcveD3S5DC9Zi3ZKt9OqiLyIiIiIiIpJMR4HmMZ+7geNL7awKvoiIiIiIiEgyPQZcY2b7zCwH3AY8sNTO6qLfG+658C4doXIslJRyJEkS3pMklAFUjiRLynuiciyUlHIkRVLeD5VjoaSUIymS8n6oHAslpRyyBty9YmYfAh4C0sC97v7kUvsryZ6IiIiIiIjIOqAu+iIiIiIiIiLrgCr4IiIiIiIiIuuAKvgJYGafNLNfmNlPzewbZjbUtO2jZnbEzJ4xs1ua1l9nZj+L2z5tZhbX583sq3H9D83s6hWW4b1m9qSZ1czs+kXbOlKGFZbzYCzHETP7yFqdN577XjM7aWY/b1q31cweNrNn49ctTdtW9b70uiTEaTw28bHazjiN51esLkFxunKK0+5RnK6c4rR7FKer085YVZzKqri7Xl1+AW8DMnH5buDuuHwAOAzkgX3Ac0A6bvsR8EbCvIgPAm+P6/858Nm4fBvw1RWW4deBVwLfA65vWt+xMqygjOn4818B5GK5Dqzh3+E3gdcBP29a92fAR+LyRy7lb9PrryTEaS/EarvjVLGqOFWcKk4Vp4pTxWly4rQTsao41Ws1L7XgJ4C7f9PdK/HbRwlzGwLcCtzn7iV3fwE4AtxgZlcAg+7+Aw//rV8C3tV0zBfj8teAm1fydM7dn3b3Z1ps6lgZVuAG4Ii7P+/uZeC++LPWhLv/NTC6aHXz7/JFFv6Oq31feloS4jSWI+mx2tY4BcXqchSnK6Y47SLF6YopTrtIcboqukeVxFAFP3l+n/BEDWAXMNK07WhctysuL16/4Jh4UR4Dtl1CeZJQhguVpZ0ud/cTAPHrZRcoy3Lvy3qStDjthXK0m2L1fIrT1Zej3RSn51Ocrr4c7aY4PZ/i9OLK0k6KU2kp0+0CbBRm9i1gZ4tNd7r7/XGfO4EK8JX6YS3292XWL3fMisrQquhrWYZL1K7zXoyLeV8SLwlxutJytJCUWE1aDKy7WFWcLizHRUra319xGg9rsb/idG3PeSkUp/GwFvtv5Dht53kvxrqLU1kdVfA7xN3futx2M7sDeAdwc+w2A+HJ2p6m3XYDx+P63S3WNx9z1MwywGZil54LlWEJa1qGS7RUWdrpZTO7wt1PxK5NJy9QluXel8RLQpyupBxLSEqsdiNOYQPFquJUcdqBcl4yxanitAPlvGSKU92jtrmM0gXqop8AZnYQ+DDwTnefbtr0AHBbzPi5D7gG+FHshjNhZjfGcUO3A/c3HXNHXH4P8J2mC/LFSEIZ6h4DrjGzfWaWIyRHeWANzruc5t/lDhb+jqt9X3pawuM0SeXoRpyCYhVQnK6C4rSLFKcrpjjtIsXpqugeVZLDE5Dpb6O/CMkvRoBD8fXZpm13ErJfPkNTpkvgeuDncdtnAIvrC8B/j+f8EfCKFZbh3YQneyXgZeChTpdhheX8beCX8WfeucZ/h78ETgBz8b14P2Fc1reBZ+PXrRf7vvT6Kwlx2iux2s44VawqThWnilPFqeJUcZqsOG13rCpO9VrNqx7sIiIiIiIiItLD1EVfREREREREZB1QBV9ERERERERkHVAFX0RERERERGQdUAVfREREREREZB1QBV9ERERERERkHVAFX9rCzCa7XQaRC1GcSi9QnEqvUKxKL1CcynqnCr6IiIiIiIjIOpDpdgFk4zCzQ03fvhI46O7/r1vlEWlFcSq9QHEqvUKxKr1AcSrribl7t8sg65CZTbr7wBLbfgf418Bb3H2usyUTmac4lV6gOJVeoViVXqA4lfVOLfjSUWZ2DfBJdOGUBFOcSi9QnEqvUKxKL1CcynqhMfjSMWbWD/wV8E/d/Xi3yyPSiuJUeoHiVHqFYlV6geJU1hNV8KWTPg983t3/ptsFEVmG4lR6geJUeoViVXqB4lTWDY3Bl7YwsxrQ/AT0vwB3AT9tWvcBd3+8owUTaaI4lV6gOJVeoViVXqA4lfVOFXwRERERERGRdUBd9EVERERERETWAVXwRURERERERNYBVfBFRERERERE1gFV8EVERERERETWAVXwRURERERERNYBVfBFRERERERE1gFV8EVERERERETWgf8PypaDJyjheiMAAAAASUVORK5CYII=\n",
          "text/plain": "<Figure size 1152x648 with 16 Axes>"
         },
         "metadata": {
          "needs_background": "light"
         },
         "output_type": "display_data"
        }
       ]
      }
     },
     "90e6336e16a14f0f9492a231ee444f1d": {
      "model_module": "jupyter-vuetify",
      "model_module_version": "^1.4.0",
      "model_name": "VuetifyTemplateModel",
      "state": {
       "_component_instances": [],
       "_jupyter_vue": "IPY_MODEL_11b05c187dba4190adb54bdef0aca000",
       "_model_module_version": "^1.4.0",
       "_view_module_version": "^1.4.0",
       "color": "#9ECBF5",
       "components": null,
       "events": [],
       "hidden": true,
       "layout": "IPY_MODEL_6f8357125adf4962a7699935b3f649bb",
       "parts": [],
       "size": 30,
       "template": "\n        <v-progress-circular v-if=\"!hidden\" :key=\"value\" :size=\"size\" :width=\"width\" :value=\"value\" :color=\"color\">{{ text }}</v-progress-circular>\n        <v-progress-circular v-else style=\"visibility: hidden\" :key=\"value\" :size=\"size\" :width=\"width\" :value=\"value\" :color=\"color\">{{ text }}</v-progress-circular>\n      ",
       "text": "",
       "value": 100,
       "width": 5
      }
     },
     "925f2b2f988948bf812ada57967b939f": {
      "model_module": "bqplot",
      "model_module_version": "^0.5.6",
      "model_name": "AxisModel",
      "state": {
       "color": "#777",
       "grid_color": "#777",
       "grid_lines": "none",
       "label": "Lz",
       "label_color": "#777",
       "label_offset": "2em",
       "scale": "IPY_MODEL_95a23c41fb6943e4b594e16a397cfdf2",
       "side": "bottom",
       "tick_values": null
      }
     },
     "9367557b777443f1ad323d67b2f83b25": {
      "model_module": "@jupyter-widgets/base",
      "model_module_version": "1.2.0",
      "model_name": "LayoutModel",
      "state": {}
     },
     "957568cd1414449b95d61b35a5e6903d": {
      "model_module": "jupyter-vuetify",
      "model_module_version": "^1.4.0",
      "model_name": "ContainerModel",
      "state": {
       "_events": [],
       "_jupyter_vue": "IPY_MODEL_11b05c187dba4190adb54bdef0aca000",
       "attributes": {},
       "children": [
        "IPY_MODEL_b28e2a339dd844e191b230c48dde2cff",
        "IPY_MODEL_69bbc32905724cc794281c057d418776",
        "IPY_MODEL_6a93f15fd96740a797bbcb8857029503"
       ],
       "layout": "IPY_MODEL_9644e9476f4b4c3cb410a392df6c7617",
       "v_slots": []
      }
     },
     "95a23c41fb6943e4b594e16a397cfdf2": {
      "model_module": "bqplot",
      "model_module_version": "^0.5.6",
      "model_name": "LinearScaleModel",
      "state": {
       "allow_padding": false,
       "max": 1784.0928955078125,
       "min": -2900.541259765625,
       "stabilized": false
      }
     },
     "9644e9476f4b4c3cb410a392df6c7617": {
      "model_module": "@jupyter-widgets/base",
      "model_module_version": "1.2.0",
      "model_name": "LayoutModel",
      "state": {}
     },
     "9a7c820d92de4b4e974a7ae62283766c": {
      "model_module": "@jupyter-widgets/base",
      "model_module_version": "1.2.0",
      "model_name": "LayoutModel",
      "state": {}
     },
     "9bb6546322ba4f94beb2dbca825f054a": {
      "model_module": "jupyter-vuetify",
      "model_module_version": "^1.4.0",
      "model_name": "ThemeModel",
      "state": {
       "_model_module_version": "^1.4.0",
       "_view_module": null,
       "_view_module_version": "^1.4.0",
       "dark": false
      }
     },
     "9bfa7f353c774f1084c936a77120ad12": {
      "model_module": "@jupyter-widgets/base",
      "model_module_version": "1.2.0",
      "model_name": "LayoutModel",
      "state": {}
     },
     "9c165974c8f64d8089b40e972fc4964d": {
      "model_module": "@jupyter-widgets/base",
      "model_module_version": "1.2.0",
      "model_name": "LayoutModel",
      "state": {}
     },
     "a074a7e8711a48c18e9597a02114bd50": {
      "model_module": "jupyter-vuetify",
      "model_module_version": "^1.4.0",
      "model_name": "ContainerModel",
      "state": {
       "_events": [],
       "_jupyter_vue": "IPY_MODEL_11b05c187dba4190adb54bdef0aca000",
       "attributes": {},
       "children": [
        "IPY_MODEL_8c278835803b4370b98d088549923396",
        "IPY_MODEL_7a9a4f8c06f44e49982b5763cf97a6eb",
        "IPY_MODEL_e49228de67314c8b95c291a41e99204c"
       ],
       "layout": "IPY_MODEL_abf270ddaf1c4413a66f56754df6638c",
       "v_slots": []
      }
     },
     "a11fbd3eaca8449f9adb9c023c26b43d": {
      "model_module": "bqplot",
      "model_module_version": "^0.5.6",
      "model_name": "LinearScaleModel",
      "state": {
       "allow_padding": false,
       "max": 60.02277755737305,
       "min": -172.9437255859375,
       "stabilized": false
      }
     },
     "a295c6a34af346b0b3bb643be32f41de": {
      "buffers": [
       {
        "data": "AACgluJfpsAAAOCDfc2lwAAAIHEYO6XAAABgXrOopMAAAKBLThakwAAA4Djpg6PAAAAgJoTxosAAAGATH1+iwAAAoAC6zKHAAADg7VQ6ocAAACDb76egwAAAYMiKFaDAAABAa0sGn8AAAMBFgeGdwAAAQCC3vJzAAADA+uyXm8AAAEDVInOawAAAwK9YTpnAAABAio4pmMAAAMBkxASXwAAAQD/635XAAADAGTC7lMAAAED0ZZaTwAAAwM6bcZLAAABAqdFMkcAAAMCDByiQwAAAgLx6Bo7AAACAcea8i8AAAIAmUnOJwAAAgNu9KYfAAACAkCnghMAAAIBFlZaCwAAAgPoATYDAAAAAX9kGfMAAAADJsHN3wAAAADOI4HLAAAAAOr+abMAAAAAObnRjwAAAAMQ5nFTAAAAAYLt8IsAAAADYFfpPQAAAAKLWJGFAAAAAzidLakAAAAB9vLhxQAAAABPlS3ZAAAAAqQ3fekAAAAA/NnJ/QAAAgGqvAoJAAACAtUNMhEAAAIAA2JWGQAAAgEts34hAAACAlgApi0AAAIDhlHKNQAAAgCwpvI9AAADAu94CkUAAAEDhqCeSQAAAwAZzTJNAAABALD1xlEAAAMBRB5aVQAAAQHfRupZAAADAnJvfl0AAAEDCZQSZQAAAwOcvKZpAAABADfpNm0A=",
        "encoding": "base64",
        "path": [
         "x",
         "value"
        ]
       },
       {
        "data": "DAAAAD0AAACKAAAA2QAAAD8BAAClAQAACQIAABkCAAAKAgAARAIAAI4CAABiAgAAgwIAAJoCAACxAgAArQIAANICAABwAwAA2Q4AAJsUAAD9CQAAAgMAAJ0DAADyAwAA/gMAAPMEAAAPBgAAaQkAAIwPAAASFwAAixwAADgfAADXIAAAySQAAEAyAABBaAAAO5IAAISGAAB6FwAA/wIAAAwOAADUMQAAN0EAAHAvAAB3GwAAeQ8AAPISAAD0HAAAOiAAALYjAACgGwAA1RUAAOkTAABiEQAAWQ4AAG4RAAAcLAAAYRAAAO8LAACLCQAAqgUAAP4BAAChAAAAKQAAAA==",
        "encoding": "base64",
        "path": [
         "y",
         "value"
        ]
       }
      ],
      "model_module": "bqplot",
      "model_module_version": "^0.5.6",
      "model_name": "BarsModel",
      "state": {
       "colors": [
        "#1f77b4"
       ],
       "label_font_style": {},
       "scales": {
        "x": "IPY_MODEL_95a23c41fb6943e4b594e16a397cfdf2",
        "y": "IPY_MODEL_13a919710e90427cae8bae59356017f7"
       },
       "type": "grouped",
       "x": {
        "dtype": "float64",
        "shape": [
         64
        ],
        "type": null,
        "value": {}
       },
       "y": {
        "dtype": "int32",
        "shape": [
         64
        ],
        "type": null,
        "value": {}
       }
      }
     },
     "a39f753e8782421bb0277b3ebec4a14d": {
      "model_module": "@jupyter-widgets/base",
      "model_module_version": "1.2.0",
      "model_name": "LayoutModel",
      "state": {}
     },
     "a6492bd6822e46279e0cf81a1ac77b0c": {
      "model_module": "jupyter-vuetify",
      "model_module_version": "^1.4.0",
      "model_name": "ThemeColorsModel",
      "state": {
       "_model_module_version": "^1.4.0",
       "_theme_name": "dark",
       "_view_module": null,
       "_view_module_version": "^1.4.0",
       "accent": "#FF4081",
       "error": "#FF5252",
       "info": "#2196F3",
       "primary": "#2196F3",
       "secondary": "#424242",
       "success": "#4CAF50",
       "warning": "#FB8C00"
      }
     },
     "a6f5be070e7b4f3ca2a71d58a56a98ba": {
      "model_module": "jupyter-vuetify",
      "model_module_version": "^1.4.0",
      "model_name": "VuetifyTemplateModel",
      "state": {
       "_component_instances": [],
       "_jupyter_vue": "IPY_MODEL_11b05c187dba4190adb54bdef0aca000",
       "_model_module_version": "^1.4.0",
       "_view_module_version": "^1.4.0",
       "components": null,
       "events": [],
       "interact_items": [
        {
         "icon": "pan_tool",
         "tooltip": "Pan & zoom",
         "value": "pan-zoom"
        },
        {
         "icon": "mdi-selection-drag",
         "tooltip": "Rectangle selection",
         "value": "select-rect"
        },
        {
         "icon": "mdi-drag-vertical",
         "tooltip": "X-Range selection",
         "value": "select-x"
        }
       ],
       "interact_value": "pan-zoom",
       "layout": "IPY_MODEL_30e5f006f74f41d5ae26ba432765226c",
       "supports_normalize": false,
       "supports_transforms": true,
       "template": "<template>\n  <v-toolbar flat>\n    <v-btn-toggle v-model=\"interact_value\">\n      <v-tooltip bottom v-for=\"item in interact_items\" :key=\"item.value\">\n          <template v-slot:activator=\"{ on }\">\n              <v-btn v-on=\"on\" :value=\"item.value\">\n                  <v-icon>{{ item.icon }}</v-icon>\n                  <span v-if=\"item.html\" v-html=\"item.html\"></span>\n              </v-btn>\n          </template>\n        <span>{{ item.tooltip }}</span>\n      </v-tooltip>\n    </v-btn-toggle>\n    <v-select v-if=\"supports_transforms\" v-model=\"transform_value\" :items=\"transform_items\" class=\"pa-4\" style=\"max-width: 180px\"/>\n  </v-toolbar>\n</template>",
       "transform_items": [
        "identity",
        "log",
        "log10",
        "log1p",
        "log1p"
       ],
       "transform_value": "log"
      }
     },
     "a993d06062704ffdbdc076d72363007d": {
      "model_module": "jupyter-vuetify",
      "model_module_version": "^1.4.0",
      "model_name": "VuetifyTemplateModel",
      "state": {
       "_component_instances": [],
       "_jupyter_vue": "IPY_MODEL_11b05c187dba4190adb54bdef0aca000",
       "_metadata": null,
       "_model_module_version": "^1.4.0",
       "_view_module_version": "^1.4.0",
       "card_props": {
        "style": "min-width: 800px;"
       },
       "components": null,
       "controls": [
        "IPY_MODEL_da4bd6eee2584981b43b4a6c6d55212d",
        "IPY_MODEL_2430ac7446114a148ffd3196ab5166c2",
        "IPY_MODEL_c2d4e1453e4348158b52c2ebffadccf2"
       ],
       "events": [],
       "layout": "IPY_MODEL_e39dd7222bd549d18f5deb87dd50404f",
       "main": "IPY_MODEL_f69daa00d6c84e9983b2f7a32b21970e",
       "main_props": {},
       "show_controls": true,
       "subtitle": "using vaex-jupyter and bqplot",
       "template": "<template>\n  <v-card class=\"mx-auto\" v-bind=\"card_props\">\n    <v-card-title v-show=\"title\">{{ title }}</v-card-title>\n    <v-card-subtitle v-show=\"subtitle\">{{ subtitle }}</v-card-subtitle>\n    <v-container v-bind=\"main_props\">\n      <jupyter-widget :widget=\"main\"></jupyter-widget>\n    </v-container>\n    <v-card-text v-html=\"text\">\n    </v-card-text>\n\n    <v-card-actions>\n      <v-btn icon @click=\"show_controls = !show_controls\">\n        <v-icon>{{ show_controls ? 'expand_less' : 'expand_more' }}</v-icon>\n      </v-btn>\n    </v-card-actions>\n\n    <v-expand-transition>\n      <v-card-actions v-show=\"show_controls\" style=\"display: block\">\n        <template>\n            <v-divider></v-divider>\n            <jupyter-widget v-for=\"(child, index) in controls\" :widget=\"child\" :key=\"child + '_' + index\"></jupyter-widget>\n        </template>\n      </v-card-actions>\n    </v-expand-transition>\n  </v-card>\n</template>\n\n",
       "text": null,
       "title": "My plot"
      }
     },
     "ab11a566ca524a99801b1e3cb7c2acb6": {
      "model_module": "bqplot",
      "model_module_version": "^0.5.6",
      "model_name": "FigureModel",
      "state": {
       "axes": [
        "IPY_MODEL_925f2b2f988948bf812ada57967b939f",
        "IPY_MODEL_ed91f21a1419484e8c42350d93e27750"
       ],
       "background_style": {
        "fill": "none"
       },
       "fig_margin": {
        "bottom": 40,
        "left": 60,
        "right": 10,
        "top": 10
       },
       "interaction": "IPY_MODEL_fe8a6cb25494429a921535170a16173a",
       "layout": "IPY_MODEL_5c359e300b8c4c918f0836357352cb17",
       "marks": [
        "IPY_MODEL_a295c6a34af346b0b3bb643be32f41de"
       ],
       "padding_y": 0,
       "scale_x": "IPY_MODEL_712267bcf0774274845e9da7e3b06fd8",
       "scale_y": "IPY_MODEL_2b3ed28115fd445e9e07b7c86ec8a60f"
      }
     },
     "abf270ddaf1c4413a66f56754df6638c": {
      "model_module": "@jupyter-widgets/base",
      "model_module_version": "1.2.0",
      "model_name": "LayoutModel",
      "state": {}
     },
     "b067b3f149aa49619131ef2eb4f77a07": {
      "model_module": "jupyter-vuetify",
      "model_module_version": "^1.4.0",
      "model_name": "ContainerModel",
      "state": {
       "_events": [],
       "_jupyter_vue": "IPY_MODEL_11b05c187dba4190adb54bdef0aca000",
       "attributes": {},
       "children": [
        "IPY_MODEL_71f235bfe5c24775b4734718da369d23",
        "IPY_MODEL_203791b38bb64e46b6ceb029c91e8d1f",
        "IPY_MODEL_e2ed73b4bd2c430bbc1e05ee1be61f62"
       ],
       "layout": "IPY_MODEL_511dc05338014fd5a0601f3a76132069",
       "v_slots": []
      }
     },
     "b0ff05d44efa4d12a854ff0c08cc4d54": {
      "model_module": "@jupyter-widgets/base",
      "model_module_version": "1.2.0",
      "model_name": "LayoutModel",
      "state": {}
     },
     "b28e2a339dd844e191b230c48dde2cff": {
      "model_module": "jupyter-vuetify",
      "model_module_version": "^1.4.0",
      "model_name": "ContainerModel",
      "state": {
       "_events": [],
       "_jupyter_vue": "IPY_MODEL_11b05c187dba4190adb54bdef0aca000",
       "attributes": {},
       "children": [
        "IPY_MODEL_5e93ce938e694817b7b561273967b865",
        "IPY_MODEL_c00b4b58316846ae917723a327aaa40a"
       ],
       "layout": "IPY_MODEL_6a81491a1e4b4ec88cc9463cb670fec5",
       "v_slots": []
      }
     },
     "b408d83248fe438cb82251627daba8aa": {
      "model_module": "@jupyter-widgets/output",
      "model_module_version": "1.0.0",
      "model_name": "OutputModel",
      "state": {
       "layout": "IPY_MODEL_f4ed6b23f74e4e1a9890c4eece8350b8"
      }
     },
     "b683efdf81754bfba9fffacde9da0028": {
      "model_module": "@jupyter-widgets/base",
      "model_module_version": "1.2.0",
      "model_name": "LayoutModel",
      "state": {}
     },
     "b81916ad7dd04efbb3fdea3e6dd14427": {
      "model_module": "jupyter-vuetify",
      "model_module_version": "^1.4.0",
      "model_name": "VuetifyTemplateModel",
      "state": {
       "_component_instances": [],
       "_jupyter_vue": "IPY_MODEL_11b05c187dba4190adb54bdef0aca000",
       "_model_module_version": "^1.4.0",
       "_view_module_version": "^1.4.0",
       "color": "#9ECBF5",
       "components": null,
       "events": [],
       "hidden": true,
       "layout": "IPY_MODEL_5551bd162acc4d6c9aa9d9f6ed8cc48b",
       "parts": [],
       "size": 30,
       "template": "\n        <v-progress-circular v-if=\"!hidden\" :key=\"value\" :size=\"size\" :width=\"width\" :value=\"value\" :color=\"color\">{{ text }}</v-progress-circular>\n        <v-progress-circular v-else style=\"visibility: hidden\" :key=\"value\" :size=\"size\" :width=\"width\" :value=\"value\" :color=\"color\">{{ text }}</v-progress-circular>\n      ",
       "text": "",
       "value": 100,
       "width": 5
      }
     },
     "baa8cc26e7a04657a5a5d33b420bddf4": {
      "model_module": "jupyter-vuetify",
      "model_module_version": "^1.4.0",
      "model_name": "VuetifyTemplateModel",
      "state": {
       "_component_instances": [],
       "_jupyter_vue": "IPY_MODEL_11b05c187dba4190adb54bdef0aca000",
       "_model_module_version": "^1.4.0",
       "_view_module_version": "^1.4.0",
       "components": null,
       "events": [],
       "layout": "IPY_MODEL_0a5404ed6da145708c4a3ec9cbd33947",
       "template": "\n          <v-slide-y-transition leave-absolute>\n              <span :key=\"value\" v-html='value'></span>\n          </v-slide-y-transition>\n      ",
       "value": "Ready"
      }
     },
     "bb9739c98bbc4661a7272f10cd78be02": {
      "model_module": "@jupyter-widgets/output",
      "model_module_version": "1.0.0",
      "model_name": "OutputModel",
      "state": {
       "layout": "IPY_MODEL_a39f753e8782421bb0277b3ebec4a14d"
      }
     },
     "be48ffa4f1704f4da46c5be9e38e327b": {
      "model_module": "@jupyter-widgets/base",
      "model_module_version": "1.2.0",
      "model_name": "LayoutModel",
      "state": {}
     },
     "be73cf67c2bc4228bb87c8de957e00e4": {
      "model_module": "bqplot",
      "model_module_version": "^0.5.6",
      "model_name": "LinearScaleModel",
      "state": {
       "allow_padding": false,
       "max": 1,
       "min": 0,
       "stabilized": false
      }
     },
     "bf52479a7b3644bd8b116094deffe2d1": {
      "model_module": "@jupyter-widgets/base",
      "model_module_version": "1.2.0",
      "model_name": "LayoutModel",
      "state": {}
     },
     "bffc3bf400da4a75b7c664cf6696068c": {
      "model_module": "@jupyter-widgets/base",
      "model_module_version": "1.2.0",
      "model_name": "LayoutModel",
      "state": {}
     },
     "c00b4b58316846ae917723a327aaa40a": {
      "model_module": "jupyter-vuetify",
      "model_module_version": "^1.4.0",
      "model_name": "VuetifyTemplateModel",
      "state": {
       "_component_instances": [],
       "_jupyter_vue": "IPY_MODEL_11b05c187dba4190adb54bdef0aca000",
       "_model_module_version": "^1.4.0",
       "_view_module_version": "^1.4.0",
       "components": null,
       "events": [],
       "layout": "IPY_MODEL_7818954933cd4868a1fb8f8bd847a534",
       "template": "\n          <v-slide-y-transition leave-absolute>\n              <span :key=\"value\" v-html='value'></span>\n          </v-slide-y-transition>\n      ",
       "value": "Ready"
      }
     },
     "c019e2dfeac04c6290839227c48bb744": {
      "model_module": "@jupyter-widgets/base",
      "model_module_version": "1.2.0",
      "model_name": "LayoutModel",
      "state": {}
     },
     "c01ae6de41b24193b403663a8baedfeb": {
      "model_module": "@jupyter-widgets/base",
      "model_module_version": "1.2.0",
      "model_name": "LayoutModel",
      "state": {}
     },
     "c26ae990804a4433ab7e49dfa5dc3dfa": {
      "model_module": "jupyter-vuetify",
      "model_module_version": "^1.4.0",
      "model_name": "VuetifyTemplateModel",
      "state": {
       "_component_instances": [],
       "_jupyter_vue": "IPY_MODEL_11b05c187dba4190adb54bdef0aca000",
       "_metadata": null,
       "_model_module_version": "^1.4.0",
       "_view_module_version": "^1.4.0",
       "card_props": {},
       "components": null,
       "controls": [
        "IPY_MODEL_8dd40e9de1924f77907acbf7f6ad62a9",
        "IPY_MODEL_5588c7e344b6494ea503327922a33360"
       ],
       "events": [],
       "layout": "IPY_MODEL_bffc3bf400da4a75b7c664cf6696068c",
       "main": "IPY_MODEL_b067b3f149aa49619131ef2eb4f77a07",
       "main_props": {},
       "show_controls": true,
       "subtitle": "using vaex-jupyter",
       "template": "<template>\n  <v-card class=\"mx-auto\" v-bind=\"card_props\">\n    <v-card-title v-show=\"title\">{{ title }}</v-card-title>\n    <v-card-subtitle v-show=\"subtitle\">{{ subtitle }}</v-card-subtitle>\n    <v-container v-bind=\"main_props\">\n      <jupyter-widget :widget=\"main\"></jupyter-widget>\n    </v-container>\n    <v-card-text v-html=\"text\">\n    </v-card-text>\n\n    <v-card-actions>\n      <v-btn icon @click=\"show_controls = !show_controls\">\n        <v-icon>{{ show_controls ? 'expand_less' : 'expand_more' }}</v-icon>\n      </v-btn>\n    </v-card-actions>\n\n    <v-expand-transition>\n      <v-card-actions v-show=\"show_controls\" style=\"display: block\">\n        <template>\n            <v-divider></v-divider>\n            <jupyter-widget v-for=\"(child, index) in controls\" :widget=\"child\" :key=\"child + '_' + index\"></jupyter-widget>\n        </template>\n      </v-card-actions>\n    </v-expand-transition>\n  </v-card>\n</template>\n\n",
       "text": null,
       "title": "My plot"
      }
     },
     "c2d4e1453e4348158b52c2ebffadccf2": {
      "model_module": "jupyter-vuetify",
      "model_module_version": "^1.4.0",
      "model_name": "TextFieldModel",
      "state": {
       "_events": [],
       "_jupyter_vue": "IPY_MODEL_11b05c187dba4190adb54bdef0aca000",
       "attributes": {},
       "children": [],
       "counter": null,
       "error_count": null,
       "error_messages": null,
       "height": null,
       "hide_details": null,
       "label": "Filter by custom expression",
       "layout": "IPY_MODEL_cab499b8b34e4ffb8dc44459072ddc14",
       "loader_height": null,
       "loading": null,
       "messages": null,
       "placeholder": "Enter a custom (boolean) expression",
       "prepend_icon": "filter_list",
       "rules": [],
       "success_messages": null,
       "v_model": "(id < 10)",
       "v_slots": []
      }
     },
     "c2e198caeacf4b38b190d87397cec300": {
      "model_module": "jupyter-vuetify",
      "model_module_version": "^1.4.0",
      "model_name": "ContainerModel",
      "state": {
       "_events": [],
       "_jupyter_vue": "IPY_MODEL_11b05c187dba4190adb54bdef0aca000",
       "attributes": {},
       "children": [
        "IPY_MODEL_b81916ad7dd04efbb3fdea3e6dd14427",
        "IPY_MODEL_1f50fae97ed44f76b81f44d4d29bed49"
       ],
       "layout": "IPY_MODEL_cc56b080a2694cb68bbc354b441121a5",
       "v_slots": []
      }
     },
     "c534df1fe4534bc8baf14c3bdfcd7913": {
      "model_module": "@jupyter-widgets/output",
      "model_module_version": "1.0.0",
      "model_name": "OutputModel",
      "state": {
       "layout": "IPY_MODEL_b0ff05d44efa4d12a854ff0c08cc4d54"
      }
     },
     "c746d689623c4802b0f618fa80c21fc4": {
      "model_module": "bqplot",
      "model_module_version": "^0.5.6",
      "model_name": "BrushSelectorModel",
      "state": {
       "color": "green",
       "x_scale": "IPY_MODEL_95a23c41fb6943e4b594e16a397cfdf2",
       "y_scale": "IPY_MODEL_13a919710e90427cae8bae59356017f7"
      }
     },
     "c81036f3698b43ab86145f79ddcf40fe": {
      "model_module": "bqplot",
      "model_module_version": "^0.5.6",
      "model_name": "AxisModel",
      "state": {
       "color": "#777",
       "grid_color": "#777",
       "grid_lines": "none",
       "label": "y",
       "label_color": "#777",
       "label_offset": "3em",
       "orientation": "vertical",
       "scale": "IPY_MODEL_a11fbd3eaca8449f9adb9c023c26b43d",
       "side": "left",
       "tick_values": null
      }
     },
     "c850964e616e41cebdd908e93c64d4ab": {
      "model_module": "@jupyter-widgets/base",
      "model_module_version": "1.2.0",
      "model_name": "LayoutModel",
      "state": {}
     },
     "c85c573113c94e02b31241006b548281": {
      "model_module": "jupyter-vuetify",
      "model_module_version": "^1.4.0",
      "model_name": "ContainerModel",
      "state": {
       "_events": [],
       "_jupyter_vue": "IPY_MODEL_11b05c187dba4190adb54bdef0aca000",
       "attributes": {},
       "children": [
        "IPY_MODEL_5a36fa6284be42e4818aee9f50099c32",
        "IPY_MODEL_4b9fc3540bde4b57b52fb434e36059a0",
        "IPY_MODEL_f366d5ccde6c49bfa7321d900e67e3fc"
       ],
       "layout": "IPY_MODEL_9c165974c8f64d8089b40e972fc4964d",
       "v_slots": []
      }
     },
     "cab499b8b34e4ffb8dc44459072ddc14": {
      "model_module": "@jupyter-widgets/base",
      "model_module_version": "1.2.0",
      "model_name": "LayoutModel",
      "state": {}
     },
     "cc56b080a2694cb68bbc354b441121a5": {
      "model_module": "@jupyter-widgets/base",
      "model_module_version": "1.2.0",
      "model_name": "LayoutModel",
      "state": {}
     },
     "ceef239be4ea418987affb79c19c22b6": {
      "model_module": "jupyter-vuetify",
      "model_module_version": "^1.4.0",
      "model_name": "ContainerModel",
      "state": {
       "_events": [],
       "_jupyter_vue": "IPY_MODEL_11b05c187dba4190adb54bdef0aca000",
       "attributes": {},
       "children": [
        "IPY_MODEL_0fe16ab5c31f42cca027ac8753a6870e",
        "IPY_MODEL_5cdb52ea0f5347d1926c066085a8beb1"
       ],
       "layout": "IPY_MODEL_bf52479a7b3644bd8b116094deffe2d1",
       "v_slots": []
      }
     },
     "d8037e4d872b4761a299a7dcdd4aa0f0": {
      "model_module": "@jupyter-widgets/base",
      "model_module_version": "1.2.0",
      "model_name": "LayoutModel",
      "state": {}
     },
     "da4bd6eee2584981b43b4a6c6d55212d": {
      "model_module": "jupyter-vuetify",
      "model_module_version": "^1.4.0",
      "model_name": "TextFieldModel",
      "state": {
       "_events": [],
       "_jupyter_vue": "IPY_MODEL_11b05c187dba4190adb54bdef0aca000",
       "attributes": {},
       "children": [],
       "counter": null,
       "error_count": null,
       "error_messages": null,
       "height": null,
       "hide_details": null,
       "label": "X axis",
       "layout": "IPY_MODEL_4f6d929ad29b4b2c8bdc5a2314ac9da6",
       "loader_height": null,
       "loading": null,
       "messages": null,
       "placeholder": "Enter a custom expression",
       "prepend_icon": "functions",
       "rules": [],
       "success_messages": null,
       "v_model": "log10((x ** 2))",
       "v_slots": []
      }
     },
     "da95a21e8e4a4b32ae0a34e19a4a3b4f": {
      "model_module": "jupyter-vuetify",
      "model_module_version": "^1.4.0",
      "model_name": "VuetifyTemplateModel",
      "state": {
       "_component_instances": [],
       "_jupyter_vue": "IPY_MODEL_11b05c187dba4190adb54bdef0aca000",
       "_model_module_version": "^1.4.0",
       "_view_module_version": "^1.4.0",
       "components": null,
       "events": [],
       "layout": "IPY_MODEL_f6bd0c4a70be41ff9aba6a1998b3136f",
       "template": "\n          <v-slide-y-transition leave-absolute>\n              <span :key=\"value\" v-html='value'></span>\n          </v-slide-y-transition>\n      ",
       "value": "Ready"
      }
     },
     "db5b6859040f4622a6c9f77247053711": {
      "model_module": "jupyter-vuetify",
      "model_module_version": "^1.4.0",
      "model_name": "VuetifyTemplateModel",
      "state": {
       "_component_instances": [],
       "_jupyter_vue": "IPY_MODEL_11b05c187dba4190adb54bdef0aca000",
       "_model_module_version": "^1.4.0",
       "_view_module_version": "^1.4.0",
       "components": null,
       "events": [],
       "layout": "IPY_MODEL_fa0d4bc1507e4068a80d7301187b586c",
       "template": "\n          <v-slide-y-transition leave-absolute>\n              <span :key=\"value\" v-html='value'></span>\n          </v-slide-y-transition>\n      ",
       "value": "Ready"
      }
     },
     "db87109f28bb421691d97695d986fb2e": {
      "model_module": "@jupyter-widgets/base",
      "model_module_version": "1.2.0",
      "model_name": "LayoutModel",
      "state": {}
     },
     "dbe63d1d4e1745bbba07fe65039d7146": {
      "model_module": "@jupyter-widgets/base",
      "model_module_version": "1.2.0",
      "model_name": "LayoutModel",
      "state": {}
     },
     "dcddb7ee6d744a499b355702be9315b5": {
      "model_module": "bqplot",
      "model_module_version": "^0.5.6",
      "model_name": "FigureModel",
      "state": {
       "axes": [
        "IPY_MODEL_2a5c1ed8e3584d72862399cf0239e2a6",
        "IPY_MODEL_c81036f3698b43ab86145f79ddcf40fe"
       ],
       "background_style": {
        "fill": "none"
       },
       "fig_margin": {
        "bottom": 40,
        "left": 60,
        "right": 10,
        "top": 10
       },
       "interaction": "IPY_MODEL_280def28ce7149d187a64c3040387161",
       "layout": "IPY_MODEL_c850964e616e41cebdd908e93c64d4ab",
       "marks": [
        "IPY_MODEL_17edf41d55714dbea3760c048cc5ad7b"
       ],
       "padding_y": 0,
       "scale_x": "IPY_MODEL_e6feab08cb564b7ca3504ecd7ed9e313",
       "scale_y": "IPY_MODEL_be73cf67c2bc4228bb87c8de957e00e4"
      }
     },
     "dd872f273ee0451bbc533d3b82e81078": {
      "model_module": "jupyter-vuetify",
      "model_module_version": "^1.4.0",
      "model_name": "VuetifyTemplateModel",
      "state": {
       "_component_instances": [],
       "_jupyter_vue": "IPY_MODEL_11b05c187dba4190adb54bdef0aca000",
       "_model_module_version": "^1.4.0",
       "_view_module_version": "^1.4.0",
       "components": null,
       "events": [],
       "interact_items": [
        {
         "icon": "pan_tool",
         "tooltip": "Pan & zoom",
         "value": "pan-zoom"
        },
        {
         "icon": "mdi-drag-vertical",
         "tooltip": "X-Range selection",
         "value": "select-x"
        }
       ],
       "interact_value": "select-x",
       "layout": "IPY_MODEL_31b6057dce8745dab472a6b676f6a2de",
       "supports_normalize": true,
       "supports_transforms": false,
       "template": "<template>\n  <v-toolbar flat>\n    <v-btn-toggle v-model=\"interact_value\">\n      <v-tooltip bottom v-for=\"item in interact_items\" :key=\"item.value\">\n          <template v-slot:activator=\"{ on }\">\n              <v-btn v-on=\"on\" :value=\"item.value\">\n                  <v-icon>{{ item.icon }}</v-icon>\n                  <span v-if=\"item.html\" v-html=\"item.html\"></span>\n              </v-btn>\n          </template>\n        <span>{{ item.tooltip }}</span>\n      </v-tooltip>\n    </v-btn-toggle>\n    <v-select v-if=\"supports_transforms\" v-model=\"transform_value\" :items=\"transform_items\" class=\"pa-4\" style=\"max-width: 180px\"/>\n  </v-toolbar>\n</template>",
       "transform_items": [
        "identity",
        "log",
        "log10",
        "log1p",
        "log1p"
       ],
       "transform_value": "identity"
      }
     },
     "e227e46b095c4e2382770e9e5cd60eec": {
      "model_module": "jupyter-vuetify",
      "model_module_version": "^1.4.0",
      "model_name": "VuetifyTemplateModel",
      "state": {
       "_component_instances": [],
       "_jupyter_vue": "IPY_MODEL_11b05c187dba4190adb54bdef0aca000",
       "_model_module_version": "^1.4.0",
       "_view_module_version": "^1.4.0",
       "characters": [
        "&nbsp;",
        "&nbsp;",
        "&nbsp;",
        "&nbsp;",
        "&nbsp;",
        "&nbsp;",
        "&nbsp;",
        "&nbsp;",
        "9",
        "9",
        ",",
        "9",
        "5",
        "7"
       ],
       "components": null,
       "events": [],
       "layout": "IPY_MODEL_37e3c5d0ed3f4fefb6eb0a4ca7d5060e",
       "postfix": "rows selected",
       "prefix": "",
       "template": "\n          <div>\n          {{ prefix }}\n          <v-slide-y-transition :key=index v-for=\"(character, index) in characters\" leave-absolute>\n              <span :key=\"character\" v-html='character'></span>\n          </v-slide-y-transition>\n          {{ postfix }}\n          </div>\n      "
      }
     },
     "e2ed73b4bd2c430bbc1e05ee1be61f62": {
      "model_module": "@jupyter-widgets/output",
      "model_module_version": "1.0.0",
      "model_name": "OutputModel",
      "state": {
       "layout": "IPY_MODEL_7d8fef2c25c846c49122557ac2a89bcc"
      }
     },
     "e39dd7222bd549d18f5deb87dd50404f": {
      "model_module": "@jupyter-widgets/base",
      "model_module_version": "1.2.0",
      "model_name": "LayoutModel",
      "state": {}
     },
     "e49228de67314c8b95c291a41e99204c": {
      "model_module": "@jupyter-widgets/output",
      "model_module_version": "1.0.0",
      "model_name": "OutputModel",
      "state": {
       "layout": "IPY_MODEL_c01ae6de41b24193b403663a8baedfeb"
      }
     },
     "e6feab08cb564b7ca3504ecd7ed9e313": {
      "model_module": "bqplot",
      "model_module_version": "^0.5.6",
      "model_name": "LinearScaleModel",
      "state": {
       "allow_padding": false,
       "max": 1,
       "min": 0,
       "stabilized": false
      }
     },
     "e7c2486f7d6e4559bfaffac6a368d96e": {
      "model_module": "jupyter-vuetify",
      "model_module_version": "^1.4.0",
      "model_name": "VuetifyTemplateModel",
      "state": {
       "_component_instances": [],
       "_jupyter_vue": "IPY_MODEL_11b05c187dba4190adb54bdef0aca000",
       "_model_module_version": "^1.4.0",
       "_view_module_version": "^1.4.0",
       "color": "#9ECBF5",
       "components": null,
       "events": [],
       "hidden": true,
       "layout": "IPY_MODEL_7701f7c42b524c83bc3a07568f1bdabe",
       "parts": [],
       "size": 30,
       "template": "\n        <v-progress-circular v-if=\"!hidden\" :key=\"value\" :size=\"size\" :width=\"width\" :value=\"value\" :color=\"color\">{{ text }}</v-progress-circular>\n        <v-progress-circular v-else style=\"visibility: hidden\" :key=\"value\" :size=\"size\" :width=\"width\" :value=\"value\" :color=\"color\">{{ text }}</v-progress-circular>\n      ",
       "text": "",
       "value": 100,
       "width": 5
      }
     },
     "eca90532a34949a290cc1de6825f4882": {
      "model_module": "@jupyter-widgets/base",
      "model_module_version": "1.2.0",
      "model_name": "LayoutModel",
      "state": {}
     },
     "ed91f21a1419484e8c42350d93e27750": {
      "model_module": "bqplot",
      "model_module_version": "^0.5.6",
      "model_name": "AxisModel",
      "state": {
       "color": "#777",
       "grid_color": "#777",
       "grid_lines": "none",
       "label": "count",
       "label_color": "#777",
       "label_offset": "3em",
       "orientation": "vertical",
       "scale": "IPY_MODEL_13a919710e90427cae8bae59356017f7",
       "side": "left",
       "tick_values": null
      }
     },
     "ee77337f537e493fbfe4ddac04eae62f": {
      "model_module": "jupyter-vuetify",
      "model_module_version": "^1.4.0",
      "model_name": "VuetifyTemplateModel",
      "state": {
       "_component_instances": [],
       "_jupyter_vue": "IPY_MODEL_11b05c187dba4190adb54bdef0aca000",
       "_model_module_version": "^1.4.0",
       "_view_module_version": "^1.4.0",
       "color": "#9ECBF5",
       "components": null,
       "events": [],
       "hidden": true,
       "layout": "IPY_MODEL_385ab4456b17450f9f01b9f17bb9dd00",
       "parts": [],
       "size": 30,
       "template": "\n        <v-progress-circular v-if=\"!hidden\" :key=\"value\" :size=\"size\" :width=\"width\" :value=\"value\" :color=\"color\">{{ text }}</v-progress-circular>\n        <v-progress-circular v-else style=\"visibility: hidden\" :key=\"value\" :size=\"size\" :width=\"width\" :value=\"value\" :color=\"color\">{{ text }}</v-progress-circular>\n      ",
       "text": "",
       "value": 100,
       "width": 5
      }
     },
     "ef46a79fc2674ad9a714f64dccc50581": {
      "model_module": "@jupyter-widgets/base",
      "model_module_version": "1.2.0",
      "model_name": "LayoutModel",
      "state": {}
     },
     "f2b092ac8a7c4a8d9245fd1286efad18": {
      "model_module": "jupyter-vuetify",
      "model_module_version": "^1.4.0",
      "model_name": "VuetifyTemplateModel",
      "state": {
       "_component_instances": [],
       "_jupyter_vue": "IPY_MODEL_11b05c187dba4190adb54bdef0aca000",
       "_model_module_version": "^1.4.0",
       "_view_module_version": "^1.4.0",
       "color": "#9ECBF5",
       "components": null,
       "events": [],
       "hidden": true,
       "layout": "IPY_MODEL_c019e2dfeac04c6290839227c48bb744",
       "parts": [],
       "size": 30,
       "template": "\n        <v-progress-circular v-if=\"!hidden\" :key=\"value\" :size=\"size\" :width=\"width\" :value=\"value\" :color=\"color\">{{ text }}</v-progress-circular>\n        <v-progress-circular v-else style=\"visibility: hidden\" :key=\"value\" :size=\"size\" :width=\"width\" :value=\"value\" :color=\"color\">{{ text }}</v-progress-circular>\n      ",
       "text": "",
       "value": 100,
       "width": 5
      }
     },
     "f366d5ccde6c49bfa7321d900e67e3fc": {
      "model_module": "@jupyter-widgets/output",
      "model_module_version": "1.0.0",
      "model_name": "OutputModel",
      "state": {
       "layout": "IPY_MODEL_8ce6e6785e17426cabba934328d918ac"
      }
     },
     "f4ed6b23f74e4e1a9890c4eece8350b8": {
      "model_module": "@jupyter-widgets/base",
      "model_module_version": "1.2.0",
      "model_name": "LayoutModel",
      "state": {}
     },
     "f5dadcfeaf5f47cfb9ff9b93ba9f4364": {
      "model_module": "@jupyter-widgets/base",
      "model_module_version": "1.2.0",
      "model_name": "LayoutModel",
      "state": {}
     },
     "f69daa00d6c84e9983b2f7a32b21970e": {
      "model_module": "jupyter-vuetify",
      "model_module_version": "^1.4.0",
      "model_name": "ContainerModel",
      "state": {
       "_events": [],
       "_jupyter_vue": "IPY_MODEL_11b05c187dba4190adb54bdef0aca000",
       "attributes": {},
       "children": [
        "IPY_MODEL_a6f5be070e7b4f3ca2a71d58a56a98ba",
        "IPY_MODEL_ceef239be4ea418987affb79c19c22b6",
        "IPY_MODEL_dcddb7ee6d744a499b355702be9315b5",
        "IPY_MODEL_c534df1fe4534bc8baf14c3bdfcd7913"
       ],
       "layout": "IPY_MODEL_8b3e49e53baa474388e2b4e8c5bedeae",
       "v_slots": []
      }
     },
     "f6bd0c4a70be41ff9aba6a1998b3136f": {
      "model_module": "@jupyter-widgets/base",
      "model_module_version": "1.2.0",
      "model_name": "LayoutModel",
      "state": {}
     },
     "f81a83992a004c77a124608238820d9e": {
      "model_module": "@jupyter-widgets/base",
      "model_module_version": "1.2.0",
      "model_name": "LayoutModel",
      "state": {}
     },
     "f849ac1cca8646bdb6cb710d1bca0b21": {
      "model_module": "@jupyter-widgets/base",
      "model_module_version": "1.2.0",
      "model_name": "LayoutModel",
      "state": {}
     },
     "fa0d4bc1507e4068a80d7301187b586c": {
      "model_module": "@jupyter-widgets/base",
      "model_module_version": "1.2.0",
      "model_name": "LayoutModel",
      "state": {}
     },
     "fe186e997a1c40a194f512e0ce5022c4": {
      "model_module": "@jupyter-widgets/output",
      "model_module_version": "1.0.0",
      "model_name": "OutputModel",
      "state": {
       "layout": "IPY_MODEL_0f14861c5c2e4634bab4e230e2b8375c"
      }
     },
     "fe8a6cb25494429a921535170a16173a": {
      "buffers": [
       {
        "data": "sAQAABQFAAA=",
        "encoding": "base64",
        "path": [
         "selected",
         "value"
        ]
       }
      ],
      "model_module": "bqplot",
      "model_module_version": "^0.5.6",
      "model_name": "BrushIntervalSelectorModel",
      "state": {
       "color": "green",
       "scale": "IPY_MODEL_95a23c41fb6943e4b594e16a397cfdf2",
       "selected": {
        "dtype": "int32",
        "shape": [
         2
        ],
        "type": null,
        "value": {}
       }
      }
     },
     "fe9ec35ce67140b1bb7b78718ce1bf79": {
      "model_module": "bqplot",
      "model_module_version": "^0.5.6",
      "model_name": "PanZoomModel",
      "state": {
       "scales": {
        "x": [
         "IPY_MODEL_95a23c41fb6943e4b594e16a397cfdf2"
        ],
        "y": []
       }
      }
     }
    },
    "version_major": 2,
    "version_minor": 0
   }
  }
 },
 "nbformat": 4,
 "nbformat_minor": 2
}
