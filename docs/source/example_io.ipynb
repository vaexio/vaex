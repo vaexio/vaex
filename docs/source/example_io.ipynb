{
 "cells": [
  {
   "cell_type": "markdown",
   "metadata": {
    "ExecuteTime": {
     "end_time": "2020-04-24T14:13:48.731159Z",
     "start_time": "2020-04-24T14:13:48.725142Z"
    }
   },
   "source": [
    "<style>\n",
    "pre {\n",
    " white-space: pre-wrap !important;\n",
    "}\n",
    ".table-striped > tbody > tr:nth-of-type(odd) {\n",
    "    background-color: #f9f9f9;\n",
    "}\n",
    ".table-striped > tbody > tr:nth-of-type(even) {\n",
    "    background-color: white;\n",
    "}\n",
    ".table-striped td, .table-striped th, .table-striped tr {\n",
    "    border: 1px solid black;\n",
    "    border-collapse: collapse;\n",
    "    margin: 1em 2em;\n",
    "}\n",
    ".rendered_html td, .rendered_html th {\n",
    "    text-align: left;\n",
    "    vertical-align: middle;\n",
    "    padding: 4px;\n",
    "}\n",
    "</style>"
   ]
  },
  {
   "cell_type": "markdown",
   "metadata": {},
   "source": [
    "# I/O Kung-Fu: get your data in and out of [Vaex](https://github.com/vaexio/vaex)\n",
    "\n",
    "## Data input\n",
    "\n",
    "Every project starts with reading in some data. Vaex supports several data sources:\n",
    " - Binary file formats:\n",
    "     - [HDF5](https://en.wikipedia.org/wiki/Hierarchical_Data_Format#HDF5)\n",
    "     - [Apache Arrow](https://arrow.apache.org/)\n",
    "     - [Apache Parquet](https://parquet.apache.org/)\n",
    " - Text based file formats:\n",
    "     - [CSV](https://en.wikipedia.org/wiki/Comma-separated_values)\n",
    "     - [ASCII](https://en.wikipedia.org/wiki/Text_file)\n",
    "     - [JSON](https://www.json.org/json-en.html)\n",
    " - In-memory data representations\n",
    "     - [panads](https://pandas.pydata.org/) DataFrames and everything that pandas can read\n",
    "     - [Apache Arrow](https://arrow.apache.org/) Tables\n",
    "     - [numpy](https://numpy.org/) arrays\n",
    "     - Python dictionaries\n",
    "     \n",
    "The following examples show the best practices of getting your data in Vaex.\n",
    "\n",
    "### Binary file formats\n",
    "\n",
    "If your data is already in one of the supported binary file formats (HDF5, Apache Arrow, Apache Parquet), opening it with Vaex rather simple:\n",
    "\n",
    "```\n",
    "import vaex \n",
    "\n",
    "df_1 = vaex.open('./my_data/my_file_1.hdf5')\n",
    "df_2 = vaex.open('./my_data/my_file_1.arrow')\n",
    "df_3 = vaex.open('./my_data/my_file_1.parquet')\n",
    "```\n",
    "\n",
    "Opening such data is instantenous regardless of the file size on disk: Vaex will just memory-map the data instead of reading it in memory. This is the optimal way of working with large datasets that are larger than available RAM.\n",
    "\n",
    "If your data is contained within multiple files, one can open them all simultaneously like this:\n",
    "\n",
    "```\n",
    "df = vaex.open('./my_data/my_file*.hdf5')\n",
    "# alternatively\n",
    "df = vaex.open_many(['./my_data/my_file_1.hdf5', './my_data/my_file_2.hdf5', './my_data/my_file_2.hdf5'])\n",
    "```\n",
    "The result will be a single DataFrame object containing all of the data coming from all files.\n",
    "\n",
    "The datasets one is trying to open do not necessarily have to be local. With Vaex you can open a HDF5 file straight from Amazon's S3:\n",
    "\n",
    "```\n",
    "df = vaex.open('s3://vaex/taxi/yellow_taxi_2009_2015_f32.hdf5?anon=true')\n",
    "```\n",
    "\n",
    "In this case the data will be lazily downloaded and cached to your local machine. \"Lazily downloaded\" means that Vaex will only download the portions of the data you really need. For example: imagine that we have a file hosted on S3 that has 100 columns and 1 billion rows. Getting a preview of the DataFrame via `print(df)` for instance will download only the first and last 5 rows of that data. If we than proceed making calculations or plots with only 5 columns, only the data from those columns will be downloaded and caches to our local machine. This approaches saves us bothbandwith and local storage.\n",
    "\n",
    "\n",
    "### Text based file formats\n",
    "\n",
    "Datasets are still commonly stored in text-based file formats such as CSV. Since text-based file formats are not memory-mappable, they have to be read in memory. If the contents of a CSV file fits into the available RAM memory, one can simply do:\n",
    "\n",
    "```\n",
    "df = vaex.from_csv('./my_data/my_file.csv')\n",
    "# or alternatively \n",
    "df = vaex.read_csv('./my_data/my_file.csv')  # `vaex.read_csv` is an alias to `vaex.from_csv`\n",
    "```\n",
    "\n",
    "Vaex is using pandas for reading CSV files in the background, so on can pass any arguments to the `vaex.from_csv` or `vaex.read_csv` as one would pass to `pandas.read_csv` and specify for example separators, column names and column types for instance. In addition to this, if you specify the `convert=True` argument `vaex.from_csv` the data will be automatically converted to an HDF5 file format behind the scenes, and thus freeing RAM and allowing you to work with your data in a memory-efficient, out-of-core manner. \n",
    "\n",
    "If the CSV file is so large that it can not fit into RAM all at one time, one can convert the data to HDF5 simply by:\n",
    "\n",
    "```\n",
    "df = vaex.from_csv('./my_data/my_big_file.csv', convert=True, chunk_size=5_000_000)\n",
    "```\n",
    "\n",
    "When the above line is executed, Vaex will read the CSV in chunks, and convert each chunk to a temporary HDF5 file on disk. All temporary will files are then concatenated into a single HDF5, and the temporary files deleted. The size of the individual chunks to be read can be specified via the `chunk_size` argument. \n",
    "\n",
    "It is also common the data to be stored in JSON files. To read such data in Vaex one can do:\n",
    "\n",
    "```\n",
    "df = vaex.from_json('./my_data/my_file.json')\n",
    "```\n",
    "\n",
    "This is a convenience method and simply wraps `pandas.read_json`, so the same arguments and file reading strategy applies.\n",
    "\n",
    "### In-memory data representations\n",
    "\n",
    "One can construct a Vaex DataFrame from a variety of in-memory data representations. One of the most useful such operations is converting a pandas into Vaex DataFrame:\n",
    "\n",
    "```\n",
    "df = vaex.from_pandas(pandas_df, copy_index=True)\n",
    "```\n",
    "The `copy_index` argument specifies whether the index column of a pandas DataFrame should be imported into the Vaex DataFrame. Converting a pandas into a Vaex DataFrame is particularly useful since pandas can read data from a large variety of file formats. For instance, if we want to work with a [SAS](https://www.sas.com/en_us/home.html) file, we can read it into Vaex via pandas like so:\n",
    "\n",
    "```\n",
    "import vaex\n",
    "import pandas as pd\n",
    "\n",
    "pandas_df = pd.read_sas('./my_data/my_file.xport')\n",
    "df = vaex.from_pandas(pandas_df)\n",
    "```\n",
    "\n",
    "One can read in an [arrow table](https://arrow.apache.org/docs/python/generated/pyarrow.Table.html) as a DataFrame in a similar manner:\n",
    "\n",
    "```\n",
    "df = vaex.from_arrow_table(pa_table)\n",
    "```\n",
    "\n",
    "Constructing a Vaex DataFrame from numpy arrays can be done line this:\n",
    "\n",
    "```\n",
    "import vaex\n",
    "import numpy as np\n",
    "\n",
    "x = np.array([1, 2, 3])\n",
    "y = np.array(['dog', 'cat', 'mouse'])\n",
    "\n",
    "df = vaex.from_arrays(x=x, y=y)\n",
    "```\n",
    "\n",
    "Constructing a DataFrame from a Python dict is also straight-forward:\n",
    "\n",
    "```\n",
    "d = {'a': [1, 2, 3], 'b': ['dog', 'cat', 'mouse']}\n",
    "df = vaex.from_dict(d)\n",
    "```"
   ]
  },
  {
   "cell_type": "markdown",
   "metadata": {},
   "source": [
    "## Data export\n",
    "\n"
   ]
  },
  {
   "cell_type": "code",
   "execution_count": null,
   "metadata": {},
   "outputs": [],
   "source": [
    "df.to"
   ]
  },
  {
   "cell_type": "code",
   "execution_count": 14,
   "metadata": {
    "ExecuteTime": {
     "end_time": "2020-04-24T16:30:04.907059Z",
     "start_time": "2020-04-24T16:30:04.887947Z"
    }
   },
   "outputs": [],
   "source": [
    "df = vaex.example()"
   ]
  },
  {
   "cell_type": "code",
   "execution_count": 16,
   "metadata": {
    "ExecuteTime": {
     "end_time": "2020-04-24T16:30:35.518652Z",
     "start_time": "2020-04-24T16:30:35.495496Z"
    }
   },
   "outputs": [
    {
     "data": {
      "text/plain": [
       "[array([ 0, 23, 32, ..., 14, 18,  4], dtype=uint8),\n",
       " array([ 1.2318684 , -0.16370061, -2.120256  , ...,  0.36885077,\n",
       "        -0.11259264, 20.79622   ], dtype=float32),\n",
       " array([-0.39692867,  3.6542213 ,  3.3260527 , ..., 13.029609  ,\n",
       "         1.4529126 , -3.3313878 ], dtype=float32),\n",
       " array([-0.59805775, -0.25490645,  1.7078403 , ..., -3.6339347 ,\n",
       "         2.1689527 , 12.188416  ], dtype=float32),\n",
       " array([ 301.15527 , -195.00023 ,  -48.63423 , ...,  -53.677147,\n",
       "         179.30865 ,   42.690002], dtype=float32),\n",
       " array([ 174.05948 ,  170.47217 ,  171.6473  , ..., -145.15771 ,\n",
       "         205.7971  ,   69.204796], dtype=float32),\n",
       " array([ 27.427546 , 142.53023  ,  -2.0794373, ...,  76.7091   ,\n",
       "        -68.75873  ,  29.542751 ], dtype=float32),\n",
       " array([-149431.4 , -124247.95, -138500.55, ...,  -84912.26, -133498.47,\n",
       "         -65519.33], dtype=float32),\n",
       " array([ 407.38898,  890.24115,  372.2411 , ...,  817.1376 ,  724.00024,\n",
       "        1843.0747 ], dtype=float32),\n",
       " array([ 333.95554,  684.6676 , -202.17618, ...,  645.8507 , -283.69104,\n",
       "        1581.4152 ], dtype=float32),\n",
       " array([-1.0053853, -1.708667 , -1.8336141, ..., -1.7645613, -1.8808953,\n",
       "        -1.1231084], dtype=float32)]"
      ]
     },
     "execution_count": 16,
     "metadata": {},
     "output_type": "execute_result"
    }
   ],
   "source": [
    "df.to_arrays()"
   ]
  }
 ],
 "metadata": {
  "kernelspec": {
   "display_name": "Python 3",
   "language": "python",
   "name": "python3"
  },
  "language_info": {
   "codemirror_mode": {
    "name": "ipython",
    "version": 3
   },
   "file_extension": ".py",
   "mimetype": "text/x-python",
   "name": "python",
   "nbconvert_exporter": "python",
   "pygments_lexer": "ipython3",
   "version": "3.7.6"
  }
 },
 "nbformat": 4,
 "nbformat_minor": 4
}
