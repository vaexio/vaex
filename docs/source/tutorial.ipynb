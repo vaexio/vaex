{
 "cells": [
  {
   "cell_type": "raw",
   "metadata": {
    "raw_mimetype": "text/html"
   },
   "source": [
    "<style>\n",
    "pre {\n",
    " white-space: pre-wrap !important;\n",
    "}\n",
    ".table-striped > tbody > tr:nth-of-type(odd) {\n",
    "    background-color: #f9f9f9;\n",
    "}\n",
    ".table-striped > tbody > tr:nth-of-type(even) {\n",
    "    background-color: white;\n",
    "}\n",
    ".table-striped td, .table-striped th, .table-striped tr {\n",
    "    border: 1px solid black;\n",
    "    border-collapse: collapse;\n",
    "    margin: 1em 2em;\n",
    "}\n",
    ".rendered_html td, .rendered_html th {\n",
    "    text-align: left;\n",
    "    vertical-align: middle;\n",
    "    padding: 4px;\n",
    "}\n",
    "</style>"
   ]
  },
  {
   "cell_type": "markdown",
   "metadata": {},
   "source": [
    "# Vaex introduction in 11 minutes \n",
    "\n",
    "[Because vaex goes up to 11](https://en.wikipedia.org/wiki/Up_to_eleven)\n",
    "\n",
    "## DataFrame\n",
    "Central to Vaex is the DataFrame (similar, but more efficient than a Pandas DataFrame), and we often use the variable `df` to represent it. A DataFrame is an efficient representation for a large tabular dataset, and has:\n",
    "\n",
    " * A number of columns, say `x`, `y` and `z`, which are:\n",
    "   * Backed by a Numpy array;\n",
    "   * Wrapped by an expression system e.g. `df.x`, `df['x']` or `df.col.x` is an Expression;\n",
    "   * Columns/expression can perform lazy computations, e.g. `df.x * np.sin(df.y)` does nothing, until the result is needed.\n",
    " * A set of virtual columns, columns that are backed by a (lazy) computation, e.g. `df['r'] = df.x/df.y` \n",
    " * A set of selections, that can be used to explore the dataset, e.g. `df.select(df.x < 0)`\n",
    " * Filtered DataFrames, that does not copy the data, `df_negative = df[df.x < 0]`\n",
    " \n",
    "Lets start with an example dataset, which is included in Vaex."
   ]
  },
  {
   "cell_type": "code",
   "execution_count": null,
   "metadata": {},
   "outputs": [],
   "source": [
    "import vaex\n",
    "df = vaex.example()\n",
    "df  # Since this is the last statement in a cell, it will print the DataFrame in a nice HTML format. "
   ]
  },
  {
   "cell_type": "markdown",
   "metadata": {},
   "source": [
    "### Columns\n",
    "The above preview shows that this dataset contains $> 300,000$ rows, and columns named x ,y, z (positions), vx, vy, vz (velocities), E (energy), L (angular momentum), and an id (subgroup of samples). When we print out a columns, we can see that it is not a Numpy array, but an Expression."
   ]
  },
  {
   "cell_type": "code",
   "execution_count": null,
   "metadata": {},
   "outputs": [],
   "source": [
    "df.x  # df.col.x or df['x'] are equivalent, but df.x may be preferred because it is more tab completion friendly or programming friendly respectively"
   ]
  },
  {
   "cell_type": "markdown",
   "metadata": {},
   "source": [
    "Most Numpy functions (ufuncs) can be performed on expressions, and will not result in a direct result, but in a new expression."
   ]
  },
  {
   "cell_type": "code",
   "execution_count": null,
   "metadata": {},
   "outputs": [],
   "source": [
    "import numpy as np\n",
    "np.sqrt(df.x**2 + df.y**2 + df.z**2)"
   ]
  },
  {
   "cell_type": "markdown",
   "metadata": {},
   "source": [
    "### Virtual columns\n",
    "Sometimes it is convenient to store an expression as a column. We call this a virtual column since it does not take up any memory, and is computed on the fly when needed. A virtual column is treated just as a normal column."
   ]
  },
  {
   "cell_type": "code",
   "execution_count": null,
   "metadata": {},
   "outputs": [],
   "source": [
    "df['r'] = np.sqrt(df.x**2 + df.y**2 + df.z**2)\n",
    "df[['x', 'y', 'z', 'r']]"
   ]
  },
  {
   "cell_type": "markdown",
   "metadata": {},
   "source": [
    "### Selections and filtering\n",
    "Vaex can be efficient when exploring subsets of the data, for instance to remove outliers or to inspect only a part of the data. Instead of making copies, Vaex internally keeps track which rows are selected."
   ]
  },
  {
   "cell_type": "code",
   "execution_count": null,
   "metadata": {},
   "outputs": [],
   "source": [
    "df.select(df.x < 0)\n",
    "df.evaluate(df.x, selection=True)"
   ]
  },
  {
   "cell_type": "markdown",
   "metadata": {},
   "source": [
    "Selections are useful when you frequently modify the portion of the data you want to visualize, or when you want to efficiently compute statistics on several portions of the data effectively.\n",
    "\n",
    "Alternatively, you can also create filtered datasets. This is similar to using Pandas, except that Vaex does not copy the data."
   ]
  },
  {
   "cell_type": "code",
   "execution_count": null,
   "metadata": {},
   "outputs": [],
   "source": [
    "df_negative = df[df.x < 0]\n",
    "df_negative[['x', 'y', 'z', 'r']]"
   ]
  },
  {
   "cell_type": "markdown",
   "metadata": {},
   "source": [
    "## Statistics on N-d grids\n",
    "\n",
    "A core feature of Vaex is the extremely efficient calculation of statistics on N-dimensional grids. The is rather useful for making visualisations of large datasets."
   ]
  },
  {
   "cell_type": "code",
   "execution_count": null,
   "metadata": {},
   "outputs": [],
   "source": [
    "df.count(), df.mean(df.x), df.mean(df.x, selection=True)"
   ]
  },
  {
   "cell_type": "markdown",
   "metadata": {},
   "source": [
    "Similar to SQL's groupby, Vaex uses the binby concept, which tells Vaex that a statistic should be calculated on a regular grid (for performance reasons)"
   ]
  },
  {
   "cell_type": "code",
   "execution_count": null,
   "metadata": {},
   "outputs": [],
   "source": [
    "counts_x = df.count(binby=df.x, limits=[-10, 10], shape=64)\n",
    "counts_x"
   ]
  },
  {
   "cell_type": "markdown",
   "metadata": {},
   "source": [
    "This results in a Numpy array with the number counts in 64 bins distributed between x = -10, and x = 10. We can quickly visualize this using Matplotlib."
   ]
  },
  {
   "cell_type": "code",
   "execution_count": null,
   "metadata": {},
   "outputs": [],
   "source": [
    "import matplotlib.pylab as plt\n",
    "plt.plot(np.linspace(-10, 10, 64), counts_x)\n",
    "plt.show()"
   ]
  },
  {
   "cell_type": "markdown",
   "metadata": {},
   "source": [
    "We can do the same in 2D as well (this can be generalized to N-D actually!), and display it with Matplotlib."
   ]
  },
  {
   "cell_type": "code",
   "execution_count": null,
   "metadata": {},
   "outputs": [],
   "source": [
    "xycounts = df.count(binby=[df.x, df.y], limits=[[-10, 10], [-10, 20]], shape=(64, 128))\n",
    "xycounts"
   ]
  },
  {
   "cell_type": "code",
   "execution_count": null,
   "metadata": {},
   "outputs": [],
   "source": [
    "plt.imshow(xycounts.T, origin='lower', extent=[-10, 10, -10, 20])\n",
    "plt.show()"
   ]
  },
  {
   "cell_type": "code",
   "execution_count": null,
   "metadata": {},
   "outputs": [],
   "source": [
    "v = np.sqrt(df.vx**2 + df.vy**2 + df.vz**2)\n",
    "xy_mean_v = df.mean(v, binby=[df.x, df.y], limits=[[-10, 10], [-10, 20]], shape=(64, 128))\n",
    "xy_mean_v"
   ]
  },
  {
   "cell_type": "code",
   "execution_count": null,
   "metadata": {},
   "outputs": [],
   "source": [
    "plt.imshow(xy_mean_v.T, origin='lower', extent=[-10, 10, -10, 20])\n",
    "plt.show()"
   ]
  },
  {
   "cell_type": "markdown",
   "metadata": {},
   "source": [
    "Other statistics can be computed, such as:\n",
    "\n",
    "* [DataFrame.count](api.rst#vaex.dataframe.DataFrame.count)\n",
    "* [DataFrame.mean](api.rst#vaex.dataframe.DataFrame.mean)\n",
    "* [DataFrame.std](api.rst#vaex.dataframe.DataFrame.std)\n",
    "* [DataFrame.var](api.rst#vaex.dataframe.DataFrame.var)\n",
    "* [DataFrame.median_approx](api.rst#vaex.dataframe.DataFrame.median_approx)\n",
    "* [DataFrame.percentile_approx](api.rst#vaex.dataframe.DataFrame.percentile_approx)\n",
    "* [DataFrame.mode](api.rst#vaex.dataframe.DataFrame.mode)\n",
    "* [DataFrame.min](api.rst#vaex.dataframe.DataFrame.min)\n",
    "* [DataFrame.max](api.rst#vaex.dataframe.DataFrame.max)\n",
    "* [DataFrame.minmax](api.rst#vaex.dataframe.DataFrame.minmax)\n",
    "* [DataFrame.mutual_information](api.rst#vaex.dataframe.DataFrame.mutual_information)\n",
    "* [DataFrame.correlation](api.rst#vaex.dataframe.DataFrame.correlation)\n",
    "\n",
    "Or see the full list at the [API docs](api.rst#statistics)."
   ]
  },
  {
   "cell_type": "markdown",
   "metadata": {},
   "source": [
    "## Getting your data in\n",
    "\n",
    "Before continuing with this tutorial, you may want to read in your own data. Ultimately, a Vaex DataFrame just wraps a set of Numpy arrays. If you can access your data as a set of Numpy arrays, you can easily construct a DataFrame using [from_arrays](api.rst#vaex.from_arrays)."
   ]
  },
  {
   "cell_type": "code",
   "execution_count": null,
   "metadata": {},
   "outputs": [],
   "source": [
    "import vaex\n",
    "import numpy as np\n",
    "x = np.arange(5)\n",
    "y = x**2\n",
    "df = vaex.from_arrays(x=x, y=y)\n",
    "df"
   ]
  },
  {
   "cell_type": "markdown",
   "metadata": {},
   "source": [
    "Other quick ways to get your data in are:\n",
    " \n",
    "  * [from_arrow_table](api.rst#vaex.from_arrow_table): [Arrow](https://arrow.apache.org/) table support\n",
    "  * [from_csv](api.rst#vaex.from_csv): Comma separated files\n",
    "  * [from_ascii](api.rst#vaex.from_ascii): Space/tab separated files\n",
    "  * [from_pandas](api.rst#vaex.from_pandas): Converts a pandas DataFrame\n",
    "  * [from_astropy_table](api.rst#vaex.from_astropy_table): Converts an astropy table\n",
    "\n",
    "Exporting, or converting a DataFrame to a different datastructure is also quite easy:\n",
    " \n",
    " * [DataFrame.to_arrow_table](api.rst#vaex.dataframe.DataFrame.to_arrow_table)\n",
    " * [DataFrame.to_dask_array](api.rst#vaex.dataframe.DataFrame.to_dask_array) \n",
    " * [DataFrame.to_pandas_df](api.rst#vaex.dataframe.DataFrame.to_pandas_df)\n",
    " * [DataFrame.export](api.rst#vaex.dataframe.DataFrameLocal.export)\n",
    " * [DataFrame.export_hdf5](api.rst#vaex.dataframe.DataFrameLocal.export_hdf5)\n",
    " * [DataFrame.export_arrow](api.rst#vaex.dataframe.DataFrameLocal.export_arrow)\n",
    " * [DataFrame.export_fits](api.rst#vaex.dataframe.DataFrameLocal.export_fits)\n",
    " "
   ]
  },
  {
   "cell_type": "markdown",
   "metadata": {},
   "source": [
    "Nowadays, it is common to put data, especially larger dataset, on the cloud. Vaex can read data straight from S3, in a lazy manner, meaning that only that data that is needed will be downloaded, and cached on disk."
   ]
  },
  {
   "cell_type": "code",
   "execution_count": null,
   "metadata": {},
   "outputs": [],
   "source": [
    "# Read in the NYC Taxi dataset straight from S3\n",
    "nyctaxi = vaex.open('s3://vaex/taxi/yellow_taxi_2009_2015_f32.hdf5?anon=true')\n",
    "nyctaxi.head(5)"
   ]
  },
  {
   "cell_type": "markdown",
   "metadata": {},
   "source": [
    "## Plotting\n",
    "\n",
    "### 1-D and 2-D\n",
    "\n",
    "Most visualizations are done in 1 or 2 dimensions, and Vaex nicely wraps Matplotlib to satisfy a variety of frequent use cases.\n"
   ]
  },
  {
   "cell_type": "code",
   "execution_count": null,
   "metadata": {},
   "outputs": [],
   "source": [
    "import vaex\n",
    "import numpy as np\n",
    "df = vaex.example()"
   ]
  },
  {
   "cell_type": "markdown",
   "metadata": {},
   "source": [
    "The simplest visualization is a 1-D plot using [DataFrame.plot1d](api.rst#vaex.dataframe.DataFrame.plot1d). When only given one argument, it will show a histogram showing 99.7% of the data."
   ]
  },
  {
   "cell_type": "code",
   "execution_count": null,
   "metadata": {},
   "outputs": [],
   "source": [
    "df.plot1d(df.x, limits='99.7%');"
   ]
  },
  {
   "cell_type": "markdown",
   "metadata": {},
   "source": [
    "A slighly more complication visualization, is to plot not the counts, but a different statistic for that bin. In most \n",
    "cases, passing the `what='<statistic>(<expression>)` argument will do, where `<statistic>` is any of the statistics mentioned in the list above, or in the [API docs](api.rst#statistics)."
   ]
  },
  {
   "cell_type": "code",
   "execution_count": null,
   "metadata": {},
   "outputs": [],
   "source": [
    "df.plot1d(df.x, what='mean(E)', limits='99.7%');"
   ]
  },
  {
   "cell_type": "markdown",
   "metadata": {},
   "source": [
    "An equivalent method is to use the `vaex.stat.<statistic>` functions, e.g. [vaex.stat.mean](api.rst#vaex.stat.mean)."
   ]
  },
  {
   "cell_type": "code",
   "execution_count": null,
   "metadata": {},
   "outputs": [],
   "source": [
    "df.plot1d(df.x, what=vaex.stat.mean(df.E), limits='99.7%');"
   ]
  },
  {
   "cell_type": "markdown",
   "metadata": {},
   "source": [
    "The `vaex.stat.<statistic>` objects are very similar to Vaex expressions, in that they represent an underlying calculation. Typical arithmetic and Numpy functions can be applied to these calulations. However, these objects compute a single statistic, and do not return a column or expression."
   ]
  },
  {
   "cell_type": "code",
   "execution_count": null,
   "metadata": {},
   "outputs": [],
   "source": [
    "np.log(vaex.stat.mean(df.x)/vaex.stat.std(df.x))"
   ]
  },
  {
   "cell_type": "markdown",
   "metadata": {},
   "source": [
    "These statistical objects can be passed to the `what` argument. The advantage being that the data will only have to be passed over once."
   ]
  },
  {
   "cell_type": "code",
   "execution_count": null,
   "metadata": {},
   "outputs": [],
   "source": [
    "df.plot1d(df.x, what=np.clip(np.log(-vaex.stat.mean(df.E)), 11, 11.4), limits='99.7%');"
   ]
  },
  {
   "cell_type": "markdown",
   "metadata": {},
   "source": [
    "A similar result can be obtained by calculating the statistic ourselves, and passing it to plot1d's grid argument. Care has to be taken that the limits used for calculating the statistics and the plot are the same, otherwise the x axis may not correspond to the real data."
   ]
  },
  {
   "cell_type": "code",
   "execution_count": null,
   "metadata": {},
   "outputs": [],
   "source": [
    "limits = [-30, 30]\n",
    "shape  = 64\n",
    "meanE  = df.mean(df.E, binby=df.x, limits=limits, shape=shape)\n",
    "grid   = np.clip(np.log(-meanE), 11, 11.4)\n",
    "df.plot1d(df.x, grid=grid, limits=limits, ylabel='clipped E');"
   ]
  },
  {
   "cell_type": "markdown",
   "metadata": {},
   "source": [
    "The same applies for 2-D plotting."
   ]
  },
  {
   "cell_type": "code",
   "execution_count": null,
   "metadata": {},
   "outputs": [],
   "source": [
    "df.plot(df.x, df.y, what=vaex.stat.mean(df.E)**2, limits='99.7%');"
   ]
  },
  {
   "cell_type": "markdown",
   "metadata": {},
   "source": [
    "### Selections for plotting\n",
    "\n",
    "While filtering is useful for narrowing down the contents of a DataFrame (e.g. `df_negative = df[df.x < 0]`) there are a few downsides to this. First, a practical issue is that when you filter 4 different ways, you will need to have 4 different DataFrames polluting your namespace. More importantly, when Vaex executes a bunch of statistical computations, it will do that per DataFrame, meaning that 4 passes over the data will be made, and even though all 4 of those DataFrames point to the same underlying data.\n",
    "\n",
    "If instead we have 4 (named) selections in our DataFrame, we can calculate statistics in one single pass over the data, which can be significantly faster especially in the cases when your dataset is larger than your memory.\n",
    "\n",
    "In the plot below we show three selection, which by default are blended together, requiring just one pass over the data."
   ]
  },
  {
   "cell_type": "code",
   "execution_count": null,
   "metadata": {},
   "outputs": [],
   "source": [
    "df.plot(df.x, df.y, what=np.log(vaex.stat.count()+1), limits='99.7%',\n",
    "        selection=[None, df.x < df.y, df.x < -10]);"
   ]
  },
  {
   "cell_type": "markdown",
   "metadata": {},
   "source": [
    "### Advanced Plotting\n",
    "Lets say we would like to see two plots next to eachother. To achieve this we can pass a list of expression pairs."
   ]
  },
  {
   "cell_type": "code",
   "execution_count": null,
   "metadata": {},
   "outputs": [],
   "source": [
    "df.plot([[\"x\", \"y\"], [\"x\", \"z\"]], limits='99.7%',\n",
    "        title=\"Face on and edge on\", figsize=(10,4));"
   ]
  },
  {
   "cell_type": "markdown",
   "metadata": {},
   "source": [
    "By default, if you have multiple plots, they are shown as columns, multiple selections are overplotted, and multiple 'whats' (statistics) are shown as rows."
   ]
  },
  {
   "cell_type": "code",
   "execution_count": null,
   "metadata": {},
   "outputs": [],
   "source": [
    "df.plot([[\"x\", \"y\"], [\"x\", \"z\"]], \n",
    "        limits='99.7%',\n",
    "        what=[np.log(vaex.stat.count()+1), vaex.stat.mean(df.E)],\n",
    "        selection=[None, df.x < df.y],\n",
    "        title=\"Face on and edge on\", figsize=(10,10));"
   ]
  },
  {
   "cell_type": "markdown",
   "metadata": {},
   "source": [
    "Note that the selection has no effect in the bottom rows.\n",
    "\n",
    "However, this behaviour can be changed using the `visual` argument."
   ]
  },
  {
   "cell_type": "code",
   "execution_count": null,
   "metadata": {},
   "outputs": [],
   "source": [
    "df.plot([[\"x\", \"y\"], [\"x\", \"z\"]],\n",
    "        limits='99.7%',\n",
    "        what=vaex.stat.mean(df.E),\n",
    "        selection=[None, df.Lz < 0],\n",
    "        visual=dict(column='selection'),\n",
    "        title=\"Face on and edge on\", figsize=(10,10));"
   ]
  },
  {
   "cell_type": "markdown",
   "metadata": {},
   "source": [
    "### Slices in a 3rd dimension\n",
    "If a 3rd axis (z) is given, you can 'slice' through the data, displaying the z slices as rows. Note that here the rows are wrapped, which can be changed using the `wrap_columns` argument."
   ]
  },
  {
   "cell_type": "code",
   "execution_count": null,
   "metadata": {},
   "outputs": [],
   "source": [
    "df.plot(\"Lz\", \"E\", \n",
    "        limits='99.7%',\n",
    "        z=\"FeH:-2.5,-1,8\", show=True, visual=dict(row=\"z\"),\n",
    "        figsize=(12,8), f=\"log\", wrap_columns=3);"
   ]
  },
  {
   "cell_type": "markdown",
   "metadata": {},
   "source": [
    "### Visualization of smaller datasets\n",
    "\n",
    "Although Vaex focuses on large datasets, sometimes you end up with a fraction of the data (e.g. due to a selection) and you want to make a scatter plot. You can do so with the following approach:"
   ]
  },
  {
   "cell_type": "code",
   "execution_count": null,
   "metadata": {},
   "outputs": [],
   "source": [
    "import vaex\n",
    "df = vaex.example()"
   ]
  },
  {
   "cell_type": "code",
   "execution_count": null,
   "metadata": {},
   "outputs": [],
   "source": [
    "import matplotlib.pylab as plt\n",
    "x = df.evaluate(\"x\", selection=df.Lz < -2500)\n",
    "y = df.evaluate(\"y\", selection=df.Lz < -2500)\n",
    "plt.scatter(x, y, c=\"red\", alpha=0.5, s=4);"
   ]
  },
  {
   "cell_type": "code",
   "execution_count": null,
   "metadata": {},
   "outputs": [],
   "source": [
    "df.scatter(df.x, df.y, selection=df.Lz < -2500, c=\"red\", alpha=0.5, s=4)\n",
    "df.scatter(df.x, df.y, selection=df.Lz > 1500, c=\"green\", alpha=0.5, s=4);"
   ]
  },
  {
   "cell_type": "markdown",
   "metadata": {},
   "source": [
    "### In control\n",
    "\n",
    "While Vaex provides a wrapper for Matplotlib, there are situations where you want to use the [DataFrame.plot](api.rst#vaex.dataframe.DataFrame.plot) method, but want to be in control of the plot. Vaex simply uses the current figure and axes objects, so that it is easy to do."
   ]
  },
  {
   "cell_type": "code",
   "execution_count": null,
   "metadata": {},
   "outputs": [],
   "source": [
    "fig, (ax1, ax2) = plt.subplots(1, 2, figsize=(14,7))\n",
    "plt.sca(ax1)\n",
    "selection = df.Lz < -2500\n",
    "x = df[selection].x.evaluate()#selection=selection)\n",
    "y = df[selection].y.evaluate()#selection=selection)\n",
    "df.plot(df.x, df.y)\n",
    "plt.scatter(x, y)\n",
    "plt.xlabel('my own label $\\gamma$')\n",
    "plt.xlim(-20, 20)\n",
    "plt.ylim(-20, 20)\n",
    "\n",
    "plt.sca(ax2)\n",
    "df.plot1d(df.x, label='counts', n=True)\n",
    "x = np.linspace(-30, 30, 100)\n",
    "std = df.std(df.x.expression)\n",
    "y = np.exp(-(x**2/std**2/2)) / np.sqrt(2*np.pi) / std\n",
    "plt.plot(x, y, label='gaussian fit')\n",
    "plt.legend()\n",
    "plt.show()"
   ]
  },
  {
   "cell_type": "markdown",
   "metadata": {},
   "source": [
    "### Healpix (Plotting)\n",
    "[Healpix](https://en.wikipedia.org/wiki/HEALPix) plotting is supported via the [healpy](https://healpy.readthedocs.io) package. Vaex does not need special support for healpix, only for plotting, but some helper functions are introduced to make working with healpix easier. \n",
    "\n",
    "In the following example we will use the TGAS astronomy dataset.\n",
    " \n",
    "To understand healpix better, we will start from the beginning. If we want to make a density sky plot, we would like to pass healpy a 1D Numpy array where each value represents the density at a location of the sphere, where the location is determined by the array size (the healpix level) and the offset (the location). The TGAS (and Gaia) data includes the healpix index encoded in the `source_id`. By diving the `source_id` by 34359738368 you get a healpix index level 12, and diving it further will take you to lower levels.\n",
    "\n"
   ]
  },
  {
   "cell_type": "code",
   "execution_count": null,
   "metadata": {},
   "outputs": [],
   "source": [
    "import vaex\n",
    "import healpy as hp\n",
    "tgas = vaex.datasets.tgas.fetch()"
   ]
  },
  {
   "cell_type": "markdown",
   "metadata": {},
   "source": [
    "We will start showing how you could manually do statistics on healpix bins using `vaex.count`. We will do a really course healpix scheme (level 2)."
   ]
  },
  {
   "cell_type": "code",
   "execution_count": null,
   "metadata": {},
   "outputs": [],
   "source": [
    "level = 2\n",
    "factor = 34359738368 * (4**(12-level))\n",
    "nmax = hp.nside2npix(2**level)\n",
    "epsilon = 1e-16\n",
    "counts = tgas.count(binby=tgas.source_id/factor, limits=[-epsilon, nmax-epsilon], shape=nmax)\n",
    "counts"
   ]
  },
  {
   "cell_type": "markdown",
   "metadata": {},
   "source": [
    "And using healpy's [mollview](https://healpy.readthedocs.io/en/latest/generated/healpy.visufunc.mollview.html#healpy.visufunc.mollview) we can visualize this."
   ]
  },
  {
   "cell_type": "code",
   "execution_count": null,
   "metadata": {},
   "outputs": [],
   "source": [
    "hp.mollview(counts, nest=True)"
   ]
  },
  {
   "cell_type": "markdown",
   "metadata": {},
   "source": [
    "To simplify life, Vaex includes [DataFrame.healpix_count](api.rst#vaex.dataframe.DataFrame.healpix_count) to take care of this."
   ]
  },
  {
   "cell_type": "code",
   "execution_count": null,
   "metadata": {},
   "outputs": [],
   "source": [
    "counts = tgas.healpix_count(healpix_level=6)\n",
    "hp.mollview(counts, nest=True)"
   ]
  },
  {
   "cell_type": "markdown",
   "metadata": {},
   "source": [
    "Or even simpler, use [DataFrame.healpix_plot](api.rst#vaex.dataframe.DataFrame.healpix_plot)"
   ]
  },
  {
   "cell_type": "code",
   "execution_count": null,
   "metadata": {},
   "outputs": [],
   "source": [
    "tgas.healpix_plot(f=\"log1p\", healpix_level=6, figsize=(10,8),\n",
    "                  healpix_output=\"ecliptic\")"
   ]
  },
  {
   "cell_type": "markdown",
   "metadata": {},
   "source": [
    "## [xarray](http://xarray.pydata.org) suppport\n",
    "\n",
    "The `df.count` method can also return an [xarray](http://xarray.pydata.org) data array instead of a numpy array. This is easily done via the `array_type` keyword. Building on top of numpy, xarray adds dimension labels, coordinates and attributes, that makes working with multi-dimensional arrays more convenient. "
   ]
  },
  {
   "cell_type": "code",
   "execution_count": null,
   "metadata": {},
   "outputs": [],
   "source": [
    "xarr = df.count(binby=[df.x, df.y], limits=[-10, 10], shape=64, array_type='xarray')\n",
    "xarr"
   ]
  },
  {
   "cell_type": "markdown",
   "metadata": {
    "ExecuteTime": {
     "end_time": "2020-04-15T13:34:25.071193Z",
     "start_time": "2020-04-15T13:34:24.727816Z"
    }
   },
   "source": [
    "In addition, xarray also has a plotting method that can be quite convenient. Since the xarray object has information about the labels of each dimension, the plot axis will be automatially labeled."
   ]
  },
  {
   "cell_type": "code",
   "execution_count": null,
   "metadata": {},
   "outputs": [],
   "source": [
    "xarr.plot();"
   ]
  },
  {
   "cell_type": "markdown",
   "metadata": {},
   "source": [
    "Having xarray as output helps us to explore the contents of our data faster. In the following example we show how easy it is to plot the 2D distribution of the positions of the samples (x, y), per id group.\n",
    "\n",
    "Notice how xarray automatically adds the appropriate titles and axis labels to the figure."
   ]
  },
  {
   "cell_type": "code",
   "execution_count": null,
   "metadata": {},
   "outputs": [],
   "source": [
    "df.categorize('id')  # treat the id as a categorical column - automatically adjusts limits and shape\n",
    "xarr = df.count(binby=['x', 'y', 'id'], limits='95%', array_type='xarray')\n",
    "np.log1p(xarr).plot(col='id', col_wrap=7);"
   ]
  },
  {
   "cell_type": "markdown",
   "metadata": {},
   "source": [
    "## Interactive widgets\n",
    "\n",
    "<div class=\"alert alert-info\">\n",
    "\n",
    "**Note:** The interactive widgets require a running Python kernel, if you are viewing this documentation online you can get a feeling for what the widgets can do, but computation will not be possible!\n",
    "\n",
    "</div>\n",
    "\n",
    "Using the `vaex-jupyter` package, we get access to interactive widgets."
   ]
  },
  {
   "cell_type": "code",
   "execution_count": null,
   "metadata": {},
   "outputs": [],
   "source": [
    "import vaex\n",
    "import vaex.jupyter\n",
    "import numpy as np\n",
    "import pylab as plt\n",
    "df = vaex.example()"
   ]
  },
  {
   "cell_type": "markdown",
   "metadata": {},
   "source": [
    "The simplest way to get a more interactive visualization (or even print out statistics) is to use the `vaex.jupyter.interactive_selection` decorator, which will execute the decorated function each time the selection is changed.\n"
   ]
  },
  {
   "cell_type": "code",
   "execution_count": null,
   "metadata": {},
   "outputs": [],
   "source": [
    "df.select(df.x > 0)\n",
    "@vaex.jupyter.interactive_selection(df)\n",
    "def plot(*args, **kwargs):\n",
    "    print(\"Mean x for the selection is:\", df.mean(df.x, selection=True))\n",
    "    df.plot(df.x, df.y, what=np.log(vaex.stat.count()+1), selection=[None, True], limits='99.7%')\n",
    "    plt.show()"
   ]
  },
  {
   "cell_type": "markdown",
   "metadata": {},
   "source": [
    "After changing the selection programmatically, the visualization will update, as well as the print output."
   ]
  },
  {
   "cell_type": "code",
   "execution_count": null,
   "metadata": {},
   "outputs": [],
   "source": [
    "df.select(df.x > df.y)"
   ]
  },
  {
   "cell_type": "markdown",
   "metadata": {},
   "source": [
    "However, to get truly interactive visualization, we need to use widgets, such as the [bqplot](https://github.com/bloomberg/bqplot) library. Again, if we make a selection here, the above visualization will also update, so lets select a square region.\n",
    "\n",
    "One issue is that if you have installed ipywidget, bqplot, ipyvolume etc, it may not be enabled if you installed them from pip (installing from conda-forge will enable it automagically). To enable it, run the next cell, and refresh the notebook if they were not enabled already. *(Note that these commands will execute in the environment where the notebook is running, not where the kernel is running)*"
   ]
  },
  {
   "cell_type": "code",
   "execution_count": null,
   "metadata": {},
   "outputs": [],
   "source": [
    "import sys\n",
    "!jupyter nbextension enable --sys-prefix --py widgetsnbextension\n",
    "!jupyter nbextension enable --sys-prefix --py bqplot\n",
    "!jupyter nbextension enable --sys-prefix --py ipyvolume\n",
    "!jupyter nbextension enable --sys-prefix --py ipympl\n",
    "!jupyter nbextension enable --sys-prefix --py ipyleaflet\n"
   ]
  },
  {
   "cell_type": "code",
   "execution_count": null,
   "metadata": {},
   "outputs": [],
   "source": [
    "# the default backend is bqplot, but we pass it here explicity\n",
    "df.plot_widget(df.x, df.y, f='log1p', backend='bqplot')"
   ]
  },
  {
   "cell_type": "markdown",
   "metadata": {},
   "source": [
    "## Joining\n",
    "\n",
    "Joining in Vaex is similar to Pandas, except the data will no be copied. Internally an index array is kept for each row on the left DataFrame, pointing to the right DataFrame, requiring about 8GB for a billion row $10^9$ dataset.\n",
    "Lets start with 2 small DataFrames, `df1` and `df2`:"
   ]
  },
  {
   "cell_type": "code",
   "execution_count": null,
   "metadata": {},
   "outputs": [],
   "source": [
    "a = np.array(['a', 'b', 'c'])\n",
    "x = np.arange(1,4)\n",
    "df1 = vaex.from_arrays(a=a, x=x)\n",
    "df1"
   ]
  },
  {
   "cell_type": "code",
   "execution_count": null,
   "metadata": {},
   "outputs": [],
   "source": [
    "b = np.array(['a', 'b', 'd'])\n",
    "y = x**2\n",
    "df2 = vaex.from_arrays(b=b, y=y)\n",
    "df2"
   ]
  },
  {
   "cell_type": "markdown",
   "metadata": {},
   "source": [
    "The default join, is a 'left' join, where all rows for the left DataFrame (`df1`) are kept, and matching rows of the right DataFrame (`df2`) are added. We see that for the columns b and y, some values are missing, as expected."
   ]
  },
  {
   "cell_type": "code",
   "execution_count": null,
   "metadata": {},
   "outputs": [],
   "source": [
    "df1.join(df2, left_on='a', right_on='b')"
   ]
  },
  {
   "cell_type": "markdown",
   "metadata": {},
   "source": [
    "A 'right' join, is basically the same, but now the roles of the left and right label swapped, so now we have some values from columns x and a missing."
   ]
  },
  {
   "cell_type": "code",
   "execution_count": null,
   "metadata": {},
   "outputs": [],
   "source": [
    "df1.join(df2, left_on='a', right_on='b', how='right')"
   ]
  },
  {
   "cell_type": "markdown",
   "metadata": {},
   "source": [
    "We can also do 'inner' join, in which the output DataFrame has only the rows common between `df1` and `df2`."
   ]
  },
  {
   "cell_type": "code",
   "execution_count": null,
   "metadata": {},
   "outputs": [],
   "source": [
    "df1.join(df2, left_on='a', right_on='b', how='inner')"
   ]
  },
  {
   "cell_type": "markdown",
   "metadata": {},
   "source": [
    "Other joins (e.g. outer) are currently not supported. Feel free to [open an issue on GitHub](https://github.com/vaexio/vaex/issues) for this."
   ]
  },
  {
   "cell_type": "markdown",
   "metadata": {},
   "source": [
    "## Group-by\n",
    "\n",
    "With Vaex one can also do fast group-by aggregations. The output is Vaex DataFrame. Let us see few examples."
   ]
  },
  {
   "cell_type": "code",
   "execution_count": null,
   "metadata": {},
   "outputs": [],
   "source": [
    "import vaex\n",
    "animal = ['dog', 'dog', 'cat', 'guinea pig', 'guinea pig', 'dog']\n",
    "age = [2, 1, 5, 1, 3, 7]\n",
    "cuteness = [9, 10, 5, 8, 4, 8]\n",
    "df_pets = vaex.from_arrays(animal=animal, age=age, cuteness=cuteness)\n",
    "df_pets"
   ]
  },
  {
   "cell_type": "markdown",
   "metadata": {},
   "source": [
    "The syntax for doing group-by operations is virtually identical to that of Pandas. Note that when multiple aggregations are passed to a single column or expression, the output colums are appropriately named."
   ]
  },
  {
   "cell_type": "code",
   "execution_count": null,
   "metadata": {},
   "outputs": [],
   "source": [
    "df_pets.groupby(by='animal').agg({'age': 'mean',\n",
    "                                  'cuteness': ['mean', 'std']})"
   ]
  },
  {
   "cell_type": "markdown",
   "metadata": {},
   "source": [
    "Vaex supports a number of aggregation functions:\n",
    "\n",
    "  * [vaex.agg.count](https://vaex.readthedocs.io/en/latest/api.html#vaex.agg.count): Number of elements in a group\n",
    "  * [vaex.agg.first](https://vaex.readthedocs.io/en/latest/api.html#vaex.agg.first): The first element in a group\n",
    "  * [vaex.agg.max](https://vaex.readthedocs.io/en/latest/api.html#vaex.agg.max): The largest value in a group\n",
    "  * [vaex.agg.min](https://vaex.readthedocs.io/en/latest/api.html#vaex.agg.min): The smallest value in a group\n",
    "  * [vaex.agg.sum](https://vaex.readthedocs.io/en/latest/api.html#vaex.agg.sum): The sum of a group\n",
    "  * [vaex.agg.mean](https://vaex.readthedocs.io/en/latest/api.html#vaex.agg.mean): The mean value of a group\n",
    "  * [vaex.agg.std](https://vaex.readthedocs.io/en/latest/api.html#vaex.agg.std): The standard deviation of a group\n",
    "  * [vaex.agg.var](https://vaex.readthedocs.io/en/latest/api.html#vaex.agg.var): The variance of a group\n",
    "  * [vaex.agg.nunique](https://vaex.readthedocs.io/en/latest/api.html#vaex.agg.nunique): Number of unique elements in a group\n",
    "\n",
    "In addition, we can specify the aggregation operations inside the groupby-method. Also we can name the resulting aggregate columns as we wish. "
   ]
  },
  {
   "cell_type": "code",
   "execution_count": null,
   "metadata": {},
   "outputs": [],
   "source": [
    "df_pets.groupby(by='animal', \n",
    "                agg={'mean_age': vaex.agg.mean('age'),\n",
    "                     'cuteness_unique_values': vaex.agg.nunique('cuteness'),\n",
    "                     'cuteness_unique_min': vaex.agg.min('cuteness')})"
   ]
  },
  {
   "cell_type": "markdown",
   "metadata": {},
   "source": [
    "A powerful feature of the aggregation functions in Vaex is that they support selections. This gives us the flexibility to make selections while aggregating. For example, let's calculate the mean cuteness of the pets in this example DataFrame, but separated by age."
   ]
  },
  {
   "cell_type": "code",
   "execution_count": null,
   "metadata": {},
   "outputs": [],
   "source": [
    "df_pets.groupby(by='animal', \n",
    "                agg={'mean_cuteness_old': vaex.agg.mean('cuteness', selection='age>=5'),\n",
    "                     'mean_cuteness_young': vaex.agg.mean('cuteness', selection='~(age>=5)')})\n",
    "                           "
   ]
  },
  {
   "cell_type": "markdown",
   "metadata": {},
   "source": [
    "Note that in the last example, the grouped DataFrame contains NaNs for the groups in which there are no samples."
   ]
  },
  {
   "cell_type": "markdown",
   "metadata": {},
   "source": [
    "## String processing\n",
    "String processing is similar to Pandas, except all operations are performed lazily, multithreaded, and faster (in C++). Check the [API docs](api.rst#string-operations) for more examples."
   ]
  },
  {
   "cell_type": "code",
   "execution_count": null,
   "metadata": {},
   "outputs": [],
   "source": [
    "import vaex\n",
    "text = ['Something', 'very pretty', 'is coming', 'our', 'way.']\n",
    "df = vaex.from_arrays(text=text)\n",
    "df"
   ]
  },
  {
   "cell_type": "code",
   "execution_count": null,
   "metadata": {},
   "outputs": [],
   "source": [
    "df.text.str.upper()"
   ]
  },
  {
   "cell_type": "code",
   "execution_count": null,
   "metadata": {},
   "outputs": [],
   "source": [
    "df.text.str.title().str.replace('et', 'ET')"
   ]
  },
  {
   "cell_type": "code",
   "execution_count": null,
   "metadata": {},
   "outputs": [],
   "source": [
    "df.text.str.contains('e')"
   ]
  },
  {
   "cell_type": "code",
   "execution_count": null,
   "metadata": {},
   "outputs": [],
   "source": [
    "df.text.str.count('e')"
   ]
  },
  {
   "cell_type": "markdown",
   "metadata": {},
   "source": [
    "## Propagation of uncertainties\n",
    "\n",
    "In science one often deals with measurement uncertainties (sometimes refererred to as measurement errors). When transformations are made with quantities that have uncertainties associated with them, the uncertainties on these transformed quantities can be calculated automatically by Vaex. Note that propagation of uncertainties requires derivatives and matrix multiplications of lengthy equations, which is not complex, but tedious. Vaex can automatically calculate all dependencies, derivatives and compute the full covariance matrix.\n",
    "\n",
    "As an example, let us use the TGAS astronomy dataset once again. Even though the TGAS dataset already contains galactic sky coordiantes (l and b), let's add them again by performing a coordinate system rotation from RA. and Dec.\n",
    "We can apply a similar transformation and convert from the Sperical galactic to Cartesian coordinates."
   ]
  },
  {
   "cell_type": "code",
   "execution_count": null,
   "metadata": {},
   "outputs": [],
   "source": [
    "# convert parallas to distance\n",
    "tgas.add_virtual_columns_distance_from_parallax(tgas.parallax)\n",
    "# 'overwrite' the real columns 'l' and 'b' with virtual columns\n",
    "tgas.add_virtual_columns_eq2gal('ra', 'dec', 'l', 'b')\n",
    "# and combined with the galactic sky coordinates gives galactic cartesian coordinates of the stars\n",
    "tgas.add_virtual_columns_spherical_to_cartesian(tgas.l, tgas.b, tgas.distance, 'x', 'y', 'z')"
   ]
  },
  {
   "cell_type": "markdown",
   "metadata": {},
   "source": [
    "Since RA. and Dec. are in degrees, while ra_error and dec_error are in miliarcseconds, we need put them on the same scale"
   ]
  },
  {
   "cell_type": "code",
   "execution_count": null,
   "metadata": {},
   "outputs": [],
   "source": [
    "tgas['ra_error'] = tgas.ra_error / 1000 / 3600\n",
    "tgas['dec_error'] = tgas.dec_error / 1000 / 3600"
   ]
  },
  {
   "cell_type": "markdown",
   "metadata": {},
   "source": [
    "We now let Vaex sort out what the covariance matrix is for the Cartesian coordinates x, y, and z. Then take 50 samples from the dataset for visualization."
   ]
  },
  {
   "cell_type": "code",
   "execution_count": null,
   "metadata": {},
   "outputs": [],
   "source": [
    "tgas.propagate_uncertainties([tgas.x, tgas.y, tgas.z])\n",
    "tgas_50 = tgas.sample(50, random_state=42)"
   ]
  },
  {
   "cell_type": "markdown",
   "metadata": {},
   "source": [
    "For this small subset of the dataset we can visualize the uncertainties, with and without the covariance."
   ]
  },
  {
   "cell_type": "code",
   "execution_count": null,
   "metadata": {},
   "outputs": [],
   "source": [
    "tgas_50.scatter(tgas_50.x, tgas_50.y, xerr=tgas_50.x_uncertainty, yerr=tgas_50.y_uncertainty)\n",
    "plt.xlim(-10, 10)\n",
    "plt.ylim(-10, 10)\n",
    "plt.show()\n",
    "tgas_50.scatter(tgas_50.x, tgas_50.y, xerr=tgas_50.x_uncertainty, yerr=tgas_50.y_uncertainty, cov=tgas_50.y_x_covariance)\n",
    "plt.xlim(-10, 10)\n",
    "plt.ylim(-10, 10)\n",
    "plt.show()"
   ]
  },
  {
   "cell_type": "markdown",
   "metadata": {},
   "source": [
    "From the second plot, we see that showing error ellipses (so narrow that they appear as lines) instead of error bars reveal that the distance information dominates the uncertainty in this case."
   ]
  },
  {
   "cell_type": "markdown",
   "metadata": {},
   "source": [
    "## Just-In-Time compilation\n",
    "\n",
    "Let us start with a function that calculates the angular distance between two points on a surface of a sphere. The input of the function is a pair of 2 angular coordinates, in radians. "
   ]
  },
  {
   "cell_type": "code",
   "execution_count": null,
   "metadata": {},
   "outputs": [],
   "source": [
    "import vaex\n",
    "import numpy as np\n",
    "# From http://pythonhosted.org/pythran/MANUAL.html\n",
    "def arc_distance(theta_1, phi_1, theta_2, phi_2):\n",
    "    \"\"\"\n",
    "    Calculates the pairwise arc distance\n",
    "    between all points in vector a and b.\n",
    "    \"\"\"\n",
    "    temp = (np.sin((theta_2-2-theta_1)/2)**2\n",
    "           + np.cos(theta_1)*np.cos(theta_2) * np.sin((phi_2-phi_1)/2)**2)\n",
    "    distance_matrix = 2 * np.arctan2(np.sqrt(temp), np.sqrt(1-temp))\n",
    "    return distance_matrix\n"
   ]
  },
  {
   "cell_type": "markdown",
   "metadata": {},
   "source": [
    "Let us use the New York Taxi dataset of 2015, [as can be downloaded in hdf5 format](datasets.ipynb#New-york-taxi-dataset)"
   ]
  },
  {
   "cell_type": "code",
   "execution_count": null,
   "metadata": {},
   "outputs": [],
   "source": [
    "nyctaxi = vaex.open('s3://vaex/taxi/yellow_taxi_2009_2015_f32.hdf5?anon=true')\n",
    "# lets use just 20% of the data, since we want to make sure it fits\n",
    "# into memory (so we don't measure just hdd/ssd speed)\n",
    "nytaxi.set_active_fraction(0.2)"
   ]
  },
  {
   "cell_type": "markdown",
   "metadata": {},
   "source": [
    "Although the function above expects Numpy arrays, Vaex can pass in columns or expression, which will delay the execution untill it is needed, and add the resulting expression as a virtual column."
   ]
  },
  {
   "cell_type": "code",
   "execution_count": null,
   "metadata": {},
   "outputs": [],
   "source": [
    "nytaxi['arc_distance'] = arc_distance(nytaxi.pickup_longitude * np.pi/180,\n",
    "                                      nytaxi.pickup_latitude * np.pi/180,\n",
    "                                      nytaxi.dropoff_longitude * np.pi/180,\n",
    "                                      nytaxi.dropoff_latitude * np.pi/180)"
   ]
  },
  {
   "cell_type": "markdown",
   "metadata": {},
   "source": [
    "When we calculate the mean angular distance of a taxi trip, we encounter some invalid data, that will give warnings, which we can safely ignore for this demonstration."
   ]
  },
  {
   "cell_type": "code",
   "execution_count": null,
   "metadata": {},
   "outputs": [],
   "source": [
    "%%time\n",
    "nytaxi.mean(nytaxi.arc_distance)"
   ]
  },
  {
   "cell_type": "markdown",
   "metadata": {},
   "source": [
    "This computation uses quite some heavy mathematical operations, and since it's (internally) using Numpy arrays, also uses quite some temporary arrays. We can optimize this calculation by doing a Just-In-Time compilation, based on [numba](https://numba.pydata.org/), [pythran](https://pythonhosted.org/pythran/), or if you happen to have an NVIDIA graphics card [cuda](https://developer.nvidia.com/cuda-zone). Choose whichever gives the best performance or is easiest to install."
   ]
  },
  {
   "cell_type": "code",
   "execution_count": null,
   "metadata": {},
   "outputs": [],
   "source": [
    "nytaxi['arc_distance_jit'] = nytaxi.arc_distance.jit_numba()\n",
    "# nytaxi['arc_distance_jit'] = nytaxi.arc_distance.jit_pythran()\n",
    "# nytaxi['arc_distance_jit'] = nytaxi.arc_distance.jit_cuda()"
   ]
  },
  {
   "cell_type": "code",
   "execution_count": null,
   "metadata": {},
   "outputs": [],
   "source": [
    "%%time\n",
    "nytaxi.mean(nytaxi.arc_distance_jit)"
   ]
  },
  {
   "cell_type": "markdown",
   "metadata": {},
   "source": [
    "We can get a significant speedup ($\\gt 4 x$) in this case."
   ]
  },
  {
   "cell_type": "markdown",
   "metadata": {},
   "source": [
    "## Parallel computations\n",
    "As mentioned in the sections on selections, Vaex can do computations in parallel. Often this is taken care of, for instance, when passing multiple selections to a method, or multiple arguments to one of the statistical functions. However, sometimes it is difficult or impossible to express a computation in one expression, and we need to resort to doing so called 'delayed' computation, similar as in [joblib](https://pythonhosted.org/joblib) and [dask](https://dask.pydata.org)."
   ]
  },
  {
   "cell_type": "code",
   "execution_count": null,
   "metadata": {},
   "outputs": [],
   "source": [
    "import vaex\n",
    "df = vaex.example()\n",
    "limits = [-10, 10]\n",
    "delayed_count = df.count(df.E, binby=df.x, limits=limits,\n",
    "                         shape=4, delay=True)\n",
    "delayed_count"
   ]
  },
  {
   "cell_type": "markdown",
   "metadata": {},
   "source": [
    "Note that now the returned value is now a promise (TODO: a more Pythonic way would be to return a Future). This may be subject to change, and the best way to work with this is to use the [delayed](api.rst#vaex.delayed) decorator. And call [DataFrame.execute](api.rst#vaex.dataframe.DataFrame.execute) when the result is needed.\n",
    "\n",
    "In addition to the above delayed computation, we schedule more computation, such that both the count and mean are executed in parallel such that we only do a single pass over the data. We schedule the execution of two extra functions using the `vaex.delayed` decorator, and run the whole pipeline using `df.execute()`."
   ]
  },
  {
   "cell_type": "code",
   "execution_count": null,
   "metadata": {},
   "outputs": [],
   "source": [
    "delayed_sum = df.sum(df.E, binby=df.x, limits=limits,\n",
    "                         shape=4, delay=True)\n",
    "\n",
    "@vaex.delayed\n",
    "def calculate_mean(sums, counts):\n",
    "    print('calculating mean')\n",
    "    return sums/counts\n",
    "\n",
    "print('before calling mean')\n",
    "# since calculate_mean is decorated with vaex.delayed\n",
    "# this now also returns a 'delayed' object (a promise)\n",
    "delayed_mean = calculate_mean(delayed_sum, delayed_count)\n",
    "\n",
    "# if we'd like to perform operations on that, we can again\n",
    "# use the same decorator\n",
    "@vaex.delayed\n",
    "def print_mean(means):\n",
    "    print('means', means)\n",
    "print_mean(delayed_mean)\n",
    "\n",
    "print('before calling execute')\n",
    "df.execute()\n",
    "\n",
    "# Using the .get on the promise will also return the result\n",
    "# However, this will only work after execute, and may be\n",
    "# subject to change\n",
    "means = delayed_mean.get()\n",
    "print('same means', means)\n"
   ]
  },
  {
   "cell_type": "markdown",
   "metadata": {},
   "source": [
    "## Extending Vaex\n",
    "Vaex can be extended using several mechanisms.\n",
    "\n",
    "### Adding functions\n",
    "Use the [vaex.register_function decorator](api.rst#vaex.functions.register_function) API to add new functions. "
   ]
  },
  {
   "cell_type": "code",
   "execution_count": null,
   "metadata": {},
   "outputs": [],
   "source": [
    "import vaex\n",
    "import numpy as np\n",
    "@vaex.register_function()\n",
    "def add_one(ar):\n",
    "    return ar+1"
   ]
  },
  {
   "cell_type": "markdown",
   "metadata": {},
   "source": [
    "The function can be invoked using the `df.func` accessor, to return a new expression. Each argument that is an expresssion, will be replaced by a Numpy array on evaluations in any Vaex context."
   ]
  },
  {
   "cell_type": "code",
   "execution_count": null,
   "metadata": {},
   "outputs": [],
   "source": [
    "df = vaex.from_arrays(x=np.arange(4))\n",
    "df.func.add_one(df.x)"
   ]
  },
  {
   "cell_type": "markdown",
   "metadata": {},
   "source": [
    "By default (passing `on_expression=True`), the function is also available as a method on Expressions, where the expression itself is automatically set as the first argument (since this is a quite common use case)."
   ]
  },
  {
   "cell_type": "code",
   "execution_count": null,
   "metadata": {},
   "outputs": [],
   "source": [
    "df.x.add_one()"
   ]
  },
  {
   "cell_type": "markdown",
   "metadata": {},
   "source": [
    "In case the first argument is not an expression, pass `on_expression=True`, and use `df.func.<funcname>`, to build a new expression using the function:"
   ]
  },
  {
   "cell_type": "code",
   "execution_count": null,
   "metadata": {},
   "outputs": [],
   "source": [
    "@vaex.register_function(on_expression=False)\n",
    "def addmul(a, b, x, y):\n",
    "    return a*x + b * y"
   ]
  },
  {
   "cell_type": "code",
   "execution_count": null,
   "metadata": {},
   "outputs": [],
   "source": [
    "df = vaex.from_arrays(x=np.arange(4))\n",
    "df['y'] = df.x**2\n",
    "df.func.addmul(2, 3, df.x, df.y)"
   ]
  },
  {
   "cell_type": "markdown",
   "metadata": {},
   "source": [
    "These expressions can be added as virtual columns, as expected."
   ]
  },
  {
   "cell_type": "code",
   "execution_count": null,
   "metadata": {},
   "outputs": [],
   "source": [
    "df = vaex.from_arrays(x=np.arange(4))\n",
    "df['y'] = df.x**2\n",
    "df['z'] = df.func.addmul(2, 3, df.x, df.y)\n",
    "df['w'] = df.x.add_one()\n",
    "df"
   ]
  },
  {
   "cell_type": "markdown",
   "metadata": {},
   "source": [
    "### Adding DataFrame accessors\n",
    "\n",
    "\n",
    "When adding methods that operate on Dataframes, it makes sense to group them together in a single namespace."
   ]
  },
  {
   "cell_type": "code",
   "execution_count": null,
   "metadata": {},
   "outputs": [],
   "source": [
    "@vaex.register_dataframe_accessor('scale', override=True)\n",
    "class ScalingOps(object):\n",
    "    def __init__(self, df):\n",
    "        self.df = df\n",
    "\n",
    "    def mul(self, a):\n",
    "        df = self.df.copy()\n",
    "        for col in df.get_column_names(strings=False):\n",
    "            if df[col].dtype:\n",
    "                df[col] = df[col] * a\n",
    "        return df\n",
    "\n",
    "    def add(self, a):\n",
    "        df = self.df.copy()\n",
    "        for col in df.get_column_names(strings=False):\n",
    "            if df[col].dtype:\n",
    "                df[col] = df[col] + a\n",
    "        return df\n",
    "    "
   ]
  },
  {
   "cell_type": "code",
   "execution_count": null,
   "metadata": {},
   "outputs": [],
   "source": [
    "df.scale.add(1)"
   ]
  },
  {
   "cell_type": "code",
   "execution_count": null,
   "metadata": {},
   "outputs": [],
   "source": [
    "df.scale.mul(2)"
   ]
  }
 ],
 "metadata": {
  "celltoolbar": "Raw Cell Format",
  "kernelspec": {
   "display_name": "Python 3",
   "language": "python",
   "name": "python3"
  },
  "language_info": {
   "codemirror_mode": {
    "name": "ipython",
    "version": 3
   },
   "file_extension": ".py",
   "mimetype": "text/x-python",
   "name": "python",
   "nbconvert_exporter": "python",
   "pygments_lexer": "ipython3",
   "version": "3.7.6"
  }
 },
 "nbformat": 4,
 "nbformat_minor": 2
}
